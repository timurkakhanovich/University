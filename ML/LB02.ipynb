{
 "cells": [
  {
   "cell_type": "markdown",
   "metadata": {},
   "source": [
    "# LB02: Линейные модели и задача классификации"
   ]
  },
  {
   "cell_type": "markdown",
   "metadata": {},
   "source": [
    "<div style=\"text-align: right\"> ПСА 5 (Введение в машинное обучение). Мехмат, БГУ</div>\n",
    "    \n",
    "<div style=\"text-align: right\"> Тишуров Алексей, 2021 </div>"
   ]
  },
  {
   "cell_type": "markdown",
   "metadata": {},
   "source": [
    "Данный материал использует лицензию [Creative Commons CC BY-NC-SA 4.0.](https://creativecommons.org/licenses/by-nc-sa/4.0/) со всеми вытекающими. На прилагаемый к материалу датасет лицензия не распостраняется. "
   ]
  },
  {
   "cell_type": "markdown",
   "metadata": {},
   "source": [
    "############################################"
   ]
  },
  {
   "cell_type": "markdown",
   "metadata": {},
   "source": [
    "В данной лабораторной работе вам предлагается на практике познакомиться с задачей классификации, алгоритмом \"логистическая регрессия\" и пакетом для машинного обучения scikit-learn. Также вы разберетесь с тем, как проверять и оценивать качество предсказаний и делать простейшую инженерию признаков\n",
    "\n",
    "Мы будем решать задачу предсказания оттока пользователей для телеком-оператора. Необходимо предсказать, перестанет ли пользоваться услугами абонент с некоторым набором характеристик.\n",
    "\n",
    "Звездочками отмечены опциональные задания.\n",
    "\n",
    "В тексте заданий присутствуют вопросы, на которые нужно усно, вычислительно или графически ответить. Также вы должны знать значения всех параметров, которые используете. Для этого достаточно не забывать про официальную документацию sklearn: https://scikit-learn.org/stable/index.html"
   ]
  },
  {
   "cell_type": "markdown",
   "metadata": {},
   "source": [
    "# Задание 1"
   ]
  },
  {
   "cell_type": "markdown",
   "metadata": {},
   "source": [
    "Загрузите датасет из файла dataset.csv и проведите минимальный анализ того, что в нем происходит:\n",
    "1. Сколько данных?\n",
    "2. Сколько признаков?\n",
    "3. Какие есть признаки? Что они означают?\n",
    "4. В какой колонке находится целевая переменная?\n",
    "5. Есть ли какие-то явные взаимосвязи между признаками?\n",
    "6. Какое типы признаков есть в данных?\n",
    "7. Есть ли пропуски в данных?\n",
    "\n",
    "Полезные функции: df.info(), df.describe(), df.corr(), pd.plotting.scatter() и т.д."
   ]
  },
  {
   "cell_type": "code",
   "execution_count": 1,
   "metadata": {},
   "outputs": [],
   "source": [
    "import pandas as pd\n",
    "import numpy as np\n",
    "#для отображения графиков внутри юпитера\n",
    "%matplotlib inline \n",
    "import matplotlib.pyplot as plt"
   ]
  },
  {
   "cell_type": "code",
   "execution_count": 2,
   "metadata": {},
   "outputs": [],
   "source": [
    "df = pd.read_csv('dataset.csv')"
   ]
  },
  {
   "cell_type": "code",
   "execution_count": 3,
   "metadata": {},
   "outputs": [
    {
     "output_type": "execute_result",
     "data": {
      "text/plain": [
       "   CustomerID  Gender  Senior Citizen Partner Dependents  Tenure  \\\n",
       "0  7590-VHVEG       0               0     Yes         No       1   \n",
       "1  5575-GNVDE       1               0      No         No      34   \n",
       "2  3668-QPYBK       1               0      No         No       2   \n",
       "3  7795-CFOCW       1               0      No         No      45   \n",
       "4  9237-HQITU       0               0      No         No       2   \n",
       "\n",
       "  Phone Service    Multiple Lines Internet Service Online Security  ...  \\\n",
       "0            No  No phone service              DSL              No  ...   \n",
       "1           Yes                No              DSL             Yes  ...   \n",
       "2           Yes                No              DSL             Yes  ...   \n",
       "3            No  No phone service              DSL             Yes  ...   \n",
       "4           Yes                No      Fiber optic              No  ...   \n",
       "\n",
       "  Device Protection Tech Support Streaming TV Streaming Movies  \\\n",
       "0                No           No           No               No   \n",
       "1               Yes           No           No               No   \n",
       "2                No           No           No               No   \n",
       "3               Yes          Yes           No               No   \n",
       "4                No           No           No               No   \n",
       "\n",
       "         Contract Paperless Billing             Payment Method  \\\n",
       "0  Month-to-month               Yes           Electronic check   \n",
       "1        One year                No               Mailed check   \n",
       "2  Month-to-month               Yes               Mailed check   \n",
       "3        One year                No  Bank transfer (automatic)   \n",
       "4  Month-to-month               Yes           Electronic check   \n",
       "\n",
       "  Monthly Charges  Total Charges  Churn  \n",
       "0           29.85          29.85     No  \n",
       "1           56.95        1889.50     No  \n",
       "2           53.85         108.15    Yes  \n",
       "3           42.30        1840.75     No  \n",
       "4           70.70         151.65    Yes  \n",
       "\n",
       "[5 rows x 21 columns]"
      ],
      "text/html": "<div>\n<style scoped>\n    .dataframe tbody tr th:only-of-type {\n        vertical-align: middle;\n    }\n\n    .dataframe tbody tr th {\n        vertical-align: top;\n    }\n\n    .dataframe thead th {\n        text-align: right;\n    }\n</style>\n<table border=\"1\" class=\"dataframe\">\n  <thead>\n    <tr style=\"text-align: right;\">\n      <th></th>\n      <th>CustomerID</th>\n      <th>Gender</th>\n      <th>Senior Citizen</th>\n      <th>Partner</th>\n      <th>Dependents</th>\n      <th>Tenure</th>\n      <th>Phone Service</th>\n      <th>Multiple Lines</th>\n      <th>Internet Service</th>\n      <th>Online Security</th>\n      <th>...</th>\n      <th>Device Protection</th>\n      <th>Tech Support</th>\n      <th>Streaming TV</th>\n      <th>Streaming Movies</th>\n      <th>Contract</th>\n      <th>Paperless Billing</th>\n      <th>Payment Method</th>\n      <th>Monthly Charges</th>\n      <th>Total Charges</th>\n      <th>Churn</th>\n    </tr>\n  </thead>\n  <tbody>\n    <tr>\n      <th>0</th>\n      <td>7590-VHVEG</td>\n      <td>0</td>\n      <td>0</td>\n      <td>Yes</td>\n      <td>No</td>\n      <td>1</td>\n      <td>No</td>\n      <td>No phone service</td>\n      <td>DSL</td>\n      <td>No</td>\n      <td>...</td>\n      <td>No</td>\n      <td>No</td>\n      <td>No</td>\n      <td>No</td>\n      <td>Month-to-month</td>\n      <td>Yes</td>\n      <td>Electronic check</td>\n      <td>29.85</td>\n      <td>29.85</td>\n      <td>No</td>\n    </tr>\n    <tr>\n      <th>1</th>\n      <td>5575-GNVDE</td>\n      <td>1</td>\n      <td>0</td>\n      <td>No</td>\n      <td>No</td>\n      <td>34</td>\n      <td>Yes</td>\n      <td>No</td>\n      <td>DSL</td>\n      <td>Yes</td>\n      <td>...</td>\n      <td>Yes</td>\n      <td>No</td>\n      <td>No</td>\n      <td>No</td>\n      <td>One year</td>\n      <td>No</td>\n      <td>Mailed check</td>\n      <td>56.95</td>\n      <td>1889.50</td>\n      <td>No</td>\n    </tr>\n    <tr>\n      <th>2</th>\n      <td>3668-QPYBK</td>\n      <td>1</td>\n      <td>0</td>\n      <td>No</td>\n      <td>No</td>\n      <td>2</td>\n      <td>Yes</td>\n      <td>No</td>\n      <td>DSL</td>\n      <td>Yes</td>\n      <td>...</td>\n      <td>No</td>\n      <td>No</td>\n      <td>No</td>\n      <td>No</td>\n      <td>Month-to-month</td>\n      <td>Yes</td>\n      <td>Mailed check</td>\n      <td>53.85</td>\n      <td>108.15</td>\n      <td>Yes</td>\n    </tr>\n    <tr>\n      <th>3</th>\n      <td>7795-CFOCW</td>\n      <td>1</td>\n      <td>0</td>\n      <td>No</td>\n      <td>No</td>\n      <td>45</td>\n      <td>No</td>\n      <td>No phone service</td>\n      <td>DSL</td>\n      <td>Yes</td>\n      <td>...</td>\n      <td>Yes</td>\n      <td>Yes</td>\n      <td>No</td>\n      <td>No</td>\n      <td>One year</td>\n      <td>No</td>\n      <td>Bank transfer (automatic)</td>\n      <td>42.30</td>\n      <td>1840.75</td>\n      <td>No</td>\n    </tr>\n    <tr>\n      <th>4</th>\n      <td>9237-HQITU</td>\n      <td>0</td>\n      <td>0</td>\n      <td>No</td>\n      <td>No</td>\n      <td>2</td>\n      <td>Yes</td>\n      <td>No</td>\n      <td>Fiber optic</td>\n      <td>No</td>\n      <td>...</td>\n      <td>No</td>\n      <td>No</td>\n      <td>No</td>\n      <td>No</td>\n      <td>Month-to-month</td>\n      <td>Yes</td>\n      <td>Electronic check</td>\n      <td>70.70</td>\n      <td>151.65</td>\n      <td>Yes</td>\n    </tr>\n  </tbody>\n</table>\n<p>5 rows × 21 columns</p>\n</div>"
     },
     "metadata": {},
     "execution_count": 3
    }
   ],
   "source": [
    "df.head()"
   ]
  },
  {
   "cell_type": "code",
   "execution_count": 4,
   "metadata": {},
   "outputs": [
    {
     "output_type": "execute_result",
     "data": {
      "text/plain": [
       "(6499, 21)"
      ]
     },
     "metadata": {},
     "execution_count": 4
    }
   ],
   "source": [
    "df.shape"
   ]
  },
  {
   "cell_type": "code",
   "execution_count": 5,
   "metadata": {},
   "outputs": [
    {
     "output_type": "stream",
     "name": "stdout",
     "text": [
      "<class 'pandas.core.frame.DataFrame'>\nRangeIndex: 6499 entries, 0 to 6498\nData columns (total 21 columns):\n #   Column             Non-Null Count  Dtype  \n---  ------             --------------  -----  \n 0   CustomerID         6499 non-null   object \n 1   Gender             6499 non-null   int64  \n 2   Senior Citizen     6499 non-null   int64  \n 3   Partner            6499 non-null   object \n 4   Dependents         6499 non-null   object \n 5   Tenure             6499 non-null   int64  \n 6   Phone Service      6499 non-null   object \n 7   Multiple Lines     6499 non-null   object \n 8   Internet Service   6499 non-null   object \n 9   Online Security    6499 non-null   object \n 10  Online Backup      6499 non-null   object \n 11  Device Protection  6499 non-null   object \n 12  Tech Support       6499 non-null   object \n 13  Streaming TV       6499 non-null   object \n 14  Streaming Movies   6499 non-null   object \n 15  Contract           6499 non-null   object \n 16  Paperless Billing  6499 non-null   object \n 17  Payment Method     6499 non-null   object \n 18  Monthly Charges    6499 non-null   float64\n 19  Total Charges      6490 non-null   float64\n 20  Churn              6499 non-null   object \ndtypes: float64(2), int64(3), object(16)\nmemory usage: 1.0+ MB\n"
     ]
    }
   ],
   "source": [
    "df.info()"
   ]
  },
  {
   "source": [
    "Как можно видеть, в исходном датасете 6499 данных с 21 признаком"
   ],
   "cell_type": "markdown",
   "metadata": {}
  },
  {
   "source": [
    "## Описание признаков датасета"
   ],
   "cell_type": "markdown",
   "metadata": {}
  },
  {
   "source": [
    "* **CustomerID** - idшник покупателя;\n",
    "* **Gender** - пол (0, 1);\n",
    "* **Senior Citizen** - пенсионер (0, 1);\n",
    "* **Partner** - женат/замужем (0, 1);\n",
    "* **Dependents** - есть ли у клиента иждивенцы (Yes, No);\n",
    "* **Tenure** - количество месяцев, которые клиент провел в компании;\n",
    "* **Phone Service** - есть ли у клиента телефонный сервис (Yes, No);\n",
    "* **Multiple Lines** - есть ли у клиента несколько линий (Yes, No, No phone service);\n",
    "* **Internet Service** - тип интернет-сервиса клиента (Fiber, DSL, No);\n",
    "* **Online Security** - настроена ли у клиента онлайн-защита (Yes, No, No phone service);\n",
    "* **Online Backup** - настроен ли у клиента Online Backup (Yes, No, No phone service);\n",
    "* **Device Protection** - настроена ли у клиента защита девайса (Yes, No, No phone service);\n",
    "* **Tech Support** - настроена ли у клиента техническая поддержка (Yes, No, No phone service);\n",
    "* **Streaming TV** - есть ли у клиента потоковое телевидение (Yes, No, No phone service);\n",
    "* **Streaming Movies** - есть ли у клиента потоковые фильмы (Yes, No, No phone service);\n",
    "* **Contract** - срок действия контракта (Month-to-month, One year, Two year);\n",
    "* **Paperless Billing** - есть ли у клиента электронное выставление счета (Yes, No);\n",
    "* **Payment Method** - тип оплаты (Electronic check, Mailed check, Bank transfer (automatic), Credit card (automatic));\n",
    "* **Monthly Charges** - месячные сборы;\n",
    "* **Total Charges** - итоговые сборы;\n",
    "* **Churn** - потеряли ли клиента (Yes, No)."
   ],
   "cell_type": "markdown",
   "metadata": {}
  },
  {
   "source": [
    "Как можно видеть, в данном датасете содержатся следующие признаки:\n",
    "* **строковые** (CustomerID);\n",
    "* **бинарные** (Gender, Churn, Dependents и др.);\n",
    "* **категориальные** (Payment Method, Online Security, Multiple Lines и др.);\n",
    "* **количественные** (Tenure, Monthly Charges, Total Charges)."
   ],
   "cell_type": "markdown",
   "metadata": {}
  },
  {
   "source": [
    "Целевой переменной является столбец - **Churn**, именно он является индикатором оттока клиентов."
   ],
   "cell_type": "markdown",
   "metadata": {}
  },
  {
   "source": [
    "Посчитаем корреляцию времени, которое клиент провел с оператором и итоговых сборов:"
   ],
   "cell_type": "markdown",
   "metadata": {}
  },
  {
   "cell_type": "code",
   "execution_count": 6,
   "metadata": {},
   "outputs": [
    {
     "output_type": "execute_result",
     "data": {
      "text/plain": [
       "                 Tenure  Total Charges\n",
       "Tenure         1.000000       0.825554\n",
       "Total Charges  0.825554       1.000000"
      ],
      "text/html": "<div>\n<style scoped>\n    .dataframe tbody tr th:only-of-type {\n        vertical-align: middle;\n    }\n\n    .dataframe tbody tr th {\n        vertical-align: top;\n    }\n\n    .dataframe thead th {\n        text-align: right;\n    }\n</style>\n<table border=\"1\" class=\"dataframe\">\n  <thead>\n    <tr style=\"text-align: right;\">\n      <th></th>\n      <th>Tenure</th>\n      <th>Total Charges</th>\n    </tr>\n  </thead>\n  <tbody>\n    <tr>\n      <th>Tenure</th>\n      <td>1.000000</td>\n      <td>0.825554</td>\n    </tr>\n    <tr>\n      <th>Total Charges</th>\n      <td>0.825554</td>\n      <td>1.000000</td>\n    </tr>\n  </tbody>\n</table>\n</div>"
     },
     "metadata": {},
     "execution_count": 6
    }
   ],
   "source": [
    "df.loc[:, ['Tenure', 'Total Charges']].corr()"
   ]
  },
  {
   "source": [
    "Как видно, эти величины высоко коррелируют друг с другом."
   ],
   "cell_type": "markdown",
   "metadata": {}
  },
  {
   "cell_type": "code",
   "execution_count": 7,
   "metadata": {},
   "outputs": [
    {
     "output_type": "execute_result",
     "data": {
      "text/plain": [
       "CustomerID           0\n",
       "Gender               0\n",
       "Senior Citizen       0\n",
       "Partner              0\n",
       "Dependents           0\n",
       "Tenure               0\n",
       "Phone Service        0\n",
       "Multiple Lines       0\n",
       "Internet Service     0\n",
       "Online Security      0\n",
       "Online Backup        0\n",
       "Device Protection    0\n",
       "Tech Support         0\n",
       "Streaming TV         0\n",
       "Streaming Movies     0\n",
       "Contract             0\n",
       "Paperless Billing    0\n",
       "Payment Method       0\n",
       "Monthly Charges      0\n",
       "Total Charges        9\n",
       "Churn                0\n",
       "dtype: int64"
      ]
     },
     "metadata": {},
     "execution_count": 7
    }
   ],
   "source": [
    "df.isnull().sum()"
   ]
  },
  {
   "source": [
    "**Total Charges** - весьма подозрительный столбец..."
   ],
   "cell_type": "markdown",
   "metadata": {}
  },
  {
   "cell_type": "code",
   "execution_count": 8,
   "metadata": {},
   "outputs": [
    {
     "output_type": "execute_result",
     "data": {
      "text/plain": [
       "      CustomerID  Gender  Senior Citizen Partner Dependents  Tenure  \\\n",
       "488   4472-LVYGI       0               0     Yes        Yes       0   \n",
       "753   3115-CZMZD       1               0      No        Yes       0   \n",
       "936   5709-LVOEQ       0               0     Yes        Yes       0   \n",
       "1082  4367-NUYAO       1               0     Yes        Yes       0   \n",
       "1340  1371-DWPAZ       0               0     Yes        Yes       0   \n",
       "3331  7644-OMVMY       1               0     Yes        Yes       0   \n",
       "3826  3213-VVOLG       1               0     Yes        Yes       0   \n",
       "4380  2520-SGTTA       0               0     Yes        Yes       0   \n",
       "5218  2923-ARZLG       1               0     Yes        Yes       0   \n",
       "\n",
       "     Phone Service    Multiple Lines Internet Service      Online Security  \\\n",
       "488             No  No phone service              DSL                  Yes   \n",
       "753            Yes                No               No  No internet service   \n",
       "936            Yes                No              DSL                  Yes   \n",
       "1082           Yes               Yes               No  No internet service   \n",
       "1340            No  No phone service              DSL                  Yes   \n",
       "3331           Yes                No               No  No internet service   \n",
       "3826           Yes               Yes               No  No internet service   \n",
       "4380           Yes                No               No  No internet service   \n",
       "5218           Yes                No               No  No internet service   \n",
       "\n",
       "      ...    Device Protection         Tech Support         Streaming TV  \\\n",
       "488   ...                  Yes                  Yes                  Yes   \n",
       "753   ...  No internet service  No internet service  No internet service   \n",
       "936   ...                  Yes                   No                  Yes   \n",
       "1082  ...  No internet service  No internet service  No internet service   \n",
       "1340  ...                  Yes                  Yes                  Yes   \n",
       "3331  ...  No internet service  No internet service  No internet service   \n",
       "3826  ...  No internet service  No internet service  No internet service   \n",
       "4380  ...  No internet service  No internet service  No internet service   \n",
       "5218  ...  No internet service  No internet service  No internet service   \n",
       "\n",
       "         Streaming Movies  Contract Paperless Billing  \\\n",
       "488                    No  Two year               Yes   \n",
       "753   No internet service  Two year                No   \n",
       "936                   Yes  Two year                No   \n",
       "1082  No internet service  Two year                No   \n",
       "1340                   No  Two year                No   \n",
       "3331  No internet service  Two year                No   \n",
       "3826  No internet service  Two year                No   \n",
       "4380  No internet service  Two year                No   \n",
       "5218  No internet service  One year               Yes   \n",
       "\n",
       "                 Payment Method Monthly Charges  Total Charges  Churn  \n",
       "488   Bank transfer (automatic)           52.55            NaN     No  \n",
       "753                Mailed check           20.25            NaN     No  \n",
       "936                Mailed check           80.85            NaN     No  \n",
       "1082               Mailed check           25.75            NaN     No  \n",
       "1340    Credit card (automatic)           56.05            NaN     No  \n",
       "3331               Mailed check           19.85            NaN     No  \n",
       "3826               Mailed check           25.35            NaN     No  \n",
       "4380               Mailed check           20.00            NaN     No  \n",
       "5218               Mailed check           19.70            NaN     No  \n",
       "\n",
       "[9 rows x 21 columns]"
      ],
      "text/html": "<div>\n<style scoped>\n    .dataframe tbody tr th:only-of-type {\n        vertical-align: middle;\n    }\n\n    .dataframe tbody tr th {\n        vertical-align: top;\n    }\n\n    .dataframe thead th {\n        text-align: right;\n    }\n</style>\n<table border=\"1\" class=\"dataframe\">\n  <thead>\n    <tr style=\"text-align: right;\">\n      <th></th>\n      <th>CustomerID</th>\n      <th>Gender</th>\n      <th>Senior Citizen</th>\n      <th>Partner</th>\n      <th>Dependents</th>\n      <th>Tenure</th>\n      <th>Phone Service</th>\n      <th>Multiple Lines</th>\n      <th>Internet Service</th>\n      <th>Online Security</th>\n      <th>...</th>\n      <th>Device Protection</th>\n      <th>Tech Support</th>\n      <th>Streaming TV</th>\n      <th>Streaming Movies</th>\n      <th>Contract</th>\n      <th>Paperless Billing</th>\n      <th>Payment Method</th>\n      <th>Monthly Charges</th>\n      <th>Total Charges</th>\n      <th>Churn</th>\n    </tr>\n  </thead>\n  <tbody>\n    <tr>\n      <th>488</th>\n      <td>4472-LVYGI</td>\n      <td>0</td>\n      <td>0</td>\n      <td>Yes</td>\n      <td>Yes</td>\n      <td>0</td>\n      <td>No</td>\n      <td>No phone service</td>\n      <td>DSL</td>\n      <td>Yes</td>\n      <td>...</td>\n      <td>Yes</td>\n      <td>Yes</td>\n      <td>Yes</td>\n      <td>No</td>\n      <td>Two year</td>\n      <td>Yes</td>\n      <td>Bank transfer (automatic)</td>\n      <td>52.55</td>\n      <td>NaN</td>\n      <td>No</td>\n    </tr>\n    <tr>\n      <th>753</th>\n      <td>3115-CZMZD</td>\n      <td>1</td>\n      <td>0</td>\n      <td>No</td>\n      <td>Yes</td>\n      <td>0</td>\n      <td>Yes</td>\n      <td>No</td>\n      <td>No</td>\n      <td>No internet service</td>\n      <td>...</td>\n      <td>No internet service</td>\n      <td>No internet service</td>\n      <td>No internet service</td>\n      <td>No internet service</td>\n      <td>Two year</td>\n      <td>No</td>\n      <td>Mailed check</td>\n      <td>20.25</td>\n      <td>NaN</td>\n      <td>No</td>\n    </tr>\n    <tr>\n      <th>936</th>\n      <td>5709-LVOEQ</td>\n      <td>0</td>\n      <td>0</td>\n      <td>Yes</td>\n      <td>Yes</td>\n      <td>0</td>\n      <td>Yes</td>\n      <td>No</td>\n      <td>DSL</td>\n      <td>Yes</td>\n      <td>...</td>\n      <td>Yes</td>\n      <td>No</td>\n      <td>Yes</td>\n      <td>Yes</td>\n      <td>Two year</td>\n      <td>No</td>\n      <td>Mailed check</td>\n      <td>80.85</td>\n      <td>NaN</td>\n      <td>No</td>\n    </tr>\n    <tr>\n      <th>1082</th>\n      <td>4367-NUYAO</td>\n      <td>1</td>\n      <td>0</td>\n      <td>Yes</td>\n      <td>Yes</td>\n      <td>0</td>\n      <td>Yes</td>\n      <td>Yes</td>\n      <td>No</td>\n      <td>No internet service</td>\n      <td>...</td>\n      <td>No internet service</td>\n      <td>No internet service</td>\n      <td>No internet service</td>\n      <td>No internet service</td>\n      <td>Two year</td>\n      <td>No</td>\n      <td>Mailed check</td>\n      <td>25.75</td>\n      <td>NaN</td>\n      <td>No</td>\n    </tr>\n    <tr>\n      <th>1340</th>\n      <td>1371-DWPAZ</td>\n      <td>0</td>\n      <td>0</td>\n      <td>Yes</td>\n      <td>Yes</td>\n      <td>0</td>\n      <td>No</td>\n      <td>No phone service</td>\n      <td>DSL</td>\n      <td>Yes</td>\n      <td>...</td>\n      <td>Yes</td>\n      <td>Yes</td>\n      <td>Yes</td>\n      <td>No</td>\n      <td>Two year</td>\n      <td>No</td>\n      <td>Credit card (automatic)</td>\n      <td>56.05</td>\n      <td>NaN</td>\n      <td>No</td>\n    </tr>\n    <tr>\n      <th>3331</th>\n      <td>7644-OMVMY</td>\n      <td>1</td>\n      <td>0</td>\n      <td>Yes</td>\n      <td>Yes</td>\n      <td>0</td>\n      <td>Yes</td>\n      <td>No</td>\n      <td>No</td>\n      <td>No internet service</td>\n      <td>...</td>\n      <td>No internet service</td>\n      <td>No internet service</td>\n      <td>No internet service</td>\n      <td>No internet service</td>\n      <td>Two year</td>\n      <td>No</td>\n      <td>Mailed check</td>\n      <td>19.85</td>\n      <td>NaN</td>\n      <td>No</td>\n    </tr>\n    <tr>\n      <th>3826</th>\n      <td>3213-VVOLG</td>\n      <td>1</td>\n      <td>0</td>\n      <td>Yes</td>\n      <td>Yes</td>\n      <td>0</td>\n      <td>Yes</td>\n      <td>Yes</td>\n      <td>No</td>\n      <td>No internet service</td>\n      <td>...</td>\n      <td>No internet service</td>\n      <td>No internet service</td>\n      <td>No internet service</td>\n      <td>No internet service</td>\n      <td>Two year</td>\n      <td>No</td>\n      <td>Mailed check</td>\n      <td>25.35</td>\n      <td>NaN</td>\n      <td>No</td>\n    </tr>\n    <tr>\n      <th>4380</th>\n      <td>2520-SGTTA</td>\n      <td>0</td>\n      <td>0</td>\n      <td>Yes</td>\n      <td>Yes</td>\n      <td>0</td>\n      <td>Yes</td>\n      <td>No</td>\n      <td>No</td>\n      <td>No internet service</td>\n      <td>...</td>\n      <td>No internet service</td>\n      <td>No internet service</td>\n      <td>No internet service</td>\n      <td>No internet service</td>\n      <td>Two year</td>\n      <td>No</td>\n      <td>Mailed check</td>\n      <td>20.00</td>\n      <td>NaN</td>\n      <td>No</td>\n    </tr>\n    <tr>\n      <th>5218</th>\n      <td>2923-ARZLG</td>\n      <td>1</td>\n      <td>0</td>\n      <td>Yes</td>\n      <td>Yes</td>\n      <td>0</td>\n      <td>Yes</td>\n      <td>No</td>\n      <td>No</td>\n      <td>No internet service</td>\n      <td>...</td>\n      <td>No internet service</td>\n      <td>No internet service</td>\n      <td>No internet service</td>\n      <td>No internet service</td>\n      <td>One year</td>\n      <td>Yes</td>\n      <td>Mailed check</td>\n      <td>19.70</td>\n      <td>NaN</td>\n      <td>No</td>\n    </tr>\n  </tbody>\n</table>\n<p>9 rows × 21 columns</p>\n</div>"
     },
     "metadata": {},
     "execution_count": 8
    }
   ],
   "source": [
    "df.loc[df.isnull().sum(axis=1) > 0]"
   ]
  },
  {
   "source": [
    "Выше выведенны данные, в которых значение **Total Charges** пропущено. Как видно, в этих же данных значения количества месяцев, которые клиент провел с оператором, не определены. Эти два признака взаимнозависимы, поэтому такая аномалия поддается объяснению."
   ],
   "cell_type": "markdown",
   "metadata": {}
  },
  {
   "cell_type": "markdown",
   "metadata": {},
   "source": [
    "# Задание 2"
   ]
  },
  {
   "cell_type": "markdown",
   "metadata": {},
   "source": [
    "Преобразуйте датафрейм в X - матрицу признаков и y - вектор с целевой переменной. Для этого нужно:\n",
    "1. Отделить от фрейма столбец с целевой переменной и преобразовать записи в нем из строк названий классов в числа 0 и 1. Если в данных есть пропуски, то заполнить их нулями\n",
    "2. Убрать столбец CustomerID (но не забыть про него, он может понадобиться для некоторых описательных заданий)\n",
    "3. Для категориальных признаков провести dummy кодирование с помощью pd.get_dummies(). Обратите внимание на параметр drop_first. Стоит ли его использовать?\n",
    "4. Преобразовать фреймы в np.array с именами X и y соответственно"
   ]
  },
  {
   "cell_type": "code",
   "execution_count": 169,
   "metadata": {},
   "outputs": [],
   "source": [
    "X_df, y = df.loc[:, (df.columns != 'Churn') & (df.columns != 'CustomerID')].copy(deep=True), df['Churn'].copy(deep=True)"
   ]
  },
  {
   "cell_type": "code",
   "execution_count": 170,
   "metadata": {},
   "outputs": [],
   "source": [
    "for col_name in X_df.columns:\n",
    "    col_values = X_df[col_name].value_counts()\n",
    "    if set(col_values.keys()) == set(['Yes', 'No']):\n",
    "        X_df.loc[:, col_name] = X_df[col_name].apply(lambda x: 1 if x == 'Yes' else 0)"
   ]
  },
  {
   "cell_type": "code",
   "execution_count": 171,
   "metadata": {},
   "outputs": [
    {
     "output_type": "execute_result",
     "data": {
      "text/plain": [
       "      Gender  Senior Citizen  Partner  Dependents  Tenure  Phone Service  \\\n",
       "0          0               0        1           0       1              0   \n",
       "1          1               0        0           0      34              1   \n",
       "2          1               0        0           0       2              1   \n",
       "3          1               0        0           0      45              0   \n",
       "4          0               0        0           0       2              1   \n",
       "...      ...             ...      ...         ...     ...            ...   \n",
       "6494       0               0        0           1      26              0   \n",
       "6495       1               0        0           0       1              1   \n",
       "6496       1               1        1           0      40              1   \n",
       "6497       1               0        0           0      52              1   \n",
       "6498       0               0        0           0       1              1   \n",
       "\n",
       "        Multiple Lines Internet Service Online Security Online Backup  \\\n",
       "0     No phone service              DSL              No           Yes   \n",
       "1                   No              DSL             Yes            No   \n",
       "2                   No              DSL             Yes           Yes   \n",
       "3     No phone service              DSL             Yes            No   \n",
       "4                   No      Fiber optic              No            No   \n",
       "...                ...              ...             ...           ...   \n",
       "6494  No phone service              DSL              No            No   \n",
       "6495                No      Fiber optic              No            No   \n",
       "6496               Yes      Fiber optic             Yes            No   \n",
       "6497               Yes      Fiber optic              No           Yes   \n",
       "6498                No      Fiber optic              No           Yes   \n",
       "\n",
       "     Device Protection Tech Support Streaming TV Streaming Movies  \\\n",
       "0                   No           No           No               No   \n",
       "1                  Yes           No           No               No   \n",
       "2                   No           No           No               No   \n",
       "3                  Yes          Yes           No               No   \n",
       "4                   No           No           No               No   \n",
       "...                ...          ...          ...              ...   \n",
       "6494               Yes           No           No               No   \n",
       "6495                No           No           No               No   \n",
       "6496                No           No          Yes              Yes   \n",
       "6497               Yes           No          Yes              Yes   \n",
       "6498               Yes           No           No               No   \n",
       "\n",
       "            Contract  Paperless Billing             Payment Method  \\\n",
       "0     Month-to-month                  1           Electronic check   \n",
       "1           One year                  0               Mailed check   \n",
       "2     Month-to-month                  1               Mailed check   \n",
       "3           One year                  0  Bank transfer (automatic)   \n",
       "4     Month-to-month                  1           Electronic check   \n",
       "...              ...                ...                        ...   \n",
       "6494  Month-to-month                  1               Mailed check   \n",
       "6495  Month-to-month                  1           Electronic check   \n",
       "6496  Month-to-month                  0           Electronic check   \n",
       "6497  Month-to-month                  1           Electronic check   \n",
       "6498  Month-to-month                  1           Electronic check   \n",
       "\n",
       "      Monthly Charges  Total Charges  \n",
       "0               29.85          29.85  \n",
       "1               56.95        1889.50  \n",
       "2               53.85         108.15  \n",
       "3               42.30        1840.75  \n",
       "4               70.70         151.65  \n",
       "...               ...            ...  \n",
       "6494            29.80         786.50  \n",
       "6495            69.65          69.65  \n",
       "6496           101.85        4086.30  \n",
       "6497           103.05        5364.80  \n",
       "6498            82.30          82.30  \n",
       "\n",
       "[6499 rows x 19 columns]"
      ],
      "text/html": "<div>\n<style scoped>\n    .dataframe tbody tr th:only-of-type {\n        vertical-align: middle;\n    }\n\n    .dataframe tbody tr th {\n        vertical-align: top;\n    }\n\n    .dataframe thead th {\n        text-align: right;\n    }\n</style>\n<table border=\"1\" class=\"dataframe\">\n  <thead>\n    <tr style=\"text-align: right;\">\n      <th></th>\n      <th>Gender</th>\n      <th>Senior Citizen</th>\n      <th>Partner</th>\n      <th>Dependents</th>\n      <th>Tenure</th>\n      <th>Phone Service</th>\n      <th>Multiple Lines</th>\n      <th>Internet Service</th>\n      <th>Online Security</th>\n      <th>Online Backup</th>\n      <th>Device Protection</th>\n      <th>Tech Support</th>\n      <th>Streaming TV</th>\n      <th>Streaming Movies</th>\n      <th>Contract</th>\n      <th>Paperless Billing</th>\n      <th>Payment Method</th>\n      <th>Monthly Charges</th>\n      <th>Total Charges</th>\n    </tr>\n  </thead>\n  <tbody>\n    <tr>\n      <th>0</th>\n      <td>0</td>\n      <td>0</td>\n      <td>1</td>\n      <td>0</td>\n      <td>1</td>\n      <td>0</td>\n      <td>No phone service</td>\n      <td>DSL</td>\n      <td>No</td>\n      <td>Yes</td>\n      <td>No</td>\n      <td>No</td>\n      <td>No</td>\n      <td>No</td>\n      <td>Month-to-month</td>\n      <td>1</td>\n      <td>Electronic check</td>\n      <td>29.85</td>\n      <td>29.85</td>\n    </tr>\n    <tr>\n      <th>1</th>\n      <td>1</td>\n      <td>0</td>\n      <td>0</td>\n      <td>0</td>\n      <td>34</td>\n      <td>1</td>\n      <td>No</td>\n      <td>DSL</td>\n      <td>Yes</td>\n      <td>No</td>\n      <td>Yes</td>\n      <td>No</td>\n      <td>No</td>\n      <td>No</td>\n      <td>One year</td>\n      <td>0</td>\n      <td>Mailed check</td>\n      <td>56.95</td>\n      <td>1889.50</td>\n    </tr>\n    <tr>\n      <th>2</th>\n      <td>1</td>\n      <td>0</td>\n      <td>0</td>\n      <td>0</td>\n      <td>2</td>\n      <td>1</td>\n      <td>No</td>\n      <td>DSL</td>\n      <td>Yes</td>\n      <td>Yes</td>\n      <td>No</td>\n      <td>No</td>\n      <td>No</td>\n      <td>No</td>\n      <td>Month-to-month</td>\n      <td>1</td>\n      <td>Mailed check</td>\n      <td>53.85</td>\n      <td>108.15</td>\n    </tr>\n    <tr>\n      <th>3</th>\n      <td>1</td>\n      <td>0</td>\n      <td>0</td>\n      <td>0</td>\n      <td>45</td>\n      <td>0</td>\n      <td>No phone service</td>\n      <td>DSL</td>\n      <td>Yes</td>\n      <td>No</td>\n      <td>Yes</td>\n      <td>Yes</td>\n      <td>No</td>\n      <td>No</td>\n      <td>One year</td>\n      <td>0</td>\n      <td>Bank transfer (automatic)</td>\n      <td>42.30</td>\n      <td>1840.75</td>\n    </tr>\n    <tr>\n      <th>4</th>\n      <td>0</td>\n      <td>0</td>\n      <td>0</td>\n      <td>0</td>\n      <td>2</td>\n      <td>1</td>\n      <td>No</td>\n      <td>Fiber optic</td>\n      <td>No</td>\n      <td>No</td>\n      <td>No</td>\n      <td>No</td>\n      <td>No</td>\n      <td>No</td>\n      <td>Month-to-month</td>\n      <td>1</td>\n      <td>Electronic check</td>\n      <td>70.70</td>\n      <td>151.65</td>\n    </tr>\n    <tr>\n      <th>...</th>\n      <td>...</td>\n      <td>...</td>\n      <td>...</td>\n      <td>...</td>\n      <td>...</td>\n      <td>...</td>\n      <td>...</td>\n      <td>...</td>\n      <td>...</td>\n      <td>...</td>\n      <td>...</td>\n      <td>...</td>\n      <td>...</td>\n      <td>...</td>\n      <td>...</td>\n      <td>...</td>\n      <td>...</td>\n      <td>...</td>\n      <td>...</td>\n    </tr>\n    <tr>\n      <th>6494</th>\n      <td>0</td>\n      <td>0</td>\n      <td>0</td>\n      <td>1</td>\n      <td>26</td>\n      <td>0</td>\n      <td>No phone service</td>\n      <td>DSL</td>\n      <td>No</td>\n      <td>No</td>\n      <td>Yes</td>\n      <td>No</td>\n      <td>No</td>\n      <td>No</td>\n      <td>Month-to-month</td>\n      <td>1</td>\n      <td>Mailed check</td>\n      <td>29.80</td>\n      <td>786.50</td>\n    </tr>\n    <tr>\n      <th>6495</th>\n      <td>1</td>\n      <td>0</td>\n      <td>0</td>\n      <td>0</td>\n      <td>1</td>\n      <td>1</td>\n      <td>No</td>\n      <td>Fiber optic</td>\n      <td>No</td>\n      <td>No</td>\n      <td>No</td>\n      <td>No</td>\n      <td>No</td>\n      <td>No</td>\n      <td>Month-to-month</td>\n      <td>1</td>\n      <td>Electronic check</td>\n      <td>69.65</td>\n      <td>69.65</td>\n    </tr>\n    <tr>\n      <th>6496</th>\n      <td>1</td>\n      <td>1</td>\n      <td>1</td>\n      <td>0</td>\n      <td>40</td>\n      <td>1</td>\n      <td>Yes</td>\n      <td>Fiber optic</td>\n      <td>Yes</td>\n      <td>No</td>\n      <td>No</td>\n      <td>No</td>\n      <td>Yes</td>\n      <td>Yes</td>\n      <td>Month-to-month</td>\n      <td>0</td>\n      <td>Electronic check</td>\n      <td>101.85</td>\n      <td>4086.30</td>\n    </tr>\n    <tr>\n      <th>6497</th>\n      <td>1</td>\n      <td>0</td>\n      <td>0</td>\n      <td>0</td>\n      <td>52</td>\n      <td>1</td>\n      <td>Yes</td>\n      <td>Fiber optic</td>\n      <td>No</td>\n      <td>Yes</td>\n      <td>Yes</td>\n      <td>No</td>\n      <td>Yes</td>\n      <td>Yes</td>\n      <td>Month-to-month</td>\n      <td>1</td>\n      <td>Electronic check</td>\n      <td>103.05</td>\n      <td>5364.80</td>\n    </tr>\n    <tr>\n      <th>6498</th>\n      <td>0</td>\n      <td>0</td>\n      <td>0</td>\n      <td>0</td>\n      <td>1</td>\n      <td>1</td>\n      <td>No</td>\n      <td>Fiber optic</td>\n      <td>No</td>\n      <td>Yes</td>\n      <td>Yes</td>\n      <td>No</td>\n      <td>No</td>\n      <td>No</td>\n      <td>Month-to-month</td>\n      <td>1</td>\n      <td>Electronic check</td>\n      <td>82.30</td>\n      <td>82.30</td>\n    </tr>\n  </tbody>\n</table>\n<p>6499 rows × 19 columns</p>\n</div>"
     },
     "metadata": {},
     "execution_count": 171
    }
   ],
   "source": [
    "X_df"
   ]
  },
  {
   "cell_type": "code",
   "execution_count": 172,
   "metadata": {},
   "outputs": [],
   "source": [
    "y = y.apply(lambda x: 1 if x == 'Yes' else 0)"
   ]
  },
  {
   "cell_type": "code",
   "execution_count": 173,
   "metadata": {},
   "outputs": [],
   "source": [
    "X_df.fillna(value=0, inplace=True)"
   ]
  },
  {
   "source": [
    "Посмотрим разницы между значениями аргумента drop_first: **True** и **False**."
   ],
   "cell_type": "markdown",
   "metadata": {}
  },
  {
   "cell_type": "code",
   "execution_count": 174,
   "metadata": {},
   "outputs": [
    {
     "output_type": "stream",
     "name": "stdout",
     "text": [
      "Shape of dataframe with drop first: (6499, 30)\nShape of dataframe without drop first: (6499, 40)\n"
     ]
    }
   ],
   "source": [
    "dummied_with_first = pd.get_dummies(X_df, drop_first=True)\n",
    "dummied_without_first = pd.get_dummies(X_df, drop_first=False)\n",
    "print('Shape of dataframe with drop first: {}'.format(dummied_with_first.shape))\n",
    "print('Shape of dataframe without drop first: {}'.format(dummied_without_first.shape))"
   ]
  },
  {
   "cell_type": "code",
   "execution_count": 175,
   "metadata": {},
   "outputs": [
    {
     "output_type": "execute_result",
     "data": {
      "text/plain": [
       "{'Contract_Month-to-month',\n",
       " 'Device Protection_No',\n",
       " 'Internet Service_DSL',\n",
       " 'Multiple Lines_No',\n",
       " 'Online Backup_No',\n",
       " 'Online Security_No',\n",
       " 'Payment Method_Bank transfer (automatic)',\n",
       " 'Streaming Movies_No',\n",
       " 'Streaming TV_No',\n",
       " 'Tech Support_No'}"
      ]
     },
     "metadata": {},
     "execution_count": 175
    }
   ],
   "source": [
    "set(dummied_without_first.columns) - set(dummied_with_first.columns)"
   ]
  },
  {
   "source": [
    "Как видно, с drop_first=False на 10 столбцов больше, чем в другом варианте. Обусловлено это способом кодирования, так как dummy-кодирование позволяет не выделять столбец на каждый категориальный признак, а закодировать данные так, чтобы информация об одном столбце описывалась в остальных n-1 столбцах признаков."
   ],
   "cell_type": "markdown",
   "metadata": {}
  },
  {
   "source": [
    "Оставим значение drop_first=False."
   ],
   "cell_type": "markdown",
   "metadata": {}
  },
  {
   "cell_type": "code",
   "execution_count": 176,
   "metadata": {},
   "outputs": [],
   "source": [
    "X_df = pd.get_dummies(X_df)"
   ]
  },
  {
   "cell_type": "code",
   "execution_count": 177,
   "metadata": {},
   "outputs": [],
   "source": [
    "X = X_df.to_numpy(dtype=float)\n",
    "y = y.to_numpy(dtype=float)"
   ]
  },
  {
   "cell_type": "code",
   "execution_count": 178,
   "metadata": {},
   "outputs": [
    {
     "output_type": "execute_result",
     "data": {
      "text/plain": [
       "(array([[0., 0., 1., ..., 0., 1., 0.],\n",
       "        [1., 0., 0., ..., 0., 0., 1.],\n",
       "        [1., 0., 0., ..., 0., 0., 1.],\n",
       "        ...,\n",
       "        [1., 1., 1., ..., 0., 1., 0.],\n",
       "        [1., 0., 0., ..., 0., 1., 0.],\n",
       "        [0., 0., 0., ..., 0., 1., 0.]]),\n",
       " array([0., 0., 1., ..., 1., 0., 1.]))"
      ]
     },
     "metadata": {},
     "execution_count": 178
    }
   ],
   "source": [
    "X, y"
   ]
  },
  {
   "cell_type": "markdown",
   "metadata": {},
   "source": [
    "# Задание 3"
   ]
  },
  {
   "cell_type": "markdown",
   "metadata": {},
   "source": [
    "Преобразуйте матрицу признаков при помощи StandardScaler. Зачем?\n",
    "\n",
    "Разделите данные для обучения на тренировочные и тестовые с помощью train_test_split. Сравните, какое среднее значение получается y_train и y_test при параметре shuffle=True и shuffle=False. Как лучше? Почему?\n",
    "\n",
    "Используйте test_size=0.2, random_state=42\n",
    "\n",
    "Что означает random_state? Почему он равен 42?"
   ]
  },
  {
   "source": [
    "**StandartScaler** меняет диапазон значений данных таким образом, чтобы их среднее значение было равно 0, а среднеквадратичное отклонение равнялось 1 (стандартизация данных). Это делается для того, чтобы данные не менялись в слишком большом диапазоне друг относительно друга, т.к. далеко все признаки измеряются в различных единицах измерения, ML алгоритм может быть не устойчив к таких значениям и плохо искать закономерности в данных. Именно поэтому предпочтительно преобразовать данные, чтобы они измерялись в одинаковых единицах измерения. "
   ],
   "cell_type": "markdown",
   "metadata": {}
  },
  {
   "cell_type": "code",
   "execution_count": 179,
   "metadata": {},
   "outputs": [],
   "source": [
    "from sklearn.model_selection import train_test_split\n",
    "from sklearn.preprocessing import StandardScaler"
   ]
  },
  {
   "cell_type": "code",
   "execution_count": 180,
   "metadata": {},
   "outputs": [],
   "source": [
    "scaler = StandardScaler()\n",
    "X = scaler.fit_transform(X)"
   ]
  },
  {
   "cell_type": "code",
   "execution_count": 181,
   "metadata": {},
   "outputs": [],
   "source": [
    "y = np.column_stack((y, df['CustomerID']))  # для того чтобы не потерять людей, с какой строкой в данных они ассоциируются.  "
   ]
  },
  {
   "cell_type": "code",
   "execution_count": 182,
   "metadata": {},
   "outputs": [
    {
     "output_type": "execute_result",
     "data": {
      "text/plain": [
       "array([[0.0, '7590-VHVEG'],\n",
       "       [0.0, '5575-GNVDE'],\n",
       "       [1.0, '3668-QPYBK'],\n",
       "       ...,\n",
       "       [1.0, '2474-BRUCM'],\n",
       "       [0.0, '4062-HBMOS'],\n",
       "       [1.0, '0742-NXBGR']], dtype=object)"
      ]
     },
     "metadata": {},
     "execution_count": 182
    }
   ],
   "source": [
    "y"
   ]
  },
  {
   "cell_type": "code",
   "execution_count": 183,
   "metadata": {},
   "outputs": [],
   "source": [
    "X_train, X_test, y_train, y_test = train_test_split(\n",
    "    X, y, test_size=0.2, shuffle=False, random_state=42)"
   ]
  },
  {
   "cell_type": "code",
   "execution_count": 184,
   "metadata": {},
   "outputs": [
    {
     "output_type": "execute_result",
     "data": {
      "text/plain": [
       "(0.2619734564339296, 0.27153846153846156)"
      ]
     },
     "metadata": {},
     "execution_count": 184
    }
   ],
   "source": [
    "np.mean(y_train[:, 0]), np.mean(y_test[:, 0])"
   ]
  },
  {
   "cell_type": "code",
   "execution_count": 185,
   "metadata": {},
   "outputs": [],
   "source": [
    "X_train, X_test, y_train, y_test = train_test_split(\n",
    "    X, y, test_size=0.2, shuffle=True, random_state=42)"
   ]
  },
  {
   "cell_type": "code",
   "execution_count": 186,
   "metadata": {},
   "outputs": [
    {
     "output_type": "execute_result",
     "data": {
      "text/plain": [
       "(0.263512213887286, 0.2653846153846154)"
      ]
     },
     "metadata": {},
     "execution_count": 186
    }
   ],
   "source": [
    "np.mean(y_train[:, 0]), np.mean(y_test[:, 0])"
   ]
  },
  {
   "cell_type": "code",
   "execution_count": 187,
   "metadata": {},
   "outputs": [],
   "source": [
    "y_train, y_trainID = y_train[:, 0].astype(float), y_train[:, 1]\n",
    "y_test, y_testID = y_test[:, 0].astype(float), y_test[:, 1]"
   ]
  },
  {
   "source": [
    "Среднее по меткам (0 и 1) показало весьма маленький результат - 0.26. Вследствие чего можно заключить, что у нас несбалансированная по классам выборка, а значит метрика accuracy, несмотря на свой более-менее оптимистичный результат нам не подойдет."
   ],
   "cell_type": "markdown",
   "metadata": {}
  },
  {
   "source": [
    "Как можно увидеть, соотношение классов при shuffle=True лучше, что позволяет лучше обучить модель и проверить качество ее работы."
   ],
   "cell_type": "markdown",
   "metadata": {}
  },
  {
   "source": [
    "Аргумент random_state предназначен для того, чтобы первое разделение данных всегда было одинаковым, для более наглядной иллюстрации результата работы модели при подсчете метрик.\n",
    "\n",
    "42 - ответ на главный вопрос жизни, вселенной и всего такого. **\"Автостопом по Галактике\"**."
   ],
   "cell_type": "markdown",
   "metadata": {}
  },
  {
   "cell_type": "markdown",
   "metadata": {},
   "source": [
    "# Задание 4"
   ]
  },
  {
   "cell_type": "code",
   "execution_count": 188,
   "metadata": {},
   "outputs": [],
   "source": [
    "from sklearn.linear_model import LogisticRegression\n",
    "from sklearn.metrics import accuracy_score, precision_score, recall_score, f1_score, \\\n",
    "    classification_report, roc_auc_score, plot_roc_curve\n",
    "from sklearn.model_selection import GridSearchCV, KFold"
   ]
  },
  {
   "cell_type": "markdown",
   "metadata": {},
   "source": [
    "Обучите на тренировочных данных модель логистической регрессии с параметрами по умолчанию.\n",
    "\n",
    "Проверьте качество модели на тестовых данных по метрикам на ваш выбор. Поясните выбор метрик. Хорошее ли получилось качество классификации?\n",
    "\n",
    "Проверьте, что будет, если не делать масштабирование данных с разными solver. Почему так получается?\n",
    "\n",
    "Разберитесь, что означают параметры LogisticRegression и попробуйте улучшить качество, изменяя значения параметров, влияющих на модель. Удобно презентуйте полученные результаты(таблица, график и т.д.).\n",
    "\n",
    "\n",
    "Перед задачей самостоятельно прочитайте про метрику ROC-AUC и разберитесь с тем, что она такое. Ссылки для ознакомления (**обратите особое внимание на то, от чего считается эта метрика. вид предсказаний для остальных метрик и для roc_auc отличаются!**):\n",
    "1. https://dyakonov.org/2017/07/28/auc-roc-%D0%BF%D0%BB%D0%BE%D1%89%D0%B0%D0%B4%D1%8C-%D0%BF%D0%BE%D0%B4-%D0%BA%D1%80%D0%B8%D0%B2%D0%BE%D0%B9-%D0%BE%D1%88%D0%B8%D0%B1%D0%BE%D0%BA/\n",
    "2. https://ru.wikipedia.org/wiki/ROC-%D0%BA%D1%80%D0%B8%D0%B2%D0%B0%D1%8F\n",
    "\n",
    "Нарисуйте ROC-кривую для вашего классификатора и вычислите ROC-AUC. Будьте готовы ответить на вопросы.\n",
    "\n",
    "\n",
    "Определите важность признаков, используя коэффициенты логистической регрессии. Как это правильно сделать для категориальных признаков?\n"
   ]
  },
  {
   "cell_type": "code",
   "execution_count": 190,
   "metadata": {},
   "outputs": [
    {
     "output_type": "execute_result",
     "data": {
      "text/plain": [
       "LogisticRegression(C=1.0, class_weight=None, dual=False, fit_intercept=True,\n",
       "                   intercept_scaling=1, l1_ratio=None, max_iter=100,\n",
       "                   multi_class='auto', n_jobs=None, penalty='l2',\n",
       "                   random_state=None, solver='lbfgs', tol=0.0001, verbose=0,\n",
       "                   warm_start=False)"
      ]
     },
     "metadata": {},
     "execution_count": 190
    }
   ],
   "source": [
    "clf = LogisticRegression()\n",
    "clf.fit(X_train, y_train)"
   ]
  },
  {
   "cell_type": "code",
   "execution_count": 191,
   "metadata": {},
   "outputs": [],
   "source": [
    "def print_metrics(y_test, y_pred_proba, model='log_reg'):\n",
    "    if model == 'log_reg':\n",
    "        y_pred = np.argmax(y_pred_proba, axis=1)\n",
    "        y_pred_proba = y_pred_proba[:, 1]\n",
    "    elif model == 'svm':\n",
    "        y_pred = np.where(y_pred_proba <= 0, 0, 1)\n",
    "\n",
    "    acc = accuracy_score(y_test, y_pred) * 100\n",
    "    prec = precision_score(y_test, y_pred) * 100\n",
    "    recall = recall_score(y_test, y_pred) * 100\n",
    "    f_score = f1_score(y_test, y_pred) * 100\n",
    "    roc_auc = roc_auc_score(y_test, y_pred_proba) * 100\n",
    "    print('Accuracy: {:.3f}% \\nPrecision: {:.3f}%\\n'.format(acc, prec) + \n",
    "            'Recall: {:.3f}%\\nF1 score: {:.3f}% \\nROC-AUC score: {:.3f}%'.format(\n",
    "            recall, f_score, roc_auc))"
   ]
  },
  {
   "cell_type": "code",
   "execution_count": 192,
   "metadata": {},
   "outputs": [
    {
     "output_type": "stream",
     "name": "stdout",
     "text": [
      "Accuracy: 79.538% \nPrecision: 62.783%\nRecall: 56.232%\nF1 score: 59.327% \nROC-AUC score: 84.541%\n"
     ]
    }
   ],
   "source": [
    "y_pred = clf.predict_proba(X_test)\n",
    "print_metrics(y_test, y_pred, model='log_reg')"
   ]
  },
  {
   "cell_type": "code",
   "execution_count": 193,
   "metadata": {},
   "outputs": [
    {
     "output_type": "stream",
     "name": "stdout",
     "text": [
      "              precision    recall  f1-score   support\n\n         0.0       0.85      0.88      0.86       955\n         1.0       0.63      0.56      0.59       345\n\n    accuracy                           0.80      1300\n   macro avg       0.74      0.72      0.73      1300\nweighted avg       0.79      0.80      0.79      1300\n\n"
     ]
    }
   ],
   "source": [
    "print(classification_report(y_test, np.argmax(y_pred, axis=1)))"
   ]
  },
  {
   "cell_type": "code",
   "execution_count": 194,
   "metadata": {},
   "outputs": [
    {
     "output_type": "display_data",
     "data": {
      "text/plain": "<Figure size 432x288 with 1 Axes>",
      "image/svg+xml": "<?xml version=\"1.0\" encoding=\"utf-8\" standalone=\"no\"?>\r\n<!DOCTYPE svg PUBLIC \"-//W3C//DTD SVG 1.1//EN\"\r\n  \"http://www.w3.org/Graphics/SVG/1.1/DTD/svg11.dtd\">\r\n<!-- Created with matplotlib (https://matplotlib.org/) -->\r\n<svg height=\"262.19625pt\" version=\"1.1\" viewBox=\"0 0 385.78125 262.19625\" width=\"385.78125pt\" xmlns=\"http://www.w3.org/2000/svg\" xmlns:xlink=\"http://www.w3.org/1999/xlink\">\r\n <defs>\r\n  <style type=\"text/css\">\r\n*{stroke-linecap:butt;stroke-linejoin:round;}\r\n  </style>\r\n </defs>\r\n <g id=\"figure_1\">\r\n  <g id=\"patch_1\">\r\n   <path d=\"M 0 262.19625 \r\nL 385.78125 262.19625 \r\nL 385.78125 0 \r\nL 0 0 \r\nz\r\n\" style=\"fill:none;\"/>\r\n  </g>\r\n  <g id=\"axes_1\">\r\n   <g id=\"patch_2\">\r\n    <path d=\"M 43.78125 224.64 \r\nL 378.58125 224.64 \r\nL 378.58125 7.2 \r\nL 43.78125 7.2 \r\nz\r\n\" style=\"fill:#ffffff;\"/>\r\n   </g>\r\n   <g id=\"matplotlib.axis_1\">\r\n    <g id=\"xtick_1\">\r\n     <g id=\"line2d_1\">\r\n      <defs>\r\n       <path d=\"M 0 0 \r\nL 0 3.5 \r\n\" id=\"m54d9dd50fa\" style=\"stroke:#000000;stroke-width:0.8;\"/>\r\n      </defs>\r\n      <g>\r\n       <use style=\"stroke:#000000;stroke-width:0.8;\" x=\"58.999432\" xlink:href=\"#m54d9dd50fa\" y=\"224.64\"/>\r\n      </g>\r\n     </g>\r\n     <g id=\"text_1\">\r\n      <!-- 0.0 -->\r\n      <defs>\r\n       <path d=\"M 31.78125 66.40625 \r\nQ 24.171875 66.40625 20.328125 58.90625 \r\nQ 16.5 51.421875 16.5 36.375 \r\nQ 16.5 21.390625 20.328125 13.890625 \r\nQ 24.171875 6.390625 31.78125 6.390625 \r\nQ 39.453125 6.390625 43.28125 13.890625 \r\nQ 47.125 21.390625 47.125 36.375 \r\nQ 47.125 51.421875 43.28125 58.90625 \r\nQ 39.453125 66.40625 31.78125 66.40625 \r\nz\r\nM 31.78125 74.21875 \r\nQ 44.046875 74.21875 50.515625 64.515625 \r\nQ 56.984375 54.828125 56.984375 36.375 \r\nQ 56.984375 17.96875 50.515625 8.265625 \r\nQ 44.046875 -1.421875 31.78125 -1.421875 \r\nQ 19.53125 -1.421875 13.0625 8.265625 \r\nQ 6.59375 17.96875 6.59375 36.375 \r\nQ 6.59375 54.828125 13.0625 64.515625 \r\nQ 19.53125 74.21875 31.78125 74.21875 \r\nz\r\n\" id=\"DejaVuSans-48\"/>\r\n       <path d=\"M 10.6875 12.40625 \r\nL 21 12.40625 \r\nL 21 0 \r\nL 10.6875 0 \r\nz\r\n\" id=\"DejaVuSans-46\"/>\r\n      </defs>\r\n      <g transform=\"translate(51.047869 239.238437)scale(0.1 -0.1)\">\r\n       <use xlink:href=\"#DejaVuSans-48\"/>\r\n       <use x=\"63.623047\" xlink:href=\"#DejaVuSans-46\"/>\r\n       <use x=\"95.410156\" xlink:href=\"#DejaVuSans-48\"/>\r\n      </g>\r\n     </g>\r\n    </g>\r\n    <g id=\"xtick_2\">\r\n     <g id=\"line2d_2\">\r\n      <g>\r\n       <use style=\"stroke:#000000;stroke-width:0.8;\" x=\"119.872159\" xlink:href=\"#m54d9dd50fa\" y=\"224.64\"/>\r\n      </g>\r\n     </g>\r\n     <g id=\"text_2\">\r\n      <!-- 0.2 -->\r\n      <defs>\r\n       <path d=\"M 19.1875 8.296875 \r\nL 53.609375 8.296875 \r\nL 53.609375 0 \r\nL 7.328125 0 \r\nL 7.328125 8.296875 \r\nQ 12.9375 14.109375 22.625 23.890625 \r\nQ 32.328125 33.6875 34.8125 36.53125 \r\nQ 39.546875 41.84375 41.421875 45.53125 \r\nQ 43.3125 49.21875 43.3125 52.78125 \r\nQ 43.3125 58.59375 39.234375 62.25 \r\nQ 35.15625 65.921875 28.609375 65.921875 \r\nQ 23.96875 65.921875 18.8125 64.3125 \r\nQ 13.671875 62.703125 7.8125 59.421875 \r\nL 7.8125 69.390625 \r\nQ 13.765625 71.78125 18.9375 73 \r\nQ 24.125 74.21875 28.421875 74.21875 \r\nQ 39.75 74.21875 46.484375 68.546875 \r\nQ 53.21875 62.890625 53.21875 53.421875 \r\nQ 53.21875 48.921875 51.53125 44.890625 \r\nQ 49.859375 40.875 45.40625 35.40625 \r\nQ 44.1875 33.984375 37.640625 27.21875 \r\nQ 31.109375 20.453125 19.1875 8.296875 \r\nz\r\n\" id=\"DejaVuSans-50\"/>\r\n      </defs>\r\n      <g transform=\"translate(111.920597 239.238437)scale(0.1 -0.1)\">\r\n       <use xlink:href=\"#DejaVuSans-48\"/>\r\n       <use x=\"63.623047\" xlink:href=\"#DejaVuSans-46\"/>\r\n       <use x=\"95.410156\" xlink:href=\"#DejaVuSans-50\"/>\r\n      </g>\r\n     </g>\r\n    </g>\r\n    <g id=\"xtick_3\">\r\n     <g id=\"line2d_3\">\r\n      <g>\r\n       <use style=\"stroke:#000000;stroke-width:0.8;\" x=\"180.744886\" xlink:href=\"#m54d9dd50fa\" y=\"224.64\"/>\r\n      </g>\r\n     </g>\r\n     <g id=\"text_3\">\r\n      <!-- 0.4 -->\r\n      <defs>\r\n       <path d=\"M 37.796875 64.3125 \r\nL 12.890625 25.390625 \r\nL 37.796875 25.390625 \r\nz\r\nM 35.203125 72.90625 \r\nL 47.609375 72.90625 \r\nL 47.609375 25.390625 \r\nL 58.015625 25.390625 \r\nL 58.015625 17.1875 \r\nL 47.609375 17.1875 \r\nL 47.609375 0 \r\nL 37.796875 0 \r\nL 37.796875 17.1875 \r\nL 4.890625 17.1875 \r\nL 4.890625 26.703125 \r\nz\r\n\" id=\"DejaVuSans-52\"/>\r\n      </defs>\r\n      <g transform=\"translate(172.793324 239.238437)scale(0.1 -0.1)\">\r\n       <use xlink:href=\"#DejaVuSans-48\"/>\r\n       <use x=\"63.623047\" xlink:href=\"#DejaVuSans-46\"/>\r\n       <use x=\"95.410156\" xlink:href=\"#DejaVuSans-52\"/>\r\n      </g>\r\n     </g>\r\n    </g>\r\n    <g id=\"xtick_4\">\r\n     <g id=\"line2d_4\">\r\n      <g>\r\n       <use style=\"stroke:#000000;stroke-width:0.8;\" x=\"241.617614\" xlink:href=\"#m54d9dd50fa\" y=\"224.64\"/>\r\n      </g>\r\n     </g>\r\n     <g id=\"text_4\">\r\n      <!-- 0.6 -->\r\n      <defs>\r\n       <path d=\"M 33.015625 40.375 \r\nQ 26.375 40.375 22.484375 35.828125 \r\nQ 18.609375 31.296875 18.609375 23.390625 \r\nQ 18.609375 15.53125 22.484375 10.953125 \r\nQ 26.375 6.390625 33.015625 6.390625 \r\nQ 39.65625 6.390625 43.53125 10.953125 \r\nQ 47.40625 15.53125 47.40625 23.390625 \r\nQ 47.40625 31.296875 43.53125 35.828125 \r\nQ 39.65625 40.375 33.015625 40.375 \r\nz\r\nM 52.59375 71.296875 \r\nL 52.59375 62.3125 \r\nQ 48.875 64.0625 45.09375 64.984375 \r\nQ 41.3125 65.921875 37.59375 65.921875 \r\nQ 27.828125 65.921875 22.671875 59.328125 \r\nQ 17.53125 52.734375 16.796875 39.40625 \r\nQ 19.671875 43.65625 24.015625 45.921875 \r\nQ 28.375 48.1875 33.59375 48.1875 \r\nQ 44.578125 48.1875 50.953125 41.515625 \r\nQ 57.328125 34.859375 57.328125 23.390625 \r\nQ 57.328125 12.15625 50.6875 5.359375 \r\nQ 44.046875 -1.421875 33.015625 -1.421875 \r\nQ 20.359375 -1.421875 13.671875 8.265625 \r\nQ 6.984375 17.96875 6.984375 36.375 \r\nQ 6.984375 53.65625 15.1875 63.9375 \r\nQ 23.390625 74.21875 37.203125 74.21875 \r\nQ 40.921875 74.21875 44.703125 73.484375 \r\nQ 48.484375 72.75 52.59375 71.296875 \r\nz\r\n\" id=\"DejaVuSans-54\"/>\r\n      </defs>\r\n      <g transform=\"translate(233.666051 239.238437)scale(0.1 -0.1)\">\r\n       <use xlink:href=\"#DejaVuSans-48\"/>\r\n       <use x=\"63.623047\" xlink:href=\"#DejaVuSans-46\"/>\r\n       <use x=\"95.410156\" xlink:href=\"#DejaVuSans-54\"/>\r\n      </g>\r\n     </g>\r\n    </g>\r\n    <g id=\"xtick_5\">\r\n     <g id=\"line2d_5\">\r\n      <g>\r\n       <use style=\"stroke:#000000;stroke-width:0.8;\" x=\"302.490341\" xlink:href=\"#m54d9dd50fa\" y=\"224.64\"/>\r\n      </g>\r\n     </g>\r\n     <g id=\"text_5\">\r\n      <!-- 0.8 -->\r\n      <defs>\r\n       <path d=\"M 31.78125 34.625 \r\nQ 24.75 34.625 20.71875 30.859375 \r\nQ 16.703125 27.09375 16.703125 20.515625 \r\nQ 16.703125 13.921875 20.71875 10.15625 \r\nQ 24.75 6.390625 31.78125 6.390625 \r\nQ 38.8125 6.390625 42.859375 10.171875 \r\nQ 46.921875 13.96875 46.921875 20.515625 \r\nQ 46.921875 27.09375 42.890625 30.859375 \r\nQ 38.875 34.625 31.78125 34.625 \r\nz\r\nM 21.921875 38.8125 \r\nQ 15.578125 40.375 12.03125 44.71875 \r\nQ 8.5 49.078125 8.5 55.328125 \r\nQ 8.5 64.0625 14.71875 69.140625 \r\nQ 20.953125 74.21875 31.78125 74.21875 \r\nQ 42.671875 74.21875 48.875 69.140625 \r\nQ 55.078125 64.0625 55.078125 55.328125 \r\nQ 55.078125 49.078125 51.53125 44.71875 \r\nQ 48 40.375 41.703125 38.8125 \r\nQ 48.828125 37.15625 52.796875 32.3125 \r\nQ 56.78125 27.484375 56.78125 20.515625 \r\nQ 56.78125 9.90625 50.3125 4.234375 \r\nQ 43.84375 -1.421875 31.78125 -1.421875 \r\nQ 19.734375 -1.421875 13.25 4.234375 \r\nQ 6.78125 9.90625 6.78125 20.515625 \r\nQ 6.78125 27.484375 10.78125 32.3125 \r\nQ 14.796875 37.15625 21.921875 38.8125 \r\nz\r\nM 18.3125 54.390625 \r\nQ 18.3125 48.734375 21.84375 45.5625 \r\nQ 25.390625 42.390625 31.78125 42.390625 \r\nQ 38.140625 42.390625 41.71875 45.5625 \r\nQ 45.3125 48.734375 45.3125 54.390625 \r\nQ 45.3125 60.0625 41.71875 63.234375 \r\nQ 38.140625 66.40625 31.78125 66.40625 \r\nQ 25.390625 66.40625 21.84375 63.234375 \r\nQ 18.3125 60.0625 18.3125 54.390625 \r\nz\r\n\" id=\"DejaVuSans-56\"/>\r\n      </defs>\r\n      <g transform=\"translate(294.538778 239.238437)scale(0.1 -0.1)\">\r\n       <use xlink:href=\"#DejaVuSans-48\"/>\r\n       <use x=\"63.623047\" xlink:href=\"#DejaVuSans-46\"/>\r\n       <use x=\"95.410156\" xlink:href=\"#DejaVuSans-56\"/>\r\n      </g>\r\n     </g>\r\n    </g>\r\n    <g id=\"xtick_6\">\r\n     <g id=\"line2d_6\">\r\n      <g>\r\n       <use style=\"stroke:#000000;stroke-width:0.8;\" x=\"363.363068\" xlink:href=\"#m54d9dd50fa\" y=\"224.64\"/>\r\n      </g>\r\n     </g>\r\n     <g id=\"text_6\">\r\n      <!-- 1.0 -->\r\n      <defs>\r\n       <path d=\"M 12.40625 8.296875 \r\nL 28.515625 8.296875 \r\nL 28.515625 63.921875 \r\nL 10.984375 60.40625 \r\nL 10.984375 69.390625 \r\nL 28.421875 72.90625 \r\nL 38.28125 72.90625 \r\nL 38.28125 8.296875 \r\nL 54.390625 8.296875 \r\nL 54.390625 0 \r\nL 12.40625 0 \r\nz\r\n\" id=\"DejaVuSans-49\"/>\r\n      </defs>\r\n      <g transform=\"translate(355.411506 239.238437)scale(0.1 -0.1)\">\r\n       <use xlink:href=\"#DejaVuSans-49\"/>\r\n       <use x=\"63.623047\" xlink:href=\"#DejaVuSans-46\"/>\r\n       <use x=\"95.410156\" xlink:href=\"#DejaVuSans-48\"/>\r\n      </g>\r\n     </g>\r\n    </g>\r\n    <g id=\"text_7\">\r\n     <!-- False Positive Rate -->\r\n     <defs>\r\n      <path d=\"M 9.8125 72.90625 \r\nL 51.703125 72.90625 \r\nL 51.703125 64.59375 \r\nL 19.671875 64.59375 \r\nL 19.671875 43.109375 \r\nL 48.578125 43.109375 \r\nL 48.578125 34.8125 \r\nL 19.671875 34.8125 \r\nL 19.671875 0 \r\nL 9.8125 0 \r\nz\r\n\" id=\"DejaVuSans-70\"/>\r\n      <path d=\"M 34.28125 27.484375 \r\nQ 23.390625 27.484375 19.1875 25 \r\nQ 14.984375 22.515625 14.984375 16.5 \r\nQ 14.984375 11.71875 18.140625 8.90625 \r\nQ 21.296875 6.109375 26.703125 6.109375 \r\nQ 34.1875 6.109375 38.703125 11.40625 \r\nQ 43.21875 16.703125 43.21875 25.484375 \r\nL 43.21875 27.484375 \r\nz\r\nM 52.203125 31.203125 \r\nL 52.203125 0 \r\nL 43.21875 0 \r\nL 43.21875 8.296875 \r\nQ 40.140625 3.328125 35.546875 0.953125 \r\nQ 30.953125 -1.421875 24.3125 -1.421875 \r\nQ 15.921875 -1.421875 10.953125 3.296875 \r\nQ 6 8.015625 6 15.921875 \r\nQ 6 25.140625 12.171875 29.828125 \r\nQ 18.359375 34.515625 30.609375 34.515625 \r\nL 43.21875 34.515625 \r\nL 43.21875 35.40625 \r\nQ 43.21875 41.609375 39.140625 45 \r\nQ 35.0625 48.390625 27.6875 48.390625 \r\nQ 23 48.390625 18.546875 47.265625 \r\nQ 14.109375 46.140625 10.015625 43.890625 \r\nL 10.015625 52.203125 \r\nQ 14.9375 54.109375 19.578125 55.046875 \r\nQ 24.21875 56 28.609375 56 \r\nQ 40.484375 56 46.34375 49.84375 \r\nQ 52.203125 43.703125 52.203125 31.203125 \r\nz\r\n\" id=\"DejaVuSans-97\"/>\r\n      <path d=\"M 9.421875 75.984375 \r\nL 18.40625 75.984375 \r\nL 18.40625 0 \r\nL 9.421875 0 \r\nz\r\n\" id=\"DejaVuSans-108\"/>\r\n      <path d=\"M 44.28125 53.078125 \r\nL 44.28125 44.578125 \r\nQ 40.484375 46.53125 36.375 47.5 \r\nQ 32.28125 48.484375 27.875 48.484375 \r\nQ 21.1875 48.484375 17.84375 46.4375 \r\nQ 14.5 44.390625 14.5 40.28125 \r\nQ 14.5 37.15625 16.890625 35.375 \r\nQ 19.28125 33.59375 26.515625 31.984375 \r\nL 29.59375 31.296875 \r\nQ 39.15625 29.25 43.1875 25.515625 \r\nQ 47.21875 21.78125 47.21875 15.09375 \r\nQ 47.21875 7.46875 41.1875 3.015625 \r\nQ 35.15625 -1.421875 24.609375 -1.421875 \r\nQ 20.21875 -1.421875 15.453125 -0.5625 \r\nQ 10.6875 0.296875 5.421875 2 \r\nL 5.421875 11.28125 \r\nQ 10.40625 8.6875 15.234375 7.390625 \r\nQ 20.0625 6.109375 24.8125 6.109375 \r\nQ 31.15625 6.109375 34.5625 8.28125 \r\nQ 37.984375 10.453125 37.984375 14.40625 \r\nQ 37.984375 18.0625 35.515625 20.015625 \r\nQ 33.0625 21.96875 24.703125 23.78125 \r\nL 21.578125 24.515625 \r\nQ 13.234375 26.265625 9.515625 29.90625 \r\nQ 5.8125 33.546875 5.8125 39.890625 \r\nQ 5.8125 47.609375 11.28125 51.796875 \r\nQ 16.75 56 26.8125 56 \r\nQ 31.78125 56 36.171875 55.265625 \r\nQ 40.578125 54.546875 44.28125 53.078125 \r\nz\r\n\" id=\"DejaVuSans-115\"/>\r\n      <path d=\"M 56.203125 29.59375 \r\nL 56.203125 25.203125 \r\nL 14.890625 25.203125 \r\nQ 15.484375 15.921875 20.484375 11.0625 \r\nQ 25.484375 6.203125 34.421875 6.203125 \r\nQ 39.59375 6.203125 44.453125 7.46875 \r\nQ 49.3125 8.734375 54.109375 11.28125 \r\nL 54.109375 2.78125 \r\nQ 49.265625 0.734375 44.1875 -0.34375 \r\nQ 39.109375 -1.421875 33.890625 -1.421875 \r\nQ 20.796875 -1.421875 13.15625 6.1875 \r\nQ 5.515625 13.8125 5.515625 26.8125 \r\nQ 5.515625 40.234375 12.765625 48.109375 \r\nQ 20.015625 56 32.328125 56 \r\nQ 43.359375 56 49.78125 48.890625 \r\nQ 56.203125 41.796875 56.203125 29.59375 \r\nz\r\nM 47.21875 32.234375 \r\nQ 47.125 39.59375 43.09375 43.984375 \r\nQ 39.0625 48.390625 32.421875 48.390625 \r\nQ 24.90625 48.390625 20.390625 44.140625 \r\nQ 15.875 39.890625 15.1875 32.171875 \r\nz\r\n\" id=\"DejaVuSans-101\"/>\r\n      <path id=\"DejaVuSans-32\"/>\r\n      <path d=\"M 19.671875 64.796875 \r\nL 19.671875 37.40625 \r\nL 32.078125 37.40625 \r\nQ 38.96875 37.40625 42.71875 40.96875 \r\nQ 46.484375 44.53125 46.484375 51.125 \r\nQ 46.484375 57.671875 42.71875 61.234375 \r\nQ 38.96875 64.796875 32.078125 64.796875 \r\nz\r\nM 9.8125 72.90625 \r\nL 32.078125 72.90625 \r\nQ 44.34375 72.90625 50.609375 67.359375 \r\nQ 56.890625 61.8125 56.890625 51.125 \r\nQ 56.890625 40.328125 50.609375 34.8125 \r\nQ 44.34375 29.296875 32.078125 29.296875 \r\nL 19.671875 29.296875 \r\nL 19.671875 0 \r\nL 9.8125 0 \r\nz\r\n\" id=\"DejaVuSans-80\"/>\r\n      <path d=\"M 30.609375 48.390625 \r\nQ 23.390625 48.390625 19.1875 42.75 \r\nQ 14.984375 37.109375 14.984375 27.296875 \r\nQ 14.984375 17.484375 19.15625 11.84375 \r\nQ 23.34375 6.203125 30.609375 6.203125 \r\nQ 37.796875 6.203125 41.984375 11.859375 \r\nQ 46.1875 17.53125 46.1875 27.296875 \r\nQ 46.1875 37.015625 41.984375 42.703125 \r\nQ 37.796875 48.390625 30.609375 48.390625 \r\nz\r\nM 30.609375 56 \r\nQ 42.328125 56 49.015625 48.375 \r\nQ 55.71875 40.765625 55.71875 27.296875 \r\nQ 55.71875 13.875 49.015625 6.21875 \r\nQ 42.328125 -1.421875 30.609375 -1.421875 \r\nQ 18.84375 -1.421875 12.171875 6.21875 \r\nQ 5.515625 13.875 5.515625 27.296875 \r\nQ 5.515625 40.765625 12.171875 48.375 \r\nQ 18.84375 56 30.609375 56 \r\nz\r\n\" id=\"DejaVuSans-111\"/>\r\n      <path d=\"M 9.421875 54.6875 \r\nL 18.40625 54.6875 \r\nL 18.40625 0 \r\nL 9.421875 0 \r\nz\r\nM 9.421875 75.984375 \r\nL 18.40625 75.984375 \r\nL 18.40625 64.59375 \r\nL 9.421875 64.59375 \r\nz\r\n\" id=\"DejaVuSans-105\"/>\r\n      <path d=\"M 18.3125 70.21875 \r\nL 18.3125 54.6875 \r\nL 36.8125 54.6875 \r\nL 36.8125 47.703125 \r\nL 18.3125 47.703125 \r\nL 18.3125 18.015625 \r\nQ 18.3125 11.328125 20.140625 9.421875 \r\nQ 21.96875 7.515625 27.59375 7.515625 \r\nL 36.8125 7.515625 \r\nL 36.8125 0 \r\nL 27.59375 0 \r\nQ 17.1875 0 13.234375 3.875 \r\nQ 9.28125 7.765625 9.28125 18.015625 \r\nL 9.28125 47.703125 \r\nL 2.6875 47.703125 \r\nL 2.6875 54.6875 \r\nL 9.28125 54.6875 \r\nL 9.28125 70.21875 \r\nz\r\n\" id=\"DejaVuSans-116\"/>\r\n      <path d=\"M 2.984375 54.6875 \r\nL 12.5 54.6875 \r\nL 29.59375 8.796875 \r\nL 46.6875 54.6875 \r\nL 56.203125 54.6875 \r\nL 35.6875 0 \r\nL 23.484375 0 \r\nz\r\n\" id=\"DejaVuSans-118\"/>\r\n      <path d=\"M 44.390625 34.1875 \r\nQ 47.5625 33.109375 50.5625 29.59375 \r\nQ 53.5625 26.078125 56.59375 19.921875 \r\nL 66.609375 0 \r\nL 56 0 \r\nL 46.6875 18.703125 \r\nQ 43.0625 26.03125 39.671875 28.421875 \r\nQ 36.28125 30.8125 30.421875 30.8125 \r\nL 19.671875 30.8125 \r\nL 19.671875 0 \r\nL 9.8125 0 \r\nL 9.8125 72.90625 \r\nL 32.078125 72.90625 \r\nQ 44.578125 72.90625 50.734375 67.671875 \r\nQ 56.890625 62.453125 56.890625 51.90625 \r\nQ 56.890625 45.015625 53.6875 40.46875 \r\nQ 50.484375 35.9375 44.390625 34.1875 \r\nz\r\nM 19.671875 64.796875 \r\nL 19.671875 38.921875 \r\nL 32.078125 38.921875 \r\nQ 39.203125 38.921875 42.84375 42.21875 \r\nQ 46.484375 45.515625 46.484375 51.90625 \r\nQ 46.484375 58.296875 42.84375 61.546875 \r\nQ 39.203125 64.796875 32.078125 64.796875 \r\nz\r\n\" id=\"DejaVuSans-82\"/>\r\n     </defs>\r\n     <g transform=\"translate(164.714844 252.916562)scale(0.1 -0.1)\">\r\n      <use xlink:href=\"#DejaVuSans-70\"/>\r\n      <use x=\"48.394531\" xlink:href=\"#DejaVuSans-97\"/>\r\n      <use x=\"109.673828\" xlink:href=\"#DejaVuSans-108\"/>\r\n      <use x=\"137.457031\" xlink:href=\"#DejaVuSans-115\"/>\r\n      <use x=\"189.556641\" xlink:href=\"#DejaVuSans-101\"/>\r\n      <use x=\"251.080078\" xlink:href=\"#DejaVuSans-32\"/>\r\n      <use x=\"282.867188\" xlink:href=\"#DejaVuSans-80\"/>\r\n      <use x=\"339.544922\" xlink:href=\"#DejaVuSans-111\"/>\r\n      <use x=\"400.726562\" xlink:href=\"#DejaVuSans-115\"/>\r\n      <use x=\"452.826172\" xlink:href=\"#DejaVuSans-105\"/>\r\n      <use x=\"480.609375\" xlink:href=\"#DejaVuSans-116\"/>\r\n      <use x=\"519.818359\" xlink:href=\"#DejaVuSans-105\"/>\r\n      <use x=\"547.601562\" xlink:href=\"#DejaVuSans-118\"/>\r\n      <use x=\"606.78125\" xlink:href=\"#DejaVuSans-101\"/>\r\n      <use x=\"668.304688\" xlink:href=\"#DejaVuSans-32\"/>\r\n      <use x=\"700.091797\" xlink:href=\"#DejaVuSans-82\"/>\r\n      <use x=\"767.324219\" xlink:href=\"#DejaVuSans-97\"/>\r\n      <use x=\"828.603516\" xlink:href=\"#DejaVuSans-116\"/>\r\n      <use x=\"867.8125\" xlink:href=\"#DejaVuSans-101\"/>\r\n     </g>\r\n    </g>\r\n   </g>\r\n   <g id=\"matplotlib.axis_2\">\r\n    <g id=\"ytick_1\">\r\n     <g id=\"line2d_7\">\r\n      <defs>\r\n       <path d=\"M 0 0 \r\nL -3.5 0 \r\n\" id=\"m4b98555bb3\" style=\"stroke:#000000;stroke-width:0.8;\"/>\r\n      </defs>\r\n      <g>\r\n       <use style=\"stroke:#000000;stroke-width:0.8;\" x=\"43.78125\" xlink:href=\"#m4b98555bb3\" y=\"214.756364\"/>\r\n      </g>\r\n     </g>\r\n     <g id=\"text_8\">\r\n      <!-- 0.0 -->\r\n      <g transform=\"translate(20.878125 218.555582)scale(0.1 -0.1)\">\r\n       <use xlink:href=\"#DejaVuSans-48\"/>\r\n       <use x=\"63.623047\" xlink:href=\"#DejaVuSans-46\"/>\r\n       <use x=\"95.410156\" xlink:href=\"#DejaVuSans-48\"/>\r\n      </g>\r\n     </g>\r\n    </g>\r\n    <g id=\"ytick_2\">\r\n     <g id=\"line2d_8\">\r\n      <g>\r\n       <use style=\"stroke:#000000;stroke-width:0.8;\" x=\"43.78125\" xlink:href=\"#m4b98555bb3\" y=\"175.221818\"/>\r\n      </g>\r\n     </g>\r\n     <g id=\"text_9\">\r\n      <!-- 0.2 -->\r\n      <g transform=\"translate(20.878125 179.021037)scale(0.1 -0.1)\">\r\n       <use xlink:href=\"#DejaVuSans-48\"/>\r\n       <use x=\"63.623047\" xlink:href=\"#DejaVuSans-46\"/>\r\n       <use x=\"95.410156\" xlink:href=\"#DejaVuSans-50\"/>\r\n      </g>\r\n     </g>\r\n    </g>\r\n    <g id=\"ytick_3\">\r\n     <g id=\"line2d_9\">\r\n      <g>\r\n       <use style=\"stroke:#000000;stroke-width:0.8;\" x=\"43.78125\" xlink:href=\"#m4b98555bb3\" y=\"135.687273\"/>\r\n      </g>\r\n     </g>\r\n     <g id=\"text_10\">\r\n      <!-- 0.4 -->\r\n      <g transform=\"translate(20.878125 139.486491)scale(0.1 -0.1)\">\r\n       <use xlink:href=\"#DejaVuSans-48\"/>\r\n       <use x=\"63.623047\" xlink:href=\"#DejaVuSans-46\"/>\r\n       <use x=\"95.410156\" xlink:href=\"#DejaVuSans-52\"/>\r\n      </g>\r\n     </g>\r\n    </g>\r\n    <g id=\"ytick_4\">\r\n     <g id=\"line2d_10\">\r\n      <g>\r\n       <use style=\"stroke:#000000;stroke-width:0.8;\" x=\"43.78125\" xlink:href=\"#m4b98555bb3\" y=\"96.152727\"/>\r\n      </g>\r\n     </g>\r\n     <g id=\"text_11\">\r\n      <!-- 0.6 -->\r\n      <g transform=\"translate(20.878125 99.951946)scale(0.1 -0.1)\">\r\n       <use xlink:href=\"#DejaVuSans-48\"/>\r\n       <use x=\"63.623047\" xlink:href=\"#DejaVuSans-46\"/>\r\n       <use x=\"95.410156\" xlink:href=\"#DejaVuSans-54\"/>\r\n      </g>\r\n     </g>\r\n    </g>\r\n    <g id=\"ytick_5\">\r\n     <g id=\"line2d_11\">\r\n      <g>\r\n       <use style=\"stroke:#000000;stroke-width:0.8;\" x=\"43.78125\" xlink:href=\"#m4b98555bb3\" y=\"56.618182\"/>\r\n      </g>\r\n     </g>\r\n     <g id=\"text_12\">\r\n      <!-- 0.8 -->\r\n      <g transform=\"translate(20.878125 60.417401)scale(0.1 -0.1)\">\r\n       <use xlink:href=\"#DejaVuSans-48\"/>\r\n       <use x=\"63.623047\" xlink:href=\"#DejaVuSans-46\"/>\r\n       <use x=\"95.410156\" xlink:href=\"#DejaVuSans-56\"/>\r\n      </g>\r\n     </g>\r\n    </g>\r\n    <g id=\"ytick_6\">\r\n     <g id=\"line2d_12\">\r\n      <g>\r\n       <use style=\"stroke:#000000;stroke-width:0.8;\" x=\"43.78125\" xlink:href=\"#m4b98555bb3\" y=\"17.083636\"/>\r\n      </g>\r\n     </g>\r\n     <g id=\"text_13\">\r\n      <!-- 1.0 -->\r\n      <g transform=\"translate(20.878125 20.882855)scale(0.1 -0.1)\">\r\n       <use xlink:href=\"#DejaVuSans-49\"/>\r\n       <use x=\"63.623047\" xlink:href=\"#DejaVuSans-46\"/>\r\n       <use x=\"95.410156\" xlink:href=\"#DejaVuSans-48\"/>\r\n      </g>\r\n     </g>\r\n    </g>\r\n    <g id=\"text_14\">\r\n     <!-- True Positive Rate -->\r\n     <defs>\r\n      <path d=\"M -0.296875 72.90625 \r\nL 61.375 72.90625 \r\nL 61.375 64.59375 \r\nL 35.5 64.59375 \r\nL 35.5 0 \r\nL 25.59375 0 \r\nL 25.59375 64.59375 \r\nL -0.296875 64.59375 \r\nz\r\n\" id=\"DejaVuSans-84\"/>\r\n      <path d=\"M 41.109375 46.296875 \r\nQ 39.59375 47.171875 37.8125 47.578125 \r\nQ 36.03125 48 33.890625 48 \r\nQ 26.265625 48 22.1875 43.046875 \r\nQ 18.109375 38.09375 18.109375 28.8125 \r\nL 18.109375 0 \r\nL 9.078125 0 \r\nL 9.078125 54.6875 \r\nL 18.109375 54.6875 \r\nL 18.109375 46.1875 \r\nQ 20.953125 51.171875 25.484375 53.578125 \r\nQ 30.03125 56 36.53125 56 \r\nQ 37.453125 56 38.578125 55.875 \r\nQ 39.703125 55.765625 41.0625 55.515625 \r\nz\r\n\" id=\"DejaVuSans-114\"/>\r\n      <path d=\"M 8.5 21.578125 \r\nL 8.5 54.6875 \r\nL 17.484375 54.6875 \r\nL 17.484375 21.921875 \r\nQ 17.484375 14.15625 20.5 10.265625 \r\nQ 23.53125 6.390625 29.59375 6.390625 \r\nQ 36.859375 6.390625 41.078125 11.03125 \r\nQ 45.3125 15.671875 45.3125 23.6875 \r\nL 45.3125 54.6875 \r\nL 54.296875 54.6875 \r\nL 54.296875 0 \r\nL 45.3125 0 \r\nL 45.3125 8.40625 \r\nQ 42.046875 3.421875 37.71875 1 \r\nQ 33.40625 -1.421875 27.6875 -1.421875 \r\nQ 18.265625 -1.421875 13.375 4.4375 \r\nQ 8.5 10.296875 8.5 21.578125 \r\nz\r\nM 31.109375 56 \r\nz\r\n\" id=\"DejaVuSans-117\"/>\r\n     </defs>\r\n     <g transform=\"translate(14.798438 160.449687)rotate(-90)scale(0.1 -0.1)\">\r\n      <use xlink:href=\"#DejaVuSans-84\"/>\r\n      <use x=\"46.333984\" xlink:href=\"#DejaVuSans-114\"/>\r\n      <use x=\"87.447266\" xlink:href=\"#DejaVuSans-117\"/>\r\n      <use x=\"150.826172\" xlink:href=\"#DejaVuSans-101\"/>\r\n      <use x=\"212.349609\" xlink:href=\"#DejaVuSans-32\"/>\r\n      <use x=\"244.136719\" xlink:href=\"#DejaVuSans-80\"/>\r\n      <use x=\"300.814453\" xlink:href=\"#DejaVuSans-111\"/>\r\n      <use x=\"361.996094\" xlink:href=\"#DejaVuSans-115\"/>\r\n      <use x=\"414.095703\" xlink:href=\"#DejaVuSans-105\"/>\r\n      <use x=\"441.878906\" xlink:href=\"#DejaVuSans-116\"/>\r\n      <use x=\"481.087891\" xlink:href=\"#DejaVuSans-105\"/>\r\n      <use x=\"508.871094\" xlink:href=\"#DejaVuSans-118\"/>\r\n      <use x=\"568.050781\" xlink:href=\"#DejaVuSans-101\"/>\r\n      <use x=\"629.574219\" xlink:href=\"#DejaVuSans-32\"/>\r\n      <use x=\"661.361328\" xlink:href=\"#DejaVuSans-82\"/>\r\n      <use x=\"728.59375\" xlink:href=\"#DejaVuSans-97\"/>\r\n      <use x=\"789.873047\" xlink:href=\"#DejaVuSans-116\"/>\r\n      <use x=\"829.082031\" xlink:href=\"#DejaVuSans-101\"/>\r\n     </g>\r\n    </g>\r\n   </g>\r\n   <g id=\"line2d_13\">\r\n    <path clip-path=\"url(#paceb49a472)\" d=\"M 58.999432 214.756364 \r\nL 58.999432 202.724111 \r\nL 59.318137 202.724111 \r\nL 59.318137 201.578182 \r\nL 59.636843 201.578182 \r\nL 59.636843 199.859289 \r\nL 60.274253 199.859289 \r\nL 60.274253 197.567431 \r\nL 60.592959 197.567431 \r\nL 60.592959 194.702609 \r\nL 60.911664 194.702609 \r\nL 60.911664 194.129644 \r\nL 61.230369 194.129644 \r\nL 61.230369 191.837787 \r\nL 61.549075 191.837787 \r\nL 61.549075 182.670356 \r\nL 61.86778 182.670356 \r\nL 61.86778 180.378498 \r\nL 62.186486 180.378498 \r\nL 62.186486 179.232569 \r\nL 62.505191 179.232569 \r\nL 62.505191 175.221818 \r\nL 63.461307 175.221818 \r\nL 63.461307 172.92996 \r\nL 64.098718 172.92996 \r\nL 64.098718 171.211067 \r\nL 64.417423 171.211067 \r\nL 64.417423 169.492174 \r\nL 64.736129 169.492174 \r\nL 64.736129 166.627352 \r\nL 65.054834 166.627352 \r\nL 65.054834 166.054387 \r\nL 65.692245 166.054387 \r\nL 65.692245 165.481423 \r\nL 66.01095 165.481423 \r\nL 66.01095 163.76253 \r\nL 67.923182 163.76253 \r\nL 67.923182 162.616601 \r\nL 68.560593 162.616601 \r\nL 68.560593 162.043636 \r\nL 68.879299 162.043636 \r\nL 68.879299 161.470672 \r\nL 70.15412 161.470672 \r\nL 70.15412 158.032885 \r\nL 70.472825 158.032885 \r\nL 70.472825 156.313992 \r\nL 71.110236 156.313992 \r\nL 71.110236 150.011383 \r\nL 71.428942 150.011383 \r\nL 71.428942 149.438419 \r\nL 71.747647 149.438419 \r\nL 71.747647 148.865455 \r\nL 72.703763 148.865455 \r\nL 72.703763 148.29249 \r\nL 73.022468 148.29249 \r\nL 73.022468 147.719526 \r\nL 73.341174 147.719526 \r\nL 73.341174 147.146561 \r\nL 73.659879 147.146561 \r\nL 73.659879 145.427668 \r\nL 73.978585 145.427668 \r\nL 73.978585 144.854704 \r\nL 74.615995 144.854704 \r\nL 74.615995 144.281739 \r\nL 74.934701 144.281739 \r\nL 74.934701 143.708775 \r\nL 75.253406 143.708775 \r\nL 75.253406 141.989881 \r\nL 75.572111 141.989881 \r\nL 75.572111 139.698024 \r\nL 76.209522 139.698024 \r\nL 76.209522 138.552095 \r\nL 76.528228 138.552095 \r\nL 76.528228 137.97913 \r\nL 77.165638 137.97913 \r\nL 77.165638 135.114308 \r\nL 77.484344 135.114308 \r\nL 77.484344 134.541344 \r\nL 77.803049 134.541344 \r\nL 77.803049 133.395415 \r\nL 78.121755 133.395415 \r\nL 78.121755 131.676522 \r\nL 78.44046 131.676522 \r\nL 78.44046 131.103557 \r\nL 78.759165 131.103557 \r\nL 78.759165 130.530593 \r\nL 79.077871 130.530593 \r\nL 79.077871 129.384664 \r\nL 79.396576 129.384664 \r\nL 79.396576 128.8117 \r\nL 80.033987 128.8117 \r\nL 80.033987 127.665771 \r\nL 80.990103 127.665771 \r\nL 80.990103 126.519842 \r\nL 81.308808 126.519842 \r\nL 81.308808 125.946877 \r\nL 81.627514 125.946877 \r\nL 81.627514 125.373913 \r\nL 82.264924 125.373913 \r\nL 82.264924 124.227984 \r\nL 82.58363 124.227984 \r\nL 82.58363 121.936126 \r\nL 82.902335 121.936126 \r\nL 82.902335 119.644269 \r\nL 83.221041 119.644269 \r\nL 83.221041 118.49834 \r\nL 83.858451 118.49834 \r\nL 83.858451 117.925375 \r\nL 84.495862 117.925375 \r\nL 84.495862 116.206482 \r\nL 85.451978 116.206482 \r\nL 85.451978 115.060553 \r\nL 86.089389 115.060553 \r\nL 86.089389 112.195731 \r\nL 86.7268 112.195731 \r\nL 86.7268 109.330909 \r\nL 87.045505 109.330909 \r\nL 87.045505 108.757945 \r\nL 87.36421 108.757945 \r\nL 87.36421 108.18498 \r\nL 90.551264 108.18498 \r\nL 90.551264 107.612016 \r\nL 91.50738 107.612016 \r\nL 91.50738 107.039051 \r\nL 92.144791 107.039051 \r\nL 92.144791 106.466087 \r\nL 93.100907 106.466087 \r\nL 93.100907 105.893123 \r\nL 93.738318 105.893123 \r\nL 93.738318 105.320158 \r\nL 94.375729 105.320158 \r\nL 94.375729 104.747194 \r\nL 95.331845 104.747194 \r\nL 95.331845 103.601265 \r\nL 95.969256 103.601265 \r\nL 95.969256 102.455336 \r\nL 96.287961 102.455336 \r\nL 96.287961 101.882372 \r\nL 96.606666 101.882372 \r\nL 96.606666 101.309407 \r\nL 96.925372 101.309407 \r\nL 96.925372 100.163478 \r\nL 98.200193 100.163478 \r\nL 98.200193 99.590514 \r\nL 98.837604 99.590514 \r\nL 98.837604 98.444585 \r\nL 100.112426 98.444585 \r\nL 100.112426 97.871621 \r\nL 100.431131 97.871621 \r\nL 100.431131 96.725692 \r\nL 100.749836 96.725692 \r\nL 100.749836 96.152727 \r\nL 101.705953 96.152727 \r\nL 101.705953 95.579763 \r\nL 102.343363 95.579763 \r\nL 102.343363 95.006798 \r\nL 102.980774 95.006798 \r\nL 102.980774 94.433834 \r\nL 103.618185 94.433834 \r\nL 103.618185 93.86087 \r\nL 104.255596 93.86087 \r\nL 104.255596 93.287905 \r\nL 104.574301 93.287905 \r\nL 104.574301 91.569012 \r\nL 105.211712 91.569012 \r\nL 105.211712 90.996047 \r\nL 105.530417 90.996047 \r\nL 105.530417 90.423083 \r\nL 106.167828 90.423083 \r\nL 106.167828 88.70419 \r\nL 106.486533 88.70419 \r\nL 106.486533 88.131225 \r\nL 108.08006 88.131225 \r\nL 108.08006 86.412332 \r\nL 108.398765 86.412332 \r\nL 108.398765 84.693439 \r\nL 109.992292 84.693439 \r\nL 109.992292 84.120474 \r\nL 110.629703 84.120474 \r\nL 110.629703 83.54751 \r\nL 110.948408 83.54751 \r\nL 110.948408 82.974545 \r\nL 111.585819 82.974545 \r\nL 111.585819 82.401581 \r\nL 111.904525 82.401581 \r\nL 111.904525 81.255652 \r\nL 112.22323 81.255652 \r\nL 112.22323 80.682688 \r\nL 112.541935 80.682688 \r\nL 112.541935 80.109723 \r\nL 113.498052 80.109723 \r\nL 113.498052 78.963794 \r\nL 113.816757 78.963794 \r\nL 113.816757 77.244901 \r\nL 116.3664 77.244901 \r\nL 116.3664 76.098972 \r\nL 116.685105 76.098972 \r\nL 116.685105 75.526008 \r\nL 117.003811 75.526008 \r\nL 117.003811 74.380079 \r\nL 117.641221 74.380079 \r\nL 117.641221 73.807115 \r\nL 118.278632 73.807115 \r\nL 118.278632 73.23415 \r\nL 119.872159 73.23415 \r\nL 119.872159 72.088221 \r\nL 123.059213 72.088221 \r\nL 123.059213 71.515257 \r\nL 123.377918 71.515257 \r\nL 123.377918 70.942292 \r\nL 124.015329 70.942292 \r\nL 124.015329 68.650435 \r\nL 129.114615 68.650435 \r\nL 129.114615 68.07747 \r\nL 129.752026 68.07747 \r\nL 129.752026 67.504506 \r\nL 130.070731 67.504506 \r\nL 130.070731 66.358577 \r\nL 130.389437 66.358577 \r\nL 130.389437 65.212648 \r\nL 130.708142 65.212648 \r\nL 130.708142 64.639684 \r\nL 132.93908 64.639684 \r\nL 132.93908 64.066719 \r\nL 135.488723 64.066719 \r\nL 135.488723 61.201897 \r\nL 135.807428 61.201897 \r\nL 135.807428 60.055968 \r\nL 136.444839 60.055968 \r\nL 136.444839 58.337075 \r\nL 138.038366 58.337075 \r\nL 138.038366 57.764111 \r\nL 139.313187 57.764111 \r\nL 139.313187 57.191146 \r\nL 140.588009 57.191146 \r\nL 140.588009 56.618182 \r\nL 141.86283 56.618182 \r\nL 141.86283 56.045217 \r\nL 143.456357 56.045217 \r\nL 143.456357 54.326324 \r\nL 144.731179 54.326324 \r\nL 144.731179 53.75336 \r\nL 145.368589 53.75336 \r\nL 145.368589 52.607431 \r\nL 146.324705 52.607431 \r\nL 146.324705 52.034466 \r\nL 146.962116 52.034466 \r\nL 146.962116 49.742609 \r\nL 147.599527 49.742609 \r\nL 147.599527 49.169644 \r\nL 149.193054 49.169644 \r\nL 149.193054 48.59668 \r\nL 149.511759 48.59668 \r\nL 149.511759 48.023715 \r\nL 149.830465 48.023715 \r\nL 149.830465 47.450751 \r\nL 150.14917 47.450751 \r\nL 150.14917 46.877787 \r\nL 154.929751 46.877787 \r\nL 154.929751 46.304822 \r\nL 157.798099 46.304822 \r\nL 157.798099 45.731858 \r\nL 158.43551 45.731858 \r\nL 158.43551 45.158893 \r\nL 160.029037 45.158893 \r\nL 160.029037 44.585929 \r\nL 161.941269 44.585929 \r\nL 161.941269 44.012964 \r\nL 162.897385 44.012964 \r\nL 162.897385 43.44 \r\nL 163.853501 43.44 \r\nL 163.853501 42.867036 \r\nL 164.172207 42.867036 \r\nL 164.172207 42.294071 \r\nL 168.952787 42.294071 \r\nL 168.952787 41.721107 \r\nL 170.227609 41.721107 \r\nL 170.546314 41.148142 \r\nL 171.183725 41.148142 \r\nL 171.183725 40.575178 \r\nL 174.052073 40.575178 \r\nL 174.052073 40.002213 \r\nL 174.370779 40.002213 \r\nL 174.370779 39.429249 \r\nL 174.689484 39.429249 \r\nL 174.689484 38.856285 \r\nL 176.920422 38.856285 \r\nL 176.920422 36.564427 \r\nL 179.470065 36.564427 \r\nL 179.470065 35.991462 \r\nL 179.78877 35.991462 \r\nL 179.78877 35.418498 \r\nL 181.382297 35.418498 \r\nL 181.382297 34.272569 \r\nL 185.206762 34.272569 \r\nL 185.206762 33.699605 \r\nL 185.844172 33.699605 \r\nL 185.844172 33.12664 \r\nL 186.481583 33.12664 \r\nL 186.481583 32.553676 \r\nL 194.130512 32.553676 \r\nL 194.130512 31.407747 \r\nL 201.460736 31.407747 \r\nL 201.460736 30.834783 \r\nL 204.329084 30.834783 \r\nL 204.329084 30.261818 \r\nL 208.153549 30.261818 \r\nL 208.153549 29.688854 \r\nL 209.109665 29.688854 \r\nL 209.109665 29.115889 \r\nL 212.93413 29.115889 \r\nL 212.93413 28.542925 \r\nL 214.208951 28.542925 \r\nL 214.208951 27.396996 \r\nL 218.033416 27.396996 \r\nL 218.033416 26.824032 \r\nL 220.264353 26.824032 \r\nL 220.264353 26.251067 \r\nL 222.495291 26.251067 \r\nL 222.495291 25.678103 \r\nL 227.594577 25.678103 \r\nL 227.594577 25.105138 \r\nL 230.462925 25.105138 \r\nL 230.462925 24.532174 \r\nL 234.28739 24.532174 \r\nL 234.28739 23.959209 \r\nL 240.980203 23.959209 \r\nL 240.980203 23.386245 \r\nL 246.079489 23.386245 \r\nL 246.079489 22.813281 \r\nL 250.86007 22.813281 \r\nL 250.86007 22.240316 \r\nL 260.739936 22.240316 \r\nL 260.739936 21.667352 \r\nL 261.377347 21.667352 \r\nL 261.377347 21.094387 \r\nL 267.114044 21.094387 \r\nL 267.114044 20.521423 \r\nL 270.938508 20.521423 \r\nL 270.938508 19.948458 \r\nL 288.467304 19.948458 \r\nL 288.467304 19.375494 \r\nL 305.039984 19.375494 \r\nL 305.039984 18.80253 \r\nL 309.501859 18.80253 \r\nL 309.501859 18.229565 \r\nL 333.086057 18.229565 \r\nL 333.086057 17.656601 \r\nL 340.416281 17.656601 \r\nL 340.416281 17.083636 \r\nL 363.363068 17.083636 \r\nL 363.363068 17.083636 \r\n\" style=\"fill:none;stroke:#1f77b4;stroke-linecap:square;stroke-width:1.5;\"/>\r\n   </g>\r\n   <g id=\"patch_3\">\r\n    <path d=\"M 43.78125 224.64 \r\nL 43.78125 7.2 \r\n\" style=\"fill:none;stroke:#000000;stroke-linecap:square;stroke-linejoin:miter;stroke-width:0.8;\"/>\r\n   </g>\r\n   <g id=\"patch_4\">\r\n    <path d=\"M 378.58125 224.64 \r\nL 378.58125 7.2 \r\n\" style=\"fill:none;stroke:#000000;stroke-linecap:square;stroke-linejoin:miter;stroke-width:0.8;\"/>\r\n   </g>\r\n   <g id=\"patch_5\">\r\n    <path d=\"M 43.78125 224.64 \r\nL 378.58125 224.64 \r\n\" style=\"fill:none;stroke:#000000;stroke-linecap:square;stroke-linejoin:miter;stroke-width:0.8;\"/>\r\n   </g>\r\n   <g id=\"patch_6\">\r\n    <path d=\"M 43.78125 7.2 \r\nL 378.58125 7.2 \r\n\" style=\"fill:none;stroke:#000000;stroke-linecap:square;stroke-linejoin:miter;stroke-width:0.8;\"/>\r\n   </g>\r\n   <g id=\"legend_1\">\r\n    <g id=\"patch_7\">\r\n     <path d=\"M 177.715625 219.64 \r\nL 371.58125 219.64 \r\nQ 373.58125 219.64 373.58125 217.64 \r\nL 373.58125 203.961875 \r\nQ 373.58125 201.961875 371.58125 201.961875 \r\nL 177.715625 201.961875 \r\nQ 175.715625 201.961875 175.715625 203.961875 \r\nL 175.715625 217.64 \r\nQ 175.715625 219.64 177.715625 219.64 \r\nz\r\n\" style=\"fill:#ffffff;opacity:0.8;stroke:#cccccc;stroke-linejoin:miter;\"/>\r\n    </g>\r\n    <g id=\"line2d_14\">\r\n     <path d=\"M 179.715625 210.060312 \r\nL 199.715625 210.060312 \r\n\" style=\"fill:none;stroke:#1f77b4;stroke-linecap:square;stroke-width:1.5;\"/>\r\n    </g>\r\n    <g id=\"line2d_15\"/>\r\n    <g id=\"text_15\">\r\n     <!-- LogisticRegression (AUC = 0.85) -->\r\n     <defs>\r\n      <path d=\"M 9.8125 72.90625 \r\nL 19.671875 72.90625 \r\nL 19.671875 8.296875 \r\nL 55.171875 8.296875 \r\nL 55.171875 0 \r\nL 9.8125 0 \r\nz\r\n\" id=\"DejaVuSans-76\"/>\r\n      <path d=\"M 45.40625 27.984375 \r\nQ 45.40625 37.75 41.375 43.109375 \r\nQ 37.359375 48.484375 30.078125 48.484375 \r\nQ 22.859375 48.484375 18.828125 43.109375 \r\nQ 14.796875 37.75 14.796875 27.984375 \r\nQ 14.796875 18.265625 18.828125 12.890625 \r\nQ 22.859375 7.515625 30.078125 7.515625 \r\nQ 37.359375 7.515625 41.375 12.890625 \r\nQ 45.40625 18.265625 45.40625 27.984375 \r\nz\r\nM 54.390625 6.78125 \r\nQ 54.390625 -7.171875 48.1875 -13.984375 \r\nQ 42 -20.796875 29.203125 -20.796875 \r\nQ 24.46875 -20.796875 20.265625 -20.09375 \r\nQ 16.0625 -19.390625 12.109375 -17.921875 \r\nL 12.109375 -9.1875 \r\nQ 16.0625 -11.328125 19.921875 -12.34375 \r\nQ 23.78125 -13.375 27.78125 -13.375 \r\nQ 36.625 -13.375 41.015625 -8.765625 \r\nQ 45.40625 -4.15625 45.40625 5.171875 \r\nL 45.40625 9.625 \r\nQ 42.625 4.78125 38.28125 2.390625 \r\nQ 33.9375 0 27.875 0 \r\nQ 17.828125 0 11.671875 7.65625 \r\nQ 5.515625 15.328125 5.515625 27.984375 \r\nQ 5.515625 40.671875 11.671875 48.328125 \r\nQ 17.828125 56 27.875 56 \r\nQ 33.9375 56 38.28125 53.609375 \r\nQ 42.625 51.21875 45.40625 46.390625 \r\nL 45.40625 54.6875 \r\nL 54.390625 54.6875 \r\nz\r\n\" id=\"DejaVuSans-103\"/>\r\n      <path d=\"M 48.78125 52.59375 \r\nL 48.78125 44.1875 \r\nQ 44.96875 46.296875 41.140625 47.34375 \r\nQ 37.3125 48.390625 33.40625 48.390625 \r\nQ 24.65625 48.390625 19.8125 42.84375 \r\nQ 14.984375 37.3125 14.984375 27.296875 \r\nQ 14.984375 17.28125 19.8125 11.734375 \r\nQ 24.65625 6.203125 33.40625 6.203125 \r\nQ 37.3125 6.203125 41.140625 7.25 \r\nQ 44.96875 8.296875 48.78125 10.40625 \r\nL 48.78125 2.09375 \r\nQ 45.015625 0.34375 40.984375 -0.53125 \r\nQ 36.96875 -1.421875 32.421875 -1.421875 \r\nQ 20.0625 -1.421875 12.78125 6.34375 \r\nQ 5.515625 14.109375 5.515625 27.296875 \r\nQ 5.515625 40.671875 12.859375 48.328125 \r\nQ 20.21875 56 33.015625 56 \r\nQ 37.15625 56 41.109375 55.140625 \r\nQ 45.0625 54.296875 48.78125 52.59375 \r\nz\r\n\" id=\"DejaVuSans-99\"/>\r\n      <path d=\"M 54.890625 33.015625 \r\nL 54.890625 0 \r\nL 45.90625 0 \r\nL 45.90625 32.71875 \r\nQ 45.90625 40.484375 42.875 44.328125 \r\nQ 39.84375 48.1875 33.796875 48.1875 \r\nQ 26.515625 48.1875 22.3125 43.546875 \r\nQ 18.109375 38.921875 18.109375 30.90625 \r\nL 18.109375 0 \r\nL 9.078125 0 \r\nL 9.078125 54.6875 \r\nL 18.109375 54.6875 \r\nL 18.109375 46.1875 \r\nQ 21.34375 51.125 25.703125 53.5625 \r\nQ 30.078125 56 35.796875 56 \r\nQ 45.21875 56 50.046875 50.171875 \r\nQ 54.890625 44.34375 54.890625 33.015625 \r\nz\r\n\" id=\"DejaVuSans-110\"/>\r\n      <path d=\"M 31 75.875 \r\nQ 24.46875 64.65625 21.28125 53.65625 \r\nQ 18.109375 42.671875 18.109375 31.390625 \r\nQ 18.109375 20.125 21.3125 9.0625 \r\nQ 24.515625 -2 31 -13.1875 \r\nL 23.1875 -13.1875 \r\nQ 15.875 -1.703125 12.234375 9.375 \r\nQ 8.59375 20.453125 8.59375 31.390625 \r\nQ 8.59375 42.28125 12.203125 53.3125 \r\nQ 15.828125 64.359375 23.1875 75.875 \r\nz\r\n\" id=\"DejaVuSans-40\"/>\r\n      <path d=\"M 34.1875 63.1875 \r\nL 20.796875 26.90625 \r\nL 47.609375 26.90625 \r\nz\r\nM 28.609375 72.90625 \r\nL 39.796875 72.90625 \r\nL 67.578125 0 \r\nL 57.328125 0 \r\nL 50.6875 18.703125 \r\nL 17.828125 18.703125 \r\nL 11.1875 0 \r\nL 0.78125 0 \r\nz\r\n\" id=\"DejaVuSans-65\"/>\r\n      <path d=\"M 8.6875 72.90625 \r\nL 18.609375 72.90625 \r\nL 18.609375 28.609375 \r\nQ 18.609375 16.890625 22.84375 11.734375 \r\nQ 27.09375 6.59375 36.625 6.59375 \r\nQ 46.09375 6.59375 50.34375 11.734375 \r\nQ 54.59375 16.890625 54.59375 28.609375 \r\nL 54.59375 72.90625 \r\nL 64.5 72.90625 \r\nL 64.5 27.390625 \r\nQ 64.5 13.140625 57.4375 5.859375 \r\nQ 50.390625 -1.421875 36.625 -1.421875 \r\nQ 22.796875 -1.421875 15.734375 5.859375 \r\nQ 8.6875 13.140625 8.6875 27.390625 \r\nz\r\n\" id=\"DejaVuSans-85\"/>\r\n      <path d=\"M 64.40625 67.28125 \r\nL 64.40625 56.890625 \r\nQ 59.421875 61.53125 53.78125 63.8125 \r\nQ 48.140625 66.109375 41.796875 66.109375 \r\nQ 29.296875 66.109375 22.65625 58.46875 \r\nQ 16.015625 50.828125 16.015625 36.375 \r\nQ 16.015625 21.96875 22.65625 14.328125 \r\nQ 29.296875 6.6875 41.796875 6.6875 \r\nQ 48.140625 6.6875 53.78125 8.984375 \r\nQ 59.421875 11.28125 64.40625 15.921875 \r\nL 64.40625 5.609375 \r\nQ 59.234375 2.09375 53.4375 0.328125 \r\nQ 47.65625 -1.421875 41.21875 -1.421875 \r\nQ 24.65625 -1.421875 15.125 8.703125 \r\nQ 5.609375 18.84375 5.609375 36.375 \r\nQ 5.609375 53.953125 15.125 64.078125 \r\nQ 24.65625 74.21875 41.21875 74.21875 \r\nQ 47.75 74.21875 53.53125 72.484375 \r\nQ 59.328125 70.75 64.40625 67.28125 \r\nz\r\n\" id=\"DejaVuSans-67\"/>\r\n      <path d=\"M 10.59375 45.40625 \r\nL 73.1875 45.40625 \r\nL 73.1875 37.203125 \r\nL 10.59375 37.203125 \r\nz\r\nM 10.59375 25.484375 \r\nL 73.1875 25.484375 \r\nL 73.1875 17.1875 \r\nL 10.59375 17.1875 \r\nz\r\n\" id=\"DejaVuSans-61\"/>\r\n      <path d=\"M 10.796875 72.90625 \r\nL 49.515625 72.90625 \r\nL 49.515625 64.59375 \r\nL 19.828125 64.59375 \r\nL 19.828125 46.734375 \r\nQ 21.96875 47.46875 24.109375 47.828125 \r\nQ 26.265625 48.1875 28.421875 48.1875 \r\nQ 40.625 48.1875 47.75 41.5 \r\nQ 54.890625 34.8125 54.890625 23.390625 \r\nQ 54.890625 11.625 47.5625 5.09375 \r\nQ 40.234375 -1.421875 26.90625 -1.421875 \r\nQ 22.3125 -1.421875 17.546875 -0.640625 \r\nQ 12.796875 0.140625 7.71875 1.703125 \r\nL 7.71875 11.625 \r\nQ 12.109375 9.234375 16.796875 8.0625 \r\nQ 21.484375 6.890625 26.703125 6.890625 \r\nQ 35.15625 6.890625 40.078125 11.328125 \r\nQ 45.015625 15.765625 45.015625 23.390625 \r\nQ 45.015625 31 40.078125 35.4375 \r\nQ 35.15625 39.890625 26.703125 39.890625 \r\nQ 22.75 39.890625 18.8125 39.015625 \r\nQ 14.890625 38.140625 10.796875 36.28125 \r\nz\r\n\" id=\"DejaVuSans-53\"/>\r\n      <path d=\"M 8.015625 75.875 \r\nL 15.828125 75.875 \r\nQ 23.140625 64.359375 26.78125 53.3125 \r\nQ 30.421875 42.28125 30.421875 31.390625 \r\nQ 30.421875 20.453125 26.78125 9.375 \r\nQ 23.140625 -1.703125 15.828125 -13.1875 \r\nL 8.015625 -13.1875 \r\nQ 14.5 -2 17.703125 9.0625 \r\nQ 20.90625 20.125 20.90625 31.390625 \r\nQ 20.90625 42.671875 17.703125 53.65625 \r\nQ 14.5 64.65625 8.015625 75.875 \r\nz\r\n\" id=\"DejaVuSans-41\"/>\r\n     </defs>\r\n     <g transform=\"translate(207.715625 213.560312)scale(0.1 -0.1)\">\r\n      <use xlink:href=\"#DejaVuSans-76\"/>\r\n      <use x=\"53.962891\" xlink:href=\"#DejaVuSans-111\"/>\r\n      <use x=\"115.144531\" xlink:href=\"#DejaVuSans-103\"/>\r\n      <use x=\"178.621094\" xlink:href=\"#DejaVuSans-105\"/>\r\n      <use x=\"206.404297\" xlink:href=\"#DejaVuSans-115\"/>\r\n      <use x=\"258.503906\" xlink:href=\"#DejaVuSans-116\"/>\r\n      <use x=\"297.712891\" xlink:href=\"#DejaVuSans-105\"/>\r\n      <use x=\"325.496094\" xlink:href=\"#DejaVuSans-99\"/>\r\n      <use x=\"380.476562\" xlink:href=\"#DejaVuSans-82\"/>\r\n      <use x=\"445.458984\" xlink:href=\"#DejaVuSans-101\"/>\r\n      <use x=\"506.982422\" xlink:href=\"#DejaVuSans-103\"/>\r\n      <use x=\"570.458984\" xlink:href=\"#DejaVuSans-114\"/>\r\n      <use x=\"609.322266\" xlink:href=\"#DejaVuSans-101\"/>\r\n      <use x=\"670.845703\" xlink:href=\"#DejaVuSans-115\"/>\r\n      <use x=\"722.945312\" xlink:href=\"#DejaVuSans-115\"/>\r\n      <use x=\"775.044922\" xlink:href=\"#DejaVuSans-105\"/>\r\n      <use x=\"802.828125\" xlink:href=\"#DejaVuSans-111\"/>\r\n      <use x=\"864.009766\" xlink:href=\"#DejaVuSans-110\"/>\r\n      <use x=\"927.388672\" xlink:href=\"#DejaVuSans-32\"/>\r\n      <use x=\"959.175781\" xlink:href=\"#DejaVuSans-40\"/>\r\n      <use x=\"998.189453\" xlink:href=\"#DejaVuSans-65\"/>\r\n      <use x=\"1066.597656\" xlink:href=\"#DejaVuSans-85\"/>\r\n      <use x=\"1139.791016\" xlink:href=\"#DejaVuSans-67\"/>\r\n      <use x=\"1209.615234\" xlink:href=\"#DejaVuSans-32\"/>\r\n      <use x=\"1241.402344\" xlink:href=\"#DejaVuSans-61\"/>\r\n      <use x=\"1325.191406\" xlink:href=\"#DejaVuSans-32\"/>\r\n      <use x=\"1356.978516\" xlink:href=\"#DejaVuSans-48\"/>\r\n      <use x=\"1420.601562\" xlink:href=\"#DejaVuSans-46\"/>\r\n      <use x=\"1452.388672\" xlink:href=\"#DejaVuSans-56\"/>\r\n      <use x=\"1516.011719\" xlink:href=\"#DejaVuSans-53\"/>\r\n      <use x=\"1579.634766\" xlink:href=\"#DejaVuSans-41\"/>\r\n     </g>\r\n    </g>\r\n   </g>\r\n  </g>\r\n </g>\r\n <defs>\r\n  <clipPath id=\"paceb49a472\">\r\n   <rect height=\"217.44\" width=\"334.8\" x=\"43.78125\" y=\"7.2\"/>\r\n  </clipPath>\r\n </defs>\r\n</svg>\r\n",
      "image/png": "[encoded data removed]"
     },
     "metadata": {
      "needs_background": "light"
     }
    }
   ],
   "source": [
    "plot_roc_curve(clf, X_test, y_test)\n",
    "plt.show()"
   ]
  },
  {
   "source": [
    "**solver** - метод решения задачи минимизации штрафной функции:\n",
    "* **newton-cg** - метод Ньютона. Основан на подсчете матриц вторых производных (весьма затратный по времени для больших датасетов);\n",
    "* **lbfgs** - Stands for Limited-memory Broyden–Fletcher–Goldfarb–Shanno. Обновляет матрицу вторых производных с оценками градиента. Хранит информацию лишь о нескольких предыдущих шагах алгоритма;\n",
    "* **liblinear** - Library for Large Linear Classification. Алгоритм минимизации функции потерь, путём спуска по одной координате в цикле (одномерная задача оптимизации);\n",
    "* **sag** - метод среднего стохастического градиентного спуска. Задача минимизации функции потерь путём движения в сторону антиградента (применим для больших датасетов);\n",
    "* **saga** - вариация метода стохастического градиентного спуска с l1-регуляризацией (обучается, как правило, быстрее, чем **sag**)."
   ],
   "cell_type": "markdown",
   "metadata": {}
  },
  {
   "cell_type": "code",
   "execution_count": 195,
   "metadata": {},
   "outputs": [],
   "source": [
    "cv = KFold(n_splits=5, shuffle=True, random_state=241)\n",
    "parameters = {'solver': ('newton-cg', 'lbfgs','liblinear', 'sag', 'saga')}\n",
    "grid_clf = GridSearchCV(estimator=LogisticRegression(class_weight={0: 0.3, 1: 0.7}, max_iter=200),\n",
    "                        param_grid=parameters, scoring='f1', cv=cv)"
   ]
  },
  {
   "cell_type": "code",
   "execution_count": 196,
   "metadata": {},
   "outputs": [
    {
     "output_type": "execute_result",
     "data": {
      "text/plain": [
       "GridSearchCV(cv=KFold(n_splits=5, random_state=241, shuffle=True),\n",
       "             error_score=nan,\n",
       "             estimator=LogisticRegression(C=1.0, class_weight={0: 0.3, 1: 0.7},\n",
       "                                          dual=False, fit_intercept=True,\n",
       "                                          intercept_scaling=1, l1_ratio=None,\n",
       "                                          max_iter=200, multi_class='auto',\n",
       "                                          n_jobs=None, penalty='l2',\n",
       "                                          random_state=None, solver='lbfgs',\n",
       "                                          tol=0.0001, verbose=0,\n",
       "                                          warm_start=False),\n",
       "             iid='deprecated', n_jobs=None,\n",
       "             param_grid={'solver': ('newton-cg', 'lbfgs', 'liblinear', 'sag',\n",
       "                                    'saga')},\n",
       "             pre_dispatch='2*n_jobs', refit=True, return_train_score=False,\n",
       "             scoring='f1', verbose=0)"
      ]
     },
     "metadata": {},
     "execution_count": 196
    }
   ],
   "source": [
    "grid_clf.fit(X_train, y_train)"
   ]
  },
  {
   "cell_type": "code",
   "execution_count": 197,
   "metadata": {},
   "outputs": [
    {
     "output_type": "execute_result",
     "data": {
      "text/plain": [
       "   mean_fit_time  std_fit_time  mean_score_time  std_score_time param_solver  \\\n",
       "0       0.092296      0.022948         0.001591        0.000486    newton-cg   \n",
       "1       0.045283      0.004928         0.001926        0.000228        lbfgs   \n",
       "2       0.022785      0.001134         0.001851        0.000454    liblinear   \n",
       "3       0.116943      0.003848         0.001717        0.000413          sag   \n",
       "4       0.231377      0.023347         0.001802        0.000403         saga   \n",
       "\n",
       "                    params  split0_test_score  split1_test_score  \\\n",
       "0  {'solver': 'newton-cg'}           0.632375           0.611191   \n",
       "1      {'solver': 'lbfgs'}           0.632375           0.611191   \n",
       "2  {'solver': 'liblinear'}           0.631420           0.611191   \n",
       "3        {'solver': 'sag'}           0.632375           0.611191   \n",
       "4       {'solver': 'saga'}           0.632375           0.611191   \n",
       "\n",
       "   split2_test_score  split3_test_score  split4_test_score  mean_test_score  \\\n",
       "0           0.632399           0.622951           0.651235         0.630030   \n",
       "1           0.632399           0.622951           0.651235         0.630030   \n",
       "2           0.632399           0.624071           0.651235         0.630063   \n",
       "3           0.632399           0.622951           0.651235         0.630030   \n",
       "4           0.632399           0.622951           0.651235         0.630030   \n",
       "\n",
       "   std_test_score  rank_test_score  \n",
       "0        0.013159                2  \n",
       "1        0.013159                2  \n",
       "2        0.013020                1  \n",
       "3        0.013159                2  \n",
       "4        0.013159                2  "
      ],
      "text/html": "<div>\n<style scoped>\n    .dataframe tbody tr th:only-of-type {\n        vertical-align: middle;\n    }\n\n    .dataframe tbody tr th {\n        vertical-align: top;\n    }\n\n    .dataframe thead th {\n        text-align: right;\n    }\n</style>\n<table border=\"1\" class=\"dataframe\">\n  <thead>\n    <tr style=\"text-align: right;\">\n      <th></th>\n      <th>mean_fit_time</th>\n      <th>std_fit_time</th>\n      <th>mean_score_time</th>\n      <th>std_score_time</th>\n      <th>param_solver</th>\n      <th>params</th>\n      <th>split0_test_score</th>\n      <th>split1_test_score</th>\n      <th>split2_test_score</th>\n      <th>split3_test_score</th>\n      <th>split4_test_score</th>\n      <th>mean_test_score</th>\n      <th>std_test_score</th>\n      <th>rank_test_score</th>\n    </tr>\n  </thead>\n  <tbody>\n    <tr>\n      <th>0</th>\n      <td>0.092296</td>\n      <td>0.022948</td>\n      <td>0.001591</td>\n      <td>0.000486</td>\n      <td>newton-cg</td>\n      <td>{'solver': 'newton-cg'}</td>\n      <td>0.632375</td>\n      <td>0.611191</td>\n      <td>0.632399</td>\n      <td>0.622951</td>\n      <td>0.651235</td>\n      <td>0.630030</td>\n      <td>0.013159</td>\n      <td>2</td>\n    </tr>\n    <tr>\n      <th>1</th>\n      <td>0.045283</td>\n      <td>0.004928</td>\n      <td>0.001926</td>\n      <td>0.000228</td>\n      <td>lbfgs</td>\n      <td>{'solver': 'lbfgs'}</td>\n      <td>0.632375</td>\n      <td>0.611191</td>\n      <td>0.632399</td>\n      <td>0.622951</td>\n      <td>0.651235</td>\n      <td>0.630030</td>\n      <td>0.013159</td>\n      <td>2</td>\n    </tr>\n    <tr>\n      <th>2</th>\n      <td>0.022785</td>\n      <td>0.001134</td>\n      <td>0.001851</td>\n      <td>0.000454</td>\n      <td>liblinear</td>\n      <td>{'solver': 'liblinear'}</td>\n      <td>0.631420</td>\n      <td>0.611191</td>\n      <td>0.632399</td>\n      <td>0.624071</td>\n      <td>0.651235</td>\n      <td>0.630063</td>\n      <td>0.013020</td>\n      <td>1</td>\n    </tr>\n    <tr>\n      <th>3</th>\n      <td>0.116943</td>\n      <td>0.003848</td>\n      <td>0.001717</td>\n      <td>0.000413</td>\n      <td>sag</td>\n      <td>{'solver': 'sag'}</td>\n      <td>0.632375</td>\n      <td>0.611191</td>\n      <td>0.632399</td>\n      <td>0.622951</td>\n      <td>0.651235</td>\n      <td>0.630030</td>\n      <td>0.013159</td>\n      <td>2</td>\n    </tr>\n    <tr>\n      <th>4</th>\n      <td>0.231377</td>\n      <td>0.023347</td>\n      <td>0.001802</td>\n      <td>0.000403</td>\n      <td>saga</td>\n      <td>{'solver': 'saga'}</td>\n      <td>0.632375</td>\n      <td>0.611191</td>\n      <td>0.632399</td>\n      <td>0.622951</td>\n      <td>0.651235</td>\n      <td>0.630030</td>\n      <td>0.013159</td>\n      <td>2</td>\n    </tr>\n  </tbody>\n</table>\n</div>"
     },
     "metadata": {},
     "execution_count": 197
    }
   ],
   "source": [
    "pd.DataFrame.from_dict(grid_clf.cv_results_)"
   ]
  },
  {
   "cell_type": "code",
   "execution_count": 198,
   "metadata": {},
   "outputs": [
    {
     "output_type": "execute_result",
     "data": {
      "text/plain": [
       "LogisticRegression(C=1.0, class_weight={0: 0.3, 1: 0.7}, dual=False,\n",
       "                   fit_intercept=True, intercept_scaling=1, l1_ratio=None,\n",
       "                   max_iter=200, multi_class='auto', n_jobs=None, penalty='l2',\n",
       "                   random_state=None, solver='liblinear', tol=0.0001, verbose=0,\n",
       "                   warm_start=False)"
      ]
     },
     "metadata": {},
     "execution_count": 198
    }
   ],
   "source": [
    "grid_clf.best_estimator_"
   ]
  },
  {
   "cell_type": "code",
   "execution_count": 199,
   "metadata": {},
   "outputs": [
    {
     "output_type": "stream",
     "name": "stdout",
     "text": [
      "Accuracy: 75.308% \nPrecision: 52.326%\nRecall: 78.261%\nF1 score: 62.718% \nROC-AUC score: 84.581%\n"
     ]
    }
   ],
   "source": [
    "y_pred = grid_clf.best_estimator_.predict_proba(X_test)\n",
    "print_metrics(y_test, y_pred, model='log_reg')"
   ]
  },
  {
   "cell_type": "code",
   "execution_count": 200,
   "metadata": {},
   "outputs": [
    {
     "output_type": "stream",
     "name": "stdout",
     "text": [
      "              precision    recall  f1-score   support\n\n         0.0       0.90      0.74      0.82       955\n         1.0       0.52      0.78      0.63       345\n\n    accuracy                           0.75      1300\n   macro avg       0.71      0.76      0.72      1300\nweighted avg       0.80      0.75      0.77      1300\n\n"
     ]
    }
   ],
   "source": [
    "print(classification_report(y_test, np.argmax(y_pred, axis=1)))"
   ]
  },
  {
   "cell_type": "code",
   "execution_count": 201,
   "metadata": {},
   "outputs": [
    {
     "output_type": "display_data",
     "data": {
      "text/plain": "<Figure size 432x288 with 1 Axes>",
      "image/svg+xml": "<?xml version=\"1.0\" encoding=\"utf-8\" standalone=\"no\"?>\r\n<!DOCTYPE svg PUBLIC \"-//W3C//DTD SVG 1.1//EN\"\r\n  \"http://www.w3.org/Graphics/SVG/1.1/DTD/svg11.dtd\">\r\n<!-- Created with matplotlib (https://matplotlib.org/) -->\r\n<svg height=\"262.19625pt\" version=\"1.1\" viewBox=\"0 0 385.78125 262.19625\" width=\"385.78125pt\" xmlns=\"http://www.w3.org/2000/svg\" xmlns:xlink=\"http://www.w3.org/1999/xlink\">\r\n <defs>\r\n  <style type=\"text/css\">\r\n*{stroke-linecap:butt;stroke-linejoin:round;}\r\n  </style>\r\n </defs>\r\n <g id=\"figure_1\">\r\n  <g id=\"patch_1\">\r\n   <path d=\"M 0 262.19625 \r\nL 385.78125 262.19625 \r\nL 385.78125 0 \r\nL 0 0 \r\nz\r\n\" style=\"fill:none;\"/>\r\n  </g>\r\n  <g id=\"axes_1\">\r\n   <g id=\"patch_2\">\r\n    <path d=\"M 43.78125 224.64 \r\nL 378.58125 224.64 \r\nL 378.58125 7.2 \r\nL 43.78125 7.2 \r\nz\r\n\" style=\"fill:#ffffff;\"/>\r\n   </g>\r\n   <g id=\"matplotlib.axis_1\">\r\n    <g id=\"xtick_1\">\r\n     <g id=\"line2d_1\">\r\n      <defs>\r\n       <path d=\"M 0 0 \r\nL 0 3.5 \r\n\" id=\"mfa340531b8\" style=\"stroke:#000000;stroke-width:0.8;\"/>\r\n      </defs>\r\n      <g>\r\n       <use style=\"stroke:#000000;stroke-width:0.8;\" x=\"58.999432\" xlink:href=\"#mfa340531b8\" y=\"224.64\"/>\r\n      </g>\r\n     </g>\r\n     <g id=\"text_1\">\r\n      <!-- 0.0 -->\r\n      <defs>\r\n       <path d=\"M 31.78125 66.40625 \r\nQ 24.171875 66.40625 20.328125 58.90625 \r\nQ 16.5 51.421875 16.5 36.375 \r\nQ 16.5 21.390625 20.328125 13.890625 \r\nQ 24.171875 6.390625 31.78125 6.390625 \r\nQ 39.453125 6.390625 43.28125 13.890625 \r\nQ 47.125 21.390625 47.125 36.375 \r\nQ 47.125 51.421875 43.28125 58.90625 \r\nQ 39.453125 66.40625 31.78125 66.40625 \r\nz\r\nM 31.78125 74.21875 \r\nQ 44.046875 74.21875 50.515625 64.515625 \r\nQ 56.984375 54.828125 56.984375 36.375 \r\nQ 56.984375 17.96875 50.515625 8.265625 \r\nQ 44.046875 -1.421875 31.78125 -1.421875 \r\nQ 19.53125 -1.421875 13.0625 8.265625 \r\nQ 6.59375 17.96875 6.59375 36.375 \r\nQ 6.59375 54.828125 13.0625 64.515625 \r\nQ 19.53125 74.21875 31.78125 74.21875 \r\nz\r\n\" id=\"DejaVuSans-48\"/>\r\n       <path d=\"M 10.6875 12.40625 \r\nL 21 12.40625 \r\nL 21 0 \r\nL 10.6875 0 \r\nz\r\n\" id=\"DejaVuSans-46\"/>\r\n      </defs>\r\n      <g transform=\"translate(51.047869 239.238437)scale(0.1 -0.1)\">\r\n       <use xlink:href=\"#DejaVuSans-48\"/>\r\n       <use x=\"63.623047\" xlink:href=\"#DejaVuSans-46\"/>\r\n       <use x=\"95.410156\" xlink:href=\"#DejaVuSans-48\"/>\r\n      </g>\r\n     </g>\r\n    </g>\r\n    <g id=\"xtick_2\">\r\n     <g id=\"line2d_2\">\r\n      <g>\r\n       <use style=\"stroke:#000000;stroke-width:0.8;\" x=\"119.872159\" xlink:href=\"#mfa340531b8\" y=\"224.64\"/>\r\n      </g>\r\n     </g>\r\n     <g id=\"text_2\">\r\n      <!-- 0.2 -->\r\n      <defs>\r\n       <path d=\"M 19.1875 8.296875 \r\nL 53.609375 8.296875 \r\nL 53.609375 0 \r\nL 7.328125 0 \r\nL 7.328125 8.296875 \r\nQ 12.9375 14.109375 22.625 23.890625 \r\nQ 32.328125 33.6875 34.8125 36.53125 \r\nQ 39.546875 41.84375 41.421875 45.53125 \r\nQ 43.3125 49.21875 43.3125 52.78125 \r\nQ 43.3125 58.59375 39.234375 62.25 \r\nQ 35.15625 65.921875 28.609375 65.921875 \r\nQ 23.96875 65.921875 18.8125 64.3125 \r\nQ 13.671875 62.703125 7.8125 59.421875 \r\nL 7.8125 69.390625 \r\nQ 13.765625 71.78125 18.9375 73 \r\nQ 24.125 74.21875 28.421875 74.21875 \r\nQ 39.75 74.21875 46.484375 68.546875 \r\nQ 53.21875 62.890625 53.21875 53.421875 \r\nQ 53.21875 48.921875 51.53125 44.890625 \r\nQ 49.859375 40.875 45.40625 35.40625 \r\nQ 44.1875 33.984375 37.640625 27.21875 \r\nQ 31.109375 20.453125 19.1875 8.296875 \r\nz\r\n\" id=\"DejaVuSans-50\"/>\r\n      </defs>\r\n      <g transform=\"translate(111.920597 239.238437)scale(0.1 -0.1)\">\r\n       <use xlink:href=\"#DejaVuSans-48\"/>\r\n       <use x=\"63.623047\" xlink:href=\"#DejaVuSans-46\"/>\r\n       <use x=\"95.410156\" xlink:href=\"#DejaVuSans-50\"/>\r\n      </g>\r\n     </g>\r\n    </g>\r\n    <g id=\"xtick_3\">\r\n     <g id=\"line2d_3\">\r\n      <g>\r\n       <use style=\"stroke:#000000;stroke-width:0.8;\" x=\"180.744886\" xlink:href=\"#mfa340531b8\" y=\"224.64\"/>\r\n      </g>\r\n     </g>\r\n     <g id=\"text_3\">\r\n      <!-- 0.4 -->\r\n      <defs>\r\n       <path d=\"M 37.796875 64.3125 \r\nL 12.890625 25.390625 \r\nL 37.796875 25.390625 \r\nz\r\nM 35.203125 72.90625 \r\nL 47.609375 72.90625 \r\nL 47.609375 25.390625 \r\nL 58.015625 25.390625 \r\nL 58.015625 17.1875 \r\nL 47.609375 17.1875 \r\nL 47.609375 0 \r\nL 37.796875 0 \r\nL 37.796875 17.1875 \r\nL 4.890625 17.1875 \r\nL 4.890625 26.703125 \r\nz\r\n\" id=\"DejaVuSans-52\"/>\r\n      </defs>\r\n      <g transform=\"translate(172.793324 239.238437)scale(0.1 -0.1)\">\r\n       <use xlink:href=\"#DejaVuSans-48\"/>\r\n       <use x=\"63.623047\" xlink:href=\"#DejaVuSans-46\"/>\r\n       <use x=\"95.410156\" xlink:href=\"#DejaVuSans-52\"/>\r\n      </g>\r\n     </g>\r\n    </g>\r\n    <g id=\"xtick_4\">\r\n     <g id=\"line2d_4\">\r\n      <g>\r\n       <use style=\"stroke:#000000;stroke-width:0.8;\" x=\"241.617614\" xlink:href=\"#mfa340531b8\" y=\"224.64\"/>\r\n      </g>\r\n     </g>\r\n     <g id=\"text_4\">\r\n      <!-- 0.6 -->\r\n      <defs>\r\n       <path d=\"M 33.015625 40.375 \r\nQ 26.375 40.375 22.484375 35.828125 \r\nQ 18.609375 31.296875 18.609375 23.390625 \r\nQ 18.609375 15.53125 22.484375 10.953125 \r\nQ 26.375 6.390625 33.015625 6.390625 \r\nQ 39.65625 6.390625 43.53125 10.953125 \r\nQ 47.40625 15.53125 47.40625 23.390625 \r\nQ 47.40625 31.296875 43.53125 35.828125 \r\nQ 39.65625 40.375 33.015625 40.375 \r\nz\r\nM 52.59375 71.296875 \r\nL 52.59375 62.3125 \r\nQ 48.875 64.0625 45.09375 64.984375 \r\nQ 41.3125 65.921875 37.59375 65.921875 \r\nQ 27.828125 65.921875 22.671875 59.328125 \r\nQ 17.53125 52.734375 16.796875 39.40625 \r\nQ 19.671875 43.65625 24.015625 45.921875 \r\nQ 28.375 48.1875 33.59375 48.1875 \r\nQ 44.578125 48.1875 50.953125 41.515625 \r\nQ 57.328125 34.859375 57.328125 23.390625 \r\nQ 57.328125 12.15625 50.6875 5.359375 \r\nQ 44.046875 -1.421875 33.015625 -1.421875 \r\nQ 20.359375 -1.421875 13.671875 8.265625 \r\nQ 6.984375 17.96875 6.984375 36.375 \r\nQ 6.984375 53.65625 15.1875 63.9375 \r\nQ 23.390625 74.21875 37.203125 74.21875 \r\nQ 40.921875 74.21875 44.703125 73.484375 \r\nQ 48.484375 72.75 52.59375 71.296875 \r\nz\r\n\" id=\"DejaVuSans-54\"/>\r\n      </defs>\r\n      <g transform=\"translate(233.666051 239.238437)scale(0.1 -0.1)\">\r\n       <use xlink:href=\"#DejaVuSans-48\"/>\r\n       <use x=\"63.623047\" xlink:href=\"#DejaVuSans-46\"/>\r\n       <use x=\"95.410156\" xlink:href=\"#DejaVuSans-54\"/>\r\n      </g>\r\n     </g>\r\n    </g>\r\n    <g id=\"xtick_5\">\r\n     <g id=\"line2d_5\">\r\n      <g>\r\n       <use style=\"stroke:#000000;stroke-width:0.8;\" x=\"302.490341\" xlink:href=\"#mfa340531b8\" y=\"224.64\"/>\r\n      </g>\r\n     </g>\r\n     <g id=\"text_5\">\r\n      <!-- 0.8 -->\r\n      <defs>\r\n       <path d=\"M 31.78125 34.625 \r\nQ 24.75 34.625 20.71875 30.859375 \r\nQ 16.703125 27.09375 16.703125 20.515625 \r\nQ 16.703125 13.921875 20.71875 10.15625 \r\nQ 24.75 6.390625 31.78125 6.390625 \r\nQ 38.8125 6.390625 42.859375 10.171875 \r\nQ 46.921875 13.96875 46.921875 20.515625 \r\nQ 46.921875 27.09375 42.890625 30.859375 \r\nQ 38.875 34.625 31.78125 34.625 \r\nz\r\nM 21.921875 38.8125 \r\nQ 15.578125 40.375 12.03125 44.71875 \r\nQ 8.5 49.078125 8.5 55.328125 \r\nQ 8.5 64.0625 14.71875 69.140625 \r\nQ 20.953125 74.21875 31.78125 74.21875 \r\nQ 42.671875 74.21875 48.875 69.140625 \r\nQ 55.078125 64.0625 55.078125 55.328125 \r\nQ 55.078125 49.078125 51.53125 44.71875 \r\nQ 48 40.375 41.703125 38.8125 \r\nQ 48.828125 37.15625 52.796875 32.3125 \r\nQ 56.78125 27.484375 56.78125 20.515625 \r\nQ 56.78125 9.90625 50.3125 4.234375 \r\nQ 43.84375 -1.421875 31.78125 -1.421875 \r\nQ 19.734375 -1.421875 13.25 4.234375 \r\nQ 6.78125 9.90625 6.78125 20.515625 \r\nQ 6.78125 27.484375 10.78125 32.3125 \r\nQ 14.796875 37.15625 21.921875 38.8125 \r\nz\r\nM 18.3125 54.390625 \r\nQ 18.3125 48.734375 21.84375 45.5625 \r\nQ 25.390625 42.390625 31.78125 42.390625 \r\nQ 38.140625 42.390625 41.71875 45.5625 \r\nQ 45.3125 48.734375 45.3125 54.390625 \r\nQ 45.3125 60.0625 41.71875 63.234375 \r\nQ 38.140625 66.40625 31.78125 66.40625 \r\nQ 25.390625 66.40625 21.84375 63.234375 \r\nQ 18.3125 60.0625 18.3125 54.390625 \r\nz\r\n\" id=\"DejaVuSans-56\"/>\r\n      </defs>\r\n      <g transform=\"translate(294.538778 239.238437)scale(0.1 -0.1)\">\r\n       <use xlink:href=\"#DejaVuSans-48\"/>\r\n       <use x=\"63.623047\" xlink:href=\"#DejaVuSans-46\"/>\r\n       <use x=\"95.410156\" xlink:href=\"#DejaVuSans-56\"/>\r\n      </g>\r\n     </g>\r\n    </g>\r\n    <g id=\"xtick_6\">\r\n     <g id=\"line2d_6\">\r\n      <g>\r\n       <use style=\"stroke:#000000;stroke-width:0.8;\" x=\"363.363068\" xlink:href=\"#mfa340531b8\" y=\"224.64\"/>\r\n      </g>\r\n     </g>\r\n     <g id=\"text_6\">\r\n      <!-- 1.0 -->\r\n      <defs>\r\n       <path d=\"M 12.40625 8.296875 \r\nL 28.515625 8.296875 \r\nL 28.515625 63.921875 \r\nL 10.984375 60.40625 \r\nL 10.984375 69.390625 \r\nL 28.421875 72.90625 \r\nL 38.28125 72.90625 \r\nL 38.28125 8.296875 \r\nL 54.390625 8.296875 \r\nL 54.390625 0 \r\nL 12.40625 0 \r\nz\r\n\" id=\"DejaVuSans-49\"/>\r\n      </defs>\r\n      <g transform=\"translate(355.411506 239.238437)scale(0.1 -0.1)\">\r\n       <use xlink:href=\"#DejaVuSans-49\"/>\r\n       <use x=\"63.623047\" xlink:href=\"#DejaVuSans-46\"/>\r\n       <use x=\"95.410156\" xlink:href=\"#DejaVuSans-48\"/>\r\n      </g>\r\n     </g>\r\n    </g>\r\n    <g id=\"text_7\">\r\n     <!-- False Positive Rate -->\r\n     <defs>\r\n      <path d=\"M 9.8125 72.90625 \r\nL 51.703125 72.90625 \r\nL 51.703125 64.59375 \r\nL 19.671875 64.59375 \r\nL 19.671875 43.109375 \r\nL 48.578125 43.109375 \r\nL 48.578125 34.8125 \r\nL 19.671875 34.8125 \r\nL 19.671875 0 \r\nL 9.8125 0 \r\nz\r\n\" id=\"DejaVuSans-70\"/>\r\n      <path d=\"M 34.28125 27.484375 \r\nQ 23.390625 27.484375 19.1875 25 \r\nQ 14.984375 22.515625 14.984375 16.5 \r\nQ 14.984375 11.71875 18.140625 8.90625 \r\nQ 21.296875 6.109375 26.703125 6.109375 \r\nQ 34.1875 6.109375 38.703125 11.40625 \r\nQ 43.21875 16.703125 43.21875 25.484375 \r\nL 43.21875 27.484375 \r\nz\r\nM 52.203125 31.203125 \r\nL 52.203125 0 \r\nL 43.21875 0 \r\nL 43.21875 8.296875 \r\nQ 40.140625 3.328125 35.546875 0.953125 \r\nQ 30.953125 -1.421875 24.3125 -1.421875 \r\nQ 15.921875 -1.421875 10.953125 3.296875 \r\nQ 6 8.015625 6 15.921875 \r\nQ 6 25.140625 12.171875 29.828125 \r\nQ 18.359375 34.515625 30.609375 34.515625 \r\nL 43.21875 34.515625 \r\nL 43.21875 35.40625 \r\nQ 43.21875 41.609375 39.140625 45 \r\nQ 35.0625 48.390625 27.6875 48.390625 \r\nQ 23 48.390625 18.546875 47.265625 \r\nQ 14.109375 46.140625 10.015625 43.890625 \r\nL 10.015625 52.203125 \r\nQ 14.9375 54.109375 19.578125 55.046875 \r\nQ 24.21875 56 28.609375 56 \r\nQ 40.484375 56 46.34375 49.84375 \r\nQ 52.203125 43.703125 52.203125 31.203125 \r\nz\r\n\" id=\"DejaVuSans-97\"/>\r\n      <path d=\"M 9.421875 75.984375 \r\nL 18.40625 75.984375 \r\nL 18.40625 0 \r\nL 9.421875 0 \r\nz\r\n\" id=\"DejaVuSans-108\"/>\r\n      <path d=\"M 44.28125 53.078125 \r\nL 44.28125 44.578125 \r\nQ 40.484375 46.53125 36.375 47.5 \r\nQ 32.28125 48.484375 27.875 48.484375 \r\nQ 21.1875 48.484375 17.84375 46.4375 \r\nQ 14.5 44.390625 14.5 40.28125 \r\nQ 14.5 37.15625 16.890625 35.375 \r\nQ 19.28125 33.59375 26.515625 31.984375 \r\nL 29.59375 31.296875 \r\nQ 39.15625 29.25 43.1875 25.515625 \r\nQ 47.21875 21.78125 47.21875 15.09375 \r\nQ 47.21875 7.46875 41.1875 3.015625 \r\nQ 35.15625 -1.421875 24.609375 -1.421875 \r\nQ 20.21875 -1.421875 15.453125 -0.5625 \r\nQ 10.6875 0.296875 5.421875 2 \r\nL 5.421875 11.28125 \r\nQ 10.40625 8.6875 15.234375 7.390625 \r\nQ 20.0625 6.109375 24.8125 6.109375 \r\nQ 31.15625 6.109375 34.5625 8.28125 \r\nQ 37.984375 10.453125 37.984375 14.40625 \r\nQ 37.984375 18.0625 35.515625 20.015625 \r\nQ 33.0625 21.96875 24.703125 23.78125 \r\nL 21.578125 24.515625 \r\nQ 13.234375 26.265625 9.515625 29.90625 \r\nQ 5.8125 33.546875 5.8125 39.890625 \r\nQ 5.8125 47.609375 11.28125 51.796875 \r\nQ 16.75 56 26.8125 56 \r\nQ 31.78125 56 36.171875 55.265625 \r\nQ 40.578125 54.546875 44.28125 53.078125 \r\nz\r\n\" id=\"DejaVuSans-115\"/>\r\n      <path d=\"M 56.203125 29.59375 \r\nL 56.203125 25.203125 \r\nL 14.890625 25.203125 \r\nQ 15.484375 15.921875 20.484375 11.0625 \r\nQ 25.484375 6.203125 34.421875 6.203125 \r\nQ 39.59375 6.203125 44.453125 7.46875 \r\nQ 49.3125 8.734375 54.109375 11.28125 \r\nL 54.109375 2.78125 \r\nQ 49.265625 0.734375 44.1875 -0.34375 \r\nQ 39.109375 -1.421875 33.890625 -1.421875 \r\nQ 20.796875 -1.421875 13.15625 6.1875 \r\nQ 5.515625 13.8125 5.515625 26.8125 \r\nQ 5.515625 40.234375 12.765625 48.109375 \r\nQ 20.015625 56 32.328125 56 \r\nQ 43.359375 56 49.78125 48.890625 \r\nQ 56.203125 41.796875 56.203125 29.59375 \r\nz\r\nM 47.21875 32.234375 \r\nQ 47.125 39.59375 43.09375 43.984375 \r\nQ 39.0625 48.390625 32.421875 48.390625 \r\nQ 24.90625 48.390625 20.390625 44.140625 \r\nQ 15.875 39.890625 15.1875 32.171875 \r\nz\r\n\" id=\"DejaVuSans-101\"/>\r\n      <path id=\"DejaVuSans-32\"/>\r\n      <path d=\"M 19.671875 64.796875 \r\nL 19.671875 37.40625 \r\nL 32.078125 37.40625 \r\nQ 38.96875 37.40625 42.71875 40.96875 \r\nQ 46.484375 44.53125 46.484375 51.125 \r\nQ 46.484375 57.671875 42.71875 61.234375 \r\nQ 38.96875 64.796875 32.078125 64.796875 \r\nz\r\nM 9.8125 72.90625 \r\nL 32.078125 72.90625 \r\nQ 44.34375 72.90625 50.609375 67.359375 \r\nQ 56.890625 61.8125 56.890625 51.125 \r\nQ 56.890625 40.328125 50.609375 34.8125 \r\nQ 44.34375 29.296875 32.078125 29.296875 \r\nL 19.671875 29.296875 \r\nL 19.671875 0 \r\nL 9.8125 0 \r\nz\r\n\" id=\"DejaVuSans-80\"/>\r\n      <path d=\"M 30.609375 48.390625 \r\nQ 23.390625 48.390625 19.1875 42.75 \r\nQ 14.984375 37.109375 14.984375 27.296875 \r\nQ 14.984375 17.484375 19.15625 11.84375 \r\nQ 23.34375 6.203125 30.609375 6.203125 \r\nQ 37.796875 6.203125 41.984375 11.859375 \r\nQ 46.1875 17.53125 46.1875 27.296875 \r\nQ 46.1875 37.015625 41.984375 42.703125 \r\nQ 37.796875 48.390625 30.609375 48.390625 \r\nz\r\nM 30.609375 56 \r\nQ 42.328125 56 49.015625 48.375 \r\nQ 55.71875 40.765625 55.71875 27.296875 \r\nQ 55.71875 13.875 49.015625 6.21875 \r\nQ 42.328125 -1.421875 30.609375 -1.421875 \r\nQ 18.84375 -1.421875 12.171875 6.21875 \r\nQ 5.515625 13.875 5.515625 27.296875 \r\nQ 5.515625 40.765625 12.171875 48.375 \r\nQ 18.84375 56 30.609375 56 \r\nz\r\n\" id=\"DejaVuSans-111\"/>\r\n      <path d=\"M 9.421875 54.6875 \r\nL 18.40625 54.6875 \r\nL 18.40625 0 \r\nL 9.421875 0 \r\nz\r\nM 9.421875 75.984375 \r\nL 18.40625 75.984375 \r\nL 18.40625 64.59375 \r\nL 9.421875 64.59375 \r\nz\r\n\" id=\"DejaVuSans-105\"/>\r\n      <path d=\"M 18.3125 70.21875 \r\nL 18.3125 54.6875 \r\nL 36.8125 54.6875 \r\nL 36.8125 47.703125 \r\nL 18.3125 47.703125 \r\nL 18.3125 18.015625 \r\nQ 18.3125 11.328125 20.140625 9.421875 \r\nQ 21.96875 7.515625 27.59375 7.515625 \r\nL 36.8125 7.515625 \r\nL 36.8125 0 \r\nL 27.59375 0 \r\nQ 17.1875 0 13.234375 3.875 \r\nQ 9.28125 7.765625 9.28125 18.015625 \r\nL 9.28125 47.703125 \r\nL 2.6875 47.703125 \r\nL 2.6875 54.6875 \r\nL 9.28125 54.6875 \r\nL 9.28125 70.21875 \r\nz\r\n\" id=\"DejaVuSans-116\"/>\r\n      <path d=\"M 2.984375 54.6875 \r\nL 12.5 54.6875 \r\nL 29.59375 8.796875 \r\nL 46.6875 54.6875 \r\nL 56.203125 54.6875 \r\nL 35.6875 0 \r\nL 23.484375 0 \r\nz\r\n\" id=\"DejaVuSans-118\"/>\r\n      <path d=\"M 44.390625 34.1875 \r\nQ 47.5625 33.109375 50.5625 29.59375 \r\nQ 53.5625 26.078125 56.59375 19.921875 \r\nL 66.609375 0 \r\nL 56 0 \r\nL 46.6875 18.703125 \r\nQ 43.0625 26.03125 39.671875 28.421875 \r\nQ 36.28125 30.8125 30.421875 30.8125 \r\nL 19.671875 30.8125 \r\nL 19.671875 0 \r\nL 9.8125 0 \r\nL 9.8125 72.90625 \r\nL 32.078125 72.90625 \r\nQ 44.578125 72.90625 50.734375 67.671875 \r\nQ 56.890625 62.453125 56.890625 51.90625 \r\nQ 56.890625 45.015625 53.6875 40.46875 \r\nQ 50.484375 35.9375 44.390625 34.1875 \r\nz\r\nM 19.671875 64.796875 \r\nL 19.671875 38.921875 \r\nL 32.078125 38.921875 \r\nQ 39.203125 38.921875 42.84375 42.21875 \r\nQ 46.484375 45.515625 46.484375 51.90625 \r\nQ 46.484375 58.296875 42.84375 61.546875 \r\nQ 39.203125 64.796875 32.078125 64.796875 \r\nz\r\n\" id=\"DejaVuSans-82\"/>\r\n     </defs>\r\n     <g transform=\"translate(164.714844 252.916562)scale(0.1 -0.1)\">\r\n      <use xlink:href=\"#DejaVuSans-70\"/>\r\n      <use x=\"48.394531\" xlink:href=\"#DejaVuSans-97\"/>\r\n      <use x=\"109.673828\" xlink:href=\"#DejaVuSans-108\"/>\r\n      <use x=\"137.457031\" xlink:href=\"#DejaVuSans-115\"/>\r\n      <use x=\"189.556641\" xlink:href=\"#DejaVuSans-101\"/>\r\n      <use x=\"251.080078\" xlink:href=\"#DejaVuSans-32\"/>\r\n      <use x=\"282.867188\" xlink:href=\"#DejaVuSans-80\"/>\r\n      <use x=\"339.544922\" xlink:href=\"#DejaVuSans-111\"/>\r\n      <use x=\"400.726562\" xlink:href=\"#DejaVuSans-115\"/>\r\n      <use x=\"452.826172\" xlink:href=\"#DejaVuSans-105\"/>\r\n      <use x=\"480.609375\" xlink:href=\"#DejaVuSans-116\"/>\r\n      <use x=\"519.818359\" xlink:href=\"#DejaVuSans-105\"/>\r\n      <use x=\"547.601562\" xlink:href=\"#DejaVuSans-118\"/>\r\n      <use x=\"606.78125\" xlink:href=\"#DejaVuSans-101\"/>\r\n      <use x=\"668.304688\" xlink:href=\"#DejaVuSans-32\"/>\r\n      <use x=\"700.091797\" xlink:href=\"#DejaVuSans-82\"/>\r\n      <use x=\"767.324219\" xlink:href=\"#DejaVuSans-97\"/>\r\n      <use x=\"828.603516\" xlink:href=\"#DejaVuSans-116\"/>\r\n      <use x=\"867.8125\" xlink:href=\"#DejaVuSans-101\"/>\r\n     </g>\r\n    </g>\r\n   </g>\r\n   <g id=\"matplotlib.axis_2\">\r\n    <g id=\"ytick_1\">\r\n     <g id=\"line2d_7\">\r\n      <defs>\r\n       <path d=\"M 0 0 \r\nL -3.5 0 \r\n\" id=\"me8b6edd193\" style=\"stroke:#000000;stroke-width:0.8;\"/>\r\n      </defs>\r\n      <g>\r\n       <use style=\"stroke:#000000;stroke-width:0.8;\" x=\"43.78125\" xlink:href=\"#me8b6edd193\" y=\"214.756364\"/>\r\n      </g>\r\n     </g>\r\n     <g id=\"text_8\">\r\n      <!-- 0.0 -->\r\n      <g transform=\"translate(20.878125 218.555582)scale(0.1 -0.1)\">\r\n       <use xlink:href=\"#DejaVuSans-48\"/>\r\n       <use x=\"63.623047\" xlink:href=\"#DejaVuSans-46\"/>\r\n       <use x=\"95.410156\" xlink:href=\"#DejaVuSans-48\"/>\r\n      </g>\r\n     </g>\r\n    </g>\r\n    <g id=\"ytick_2\">\r\n     <g id=\"line2d_8\">\r\n      <g>\r\n       <use style=\"stroke:#000000;stroke-width:0.8;\" x=\"43.78125\" xlink:href=\"#me8b6edd193\" y=\"175.221818\"/>\r\n      </g>\r\n     </g>\r\n     <g id=\"text_9\">\r\n      <!-- 0.2 -->\r\n      <g transform=\"translate(20.878125 179.021037)scale(0.1 -0.1)\">\r\n       <use xlink:href=\"#DejaVuSans-48\"/>\r\n       <use x=\"63.623047\" xlink:href=\"#DejaVuSans-46\"/>\r\n       <use x=\"95.410156\" xlink:href=\"#DejaVuSans-50\"/>\r\n      </g>\r\n     </g>\r\n    </g>\r\n    <g id=\"ytick_3\">\r\n     <g id=\"line2d_9\">\r\n      <g>\r\n       <use style=\"stroke:#000000;stroke-width:0.8;\" x=\"43.78125\" xlink:href=\"#me8b6edd193\" y=\"135.687273\"/>\r\n      </g>\r\n     </g>\r\n     <g id=\"text_10\">\r\n      <!-- 0.4 -->\r\n      <g transform=\"translate(20.878125 139.486491)scale(0.1 -0.1)\">\r\n       <use xlink:href=\"#DejaVuSans-48\"/>\r\n       <use x=\"63.623047\" xlink:href=\"#DejaVuSans-46\"/>\r\n       <use x=\"95.410156\" xlink:href=\"#DejaVuSans-52\"/>\r\n      </g>\r\n     </g>\r\n    </g>\r\n    <g id=\"ytick_4\">\r\n     <g id=\"line2d_10\">\r\n      <g>\r\n       <use style=\"stroke:#000000;stroke-width:0.8;\" x=\"43.78125\" xlink:href=\"#me8b6edd193\" y=\"96.152727\"/>\r\n      </g>\r\n     </g>\r\n     <g id=\"text_11\">\r\n      <!-- 0.6 -->\r\n      <g transform=\"translate(20.878125 99.951946)scale(0.1 -0.1)\">\r\n       <use xlink:href=\"#DejaVuSans-48\"/>\r\n       <use x=\"63.623047\" xlink:href=\"#DejaVuSans-46\"/>\r\n       <use x=\"95.410156\" xlink:href=\"#DejaVuSans-54\"/>\r\n      </g>\r\n     </g>\r\n    </g>\r\n    <g id=\"ytick_5\">\r\n     <g id=\"line2d_11\">\r\n      <g>\r\n       <use style=\"stroke:#000000;stroke-width:0.8;\" x=\"43.78125\" xlink:href=\"#me8b6edd193\" y=\"56.618182\"/>\r\n      </g>\r\n     </g>\r\n     <g id=\"text_12\">\r\n      <!-- 0.8 -->\r\n      <g transform=\"translate(20.878125 60.417401)scale(0.1 -0.1)\">\r\n       <use xlink:href=\"#DejaVuSans-48\"/>\r\n       <use x=\"63.623047\" xlink:href=\"#DejaVuSans-46\"/>\r\n       <use x=\"95.410156\" xlink:href=\"#DejaVuSans-56\"/>\r\n      </g>\r\n     </g>\r\n    </g>\r\n    <g id=\"ytick_6\">\r\n     <g id=\"line2d_12\">\r\n      <g>\r\n       <use style=\"stroke:#000000;stroke-width:0.8;\" x=\"43.78125\" xlink:href=\"#me8b6edd193\" y=\"17.083636\"/>\r\n      </g>\r\n     </g>\r\n     <g id=\"text_13\">\r\n      <!-- 1.0 -->\r\n      <g transform=\"translate(20.878125 20.882855)scale(0.1 -0.1)\">\r\n       <use xlink:href=\"#DejaVuSans-49\"/>\r\n       <use x=\"63.623047\" xlink:href=\"#DejaVuSans-46\"/>\r\n       <use x=\"95.410156\" xlink:href=\"#DejaVuSans-48\"/>\r\n      </g>\r\n     </g>\r\n    </g>\r\n    <g id=\"text_14\">\r\n     <!-- True Positive Rate -->\r\n     <defs>\r\n      <path d=\"M -0.296875 72.90625 \r\nL 61.375 72.90625 \r\nL 61.375 64.59375 \r\nL 35.5 64.59375 \r\nL 35.5 0 \r\nL 25.59375 0 \r\nL 25.59375 64.59375 \r\nL -0.296875 64.59375 \r\nz\r\n\" id=\"DejaVuSans-84\"/>\r\n      <path d=\"M 41.109375 46.296875 \r\nQ 39.59375 47.171875 37.8125 47.578125 \r\nQ 36.03125 48 33.890625 48 \r\nQ 26.265625 48 22.1875 43.046875 \r\nQ 18.109375 38.09375 18.109375 28.8125 \r\nL 18.109375 0 \r\nL 9.078125 0 \r\nL 9.078125 54.6875 \r\nL 18.109375 54.6875 \r\nL 18.109375 46.1875 \r\nQ 20.953125 51.171875 25.484375 53.578125 \r\nQ 30.03125 56 36.53125 56 \r\nQ 37.453125 56 38.578125 55.875 \r\nQ 39.703125 55.765625 41.0625 55.515625 \r\nz\r\n\" id=\"DejaVuSans-114\"/>\r\n      <path d=\"M 8.5 21.578125 \r\nL 8.5 54.6875 \r\nL 17.484375 54.6875 \r\nL 17.484375 21.921875 \r\nQ 17.484375 14.15625 20.5 10.265625 \r\nQ 23.53125 6.390625 29.59375 6.390625 \r\nQ 36.859375 6.390625 41.078125 11.03125 \r\nQ 45.3125 15.671875 45.3125 23.6875 \r\nL 45.3125 54.6875 \r\nL 54.296875 54.6875 \r\nL 54.296875 0 \r\nL 45.3125 0 \r\nL 45.3125 8.40625 \r\nQ 42.046875 3.421875 37.71875 1 \r\nQ 33.40625 -1.421875 27.6875 -1.421875 \r\nQ 18.265625 -1.421875 13.375 4.4375 \r\nQ 8.5 10.296875 8.5 21.578125 \r\nz\r\nM 31.109375 56 \r\nz\r\n\" id=\"DejaVuSans-117\"/>\r\n     </defs>\r\n     <g transform=\"translate(14.798438 160.449687)rotate(-90)scale(0.1 -0.1)\">\r\n      <use xlink:href=\"#DejaVuSans-84\"/>\r\n      <use x=\"46.333984\" xlink:href=\"#DejaVuSans-114\"/>\r\n      <use x=\"87.447266\" xlink:href=\"#DejaVuSans-117\"/>\r\n      <use x=\"150.826172\" xlink:href=\"#DejaVuSans-101\"/>\r\n      <use x=\"212.349609\" xlink:href=\"#DejaVuSans-32\"/>\r\n      <use x=\"244.136719\" xlink:href=\"#DejaVuSans-80\"/>\r\n      <use x=\"300.814453\" xlink:href=\"#DejaVuSans-111\"/>\r\n      <use x=\"361.996094\" xlink:href=\"#DejaVuSans-115\"/>\r\n      <use x=\"414.095703\" xlink:href=\"#DejaVuSans-105\"/>\r\n      <use x=\"441.878906\" xlink:href=\"#DejaVuSans-116\"/>\r\n      <use x=\"481.087891\" xlink:href=\"#DejaVuSans-105\"/>\r\n      <use x=\"508.871094\" xlink:href=\"#DejaVuSans-118\"/>\r\n      <use x=\"568.050781\" xlink:href=\"#DejaVuSans-101\"/>\r\n      <use x=\"629.574219\" xlink:href=\"#DejaVuSans-32\"/>\r\n      <use x=\"661.361328\" xlink:href=\"#DejaVuSans-82\"/>\r\n      <use x=\"728.59375\" xlink:href=\"#DejaVuSans-97\"/>\r\n      <use x=\"789.873047\" xlink:href=\"#DejaVuSans-116\"/>\r\n      <use x=\"829.082031\" xlink:href=\"#DejaVuSans-101\"/>\r\n     </g>\r\n    </g>\r\n   </g>\r\n   <g id=\"line2d_13\">\r\n    <path clip-path=\"url(#pdecd7a6f45)\" d=\"M 58.999432 214.756364 \r\nL 58.999432 199.859289 \r\nL 59.636843 199.859289 \r\nL 59.636843 198.71336 \r\nL 59.955548 198.71336 \r\nL 59.955548 196.994466 \r\nL 60.592959 196.994466 \r\nL 60.592959 195.275573 \r\nL 61.230369 195.275573 \r\nL 61.230369 194.702609 \r\nL 61.549075 194.702609 \r\nL 61.549075 186.108142 \r\nL 61.86778 186.108142 \r\nL 61.86778 182.097391 \r\nL 62.186486 182.097391 \r\nL 62.186486 180.951462 \r\nL 62.505191 180.951462 \r\nL 62.505191 179.232569 \r\nL 62.823896 179.232569 \r\nL 62.823896 176.940711 \r\nL 63.142602 176.940711 \r\nL 63.142602 176.367747 \r\nL 63.461307 176.367747 \r\nL 63.461307 175.794783 \r\nL 63.780012 175.794783 \r\nL 63.780012 174.648854 \r\nL 64.098718 174.648854 \r\nL 64.098718 172.92996 \r\nL 64.417423 172.92996 \r\nL 64.417423 169.492174 \r\nL 64.736129 169.492174 \r\nL 64.736129 168.346245 \r\nL 65.054834 168.346245 \r\nL 65.054834 167.200316 \r\nL 65.373539 167.200316 \r\nL 65.373539 166.054387 \r\nL 65.692245 166.054387 \r\nL 65.692245 165.481423 \r\nL 66.329656 165.481423 \r\nL 66.329656 164.908458 \r\nL 66.648361 164.908458 \r\nL 66.648361 164.335494 \r\nL 66.967066 164.335494 \r\nL 66.967066 163.76253 \r\nL 67.923182 163.76253 \r\nL 67.923182 162.043636 \r\nL 68.560593 162.043636 \r\nL 68.560593 161.470672 \r\nL 68.879299 161.470672 \r\nL 68.879299 160.324743 \r\nL 69.835415 160.324743 \r\nL 69.835415 159.751779 \r\nL 70.15412 159.751779 \r\nL 70.15412 156.886957 \r\nL 70.472825 156.886957 \r\nL 70.472825 152.303241 \r\nL 70.791531 152.303241 \r\nL 70.791531 151.730277 \r\nL 71.110236 151.730277 \r\nL 71.110236 150.011383 \r\nL 71.428942 150.011383 \r\nL 71.428942 148.865455 \r\nL 72.066352 148.865455 \r\nL 72.066352 148.29249 \r\nL 72.703763 148.29249 \r\nL 72.703763 146.573597 \r\nL 73.341174 146.573597 \r\nL 73.341174 146.000632 \r\nL 73.659879 146.000632 \r\nL 73.659879 145.427668 \r\nL 73.978585 145.427668 \r\nL 73.978585 144.281739 \r\nL 74.615995 144.281739 \r\nL 74.615995 140.843953 \r\nL 74.934701 140.843953 \r\nL 74.934701 137.406166 \r\nL 75.253406 137.406166 \r\nL 75.253406 136.260237 \r\nL 75.890817 136.260237 \r\nL 75.890817 135.687273 \r\nL 76.846933 135.687273 \r\nL 76.846933 135.114308 \r\nL 77.803049 135.114308 \r\nL 77.803049 134.541344 \r\nL 78.121755 134.541344 \r\nL 78.121755 132.249486 \r\nL 78.44046 132.249486 \r\nL 78.44046 131.103557 \r\nL 78.759165 131.103557 \r\nL 78.759165 129.957628 \r\nL 79.077871 129.957628 \r\nL 79.077871 129.384664 \r\nL 79.396576 129.384664 \r\nL 79.396576 128.8117 \r\nL 79.715281 128.8117 \r\nL 79.715281 128.238735 \r\nL 80.352692 128.238735 \r\nL 80.352692 127.665771 \r\nL 81.308808 127.665771 \r\nL 81.308808 127.092806 \r\nL 81.627514 127.092806 \r\nL 81.627514 125.373913 \r\nL 81.946219 125.373913 \r\nL 81.946219 124.227984 \r\nL 82.264924 124.227984 \r\nL 82.264924 123.082055 \r\nL 82.58363 123.082055 \r\nL 82.58363 120.217233 \r\nL 82.902335 120.217233 \r\nL 82.902335 118.49834 \r\nL 83.539746 118.49834 \r\nL 83.539746 116.779447 \r\nL 84.495862 116.779447 \r\nL 84.495862 116.206482 \r\nL 85.133273 116.206482 \r\nL 85.133273 115.633518 \r\nL 85.451978 115.633518 \r\nL 85.451978 115.060553 \r\nL 86.089389 115.060553 \r\nL 86.089389 114.487589 \r\nL 86.408094 114.487589 \r\nL 86.408094 113.914625 \r\nL 86.7268 113.914625 \r\nL 86.7268 113.34166 \r\nL 87.045505 113.34166 \r\nL 87.045505 110.476838 \r\nL 89.276443 110.476838 \r\nL 89.276443 109.330909 \r\nL 89.595148 109.330909 \r\nL 89.595148 108.757945 \r\nL 90.232559 108.757945 \r\nL 90.232559 107.612016 \r\nL 91.188675 107.612016 \r\nL 91.188675 107.039051 \r\nL 91.50738 107.039051 \r\nL 91.50738 105.893123 \r\nL 92.782202 105.893123 \r\nL 92.782202 104.174229 \r\nL 93.100907 104.174229 \r\nL 93.100907 103.601265 \r\nL 95.331845 103.601265 \r\nL 95.331845 103.0283 \r\nL 95.969256 103.0283 \r\nL 95.969256 102.455336 \r\nL 96.925372 102.455336 \r\nL 96.925372 101.882372 \r\nL 97.881488 101.882372 \r\nL 97.881488 100.736443 \r\nL 99.156309 100.736443 \r\nL 99.156309 100.163478 \r\nL 99.475015 100.163478 \r\nL 99.475015 99.017549 \r\nL 100.749836 99.017549 \r\nL 100.749836 98.444585 \r\nL 101.068542 98.444585 \r\nL 101.068542 97.871621 \r\nL 101.387247 97.871621 \r\nL 101.387247 95.006798 \r\nL 102.343363 95.006798 \r\nL 102.343363 94.433834 \r\nL 102.980774 94.433834 \r\nL 102.980774 93.86087 \r\nL 103.299479 93.86087 \r\nL 103.299479 92.141976 \r\nL 103.618185 92.141976 \r\nL 103.618185 91.569012 \r\nL 106.486533 91.569012 \r\nL 106.486533 89.850119 \r\nL 106.805239 89.850119 \r\nL 106.805239 89.277154 \r\nL 107.123944 89.277154 \r\nL 107.123944 88.70419 \r\nL 108.717471 88.70419 \r\nL 108.717471 85.839368 \r\nL 109.036176 85.839368 \r\nL 109.036176 85.266403 \r\nL 109.673587 85.266403 \r\nL 109.673587 83.54751 \r\nL 110.629703 83.54751 \r\nL 110.629703 82.401581 \r\nL 110.948408 82.401581 \r\nL 110.948408 81.828617 \r\nL 111.267114 81.828617 \r\nL 111.267114 81.255652 \r\nL 111.585819 81.255652 \r\nL 111.585819 80.682688 \r\nL 112.541935 80.682688 \r\nL 112.541935 80.109723 \r\nL 114.772873 80.109723 \r\nL 114.772873 78.963794 \r\nL 115.410284 78.963794 \r\nL 115.410284 77.817866 \r\nL 115.728989 77.817866 \r\nL 115.728989 76.671937 \r\nL 117.003811 76.671937 \r\nL 117.003811 76.098972 \r\nL 117.959927 76.098972 \r\nL 117.959927 75.526008 \r\nL 118.597338 75.526008 \r\nL 118.597338 74.380079 \r\nL 118.916043 74.380079 \r\nL 118.916043 73.23415 \r\nL 120.828275 73.23415 \r\nL 120.828275 72.661186 \r\nL 121.784391 72.661186 \r\nL 121.784391 72.088221 \r\nL 122.421802 72.088221 \r\nL 122.421802 69.796364 \r\nL 124.971445 69.796364 \r\nL 124.971445 69.223399 \r\nL 125.608856 69.223399 \r\nL 125.608856 68.07747 \r\nL 127.521088 68.07747 \r\nL 127.521088 66.931542 \r\nL 128.477204 66.931542 \r\nL 128.477204 66.358577 \r\nL 131.664258 66.358577 \r\nL 131.664258 65.785613 \r\nL 133.257785 65.785613 \r\nL 133.257785 62.920791 \r\nL 133.57649 62.920791 \r\nL 133.57649 61.774862 \r\nL 133.895196 61.774862 \r\nL 133.895196 61.201897 \r\nL 136.444839 61.201897 \r\nL 136.444839 60.628933 \r\nL 136.763544 60.628933 \r\nL 136.763544 60.055968 \r\nL 137.400955 60.055968 \r\nL 137.400955 58.91004 \r\nL 138.038366 58.91004 \r\nL 138.038366 58.337075 \r\nL 138.994482 58.337075 \r\nL 138.994482 57.191146 \r\nL 139.950598 57.191146 \r\nL 139.950598 56.618182 \r\nL 140.588009 56.618182 \r\nL 140.588009 56.045217 \r\nL 142.181536 56.045217 \r\nL 142.181536 55.472253 \r\nL 142.500241 55.472253 \r\nL 142.500241 54.899289 \r\nL 143.456357 54.899289 \r\nL 143.456357 53.180395 \r\nL 145.368589 53.180395 \r\nL 145.368589 52.607431 \r\nL 145.687295 52.607431 \r\nL 145.687295 51.461502 \r\nL 146.324705 51.461502 \r\nL 146.324705 50.315573 \r\nL 147.599527 50.315573 \r\nL 147.599527 49.169644 \r\nL 148.236938 49.169644 \r\nL 148.236938 48.59668 \r\nL 148.555643 48.59668 \r\nL 148.555643 48.023715 \r\nL 148.874349 48.023715 \r\nL 148.874349 47.450751 \r\nL 149.193054 47.450751 \r\nL 149.193054 46.877787 \r\nL 152.380108 46.877787 \r\nL 152.380108 46.304822 \r\nL 153.654929 46.304822 \r\nL 153.654929 45.731858 \r\nL 158.43551 45.731858 \r\nL 158.43551 45.158893 \r\nL 161.303858 45.158893 \r\nL 161.303858 44.012964 \r\nL 162.259974 44.012964 \r\nL 162.259974 43.44 \r\nL 163.534796 43.44 \r\nL 163.534796 42.867036 \r\nL 163.853501 42.867036 \r\nL 163.853501 42.294071 \r\nL 168.315377 42.294071 \r\nL 168.315377 41.721107 \r\nL 170.227609 41.721107 \r\nL 170.227609 41.148142 \r\nL 170.546314 41.148142 \r\nL 170.546314 40.575178 \r\nL 170.86502 40.575178 \r\nL 170.86502 40.002213 \r\nL 172.777252 40.002213 \r\nL 172.777252 39.429249 \r\nL 174.370779 39.429249 \r\nL 174.689484 38.856285 \r\nL 174.689484 38.28332 \r\nL 175.00819 38.28332 \r\nL 175.00819 37.710356 \r\nL 175.964306 37.710356 \r\nL 175.964306 37.137391 \r\nL 178.513949 37.137391 \r\nL 178.513949 36.564427 \r\nL 179.151359 36.564427 \r\nL 179.151359 35.418498 \r\nL 180.107476 35.418498 \r\nL 180.107476 34.272569 \r\nL 182.019708 34.272569 \r\nL 182.019708 33.699605 \r\nL 184.569351 33.699605 \r\nL 184.569351 33.12664 \r\nL 184.888056 33.12664 \r\nL 184.888056 32.553676 \r\nL 196.042745 32.553676 \r\nL 196.042745 31.980711 \r\nL 196.680155 31.980711 \r\nL 196.680155 31.407747 \r\nL 202.735557 31.407747 \r\nL 202.735557 30.834783 \r\nL 205.603906 30.834783 \r\nL 205.603906 30.261818 \r\nL 208.472254 30.261818 \r\nL 208.472254 29.115889 \r\nL 209.42837 29.115889 \r\nL 209.42837 28.542925 \r\nL 213.890246 28.542925 \r\nL 213.890246 27.96996 \r\nL 216.758594 27.96996 \r\nL 216.758594 26.824032 \r\nL 219.626943 26.824032 \r\nL 219.626943 26.251067 \r\nL 221.539175 26.251067 \r\nL 221.539175 25.678103 \r\nL 224.088818 25.678103 \r\nL 224.088818 25.105138 \r\nL 231.737747 25.105138 \r\nL 231.737747 24.532174 \r\nL 234.28739 24.532174 \r\nL 234.28739 23.959209 \r\nL 242.892435 23.959209 \r\nL 242.892435 23.386245 \r\nL 243.211141 23.386245 \r\nL 243.211141 22.813281 \r\nL 247.35431 22.813281 \r\nL 247.35431 22.240316 \r\nL 260.421231 22.240316 \r\nL 260.421231 21.094387 \r\nL 267.114044 21.094387 \r\nL 267.114044 20.521423 \r\nL 269.982392 20.521423 \r\nL 269.982392 19.948458 \r\nL 286.873777 19.948458 \r\nL 286.873777 19.375494 \r\nL 308.545743 19.375494 \r\nL 308.545743 18.80253 \r\nL 309.183154 18.80253 \r\nL 309.183154 18.229565 \r\nL 334.360879 18.229565 \r\nL 334.360879 17.656601 \r\nL 340.734986 17.656601 \r\nL 340.734986 17.083636 \r\nL 363.363068 17.083636 \r\nL 363.363068 17.083636 \r\n\" style=\"fill:none;stroke:#1f77b4;stroke-linecap:square;stroke-width:1.5;\"/>\r\n   </g>\r\n   <g id=\"patch_3\">\r\n    <path d=\"M 43.78125 224.64 \r\nL 43.78125 7.2 \r\n\" style=\"fill:none;stroke:#000000;stroke-linecap:square;stroke-linejoin:miter;stroke-width:0.8;\"/>\r\n   </g>\r\n   <g id=\"patch_4\">\r\n    <path d=\"M 378.58125 224.64 \r\nL 378.58125 7.2 \r\n\" style=\"fill:none;stroke:#000000;stroke-linecap:square;stroke-linejoin:miter;stroke-width:0.8;\"/>\r\n   </g>\r\n   <g id=\"patch_5\">\r\n    <path d=\"M 43.78125 224.64 \r\nL 378.58125 224.64 \r\n\" style=\"fill:none;stroke:#000000;stroke-linecap:square;stroke-linejoin:miter;stroke-width:0.8;\"/>\r\n   </g>\r\n   <g id=\"patch_6\">\r\n    <path d=\"M 43.78125 7.2 \r\nL 378.58125 7.2 \r\n\" style=\"fill:none;stroke:#000000;stroke-linecap:square;stroke-linejoin:miter;stroke-width:0.8;\"/>\r\n   </g>\r\n   <g id=\"legend_1\">\r\n    <g id=\"patch_7\">\r\n     <path d=\"M 177.715625 219.64 \r\nL 371.58125 219.64 \r\nQ 373.58125 219.64 373.58125 217.64 \r\nL 373.58125 203.961875 \r\nQ 373.58125 201.961875 371.58125 201.961875 \r\nL 177.715625 201.961875 \r\nQ 175.715625 201.961875 175.715625 203.961875 \r\nL 175.715625 217.64 \r\nQ 175.715625 219.64 177.715625 219.64 \r\nz\r\n\" style=\"fill:#ffffff;opacity:0.8;stroke:#cccccc;stroke-linejoin:miter;\"/>\r\n    </g>\r\n    <g id=\"line2d_14\">\r\n     <path d=\"M 179.715625 210.060312 \r\nL 199.715625 210.060312 \r\n\" style=\"fill:none;stroke:#1f77b4;stroke-linecap:square;stroke-width:1.5;\"/>\r\n    </g>\r\n    <g id=\"line2d_15\"/>\r\n    <g id=\"text_15\">\r\n     <!-- LogisticRegression (AUC = 0.85) -->\r\n     <defs>\r\n      <path d=\"M 9.8125 72.90625 \r\nL 19.671875 72.90625 \r\nL 19.671875 8.296875 \r\nL 55.171875 8.296875 \r\nL 55.171875 0 \r\nL 9.8125 0 \r\nz\r\n\" id=\"DejaVuSans-76\"/>\r\n      <path d=\"M 45.40625 27.984375 \r\nQ 45.40625 37.75 41.375 43.109375 \r\nQ 37.359375 48.484375 30.078125 48.484375 \r\nQ 22.859375 48.484375 18.828125 43.109375 \r\nQ 14.796875 37.75 14.796875 27.984375 \r\nQ 14.796875 18.265625 18.828125 12.890625 \r\nQ 22.859375 7.515625 30.078125 7.515625 \r\nQ 37.359375 7.515625 41.375 12.890625 \r\nQ 45.40625 18.265625 45.40625 27.984375 \r\nz\r\nM 54.390625 6.78125 \r\nQ 54.390625 -7.171875 48.1875 -13.984375 \r\nQ 42 -20.796875 29.203125 -20.796875 \r\nQ 24.46875 -20.796875 20.265625 -20.09375 \r\nQ 16.0625 -19.390625 12.109375 -17.921875 \r\nL 12.109375 -9.1875 \r\nQ 16.0625 -11.328125 19.921875 -12.34375 \r\nQ 23.78125 -13.375 27.78125 -13.375 \r\nQ 36.625 -13.375 41.015625 -8.765625 \r\nQ 45.40625 -4.15625 45.40625 5.171875 \r\nL 45.40625 9.625 \r\nQ 42.625 4.78125 38.28125 2.390625 \r\nQ 33.9375 0 27.875 0 \r\nQ 17.828125 0 11.671875 7.65625 \r\nQ 5.515625 15.328125 5.515625 27.984375 \r\nQ 5.515625 40.671875 11.671875 48.328125 \r\nQ 17.828125 56 27.875 56 \r\nQ 33.9375 56 38.28125 53.609375 \r\nQ 42.625 51.21875 45.40625 46.390625 \r\nL 45.40625 54.6875 \r\nL 54.390625 54.6875 \r\nz\r\n\" id=\"DejaVuSans-103\"/>\r\n      <path d=\"M 48.78125 52.59375 \r\nL 48.78125 44.1875 \r\nQ 44.96875 46.296875 41.140625 47.34375 \r\nQ 37.3125 48.390625 33.40625 48.390625 \r\nQ 24.65625 48.390625 19.8125 42.84375 \r\nQ 14.984375 37.3125 14.984375 27.296875 \r\nQ 14.984375 17.28125 19.8125 11.734375 \r\nQ 24.65625 6.203125 33.40625 6.203125 \r\nQ 37.3125 6.203125 41.140625 7.25 \r\nQ 44.96875 8.296875 48.78125 10.40625 \r\nL 48.78125 2.09375 \r\nQ 45.015625 0.34375 40.984375 -0.53125 \r\nQ 36.96875 -1.421875 32.421875 -1.421875 \r\nQ 20.0625 -1.421875 12.78125 6.34375 \r\nQ 5.515625 14.109375 5.515625 27.296875 \r\nQ 5.515625 40.671875 12.859375 48.328125 \r\nQ 20.21875 56 33.015625 56 \r\nQ 37.15625 56 41.109375 55.140625 \r\nQ 45.0625 54.296875 48.78125 52.59375 \r\nz\r\n\" id=\"DejaVuSans-99\"/>\r\n      <path d=\"M 54.890625 33.015625 \r\nL 54.890625 0 \r\nL 45.90625 0 \r\nL 45.90625 32.71875 \r\nQ 45.90625 40.484375 42.875 44.328125 \r\nQ 39.84375 48.1875 33.796875 48.1875 \r\nQ 26.515625 48.1875 22.3125 43.546875 \r\nQ 18.109375 38.921875 18.109375 30.90625 \r\nL 18.109375 0 \r\nL 9.078125 0 \r\nL 9.078125 54.6875 \r\nL 18.109375 54.6875 \r\nL 18.109375 46.1875 \r\nQ 21.34375 51.125 25.703125 53.5625 \r\nQ 30.078125 56 35.796875 56 \r\nQ 45.21875 56 50.046875 50.171875 \r\nQ 54.890625 44.34375 54.890625 33.015625 \r\nz\r\n\" id=\"DejaVuSans-110\"/>\r\n      <path d=\"M 31 75.875 \r\nQ 24.46875 64.65625 21.28125 53.65625 \r\nQ 18.109375 42.671875 18.109375 31.390625 \r\nQ 18.109375 20.125 21.3125 9.0625 \r\nQ 24.515625 -2 31 -13.1875 \r\nL 23.1875 -13.1875 \r\nQ 15.875 -1.703125 12.234375 9.375 \r\nQ 8.59375 20.453125 8.59375 31.390625 \r\nQ 8.59375 42.28125 12.203125 53.3125 \r\nQ 15.828125 64.359375 23.1875 75.875 \r\nz\r\n\" id=\"DejaVuSans-40\"/>\r\n      <path d=\"M 34.1875 63.1875 \r\nL 20.796875 26.90625 \r\nL 47.609375 26.90625 \r\nz\r\nM 28.609375 72.90625 \r\nL 39.796875 72.90625 \r\nL 67.578125 0 \r\nL 57.328125 0 \r\nL 50.6875 18.703125 \r\nL 17.828125 18.703125 \r\nL 11.1875 0 \r\nL 0.78125 0 \r\nz\r\n\" id=\"DejaVuSans-65\"/>\r\n      <path d=\"M 8.6875 72.90625 \r\nL 18.609375 72.90625 \r\nL 18.609375 28.609375 \r\nQ 18.609375 16.890625 22.84375 11.734375 \r\nQ 27.09375 6.59375 36.625 6.59375 \r\nQ 46.09375 6.59375 50.34375 11.734375 \r\nQ 54.59375 16.890625 54.59375 28.609375 \r\nL 54.59375 72.90625 \r\nL 64.5 72.90625 \r\nL 64.5 27.390625 \r\nQ 64.5 13.140625 57.4375 5.859375 \r\nQ 50.390625 -1.421875 36.625 -1.421875 \r\nQ 22.796875 -1.421875 15.734375 5.859375 \r\nQ 8.6875 13.140625 8.6875 27.390625 \r\nz\r\n\" id=\"DejaVuSans-85\"/>\r\n      <path d=\"M 64.40625 67.28125 \r\nL 64.40625 56.890625 \r\nQ 59.421875 61.53125 53.78125 63.8125 \r\nQ 48.140625 66.109375 41.796875 66.109375 \r\nQ 29.296875 66.109375 22.65625 58.46875 \r\nQ 16.015625 50.828125 16.015625 36.375 \r\nQ 16.015625 21.96875 22.65625 14.328125 \r\nQ 29.296875 6.6875 41.796875 6.6875 \r\nQ 48.140625 6.6875 53.78125 8.984375 \r\nQ 59.421875 11.28125 64.40625 15.921875 \r\nL 64.40625 5.609375 \r\nQ 59.234375 2.09375 53.4375 0.328125 \r\nQ 47.65625 -1.421875 41.21875 -1.421875 \r\nQ 24.65625 -1.421875 15.125 8.703125 \r\nQ 5.609375 18.84375 5.609375 36.375 \r\nQ 5.609375 53.953125 15.125 64.078125 \r\nQ 24.65625 74.21875 41.21875 74.21875 \r\nQ 47.75 74.21875 53.53125 72.484375 \r\nQ 59.328125 70.75 64.40625 67.28125 \r\nz\r\n\" id=\"DejaVuSans-67\"/>\r\n      <path d=\"M 10.59375 45.40625 \r\nL 73.1875 45.40625 \r\nL 73.1875 37.203125 \r\nL 10.59375 37.203125 \r\nz\r\nM 10.59375 25.484375 \r\nL 73.1875 25.484375 \r\nL 73.1875 17.1875 \r\nL 10.59375 17.1875 \r\nz\r\n\" id=\"DejaVuSans-61\"/>\r\n      <path d=\"M 10.796875 72.90625 \r\nL 49.515625 72.90625 \r\nL 49.515625 64.59375 \r\nL 19.828125 64.59375 \r\nL 19.828125 46.734375 \r\nQ 21.96875 47.46875 24.109375 47.828125 \r\nQ 26.265625 48.1875 28.421875 48.1875 \r\nQ 40.625 48.1875 47.75 41.5 \r\nQ 54.890625 34.8125 54.890625 23.390625 \r\nQ 54.890625 11.625 47.5625 5.09375 \r\nQ 40.234375 -1.421875 26.90625 -1.421875 \r\nQ 22.3125 -1.421875 17.546875 -0.640625 \r\nQ 12.796875 0.140625 7.71875 1.703125 \r\nL 7.71875 11.625 \r\nQ 12.109375 9.234375 16.796875 8.0625 \r\nQ 21.484375 6.890625 26.703125 6.890625 \r\nQ 35.15625 6.890625 40.078125 11.328125 \r\nQ 45.015625 15.765625 45.015625 23.390625 \r\nQ 45.015625 31 40.078125 35.4375 \r\nQ 35.15625 39.890625 26.703125 39.890625 \r\nQ 22.75 39.890625 18.8125 39.015625 \r\nQ 14.890625 38.140625 10.796875 36.28125 \r\nz\r\n\" id=\"DejaVuSans-53\"/>\r\n      <path d=\"M 8.015625 75.875 \r\nL 15.828125 75.875 \r\nQ 23.140625 64.359375 26.78125 53.3125 \r\nQ 30.421875 42.28125 30.421875 31.390625 \r\nQ 30.421875 20.453125 26.78125 9.375 \r\nQ 23.140625 -1.703125 15.828125 -13.1875 \r\nL 8.015625 -13.1875 \r\nQ 14.5 -2 17.703125 9.0625 \r\nQ 20.90625 20.125 20.90625 31.390625 \r\nQ 20.90625 42.671875 17.703125 53.65625 \r\nQ 14.5 64.65625 8.015625 75.875 \r\nz\r\n\" id=\"DejaVuSans-41\"/>\r\n     </defs>\r\n     <g transform=\"translate(207.715625 213.560312)scale(0.1 -0.1)\">\r\n      <use xlink:href=\"#DejaVuSans-76\"/>\r\n      <use x=\"53.962891\" xlink:href=\"#DejaVuSans-111\"/>\r\n      <use x=\"115.144531\" xlink:href=\"#DejaVuSans-103\"/>\r\n      <use x=\"178.621094\" xlink:href=\"#DejaVuSans-105\"/>\r\n      <use x=\"206.404297\" xlink:href=\"#DejaVuSans-115\"/>\r\n      <use x=\"258.503906\" xlink:href=\"#DejaVuSans-116\"/>\r\n      <use x=\"297.712891\" xlink:href=\"#DejaVuSans-105\"/>\r\n      <use x=\"325.496094\" xlink:href=\"#DejaVuSans-99\"/>\r\n      <use x=\"380.476562\" xlink:href=\"#DejaVuSans-82\"/>\r\n      <use x=\"445.458984\" xlink:href=\"#DejaVuSans-101\"/>\r\n      <use x=\"506.982422\" xlink:href=\"#DejaVuSans-103\"/>\r\n      <use x=\"570.458984\" xlink:href=\"#DejaVuSans-114\"/>\r\n      <use x=\"609.322266\" xlink:href=\"#DejaVuSans-101\"/>\r\n      <use x=\"670.845703\" xlink:href=\"#DejaVuSans-115\"/>\r\n      <use x=\"722.945312\" xlink:href=\"#DejaVuSans-115\"/>\r\n      <use x=\"775.044922\" xlink:href=\"#DejaVuSans-105\"/>\r\n      <use x=\"802.828125\" xlink:href=\"#DejaVuSans-111\"/>\r\n      <use x=\"864.009766\" xlink:href=\"#DejaVuSans-110\"/>\r\n      <use x=\"927.388672\" xlink:href=\"#DejaVuSans-32\"/>\r\n      <use x=\"959.175781\" xlink:href=\"#DejaVuSans-40\"/>\r\n      <use x=\"998.189453\" xlink:href=\"#DejaVuSans-65\"/>\r\n      <use x=\"1066.597656\" xlink:href=\"#DejaVuSans-85\"/>\r\n      <use x=\"1139.791016\" xlink:href=\"#DejaVuSans-67\"/>\r\n      <use x=\"1209.615234\" xlink:href=\"#DejaVuSans-32\"/>\r\n      <use x=\"1241.402344\" xlink:href=\"#DejaVuSans-61\"/>\r\n      <use x=\"1325.191406\" xlink:href=\"#DejaVuSans-32\"/>\r\n      <use x=\"1356.978516\" xlink:href=\"#DejaVuSans-48\"/>\r\n      <use x=\"1420.601562\" xlink:href=\"#DejaVuSans-46\"/>\r\n      <use x=\"1452.388672\" xlink:href=\"#DejaVuSans-56\"/>\r\n      <use x=\"1516.011719\" xlink:href=\"#DejaVuSans-53\"/>\r\n      <use x=\"1579.634766\" xlink:href=\"#DejaVuSans-41\"/>\r\n     </g>\r\n    </g>\r\n   </g>\r\n  </g>\r\n </g>\r\n <defs>\r\n  <clipPath id=\"pdecd7a6f45\">\r\n   <rect height=\"217.44\" width=\"334.8\" x=\"43.78125\" y=\"7.2\"/>\r\n  </clipPath>\r\n </defs>\r\n</svg>\r\n",
      "image/png": "[encoded data removed]"
     },
     "metadata": {
      "needs_background": "light"
     }
    }
   ],
   "source": [
    "plot_roc_curve(grid_clf.best_estimator_, X_test, y_test)\n",
    "plt.show()"
   ]
  },
  {
   "source": [
    "**AUC-ROC** - это метрика, которая позволяет графически просто проиллюстрировать качество модели машинного обучения.\n",
    "\n",
    "В единичном квадрате в осях False Positive Rate: $FPR = \\frac{TP}{TP + FN}$ - и True Positive Rate: $TPR = \\frac{FP}{FP + TN}$ - строится кривая следующим образом:\n",
    "\n",
    "Вероятности ответа модели на тестовой выборке сортируются по убыванию вместе с соответствующей меткой класса. В случае, когда модель дала правильный ответ (**TP**, **TN**), график идет вверх на определенную величину, в случае ложного ответа (**FP**, **FN**) кривая уходит вправо.\n",
    "\n",
    "График начинается в точке $(0, 0)$ и заканчивается в точке $(1, 0)$.\n",
    "\n",
    "Считается, что чем выше кривая находится над прямой $y = x$, тем лучше качество работы классификатора. \n",
    "\n",
    "Однако, не всегда данная метрика применима. Например, когда мы не можем количественно описать принадлежность объекта к определенному классу. Также он не является уместным показателем, когда важность **FP** и **FN** у нас сильно рознится и надо оптимизировать один тип ошибки классификации."
   ],
   "cell_type": "markdown",
   "metadata": {}
  },
  {
   "source": [
    "** Важность признаков **"
   ],
   "cell_type": "markdown",
   "metadata": {}
  },
  {
   "cell_type": "code",
   "execution_count": 202,
   "metadata": {},
   "outputs": [
    {
     "output_type": "execute_result",
     "data": {
      "text/plain": [
       "array([-1.33197243,  0.5843871 , -0.41034001])"
      ]
     },
     "metadata": {},
     "execution_count": 202
    }
   ],
   "source": [
    "model_coefs = grid_clf.best_estimator_.coef_[0]\n",
    "max_indices = (-np.abs(model_coefs)).argsort()[:3]\n",
    "model_coefs[max_indices]"
   ]
  },
  {
   "cell_type": "code",
   "execution_count": 203,
   "metadata": {},
   "outputs": [
    {
     "output_type": "execute_result",
     "data": {
      "text/plain": [
       "      Tenure  Total Charges  Monthly Charges\n",
       "0          1          29.85            29.85\n",
       "1         34        1889.50            56.95\n",
       "2          2         108.15            53.85\n",
       "3         45        1840.75            42.30\n",
       "4          2         151.65            70.70\n",
       "...      ...            ...              ...\n",
       "6494      26         786.50            29.80\n",
       "6495       1          69.65            69.65\n",
       "6496      40        4086.30           101.85\n",
       "6497      52        5364.80           103.05\n",
       "6498       1          82.30            82.30\n",
       "\n",
       "[6499 rows x 3 columns]"
      ],
      "text/html": "<div>\n<style scoped>\n    .dataframe tbody tr th:only-of-type {\n        vertical-align: middle;\n    }\n\n    .dataframe tbody tr th {\n        vertical-align: top;\n    }\n\n    .dataframe thead th {\n        text-align: right;\n    }\n</style>\n<table border=\"1\" class=\"dataframe\">\n  <thead>\n    <tr style=\"text-align: right;\">\n      <th></th>\n      <th>Tenure</th>\n      <th>Total Charges</th>\n      <th>Monthly Charges</th>\n    </tr>\n  </thead>\n  <tbody>\n    <tr>\n      <th>0</th>\n      <td>1</td>\n      <td>29.85</td>\n      <td>29.85</td>\n    </tr>\n    <tr>\n      <th>1</th>\n      <td>34</td>\n      <td>1889.50</td>\n      <td>56.95</td>\n    </tr>\n    <tr>\n      <th>2</th>\n      <td>2</td>\n      <td>108.15</td>\n      <td>53.85</td>\n    </tr>\n    <tr>\n      <th>3</th>\n      <td>45</td>\n      <td>1840.75</td>\n      <td>42.30</td>\n    </tr>\n    <tr>\n      <th>4</th>\n      <td>2</td>\n      <td>151.65</td>\n      <td>70.70</td>\n    </tr>\n    <tr>\n      <th>...</th>\n      <td>...</td>\n      <td>...</td>\n      <td>...</td>\n    </tr>\n    <tr>\n      <th>6494</th>\n      <td>26</td>\n      <td>786.50</td>\n      <td>29.80</td>\n    </tr>\n    <tr>\n      <th>6495</th>\n      <td>1</td>\n      <td>69.65</td>\n      <td>69.65</td>\n    </tr>\n    <tr>\n      <th>6496</th>\n      <td>40</td>\n      <td>4086.30</td>\n      <td>101.85</td>\n    </tr>\n    <tr>\n      <th>6497</th>\n      <td>52</td>\n      <td>5364.80</td>\n      <td>103.05</td>\n    </tr>\n    <tr>\n      <th>6498</th>\n      <td>1</td>\n      <td>82.30</td>\n      <td>82.30</td>\n    </tr>\n  </tbody>\n</table>\n<p>6499 rows × 3 columns</p>\n</div>"
     },
     "metadata": {},
     "execution_count": 203
    }
   ],
   "source": [
    "X_df.iloc[:, max_indices]"
   ]
  },
  {
   "source": [
    "Как можно видеть, важную роль в данных играет сумма итоговых сборов за услуги."
   ],
   "cell_type": "markdown",
   "metadata": {}
  },
  {
   "cell_type": "markdown",
   "metadata": {},
   "source": [
    "Вспомните курс \"Нейронные сети и генетические алгоритмы\", найдите в sklearn реализацию линейного варианта SVM и обучите на данных с параметрами по вашему выбору и сравните качество с логистической регрессией. \n",
    "\n",
    "Можно ли вычислять ROC-AUC для SVM?"
   ]
  },
  {
   "cell_type": "code",
   "execution_count": 204,
   "metadata": {},
   "outputs": [],
   "source": [
    "from sklearn.svm import LinearSVC"
   ]
  },
  {
   "cell_type": "code",
   "execution_count": 205,
   "metadata": {},
   "outputs": [
    {
     "output_type": "execute_result",
     "data": {
      "text/plain": [
       "LinearSVC(C=1.0, class_weight={0: 0.3, 1: 0.7}, dual=True, fit_intercept=True,\n",
       "          intercept_scaling=1, loss='squared_hinge', max_iter=1500,\n",
       "          multi_class='ovr', penalty='l2', random_state=None, tol=0.0001,\n",
       "          verbose=0)"
      ]
     },
     "metadata": {},
     "execution_count": 205
    }
   ],
   "source": [
    "svm_clf = LinearSVC(class_weight={0: 0.3, 1: 0.7}, max_iter=1500)\n",
    "svm_clf.fit(X_train, y_train)"
   ]
  },
  {
   "cell_type": "code",
   "execution_count": 206,
   "metadata": {},
   "outputs": [
    {
     "output_type": "stream",
     "name": "stdout",
     "text": [
      "Accuracy: 75.154% \nPrecision: 52.099%\nRecall: 79.130%\nF1 score: 62.831% \nROC-AUC score: 84.370%\n"
     ]
    }
   ],
   "source": [
    "y_pred = svm_clf.decision_function(X_test)\n",
    "print_metrics(y_test, y_pred, model='svm')"
   ]
  },
  {
   "cell_type": "code",
   "execution_count": 207,
   "metadata": {},
   "outputs": [
    {
     "output_type": "display_data",
     "data": {
      "text/plain": "<Figure size 432x288 with 1 Axes>",
      "image/svg+xml": "<?xml version=\"1.0\" encoding=\"utf-8\" standalone=\"no\"?>\r\n<!DOCTYPE svg PUBLIC \"-//W3C//DTD SVG 1.1//EN\"\r\n  \"http://www.w3.org/Graphics/SVG/1.1/DTD/svg11.dtd\">\r\n<!-- Created with matplotlib (https://matplotlib.org/) -->\r\n<svg height=\"262.19625pt\" version=\"1.1\" viewBox=\"0 0 385.78125 262.19625\" width=\"385.78125pt\" xmlns=\"http://www.w3.org/2000/svg\" xmlns:xlink=\"http://www.w3.org/1999/xlink\">\r\n <defs>\r\n  <style type=\"text/css\">\r\n*{stroke-linecap:butt;stroke-linejoin:round;}\r\n  </style>\r\n </defs>\r\n <g id=\"figure_1\">\r\n  <g id=\"patch_1\">\r\n   <path d=\"M 0 262.19625 \r\nL 385.78125 262.19625 \r\nL 385.78125 0 \r\nL 0 0 \r\nz\r\n\" style=\"fill:none;\"/>\r\n  </g>\r\n  <g id=\"axes_1\">\r\n   <g id=\"patch_2\">\r\n    <path d=\"M 43.78125 224.64 \r\nL 378.58125 224.64 \r\nL 378.58125 7.2 \r\nL 43.78125 7.2 \r\nz\r\n\" style=\"fill:#ffffff;\"/>\r\n   </g>\r\n   <g id=\"matplotlib.axis_1\">\r\n    <g id=\"xtick_1\">\r\n     <g id=\"line2d_1\">\r\n      <defs>\r\n       <path d=\"M 0 0 \r\nL 0 3.5 \r\n\" id=\"mda7a22bf09\" style=\"stroke:#000000;stroke-width:0.8;\"/>\r\n      </defs>\r\n      <g>\r\n       <use style=\"stroke:#000000;stroke-width:0.8;\" x=\"58.999432\" xlink:href=\"#mda7a22bf09\" y=\"224.64\"/>\r\n      </g>\r\n     </g>\r\n     <g id=\"text_1\">\r\n      <!-- 0.0 -->\r\n      <defs>\r\n       <path d=\"M 31.78125 66.40625 \r\nQ 24.171875 66.40625 20.328125 58.90625 \r\nQ 16.5 51.421875 16.5 36.375 \r\nQ 16.5 21.390625 20.328125 13.890625 \r\nQ 24.171875 6.390625 31.78125 6.390625 \r\nQ 39.453125 6.390625 43.28125 13.890625 \r\nQ 47.125 21.390625 47.125 36.375 \r\nQ 47.125 51.421875 43.28125 58.90625 \r\nQ 39.453125 66.40625 31.78125 66.40625 \r\nz\r\nM 31.78125 74.21875 \r\nQ 44.046875 74.21875 50.515625 64.515625 \r\nQ 56.984375 54.828125 56.984375 36.375 \r\nQ 56.984375 17.96875 50.515625 8.265625 \r\nQ 44.046875 -1.421875 31.78125 -1.421875 \r\nQ 19.53125 -1.421875 13.0625 8.265625 \r\nQ 6.59375 17.96875 6.59375 36.375 \r\nQ 6.59375 54.828125 13.0625 64.515625 \r\nQ 19.53125 74.21875 31.78125 74.21875 \r\nz\r\n\" id=\"DejaVuSans-48\"/>\r\n       <path d=\"M 10.6875 12.40625 \r\nL 21 12.40625 \r\nL 21 0 \r\nL 10.6875 0 \r\nz\r\n\" id=\"DejaVuSans-46\"/>\r\n      </defs>\r\n      <g transform=\"translate(51.047869 239.238437)scale(0.1 -0.1)\">\r\n       <use xlink:href=\"#DejaVuSans-48\"/>\r\n       <use x=\"63.623047\" xlink:href=\"#DejaVuSans-46\"/>\r\n       <use x=\"95.410156\" xlink:href=\"#DejaVuSans-48\"/>\r\n      </g>\r\n     </g>\r\n    </g>\r\n    <g id=\"xtick_2\">\r\n     <g id=\"line2d_2\">\r\n      <g>\r\n       <use style=\"stroke:#000000;stroke-width:0.8;\" x=\"119.872159\" xlink:href=\"#mda7a22bf09\" y=\"224.64\"/>\r\n      </g>\r\n     </g>\r\n     <g id=\"text_2\">\r\n      <!-- 0.2 -->\r\n      <defs>\r\n       <path d=\"M 19.1875 8.296875 \r\nL 53.609375 8.296875 \r\nL 53.609375 0 \r\nL 7.328125 0 \r\nL 7.328125 8.296875 \r\nQ 12.9375 14.109375 22.625 23.890625 \r\nQ 32.328125 33.6875 34.8125 36.53125 \r\nQ 39.546875 41.84375 41.421875 45.53125 \r\nQ 43.3125 49.21875 43.3125 52.78125 \r\nQ 43.3125 58.59375 39.234375 62.25 \r\nQ 35.15625 65.921875 28.609375 65.921875 \r\nQ 23.96875 65.921875 18.8125 64.3125 \r\nQ 13.671875 62.703125 7.8125 59.421875 \r\nL 7.8125 69.390625 \r\nQ 13.765625 71.78125 18.9375 73 \r\nQ 24.125 74.21875 28.421875 74.21875 \r\nQ 39.75 74.21875 46.484375 68.546875 \r\nQ 53.21875 62.890625 53.21875 53.421875 \r\nQ 53.21875 48.921875 51.53125 44.890625 \r\nQ 49.859375 40.875 45.40625 35.40625 \r\nQ 44.1875 33.984375 37.640625 27.21875 \r\nQ 31.109375 20.453125 19.1875 8.296875 \r\nz\r\n\" id=\"DejaVuSans-50\"/>\r\n      </defs>\r\n      <g transform=\"translate(111.920597 239.238437)scale(0.1 -0.1)\">\r\n       <use xlink:href=\"#DejaVuSans-48\"/>\r\n       <use x=\"63.623047\" xlink:href=\"#DejaVuSans-46\"/>\r\n       <use x=\"95.410156\" xlink:href=\"#DejaVuSans-50\"/>\r\n      </g>\r\n     </g>\r\n    </g>\r\n    <g id=\"xtick_3\">\r\n     <g id=\"line2d_3\">\r\n      <g>\r\n       <use style=\"stroke:#000000;stroke-width:0.8;\" x=\"180.744886\" xlink:href=\"#mda7a22bf09\" y=\"224.64\"/>\r\n      </g>\r\n     </g>\r\n     <g id=\"text_3\">\r\n      <!-- 0.4 -->\r\n      <defs>\r\n       <path d=\"M 37.796875 64.3125 \r\nL 12.890625 25.390625 \r\nL 37.796875 25.390625 \r\nz\r\nM 35.203125 72.90625 \r\nL 47.609375 72.90625 \r\nL 47.609375 25.390625 \r\nL 58.015625 25.390625 \r\nL 58.015625 17.1875 \r\nL 47.609375 17.1875 \r\nL 47.609375 0 \r\nL 37.796875 0 \r\nL 37.796875 17.1875 \r\nL 4.890625 17.1875 \r\nL 4.890625 26.703125 \r\nz\r\n\" id=\"DejaVuSans-52\"/>\r\n      </defs>\r\n      <g transform=\"translate(172.793324 239.238437)scale(0.1 -0.1)\">\r\n       <use xlink:href=\"#DejaVuSans-48\"/>\r\n       <use x=\"63.623047\" xlink:href=\"#DejaVuSans-46\"/>\r\n       <use x=\"95.410156\" xlink:href=\"#DejaVuSans-52\"/>\r\n      </g>\r\n     </g>\r\n    </g>\r\n    <g id=\"xtick_4\">\r\n     <g id=\"line2d_4\">\r\n      <g>\r\n       <use style=\"stroke:#000000;stroke-width:0.8;\" x=\"241.617614\" xlink:href=\"#mda7a22bf09\" y=\"224.64\"/>\r\n      </g>\r\n     </g>\r\n     <g id=\"text_4\">\r\n      <!-- 0.6 -->\r\n      <defs>\r\n       <path d=\"M 33.015625 40.375 \r\nQ 26.375 40.375 22.484375 35.828125 \r\nQ 18.609375 31.296875 18.609375 23.390625 \r\nQ 18.609375 15.53125 22.484375 10.953125 \r\nQ 26.375 6.390625 33.015625 6.390625 \r\nQ 39.65625 6.390625 43.53125 10.953125 \r\nQ 47.40625 15.53125 47.40625 23.390625 \r\nQ 47.40625 31.296875 43.53125 35.828125 \r\nQ 39.65625 40.375 33.015625 40.375 \r\nz\r\nM 52.59375 71.296875 \r\nL 52.59375 62.3125 \r\nQ 48.875 64.0625 45.09375 64.984375 \r\nQ 41.3125 65.921875 37.59375 65.921875 \r\nQ 27.828125 65.921875 22.671875 59.328125 \r\nQ 17.53125 52.734375 16.796875 39.40625 \r\nQ 19.671875 43.65625 24.015625 45.921875 \r\nQ 28.375 48.1875 33.59375 48.1875 \r\nQ 44.578125 48.1875 50.953125 41.515625 \r\nQ 57.328125 34.859375 57.328125 23.390625 \r\nQ 57.328125 12.15625 50.6875 5.359375 \r\nQ 44.046875 -1.421875 33.015625 -1.421875 \r\nQ 20.359375 -1.421875 13.671875 8.265625 \r\nQ 6.984375 17.96875 6.984375 36.375 \r\nQ 6.984375 53.65625 15.1875 63.9375 \r\nQ 23.390625 74.21875 37.203125 74.21875 \r\nQ 40.921875 74.21875 44.703125 73.484375 \r\nQ 48.484375 72.75 52.59375 71.296875 \r\nz\r\n\" id=\"DejaVuSans-54\"/>\r\n      </defs>\r\n      <g transform=\"translate(233.666051 239.238437)scale(0.1 -0.1)\">\r\n       <use xlink:href=\"#DejaVuSans-48\"/>\r\n       <use x=\"63.623047\" xlink:href=\"#DejaVuSans-46\"/>\r\n       <use x=\"95.410156\" xlink:href=\"#DejaVuSans-54\"/>\r\n      </g>\r\n     </g>\r\n    </g>\r\n    <g id=\"xtick_5\">\r\n     <g id=\"line2d_5\">\r\n      <g>\r\n       <use style=\"stroke:#000000;stroke-width:0.8;\" x=\"302.490341\" xlink:href=\"#mda7a22bf09\" y=\"224.64\"/>\r\n      </g>\r\n     </g>\r\n     <g id=\"text_5\">\r\n      <!-- 0.8 -->\r\n      <defs>\r\n       <path d=\"M 31.78125 34.625 \r\nQ 24.75 34.625 20.71875 30.859375 \r\nQ 16.703125 27.09375 16.703125 20.515625 \r\nQ 16.703125 13.921875 20.71875 10.15625 \r\nQ 24.75 6.390625 31.78125 6.390625 \r\nQ 38.8125 6.390625 42.859375 10.171875 \r\nQ 46.921875 13.96875 46.921875 20.515625 \r\nQ 46.921875 27.09375 42.890625 30.859375 \r\nQ 38.875 34.625 31.78125 34.625 \r\nz\r\nM 21.921875 38.8125 \r\nQ 15.578125 40.375 12.03125 44.71875 \r\nQ 8.5 49.078125 8.5 55.328125 \r\nQ 8.5 64.0625 14.71875 69.140625 \r\nQ 20.953125 74.21875 31.78125 74.21875 \r\nQ 42.671875 74.21875 48.875 69.140625 \r\nQ 55.078125 64.0625 55.078125 55.328125 \r\nQ 55.078125 49.078125 51.53125 44.71875 \r\nQ 48 40.375 41.703125 38.8125 \r\nQ 48.828125 37.15625 52.796875 32.3125 \r\nQ 56.78125 27.484375 56.78125 20.515625 \r\nQ 56.78125 9.90625 50.3125 4.234375 \r\nQ 43.84375 -1.421875 31.78125 -1.421875 \r\nQ 19.734375 -1.421875 13.25 4.234375 \r\nQ 6.78125 9.90625 6.78125 20.515625 \r\nQ 6.78125 27.484375 10.78125 32.3125 \r\nQ 14.796875 37.15625 21.921875 38.8125 \r\nz\r\nM 18.3125 54.390625 \r\nQ 18.3125 48.734375 21.84375 45.5625 \r\nQ 25.390625 42.390625 31.78125 42.390625 \r\nQ 38.140625 42.390625 41.71875 45.5625 \r\nQ 45.3125 48.734375 45.3125 54.390625 \r\nQ 45.3125 60.0625 41.71875 63.234375 \r\nQ 38.140625 66.40625 31.78125 66.40625 \r\nQ 25.390625 66.40625 21.84375 63.234375 \r\nQ 18.3125 60.0625 18.3125 54.390625 \r\nz\r\n\" id=\"DejaVuSans-56\"/>\r\n      </defs>\r\n      <g transform=\"translate(294.538778 239.238437)scale(0.1 -0.1)\">\r\n       <use xlink:href=\"#DejaVuSans-48\"/>\r\n       <use x=\"63.623047\" xlink:href=\"#DejaVuSans-46\"/>\r\n       <use x=\"95.410156\" xlink:href=\"#DejaVuSans-56\"/>\r\n      </g>\r\n     </g>\r\n    </g>\r\n    <g id=\"xtick_6\">\r\n     <g id=\"line2d_6\">\r\n      <g>\r\n       <use style=\"stroke:#000000;stroke-width:0.8;\" x=\"363.363068\" xlink:href=\"#mda7a22bf09\" y=\"224.64\"/>\r\n      </g>\r\n     </g>\r\n     <g id=\"text_6\">\r\n      <!-- 1.0 -->\r\n      <defs>\r\n       <path d=\"M 12.40625 8.296875 \r\nL 28.515625 8.296875 \r\nL 28.515625 63.921875 \r\nL 10.984375 60.40625 \r\nL 10.984375 69.390625 \r\nL 28.421875 72.90625 \r\nL 38.28125 72.90625 \r\nL 38.28125 8.296875 \r\nL 54.390625 8.296875 \r\nL 54.390625 0 \r\nL 12.40625 0 \r\nz\r\n\" id=\"DejaVuSans-49\"/>\r\n      </defs>\r\n      <g transform=\"translate(355.411506 239.238437)scale(0.1 -0.1)\">\r\n       <use xlink:href=\"#DejaVuSans-49\"/>\r\n       <use x=\"63.623047\" xlink:href=\"#DejaVuSans-46\"/>\r\n       <use x=\"95.410156\" xlink:href=\"#DejaVuSans-48\"/>\r\n      </g>\r\n     </g>\r\n    </g>\r\n    <g id=\"text_7\">\r\n     <!-- False Positive Rate -->\r\n     <defs>\r\n      <path d=\"M 9.8125 72.90625 \r\nL 51.703125 72.90625 \r\nL 51.703125 64.59375 \r\nL 19.671875 64.59375 \r\nL 19.671875 43.109375 \r\nL 48.578125 43.109375 \r\nL 48.578125 34.8125 \r\nL 19.671875 34.8125 \r\nL 19.671875 0 \r\nL 9.8125 0 \r\nz\r\n\" id=\"DejaVuSans-70\"/>\r\n      <path d=\"M 34.28125 27.484375 \r\nQ 23.390625 27.484375 19.1875 25 \r\nQ 14.984375 22.515625 14.984375 16.5 \r\nQ 14.984375 11.71875 18.140625 8.90625 \r\nQ 21.296875 6.109375 26.703125 6.109375 \r\nQ 34.1875 6.109375 38.703125 11.40625 \r\nQ 43.21875 16.703125 43.21875 25.484375 \r\nL 43.21875 27.484375 \r\nz\r\nM 52.203125 31.203125 \r\nL 52.203125 0 \r\nL 43.21875 0 \r\nL 43.21875 8.296875 \r\nQ 40.140625 3.328125 35.546875 0.953125 \r\nQ 30.953125 -1.421875 24.3125 -1.421875 \r\nQ 15.921875 -1.421875 10.953125 3.296875 \r\nQ 6 8.015625 6 15.921875 \r\nQ 6 25.140625 12.171875 29.828125 \r\nQ 18.359375 34.515625 30.609375 34.515625 \r\nL 43.21875 34.515625 \r\nL 43.21875 35.40625 \r\nQ 43.21875 41.609375 39.140625 45 \r\nQ 35.0625 48.390625 27.6875 48.390625 \r\nQ 23 48.390625 18.546875 47.265625 \r\nQ 14.109375 46.140625 10.015625 43.890625 \r\nL 10.015625 52.203125 \r\nQ 14.9375 54.109375 19.578125 55.046875 \r\nQ 24.21875 56 28.609375 56 \r\nQ 40.484375 56 46.34375 49.84375 \r\nQ 52.203125 43.703125 52.203125 31.203125 \r\nz\r\n\" id=\"DejaVuSans-97\"/>\r\n      <path d=\"M 9.421875 75.984375 \r\nL 18.40625 75.984375 \r\nL 18.40625 0 \r\nL 9.421875 0 \r\nz\r\n\" id=\"DejaVuSans-108\"/>\r\n      <path d=\"M 44.28125 53.078125 \r\nL 44.28125 44.578125 \r\nQ 40.484375 46.53125 36.375 47.5 \r\nQ 32.28125 48.484375 27.875 48.484375 \r\nQ 21.1875 48.484375 17.84375 46.4375 \r\nQ 14.5 44.390625 14.5 40.28125 \r\nQ 14.5 37.15625 16.890625 35.375 \r\nQ 19.28125 33.59375 26.515625 31.984375 \r\nL 29.59375 31.296875 \r\nQ 39.15625 29.25 43.1875 25.515625 \r\nQ 47.21875 21.78125 47.21875 15.09375 \r\nQ 47.21875 7.46875 41.1875 3.015625 \r\nQ 35.15625 -1.421875 24.609375 -1.421875 \r\nQ 20.21875 -1.421875 15.453125 -0.5625 \r\nQ 10.6875 0.296875 5.421875 2 \r\nL 5.421875 11.28125 \r\nQ 10.40625 8.6875 15.234375 7.390625 \r\nQ 20.0625 6.109375 24.8125 6.109375 \r\nQ 31.15625 6.109375 34.5625 8.28125 \r\nQ 37.984375 10.453125 37.984375 14.40625 \r\nQ 37.984375 18.0625 35.515625 20.015625 \r\nQ 33.0625 21.96875 24.703125 23.78125 \r\nL 21.578125 24.515625 \r\nQ 13.234375 26.265625 9.515625 29.90625 \r\nQ 5.8125 33.546875 5.8125 39.890625 \r\nQ 5.8125 47.609375 11.28125 51.796875 \r\nQ 16.75 56 26.8125 56 \r\nQ 31.78125 56 36.171875 55.265625 \r\nQ 40.578125 54.546875 44.28125 53.078125 \r\nz\r\n\" id=\"DejaVuSans-115\"/>\r\n      <path d=\"M 56.203125 29.59375 \r\nL 56.203125 25.203125 \r\nL 14.890625 25.203125 \r\nQ 15.484375 15.921875 20.484375 11.0625 \r\nQ 25.484375 6.203125 34.421875 6.203125 \r\nQ 39.59375 6.203125 44.453125 7.46875 \r\nQ 49.3125 8.734375 54.109375 11.28125 \r\nL 54.109375 2.78125 \r\nQ 49.265625 0.734375 44.1875 -0.34375 \r\nQ 39.109375 -1.421875 33.890625 -1.421875 \r\nQ 20.796875 -1.421875 13.15625 6.1875 \r\nQ 5.515625 13.8125 5.515625 26.8125 \r\nQ 5.515625 40.234375 12.765625 48.109375 \r\nQ 20.015625 56 32.328125 56 \r\nQ 43.359375 56 49.78125 48.890625 \r\nQ 56.203125 41.796875 56.203125 29.59375 \r\nz\r\nM 47.21875 32.234375 \r\nQ 47.125 39.59375 43.09375 43.984375 \r\nQ 39.0625 48.390625 32.421875 48.390625 \r\nQ 24.90625 48.390625 20.390625 44.140625 \r\nQ 15.875 39.890625 15.1875 32.171875 \r\nz\r\n\" id=\"DejaVuSans-101\"/>\r\n      <path id=\"DejaVuSans-32\"/>\r\n      <path d=\"M 19.671875 64.796875 \r\nL 19.671875 37.40625 \r\nL 32.078125 37.40625 \r\nQ 38.96875 37.40625 42.71875 40.96875 \r\nQ 46.484375 44.53125 46.484375 51.125 \r\nQ 46.484375 57.671875 42.71875 61.234375 \r\nQ 38.96875 64.796875 32.078125 64.796875 \r\nz\r\nM 9.8125 72.90625 \r\nL 32.078125 72.90625 \r\nQ 44.34375 72.90625 50.609375 67.359375 \r\nQ 56.890625 61.8125 56.890625 51.125 \r\nQ 56.890625 40.328125 50.609375 34.8125 \r\nQ 44.34375 29.296875 32.078125 29.296875 \r\nL 19.671875 29.296875 \r\nL 19.671875 0 \r\nL 9.8125 0 \r\nz\r\n\" id=\"DejaVuSans-80\"/>\r\n      <path d=\"M 30.609375 48.390625 \r\nQ 23.390625 48.390625 19.1875 42.75 \r\nQ 14.984375 37.109375 14.984375 27.296875 \r\nQ 14.984375 17.484375 19.15625 11.84375 \r\nQ 23.34375 6.203125 30.609375 6.203125 \r\nQ 37.796875 6.203125 41.984375 11.859375 \r\nQ 46.1875 17.53125 46.1875 27.296875 \r\nQ 46.1875 37.015625 41.984375 42.703125 \r\nQ 37.796875 48.390625 30.609375 48.390625 \r\nz\r\nM 30.609375 56 \r\nQ 42.328125 56 49.015625 48.375 \r\nQ 55.71875 40.765625 55.71875 27.296875 \r\nQ 55.71875 13.875 49.015625 6.21875 \r\nQ 42.328125 -1.421875 30.609375 -1.421875 \r\nQ 18.84375 -1.421875 12.171875 6.21875 \r\nQ 5.515625 13.875 5.515625 27.296875 \r\nQ 5.515625 40.765625 12.171875 48.375 \r\nQ 18.84375 56 30.609375 56 \r\nz\r\n\" id=\"DejaVuSans-111\"/>\r\n      <path d=\"M 9.421875 54.6875 \r\nL 18.40625 54.6875 \r\nL 18.40625 0 \r\nL 9.421875 0 \r\nz\r\nM 9.421875 75.984375 \r\nL 18.40625 75.984375 \r\nL 18.40625 64.59375 \r\nL 9.421875 64.59375 \r\nz\r\n\" id=\"DejaVuSans-105\"/>\r\n      <path d=\"M 18.3125 70.21875 \r\nL 18.3125 54.6875 \r\nL 36.8125 54.6875 \r\nL 36.8125 47.703125 \r\nL 18.3125 47.703125 \r\nL 18.3125 18.015625 \r\nQ 18.3125 11.328125 20.140625 9.421875 \r\nQ 21.96875 7.515625 27.59375 7.515625 \r\nL 36.8125 7.515625 \r\nL 36.8125 0 \r\nL 27.59375 0 \r\nQ 17.1875 0 13.234375 3.875 \r\nQ 9.28125 7.765625 9.28125 18.015625 \r\nL 9.28125 47.703125 \r\nL 2.6875 47.703125 \r\nL 2.6875 54.6875 \r\nL 9.28125 54.6875 \r\nL 9.28125 70.21875 \r\nz\r\n\" id=\"DejaVuSans-116\"/>\r\n      <path d=\"M 2.984375 54.6875 \r\nL 12.5 54.6875 \r\nL 29.59375 8.796875 \r\nL 46.6875 54.6875 \r\nL 56.203125 54.6875 \r\nL 35.6875 0 \r\nL 23.484375 0 \r\nz\r\n\" id=\"DejaVuSans-118\"/>\r\n      <path d=\"M 44.390625 34.1875 \r\nQ 47.5625 33.109375 50.5625 29.59375 \r\nQ 53.5625 26.078125 56.59375 19.921875 \r\nL 66.609375 0 \r\nL 56 0 \r\nL 46.6875 18.703125 \r\nQ 43.0625 26.03125 39.671875 28.421875 \r\nQ 36.28125 30.8125 30.421875 30.8125 \r\nL 19.671875 30.8125 \r\nL 19.671875 0 \r\nL 9.8125 0 \r\nL 9.8125 72.90625 \r\nL 32.078125 72.90625 \r\nQ 44.578125 72.90625 50.734375 67.671875 \r\nQ 56.890625 62.453125 56.890625 51.90625 \r\nQ 56.890625 45.015625 53.6875 40.46875 \r\nQ 50.484375 35.9375 44.390625 34.1875 \r\nz\r\nM 19.671875 64.796875 \r\nL 19.671875 38.921875 \r\nL 32.078125 38.921875 \r\nQ 39.203125 38.921875 42.84375 42.21875 \r\nQ 46.484375 45.515625 46.484375 51.90625 \r\nQ 46.484375 58.296875 42.84375 61.546875 \r\nQ 39.203125 64.796875 32.078125 64.796875 \r\nz\r\n\" id=\"DejaVuSans-82\"/>\r\n     </defs>\r\n     <g transform=\"translate(164.714844 252.916562)scale(0.1 -0.1)\">\r\n      <use xlink:href=\"#DejaVuSans-70\"/>\r\n      <use x=\"48.394531\" xlink:href=\"#DejaVuSans-97\"/>\r\n      <use x=\"109.673828\" xlink:href=\"#DejaVuSans-108\"/>\r\n      <use x=\"137.457031\" xlink:href=\"#DejaVuSans-115\"/>\r\n      <use x=\"189.556641\" xlink:href=\"#DejaVuSans-101\"/>\r\n      <use x=\"251.080078\" xlink:href=\"#DejaVuSans-32\"/>\r\n      <use x=\"282.867188\" xlink:href=\"#DejaVuSans-80\"/>\r\n      <use x=\"339.544922\" xlink:href=\"#DejaVuSans-111\"/>\r\n      <use x=\"400.726562\" xlink:href=\"#DejaVuSans-115\"/>\r\n      <use x=\"452.826172\" xlink:href=\"#DejaVuSans-105\"/>\r\n      <use x=\"480.609375\" xlink:href=\"#DejaVuSans-116\"/>\r\n      <use x=\"519.818359\" xlink:href=\"#DejaVuSans-105\"/>\r\n      <use x=\"547.601562\" xlink:href=\"#DejaVuSans-118\"/>\r\n      <use x=\"606.78125\" xlink:href=\"#DejaVuSans-101\"/>\r\n      <use x=\"668.304688\" xlink:href=\"#DejaVuSans-32\"/>\r\n      <use x=\"700.091797\" xlink:href=\"#DejaVuSans-82\"/>\r\n      <use x=\"767.324219\" xlink:href=\"#DejaVuSans-97\"/>\r\n      <use x=\"828.603516\" xlink:href=\"#DejaVuSans-116\"/>\r\n      <use x=\"867.8125\" xlink:href=\"#DejaVuSans-101\"/>\r\n     </g>\r\n    </g>\r\n   </g>\r\n   <g id=\"matplotlib.axis_2\">\r\n    <g id=\"ytick_1\">\r\n     <g id=\"line2d_7\">\r\n      <defs>\r\n       <path d=\"M 0 0 \r\nL -3.5 0 \r\n\" id=\"mf138e43ef3\" style=\"stroke:#000000;stroke-width:0.8;\"/>\r\n      </defs>\r\n      <g>\r\n       <use style=\"stroke:#000000;stroke-width:0.8;\" x=\"43.78125\" xlink:href=\"#mf138e43ef3\" y=\"214.756364\"/>\r\n      </g>\r\n     </g>\r\n     <g id=\"text_8\">\r\n      <!-- 0.0 -->\r\n      <g transform=\"translate(20.878125 218.555582)scale(0.1 -0.1)\">\r\n       <use xlink:href=\"#DejaVuSans-48\"/>\r\n       <use x=\"63.623047\" xlink:href=\"#DejaVuSans-46\"/>\r\n       <use x=\"95.410156\" xlink:href=\"#DejaVuSans-48\"/>\r\n      </g>\r\n     </g>\r\n    </g>\r\n    <g id=\"ytick_2\">\r\n     <g id=\"line2d_8\">\r\n      <g>\r\n       <use style=\"stroke:#000000;stroke-width:0.8;\" x=\"43.78125\" xlink:href=\"#mf138e43ef3\" y=\"175.221818\"/>\r\n      </g>\r\n     </g>\r\n     <g id=\"text_9\">\r\n      <!-- 0.2 -->\r\n      <g transform=\"translate(20.878125 179.021037)scale(0.1 -0.1)\">\r\n       <use xlink:href=\"#DejaVuSans-48\"/>\r\n       <use x=\"63.623047\" xlink:href=\"#DejaVuSans-46\"/>\r\n       <use x=\"95.410156\" xlink:href=\"#DejaVuSans-50\"/>\r\n      </g>\r\n     </g>\r\n    </g>\r\n    <g id=\"ytick_3\">\r\n     <g id=\"line2d_9\">\r\n      <g>\r\n       <use style=\"stroke:#000000;stroke-width:0.8;\" x=\"43.78125\" xlink:href=\"#mf138e43ef3\" y=\"135.687273\"/>\r\n      </g>\r\n     </g>\r\n     <g id=\"text_10\">\r\n      <!-- 0.4 -->\r\n      <g transform=\"translate(20.878125 139.486491)scale(0.1 -0.1)\">\r\n       <use xlink:href=\"#DejaVuSans-48\"/>\r\n       <use x=\"63.623047\" xlink:href=\"#DejaVuSans-46\"/>\r\n       <use x=\"95.410156\" xlink:href=\"#DejaVuSans-52\"/>\r\n      </g>\r\n     </g>\r\n    </g>\r\n    <g id=\"ytick_4\">\r\n     <g id=\"line2d_10\">\r\n      <g>\r\n       <use style=\"stroke:#000000;stroke-width:0.8;\" x=\"43.78125\" xlink:href=\"#mf138e43ef3\" y=\"96.152727\"/>\r\n      </g>\r\n     </g>\r\n     <g id=\"text_11\">\r\n      <!-- 0.6 -->\r\n      <g transform=\"translate(20.878125 99.951946)scale(0.1 -0.1)\">\r\n       <use xlink:href=\"#DejaVuSans-48\"/>\r\n       <use x=\"63.623047\" xlink:href=\"#DejaVuSans-46\"/>\r\n       <use x=\"95.410156\" xlink:href=\"#DejaVuSans-54\"/>\r\n      </g>\r\n     </g>\r\n    </g>\r\n    <g id=\"ytick_5\">\r\n     <g id=\"line2d_11\">\r\n      <g>\r\n       <use style=\"stroke:#000000;stroke-width:0.8;\" x=\"43.78125\" xlink:href=\"#mf138e43ef3\" y=\"56.618182\"/>\r\n      </g>\r\n     </g>\r\n     <g id=\"text_12\">\r\n      <!-- 0.8 -->\r\n      <g transform=\"translate(20.878125 60.417401)scale(0.1 -0.1)\">\r\n       <use xlink:href=\"#DejaVuSans-48\"/>\r\n       <use x=\"63.623047\" xlink:href=\"#DejaVuSans-46\"/>\r\n       <use x=\"95.410156\" xlink:href=\"#DejaVuSans-56\"/>\r\n      </g>\r\n     </g>\r\n    </g>\r\n    <g id=\"ytick_6\">\r\n     <g id=\"line2d_12\">\r\n      <g>\r\n       <use style=\"stroke:#000000;stroke-width:0.8;\" x=\"43.78125\" xlink:href=\"#mf138e43ef3\" y=\"17.083636\"/>\r\n      </g>\r\n     </g>\r\n     <g id=\"text_13\">\r\n      <!-- 1.0 -->\r\n      <g transform=\"translate(20.878125 20.882855)scale(0.1 -0.1)\">\r\n       <use xlink:href=\"#DejaVuSans-49\"/>\r\n       <use x=\"63.623047\" xlink:href=\"#DejaVuSans-46\"/>\r\n       <use x=\"95.410156\" xlink:href=\"#DejaVuSans-48\"/>\r\n      </g>\r\n     </g>\r\n    </g>\r\n    <g id=\"text_14\">\r\n     <!-- True Positive Rate -->\r\n     <defs>\r\n      <path d=\"M -0.296875 72.90625 \r\nL 61.375 72.90625 \r\nL 61.375 64.59375 \r\nL 35.5 64.59375 \r\nL 35.5 0 \r\nL 25.59375 0 \r\nL 25.59375 64.59375 \r\nL -0.296875 64.59375 \r\nz\r\n\" id=\"DejaVuSans-84\"/>\r\n      <path d=\"M 41.109375 46.296875 \r\nQ 39.59375 47.171875 37.8125 47.578125 \r\nQ 36.03125 48 33.890625 48 \r\nQ 26.265625 48 22.1875 43.046875 \r\nQ 18.109375 38.09375 18.109375 28.8125 \r\nL 18.109375 0 \r\nL 9.078125 0 \r\nL 9.078125 54.6875 \r\nL 18.109375 54.6875 \r\nL 18.109375 46.1875 \r\nQ 20.953125 51.171875 25.484375 53.578125 \r\nQ 30.03125 56 36.53125 56 \r\nQ 37.453125 56 38.578125 55.875 \r\nQ 39.703125 55.765625 41.0625 55.515625 \r\nz\r\n\" id=\"DejaVuSans-114\"/>\r\n      <path d=\"M 8.5 21.578125 \r\nL 8.5 54.6875 \r\nL 17.484375 54.6875 \r\nL 17.484375 21.921875 \r\nQ 17.484375 14.15625 20.5 10.265625 \r\nQ 23.53125 6.390625 29.59375 6.390625 \r\nQ 36.859375 6.390625 41.078125 11.03125 \r\nQ 45.3125 15.671875 45.3125 23.6875 \r\nL 45.3125 54.6875 \r\nL 54.296875 54.6875 \r\nL 54.296875 0 \r\nL 45.3125 0 \r\nL 45.3125 8.40625 \r\nQ 42.046875 3.421875 37.71875 1 \r\nQ 33.40625 -1.421875 27.6875 -1.421875 \r\nQ 18.265625 -1.421875 13.375 4.4375 \r\nQ 8.5 10.296875 8.5 21.578125 \r\nz\r\nM 31.109375 56 \r\nz\r\n\" id=\"DejaVuSans-117\"/>\r\n     </defs>\r\n     <g transform=\"translate(14.798438 160.449687)rotate(-90)scale(0.1 -0.1)\">\r\n      <use xlink:href=\"#DejaVuSans-84\"/>\r\n      <use x=\"46.333984\" xlink:href=\"#DejaVuSans-114\"/>\r\n      <use x=\"87.447266\" xlink:href=\"#DejaVuSans-117\"/>\r\n      <use x=\"150.826172\" xlink:href=\"#DejaVuSans-101\"/>\r\n      <use x=\"212.349609\" xlink:href=\"#DejaVuSans-32\"/>\r\n      <use x=\"244.136719\" xlink:href=\"#DejaVuSans-80\"/>\r\n      <use x=\"300.814453\" xlink:href=\"#DejaVuSans-111\"/>\r\n      <use x=\"361.996094\" xlink:href=\"#DejaVuSans-115\"/>\r\n      <use x=\"414.095703\" xlink:href=\"#DejaVuSans-105\"/>\r\n      <use x=\"441.878906\" xlink:href=\"#DejaVuSans-116\"/>\r\n      <use x=\"481.087891\" xlink:href=\"#DejaVuSans-105\"/>\r\n      <use x=\"508.871094\" xlink:href=\"#DejaVuSans-118\"/>\r\n      <use x=\"568.050781\" xlink:href=\"#DejaVuSans-101\"/>\r\n      <use x=\"629.574219\" xlink:href=\"#DejaVuSans-32\"/>\r\n      <use x=\"661.361328\" xlink:href=\"#DejaVuSans-82\"/>\r\n      <use x=\"728.59375\" xlink:href=\"#DejaVuSans-97\"/>\r\n      <use x=\"789.873047\" xlink:href=\"#DejaVuSans-116\"/>\r\n      <use x=\"829.082031\" xlink:href=\"#DejaVuSans-101\"/>\r\n     </g>\r\n    </g>\r\n   </g>\r\n   <g id=\"line2d_13\">\r\n    <path clip-path=\"url(#p398243e846)\" d=\"M 58.999432 214.756364 \r\nL 58.999432 198.71336 \r\nL 59.636843 198.71336 \r\nL 59.636843 198.140395 \r\nL 59.955548 198.140395 \r\nL 59.955548 196.421502 \r\nL 60.274253 196.421502 \r\nL 60.274253 195.848538 \r\nL 61.230369 195.848538 \r\nL 61.230369 195.275573 \r\nL 61.86778 195.275573 \r\nL 61.86778 183.816285 \r\nL 62.186486 183.816285 \r\nL 62.186486 179.232569 \r\nL 62.505191 179.232569 \r\nL 62.505191 178.08664 \r\nL 62.823896 178.08664 \r\nL 62.823896 174.648854 \r\nL 63.142602 174.648854 \r\nL 63.142602 174.075889 \r\nL 64.098718 174.075889 \r\nL 64.098718 172.356996 \r\nL 64.417423 172.356996 \r\nL 64.417423 170.638103 \r\nL 64.736129 170.638103 \r\nL 64.736129 168.346245 \r\nL 66.01095 168.346245 \r\nL 66.01095 167.200316 \r\nL 66.329656 167.200316 \r\nL 66.329656 166.627352 \r\nL 66.648361 166.627352 \r\nL 66.648361 166.054387 \r\nL 67.285772 166.054387 \r\nL 67.285772 164.908458 \r\nL 67.604477 164.908458 \r\nL 67.604477 163.76253 \r\nL 69.516709 163.76253 \r\nL 69.516709 162.616601 \r\nL 69.835415 162.616601 \r\nL 69.835415 158.032885 \r\nL 70.15412 158.032885 \r\nL 70.15412 156.886957 \r\nL 70.472825 156.886957 \r\nL 70.472825 152.303241 \r\nL 71.110236 152.303241 \r\nL 71.110236 151.730277 \r\nL 71.428942 151.730277 \r\nL 71.428942 151.157312 \r\nL 71.747647 151.157312 \r\nL 71.747647 150.584348 \r\nL 72.066352 150.584348 \r\nL 72.066352 150.011383 \r\nL 73.022468 150.011383 \r\nL 73.022468 147.719526 \r\nL 73.341174 147.719526 \r\nL 73.341174 147.146561 \r\nL 73.978585 147.146561 \r\nL 73.978585 145.427668 \r\nL 74.615995 145.427668 \r\nL 74.615995 144.281739 \r\nL 74.934701 144.281739 \r\nL 74.934701 143.13581 \r\nL 75.253406 143.13581 \r\nL 75.253406 142.562846 \r\nL 75.572111 142.562846 \r\nL 75.572111 140.270988 \r\nL 76.209522 140.270988 \r\nL 76.209522 136.260237 \r\nL 76.528228 136.260237 \r\nL 76.528228 134.541344 \r\nL 77.484344 134.541344 \r\nL 77.484344 133.395415 \r\nL 77.803049 133.395415 \r\nL 77.803049 132.249486 \r\nL 78.121755 132.249486 \r\nL 78.121755 131.103557 \r\nL 78.759165 131.103557 \r\nL 78.759165 129.384664 \r\nL 79.396576 129.384664 \r\nL 79.396576 128.8117 \r\nL 79.715281 128.8117 \r\nL 79.715281 127.092806 \r\nL 80.033987 127.092806 \r\nL 80.033987 126.519842 \r\nL 80.352692 126.519842 \r\nL 80.352692 125.946877 \r\nL 80.990103 125.946877 \r\nL 80.990103 124.800949 \r\nL 81.627514 124.800949 \r\nL 81.627514 124.227984 \r\nL 81.946219 124.227984 \r\nL 81.946219 122.509091 \r\nL 83.221041 122.509091 \r\nL 83.221041 121.936126 \r\nL 83.539746 121.936126 \r\nL 83.539746 120.790198 \r\nL 83.858451 120.790198 \r\nL 83.858451 117.925375 \r\nL 84.495862 117.925375 \r\nL 84.495862 117.352411 \r\nL 85.133273 117.352411 \r\nL 85.133273 115.060553 \r\nL 85.770684 115.060553 \r\nL 85.770684 113.914625 \r\nL 86.089389 113.914625 \r\nL 86.089389 113.34166 \r\nL 86.7268 113.34166 \r\nL 86.7268 112.768696 \r\nL 87.045505 112.768696 \r\nL 87.045505 111.049802 \r\nL 87.682916 111.049802 \r\nL 87.682916 109.330909 \r\nL 88.001621 109.330909 \r\nL 88.001621 108.757945 \r\nL 91.188675 108.757945 \r\nL 91.188675 108.18498 \r\nL 91.50738 108.18498 \r\nL 91.50738 107.039051 \r\nL 91.826086 107.039051 \r\nL 91.826086 106.466087 \r\nL 94.057023 106.466087 \r\nL 94.057023 105.320158 \r\nL 95.01314 105.320158 \r\nL 95.01314 104.174229 \r\nL 95.331845 104.174229 \r\nL 95.331845 103.601265 \r\nL 95.969256 103.601265 \r\nL 95.969256 102.455336 \r\nL 96.606666 102.455336 \r\nL 96.606666 101.309407 \r\nL 96.925372 101.309407 \r\nL 96.925372 100.163478 \r\nL 97.244077 100.163478 \r\nL 97.244077 99.590514 \r\nL 98.837604 99.590514 \r\nL 98.837604 99.017549 \r\nL 99.79372 99.017549 \r\nL 99.79372 98.444585 \r\nL 102.343363 98.444585 \r\nL 102.343363 97.871621 \r\nL 103.299479 97.871621 \r\nL 103.299479 96.725692 \r\nL 104.255596 96.725692 \r\nL 104.255596 96.152727 \r\nL 104.893006 96.152727 \r\nL 104.893006 95.006798 \r\nL 105.211712 95.006798 \r\nL 105.211712 93.287905 \r\nL 105.530417 93.287905 \r\nL 105.530417 92.141976 \r\nL 105.849122 92.141976 \r\nL 105.849122 90.996047 \r\nL 106.486533 90.996047 \r\nL 106.486533 89.850119 \r\nL 107.442649 89.850119 \r\nL 107.442649 89.277154 \r\nL 107.761355 89.277154 \r\nL 107.761355 88.131225 \r\nL 108.398765 88.131225 \r\nL 108.398765 87.558261 \r\nL 109.354882 87.558261 \r\nL 109.354882 85.266403 \r\nL 109.673587 85.266403 \r\nL 109.673587 84.693439 \r\nL 109.992292 84.693439 \r\nL 109.992292 84.120474 \r\nL 110.310998 84.120474 \r\nL 110.310998 83.54751 \r\nL 111.904525 83.54751 \r\nL 111.904525 81.828617 \r\nL 112.22323 81.828617 \r\nL 112.22323 81.255652 \r\nL 113.498052 81.255652 \r\nL 113.498052 80.682688 \r\nL 113.816757 80.682688 \r\nL 113.816757 80.109723 \r\nL 114.454168 80.109723 \r\nL 114.454168 79.536759 \r\nL 115.091578 79.536759 \r\nL 115.091578 78.963794 \r\nL 115.410284 78.963794 \r\nL 115.410284 78.39083 \r\nL 116.047695 78.39083 \r\nL 116.047695 77.817866 \r\nL 117.003811 77.817866 \r\nL 117.003811 77.244901 \r\nL 119.234748 77.244901 \r\nL 119.234748 76.671937 \r\nL 119.553454 76.671937 \r\nL 119.553454 75.526008 \r\nL 119.872159 75.526008 \r\nL 119.872159 74.953043 \r\nL 120.190864 74.953043 \r\nL 120.190864 73.23415 \r\nL 120.50957 73.23415 \r\nL 120.50957 72.661186 \r\nL 120.828275 72.661186 \r\nL 120.828275 72.088221 \r\nL 121.146981 72.088221 \r\nL 121.146981 71.515257 \r\nL 121.784391 71.515257 \r\nL 121.784391 70.369328 \r\nL 122.740507 70.369328 \r\nL 122.740507 69.796364 \r\nL 123.059213 69.796364 \r\nL 123.059213 68.650435 \r\nL 124.015329 68.650435 \r\nL 124.015329 68.07747 \r\nL 125.927561 68.07747 \r\nL 125.927561 65.785613 \r\nL 128.79591 65.785613 \r\nL 128.79591 65.212648 \r\nL 129.114615 65.212648 \r\nL 129.114615 64.639684 \r\nL 130.708142 64.639684 \r\nL 130.708142 64.066719 \r\nL 131.345553 64.066719 \r\nL 131.345553 63.493755 \r\nL 131.664258 63.493755 \r\nL 131.664258 62.920791 \r\nL 132.301669 62.920791 \r\nL 132.301669 62.347826 \r\nL 132.620374 62.347826 \r\nL 132.620374 61.774862 \r\nL 133.257785 61.774862 \r\nL 133.257785 61.201897 \r\nL 134.851312 61.201897 \r\nL 134.851312 60.628933 \r\nL 135.488723 60.628933 \r\nL 135.488723 59.483004 \r\nL 137.71966 59.483004 \r\nL 137.71966 58.91004 \r\nL 138.675776 58.91004 \r\nL 138.675776 58.337075 \r\nL 138.994482 58.337075 \r\nL 138.994482 57.764111 \r\nL 139.631893 57.764111 \r\nL 139.631893 57.191146 \r\nL 140.269303 57.191146 \r\nL 140.269303 56.045217 \r\nL 141.225419 56.045217 \r\nL 141.225419 55.472253 \r\nL 141.544125 55.472253 \r\nL 141.544125 54.899289 \r\nL 143.456357 54.899289 \r\nL 143.456357 54.326324 \r\nL 144.093768 54.326324 \r\nL 144.093768 53.75336 \r\nL 144.731179 53.75336 \r\nL 144.731179 53.180395 \r\nL 145.368589 53.180395 \r\nL 145.368589 52.607431 \r\nL 147.280822 52.607431 \r\nL 147.280822 52.034466 \r\nL 147.918232 52.034466 \r\nL 147.918232 51.461502 \r\nL 150.467875 51.461502 \r\nL 150.467875 50.888538 \r\nL 151.423992 50.888538 \r\nL 151.423992 50.315573 \r\nL 152.380108 50.315573 \r\nL 152.380108 49.742609 \r\nL 155.248456 49.742609 \r\nL 155.248456 49.169644 \r\nL 155.567161 49.169644 \r\nL 155.567161 48.59668 \r\nL 156.523278 48.59668 \r\nL 156.523278 48.023715 \r\nL 157.160688 48.023715 \r\nL 157.160688 47.450751 \r\nL 157.798099 47.450751 \r\nL 157.798099 46.877787 \r\nL 158.754215 46.877787 \r\nL 158.754215 46.304822 \r\nL 160.029037 46.304822 \r\nL 160.029037 45.731858 \r\nL 160.347742 45.731858 \r\nL 160.347742 44.585929 \r\nL 161.303858 44.585929 \r\nL 161.303858 43.44 \r\nL 162.259974 43.44 \r\nL 162.259974 42.867036 \r\nL 167.040555 42.867036 \r\nL 167.040555 42.294071 \r\nL 167.996671 42.294071 \r\nL 167.996671 41.721107 \r\nL 169.271493 41.721107 \r\nL 169.271493 41.148142 \r\nL 173.733368 41.148142 \r\nL 173.733368 40.575178 \r\nL 174.370779 40.575178 \r\nL 174.370779 40.002213 \r\nL 175.00819 40.002213 \r\nL 175.00819 39.429249 \r\nL 176.283011 39.429249 \r\nL 176.283011 38.856285 \r\nL 177.557833 38.856285 \r\nL 177.557833 38.28332 \r\nL 178.513949 38.28332 \r\nL 178.832654 37.710356 \r\nL 179.151359 37.710356 \r\nL 179.151359 37.137391 \r\nL 181.382297 37.137391 \r\nL 181.382297 36.564427 \r\nL 183.613235 36.564427 \r\nL 183.613235 35.991462 \r\nL 186.481583 35.991462 \r\nL 186.481583 34.845534 \r\nL 187.756405 34.845534 \r\nL 187.756405 34.272569 \r\nL 188.712521 34.272569 \r\nL 188.712521 33.699605 \r\nL 191.899575 33.699605 \r\nL 191.899575 33.12664 \r\nL 192.536985 33.12664 \r\nL 192.536985 32.553676 \r\nL 197.636271 32.553676 \r\nL 197.636271 31.980711 \r\nL 198.273682 31.980711 \r\nL 198.273682 31.407747 \r\nL 199.867209 31.407747 \r\nL 199.867209 30.261818 \r\nL 201.779441 30.261818 \r\nL 201.779441 29.688854 \r\nL 202.735557 29.688854 \r\nL 202.735557 29.115889 \r\nL 208.472254 29.115889 \r\nL 208.472254 28.542925 \r\nL 210.384487 28.542925 \r\nL 210.384487 27.96996 \r\nL 218.670826 27.96996 \r\nL 218.670826 27.396996 \r\nL 218.989532 27.396996 \r\nL 218.989532 26.824032 \r\nL 221.85788 26.824032 \r\nL 221.85788 26.251067 \r\nL 227.913282 26.251067 \r\nL 227.913282 25.678103 \r\nL 230.462925 25.678103 \r\nL 230.462925 25.105138 \r\nL 230.781631 25.105138 \r\nL 230.781631 24.532174 \r\nL 237.793149 24.532174 \r\nL 237.793149 23.959209 \r\nL 241.936319 23.959209 \r\nL 241.936319 23.386245 \r\nL 247.673016 23.386245 \r\nL 247.673016 22.813281 \r\nL 251.178775 22.813281 \r\nL 251.178775 22.240316 \r\nL 256.596766 22.240316 \r\nL 256.596766 21.667352 \r\nL 256.915472 21.667352 \r\nL 256.915472 21.094387 \r\nL 266.157928 21.094387 \r\nL 266.157928 20.521423 \r\nL 276.993911 20.521423 \r\nL 276.993911 19.948458 \r\nL 295.160117 19.948458 \r\nL 295.160117 19.375494 \r\nL 312.051502 19.375494 \r\nL 312.051502 18.80253 \r\nL 319.381726 18.80253 \r\nL 319.381726 18.229565 \r\nL 334.99829 18.229565 \r\nL 334.99829 17.656601 \r\nL 344.240745 17.656601 \r\nL 344.240745 17.083636 \r\nL 363.363068 17.083636 \r\nL 363.363068 17.083636 \r\n\" style=\"fill:none;stroke:#1f77b4;stroke-linecap:square;stroke-width:1.5;\"/>\r\n   </g>\r\n   <g id=\"patch_3\">\r\n    <path d=\"M 43.78125 224.64 \r\nL 43.78125 7.2 \r\n\" style=\"fill:none;stroke:#000000;stroke-linecap:square;stroke-linejoin:miter;stroke-width:0.8;\"/>\r\n   </g>\r\n   <g id=\"patch_4\">\r\n    <path d=\"M 378.58125 224.64 \r\nL 378.58125 7.2 \r\n\" style=\"fill:none;stroke:#000000;stroke-linecap:square;stroke-linejoin:miter;stroke-width:0.8;\"/>\r\n   </g>\r\n   <g id=\"patch_5\">\r\n    <path d=\"M 43.78125 224.64 \r\nL 378.58125 224.64 \r\n\" style=\"fill:none;stroke:#000000;stroke-linecap:square;stroke-linejoin:miter;stroke-width:0.8;\"/>\r\n   </g>\r\n   <g id=\"patch_6\">\r\n    <path d=\"M 43.78125 7.2 \r\nL 378.58125 7.2 \r\n\" style=\"fill:none;stroke:#000000;stroke-linecap:square;stroke-linejoin:miter;stroke-width:0.8;\"/>\r\n   </g>\r\n   <g id=\"legend_1\">\r\n    <g id=\"patch_7\">\r\n     <path d=\"M 219.204688 219.64 \r\nL 371.58125 219.64 \r\nQ 373.58125 219.64 373.58125 217.64 \r\nL 373.58125 203.961875 \r\nQ 373.58125 201.961875 371.58125 201.961875 \r\nL 219.204688 201.961875 \r\nQ 217.204688 201.961875 217.204688 203.961875 \r\nL 217.204688 217.64 \r\nQ 217.204688 219.64 219.204688 219.64 \r\nz\r\n\" style=\"fill:#ffffff;opacity:0.8;stroke:#cccccc;stroke-linejoin:miter;\"/>\r\n    </g>\r\n    <g id=\"line2d_14\">\r\n     <path d=\"M 221.204688 210.060312 \r\nL 241.204688 210.060312 \r\n\" style=\"fill:none;stroke:#1f77b4;stroke-linecap:square;stroke-width:1.5;\"/>\r\n    </g>\r\n    <g id=\"line2d_15\"/>\r\n    <g id=\"text_15\">\r\n     <!-- LinearSVC (AUC = 0.84) -->\r\n     <defs>\r\n      <path d=\"M 9.8125 72.90625 \r\nL 19.671875 72.90625 \r\nL 19.671875 8.296875 \r\nL 55.171875 8.296875 \r\nL 55.171875 0 \r\nL 9.8125 0 \r\nz\r\n\" id=\"DejaVuSans-76\"/>\r\n      <path d=\"M 54.890625 33.015625 \r\nL 54.890625 0 \r\nL 45.90625 0 \r\nL 45.90625 32.71875 \r\nQ 45.90625 40.484375 42.875 44.328125 \r\nQ 39.84375 48.1875 33.796875 48.1875 \r\nQ 26.515625 48.1875 22.3125 43.546875 \r\nQ 18.109375 38.921875 18.109375 30.90625 \r\nL 18.109375 0 \r\nL 9.078125 0 \r\nL 9.078125 54.6875 \r\nL 18.109375 54.6875 \r\nL 18.109375 46.1875 \r\nQ 21.34375 51.125 25.703125 53.5625 \r\nQ 30.078125 56 35.796875 56 \r\nQ 45.21875 56 50.046875 50.171875 \r\nQ 54.890625 44.34375 54.890625 33.015625 \r\nz\r\n\" id=\"DejaVuSans-110\"/>\r\n      <path d=\"M 53.515625 70.515625 \r\nL 53.515625 60.890625 \r\nQ 47.90625 63.578125 42.921875 64.890625 \r\nQ 37.9375 66.21875 33.296875 66.21875 \r\nQ 25.25 66.21875 20.875 63.09375 \r\nQ 16.5 59.96875 16.5 54.203125 \r\nQ 16.5 49.359375 19.40625 46.890625 \r\nQ 22.3125 44.4375 30.421875 42.921875 \r\nL 36.375 41.703125 \r\nQ 47.40625 39.59375 52.65625 34.296875 \r\nQ 57.90625 29 57.90625 20.125 \r\nQ 57.90625 9.515625 50.796875 4.046875 \r\nQ 43.703125 -1.421875 29.984375 -1.421875 \r\nQ 24.8125 -1.421875 18.96875 -0.25 \r\nQ 13.140625 0.921875 6.890625 3.21875 \r\nL 6.890625 13.375 \r\nQ 12.890625 10.015625 18.65625 8.296875 \r\nQ 24.421875 6.59375 29.984375 6.59375 \r\nQ 38.421875 6.59375 43.015625 9.90625 \r\nQ 47.609375 13.234375 47.609375 19.390625 \r\nQ 47.609375 24.75 44.3125 27.78125 \r\nQ 41.015625 30.8125 33.5 32.328125 \r\nL 27.484375 33.5 \r\nQ 16.453125 35.6875 11.515625 40.375 \r\nQ 6.59375 45.0625 6.59375 53.421875 \r\nQ 6.59375 63.09375 13.40625 68.65625 \r\nQ 20.21875 74.21875 32.171875 74.21875 \r\nQ 37.3125 74.21875 42.625 73.28125 \r\nQ 47.953125 72.359375 53.515625 70.515625 \r\nz\r\n\" id=\"DejaVuSans-83\"/>\r\n      <path d=\"M 28.609375 0 \r\nL 0.78125 72.90625 \r\nL 11.078125 72.90625 \r\nL 34.1875 11.53125 \r\nL 57.328125 72.90625 \r\nL 67.578125 72.90625 \r\nL 39.796875 0 \r\nz\r\n\" id=\"DejaVuSans-86\"/>\r\n      <path d=\"M 64.40625 67.28125 \r\nL 64.40625 56.890625 \r\nQ 59.421875 61.53125 53.78125 63.8125 \r\nQ 48.140625 66.109375 41.796875 66.109375 \r\nQ 29.296875 66.109375 22.65625 58.46875 \r\nQ 16.015625 50.828125 16.015625 36.375 \r\nQ 16.015625 21.96875 22.65625 14.328125 \r\nQ 29.296875 6.6875 41.796875 6.6875 \r\nQ 48.140625 6.6875 53.78125 8.984375 \r\nQ 59.421875 11.28125 64.40625 15.921875 \r\nL 64.40625 5.609375 \r\nQ 59.234375 2.09375 53.4375 0.328125 \r\nQ 47.65625 -1.421875 41.21875 -1.421875 \r\nQ 24.65625 -1.421875 15.125 8.703125 \r\nQ 5.609375 18.84375 5.609375 36.375 \r\nQ 5.609375 53.953125 15.125 64.078125 \r\nQ 24.65625 74.21875 41.21875 74.21875 \r\nQ 47.75 74.21875 53.53125 72.484375 \r\nQ 59.328125 70.75 64.40625 67.28125 \r\nz\r\n\" id=\"DejaVuSans-67\"/>\r\n      <path d=\"M 31 75.875 \r\nQ 24.46875 64.65625 21.28125 53.65625 \r\nQ 18.109375 42.671875 18.109375 31.390625 \r\nQ 18.109375 20.125 21.3125 9.0625 \r\nQ 24.515625 -2 31 -13.1875 \r\nL 23.1875 -13.1875 \r\nQ 15.875 -1.703125 12.234375 9.375 \r\nQ 8.59375 20.453125 8.59375 31.390625 \r\nQ 8.59375 42.28125 12.203125 53.3125 \r\nQ 15.828125 64.359375 23.1875 75.875 \r\nz\r\n\" id=\"DejaVuSans-40\"/>\r\n      <path d=\"M 34.1875 63.1875 \r\nL 20.796875 26.90625 \r\nL 47.609375 26.90625 \r\nz\r\nM 28.609375 72.90625 \r\nL 39.796875 72.90625 \r\nL 67.578125 0 \r\nL 57.328125 0 \r\nL 50.6875 18.703125 \r\nL 17.828125 18.703125 \r\nL 11.1875 0 \r\nL 0.78125 0 \r\nz\r\n\" id=\"DejaVuSans-65\"/>\r\n      <path d=\"M 8.6875 72.90625 \r\nL 18.609375 72.90625 \r\nL 18.609375 28.609375 \r\nQ 18.609375 16.890625 22.84375 11.734375 \r\nQ 27.09375 6.59375 36.625 6.59375 \r\nQ 46.09375 6.59375 50.34375 11.734375 \r\nQ 54.59375 16.890625 54.59375 28.609375 \r\nL 54.59375 72.90625 \r\nL 64.5 72.90625 \r\nL 64.5 27.390625 \r\nQ 64.5 13.140625 57.4375 5.859375 \r\nQ 50.390625 -1.421875 36.625 -1.421875 \r\nQ 22.796875 -1.421875 15.734375 5.859375 \r\nQ 8.6875 13.140625 8.6875 27.390625 \r\nz\r\n\" id=\"DejaVuSans-85\"/>\r\n      <path d=\"M 10.59375 45.40625 \r\nL 73.1875 45.40625 \r\nL 73.1875 37.203125 \r\nL 10.59375 37.203125 \r\nz\r\nM 10.59375 25.484375 \r\nL 73.1875 25.484375 \r\nL 73.1875 17.1875 \r\nL 10.59375 17.1875 \r\nz\r\n\" id=\"DejaVuSans-61\"/>\r\n      <path d=\"M 8.015625 75.875 \r\nL 15.828125 75.875 \r\nQ 23.140625 64.359375 26.78125 53.3125 \r\nQ 30.421875 42.28125 30.421875 31.390625 \r\nQ 30.421875 20.453125 26.78125 9.375 \r\nQ 23.140625 -1.703125 15.828125 -13.1875 \r\nL 8.015625 -13.1875 \r\nQ 14.5 -2 17.703125 9.0625 \r\nQ 20.90625 20.125 20.90625 31.390625 \r\nQ 20.90625 42.671875 17.703125 53.65625 \r\nQ 14.5 64.65625 8.015625 75.875 \r\nz\r\n\" id=\"DejaVuSans-41\"/>\r\n     </defs>\r\n     <g transform=\"translate(249.204688 213.560312)scale(0.1 -0.1)\">\r\n      <use xlink:href=\"#DejaVuSans-76\"/>\r\n      <use x=\"55.712891\" xlink:href=\"#DejaVuSans-105\"/>\r\n      <use x=\"83.496094\" xlink:href=\"#DejaVuSans-110\"/>\r\n      <use x=\"146.875\" xlink:href=\"#DejaVuSans-101\"/>\r\n      <use x=\"208.398438\" xlink:href=\"#DejaVuSans-97\"/>\r\n      <use x=\"269.677734\" xlink:href=\"#DejaVuSans-114\"/>\r\n      <use x=\"310.791016\" xlink:href=\"#DejaVuSans-83\"/>\r\n      <use x=\"374.267578\" xlink:href=\"#DejaVuSans-86\"/>\r\n      <use x=\"442.675781\" xlink:href=\"#DejaVuSans-67\"/>\r\n      <use x=\"512.5\" xlink:href=\"#DejaVuSans-32\"/>\r\n      <use x=\"544.287109\" xlink:href=\"#DejaVuSans-40\"/>\r\n      <use x=\"583.300781\" xlink:href=\"#DejaVuSans-65\"/>\r\n      <use x=\"651.708984\" xlink:href=\"#DejaVuSans-85\"/>\r\n      <use x=\"724.902344\" xlink:href=\"#DejaVuSans-67\"/>\r\n      <use x=\"794.726562\" xlink:href=\"#DejaVuSans-32\"/>\r\n      <use x=\"826.513672\" xlink:href=\"#DejaVuSans-61\"/>\r\n      <use x=\"910.302734\" xlink:href=\"#DejaVuSans-32\"/>\r\n      <use x=\"942.089844\" xlink:href=\"#DejaVuSans-48\"/>\r\n      <use x=\"1005.712891\" xlink:href=\"#DejaVuSans-46\"/>\r\n      <use x=\"1037.5\" xlink:href=\"#DejaVuSans-56\"/>\r\n      <use x=\"1101.123047\" xlink:href=\"#DejaVuSans-52\"/>\r\n      <use x=\"1164.746094\" xlink:href=\"#DejaVuSans-41\"/>\r\n     </g>\r\n    </g>\r\n   </g>\r\n  </g>\r\n </g>\r\n <defs>\r\n  <clipPath id=\"p398243e846\">\r\n   <rect height=\"217.44\" width=\"334.8\" x=\"43.78125\" y=\"7.2\"/>\r\n  </clipPath>\r\n </defs>\r\n</svg>\r\n",
      "image/png": "[encoded data removed]"
     },
     "metadata": {
      "needs_background": "light"
     }
    }
   ],
   "source": [
    "plot_roc_curve(svm_clf, X_test, y_test)\n",
    "plt.show()"
   ]
  },
  {
   "source": [
    "Да, в SVM можно использовать эту метрику, несмотря на то, что она выдает ответ -1 и 1 по сути своего алгоритма:\n",
    "\n",
    "* можно либо выставить параметр probability=True и можно получить вероятностную оценку принадлежности объекта к определенному классу;\n",
    "* можно вычислить расстояние от объекта до разделяющей гиперплоскости в алгоритме SVM - это определит степень принадлежности объекта классу.\n",
    "\n",
    "По факту, эти два решения являются эквивалентными."
   ],
   "cell_type": "markdown",
   "metadata": {}
  },
  {
   "cell_type": "markdown",
   "metadata": {},
   "source": [
    "## Задание 4.5 * (Нужно выполнить, если нужна общая оценка 10)"
   ]
  },
  {
   "cell_type": "markdown",
   "metadata": {},
   "source": [
    "Метрика Lift показывает во сколько раз полученная модель лучше случайного угадывания. [Теория](https://en.wikipedia.org/wiki/Lift_(data_mining))\n",
    "\n",
    "Вам необходимо:\n",
    "1. Разобраться с метрикой lift (и уметь ее объяснить):\n",
    "\n",
    "    a. https://www.kdnuggets.com/2016/03/lift-analysis-data-scientist-secret-weapon.html\n",
    "    \n",
    "    b. https://stats.stackexchange.com/questions/17119/lift-measure-in-data-mining\n",
    "\n",
    "\n",
    "2. Реализовать lift-score.\n",
    "\n",
    "def lift_score(y_true, y_proba, top_ratio):\n",
    "\n",
    "    pass\n",
    "\n",
    "    a. y_true — вектор целевой переменной \n",
    "    b .y_proba — предсказание модели\n",
    "    c. top_ratio — доля выборки, для которой рассчитывается lift-score\n",
    "\n",
    "\n",
    "\n",
    "P.S. Это задание для вас подготовил мой коллега Антон Кулеш, потому что lift - очень полезная метрика, которая заслуживает внимательного ознакомления"
   ]
  },
  {
   "cell_type": "code",
   "execution_count": 208,
   "metadata": {},
   "outputs": [],
   "source": [
    "def lift_score(y_true, y_prob, top_ratio):\n",
    "    y_prob = y_prob[:, 1]\n",
    "    y_data = sorted(zip(y_prob, y_true), key=lambda x: x[0], reverse=True)\n",
    "\n",
    "    top_y = np.array(y_data[:int(top_ratio*len(y_data))])\n",
    "\n",
    "    return np.mean(top_y[:, 1]) / np.mean(y_true)"
   ]
  },
  {
   "cell_type": "code",
   "execution_count": 209,
   "metadata": {},
   "outputs": [
    {
     "output_type": "execute_result",
     "data": {
      "text/plain": [
       "[(0.1, 2.753623188405797),\n",
       " (0.2, 2.536231884057971),\n",
       " (0.3, 2.2028985507246377),\n",
       " (0.4, 1.9782608695652175),\n",
       " (0.5, 1.7507246376811594),\n",
       " (0.6, 1.5555555555555554),\n",
       " (0.7, 1.383022774327122),\n",
       " (0.8, 1.2318840579710144),\n",
       " (0.9, 1.104669887278583),\n",
       " (1.0, 1.0)]"
      ]
     },
     "metadata": {},
     "execution_count": 209
    }
   ],
   "source": [
    "y_pred = clf.predict_proba(X_test)\n",
    "[(np.round(i, 1), lift_score(y_test, y_pred, top_ratio=i)) for i in np.arange(0.1, 1.1, 0.1)]"
   ]
  },
  {
   "cell_type": "markdown",
   "metadata": {},
   "source": [
    "# Задание 5"
   ]
  },
  {
   "cell_type": "markdown",
   "metadata": {},
   "source": [
    "Произведите анализ предсказаний по трем направлениям. Задание считается выполненным, если есть **четкие ответы** на каждый из трех вопросов и **сопутствующий код**:\n",
    "\n",
    "1. Какие признаки получились самыми важными, а какие лишними? Как правильно посчитать значимость закодированных категориальных признаков? Hint: используйте атрибут coef_ у логистической регрессии\n",
    "2. Найдите 10 людей с самой высокой и самой низкой вероятностью уйти в отток. Попробуйте описать причины такого поведения\n",
    "3. И, наконец, подумайте, какую пользу может извлечь оператор из вашей модели. Опишите хотя бы один пример использования"
   ]
  },
  {
   "source": [
    "## Пункт 1"
   ],
   "cell_type": "markdown",
   "metadata": {}
  },
  {
   "source": [
    "### Наиболее важные признаки"
   ],
   "cell_type": "markdown",
   "metadata": {}
  },
  {
   "cell_type": "code",
   "execution_count": 210,
   "metadata": {},
   "outputs": [
    {
     "output_type": "execute_result",
     "data": {
      "text/plain": [
       "array([-1.33197243,  0.5843871 , -0.41034001])"
      ]
     },
     "metadata": {},
     "execution_count": 210
    }
   ],
   "source": [
    "model_coefs = grid_clf.best_estimator_.coef_[0]\n",
    "max_indices = (-np.abs(model_coefs)).argsort()[:3]\n",
    "model_coefs[max_indices]"
   ]
  },
  {
   "cell_type": "code",
   "execution_count": 211,
   "metadata": {},
   "outputs": [
    {
     "output_type": "execute_result",
     "data": {
      "text/plain": [
       "      Tenure  Total Charges  Monthly Charges\n",
       "0          1          29.85            29.85\n",
       "1         34        1889.50            56.95\n",
       "2          2         108.15            53.85\n",
       "3         45        1840.75            42.30\n",
       "4          2         151.65            70.70\n",
       "...      ...            ...              ...\n",
       "6494      26         786.50            29.80\n",
       "6495       1          69.65            69.65\n",
       "6496      40        4086.30           101.85\n",
       "6497      52        5364.80           103.05\n",
       "6498       1          82.30            82.30\n",
       "\n",
       "[6499 rows x 3 columns]"
      ],
      "text/html": "<div>\n<style scoped>\n    .dataframe tbody tr th:only-of-type {\n        vertical-align: middle;\n    }\n\n    .dataframe tbody tr th {\n        vertical-align: top;\n    }\n\n    .dataframe thead th {\n        text-align: right;\n    }\n</style>\n<table border=\"1\" class=\"dataframe\">\n  <thead>\n    <tr style=\"text-align: right;\">\n      <th></th>\n      <th>Tenure</th>\n      <th>Total Charges</th>\n      <th>Monthly Charges</th>\n    </tr>\n  </thead>\n  <tbody>\n    <tr>\n      <th>0</th>\n      <td>1</td>\n      <td>29.85</td>\n      <td>29.85</td>\n    </tr>\n    <tr>\n      <th>1</th>\n      <td>34</td>\n      <td>1889.50</td>\n      <td>56.95</td>\n    </tr>\n    <tr>\n      <th>2</th>\n      <td>2</td>\n      <td>108.15</td>\n      <td>53.85</td>\n    </tr>\n    <tr>\n      <th>3</th>\n      <td>45</td>\n      <td>1840.75</td>\n      <td>42.30</td>\n    </tr>\n    <tr>\n      <th>4</th>\n      <td>2</td>\n      <td>151.65</td>\n      <td>70.70</td>\n    </tr>\n    <tr>\n      <th>...</th>\n      <td>...</td>\n      <td>...</td>\n      <td>...</td>\n    </tr>\n    <tr>\n      <th>6494</th>\n      <td>26</td>\n      <td>786.50</td>\n      <td>29.80</td>\n    </tr>\n    <tr>\n      <th>6495</th>\n      <td>1</td>\n      <td>69.65</td>\n      <td>69.65</td>\n    </tr>\n    <tr>\n      <th>6496</th>\n      <td>40</td>\n      <td>4086.30</td>\n      <td>101.85</td>\n    </tr>\n    <tr>\n      <th>6497</th>\n      <td>52</td>\n      <td>5364.80</td>\n      <td>103.05</td>\n    </tr>\n    <tr>\n      <th>6498</th>\n      <td>1</td>\n      <td>82.30</td>\n      <td>82.30</td>\n    </tr>\n  </tbody>\n</table>\n<p>6499 rows × 3 columns</p>\n</div>"
     },
     "metadata": {},
     "execution_count": 211
    }
   ],
   "source": [
    "X_df.iloc[:, max_indices]"
   ]
  },
  {
   "source": [
    "### Наименее важные признаки"
   ],
   "cell_type": "markdown",
   "metadata": {}
  },
  {
   "cell_type": "code",
   "execution_count": 212,
   "metadata": {},
   "outputs": [
    {
     "output_type": "execute_result",
     "data": {
      "text/plain": [
       "array([-0.00465748, -0.00518625, -0.01347821])"
      ]
     },
     "metadata": {},
     "execution_count": 212
    }
   ],
   "source": [
    "model_coefs = grid_clf.best_estimator_.coef_[0]\n",
    "min_indices = (np.abs(model_coefs)).argsort()[:3]\n",
    "model_coefs[min_indices]"
   ]
  },
  {
   "cell_type": "code",
   "execution_count": 213,
   "metadata": {},
   "outputs": [
    {
     "output_type": "execute_result",
     "data": {
      "text/plain": [
       "      Online Backup_Yes  Gender  Contract_One year\n",
       "0                     1       0                  0\n",
       "1                     0       1                  1\n",
       "2                     1       1                  0\n",
       "3                     0       1                  1\n",
       "4                     0       0                  0\n",
       "...                 ...     ...                ...\n",
       "6494                  0       0                  0\n",
       "6495                  0       1                  0\n",
       "6496                  0       1                  0\n",
       "6497                  1       1                  0\n",
       "6498                  1       0                  0\n",
       "\n",
       "[6499 rows x 3 columns]"
      ],
      "text/html": "<div>\n<style scoped>\n    .dataframe tbody tr th:only-of-type {\n        vertical-align: middle;\n    }\n\n    .dataframe tbody tr th {\n        vertical-align: top;\n    }\n\n    .dataframe thead th {\n        text-align: right;\n    }\n</style>\n<table border=\"1\" class=\"dataframe\">\n  <thead>\n    <tr style=\"text-align: right;\">\n      <th></th>\n      <th>Online Backup_Yes</th>\n      <th>Gender</th>\n      <th>Contract_One year</th>\n    </tr>\n  </thead>\n  <tbody>\n    <tr>\n      <th>0</th>\n      <td>1</td>\n      <td>0</td>\n      <td>0</td>\n    </tr>\n    <tr>\n      <th>1</th>\n      <td>0</td>\n      <td>1</td>\n      <td>1</td>\n    </tr>\n    <tr>\n      <th>2</th>\n      <td>1</td>\n      <td>1</td>\n      <td>0</td>\n    </tr>\n    <tr>\n      <th>3</th>\n      <td>0</td>\n      <td>1</td>\n      <td>1</td>\n    </tr>\n    <tr>\n      <th>4</th>\n      <td>0</td>\n      <td>0</td>\n      <td>0</td>\n    </tr>\n    <tr>\n      <th>...</th>\n      <td>...</td>\n      <td>...</td>\n      <td>...</td>\n    </tr>\n    <tr>\n      <th>6494</th>\n      <td>0</td>\n      <td>0</td>\n      <td>0</td>\n    </tr>\n    <tr>\n      <th>6495</th>\n      <td>0</td>\n      <td>1</td>\n      <td>0</td>\n    </tr>\n    <tr>\n      <th>6496</th>\n      <td>0</td>\n      <td>1</td>\n      <td>0</td>\n    </tr>\n    <tr>\n      <th>6497</th>\n      <td>1</td>\n      <td>1</td>\n      <td>0</td>\n    </tr>\n    <tr>\n      <th>6498</th>\n      <td>1</td>\n      <td>0</td>\n      <td>0</td>\n    </tr>\n  </tbody>\n</table>\n<p>6499 rows × 3 columns</p>\n</div>"
     },
     "metadata": {},
     "execution_count": 213
    }
   ],
   "source": [
    "X_df.iloc[:, min_indices]"
   ]
  },
  {
   "source": [
    "Важность категориальных признаков измеряется посредством их перевода в числовые. В нашем случае dummy-кодирование позволило представить категориальные признаки в ином виде, где каждый столбец является индикатором той или иной категории и по этим столбцам можно определить значимость определенной категории."
   ],
   "cell_type": "markdown",
   "metadata": {}
  },
  {
   "source": [
    "## Пункт 2"
   ],
   "cell_type": "markdown",
   "metadata": {}
  },
  {
   "cell_type": "code",
   "execution_count": 216,
   "metadata": {},
   "outputs": [
    {
     "output_type": "stream",
     "name": "stdout",
     "text": [
      "['4277-BWBML' '7083-MIOPC' '5787-KXGIY' '8229-BUJHX' '1591-XWLGB'\n '8750-QWZAJ' '8285-ABVLB' '2607-DHDAK' '5799-JRCZO' '0480-KYJVA']\n['5567-WSELE' '7024-OHCCK' '8884-ADFVN' '4910-GMJOT' '1415-YFWLT'\n '3068-OMWZA' '5192-EBGOV' '4102-OQUPX' '5383-MMTWC' '3158-MOERK']\n"
     ]
    }
   ],
   "source": [
    "churn_prob = y_pred[:, 1]\n",
    "\n",
    "min_indices = (churn_prob).argsort()[:10]\n",
    "print(y_testID[min_indices])\n",
    "\n",
    "max_indices = (-churn_prob).argsort()[:10]\n",
    "print(y_testID[max_indices])"
   ]
  },
  {
   "source": [
    "### Наиболее низкая вероятность оттока"
   ],
   "cell_type": "markdown",
   "metadata": {}
  },
  {
   "cell_type": "code",
   "execution_count": 220,
   "metadata": {},
   "outputs": [
    {
     "output_type": "execute_result",
     "data": {
      "text/plain": [
       "      CustomerID  Gender  Senior Citizen Partner Dependents  Tenure  \\\n",
       "233   7083-MIOPC       0               0      No         No      72   \n",
       "932   5787-KXGIY       1               0     Yes         No      72   \n",
       "1514  5799-JRCZO       0               0      No        Yes      63   \n",
       "1945  8229-BUJHX       0               0     Yes        Yes      71   \n",
       "2338  4277-BWBML       1               0     Yes        Yes      72   \n",
       "3625  1591-XWLGB       0               0     Yes         No      71   \n",
       "3935  8285-ABVLB       0               0     Yes         No      70   \n",
       "4006  2607-DHDAK       1               0     Yes        Yes      72   \n",
       "5555  8750-QWZAJ       0               0     Yes        Yes      70   \n",
       "6423  0480-KYJVA       0               0     Yes        Yes      72   \n",
       "\n",
       "     Phone Service Multiple Lines Internet Service      Online Security  ...  \\\n",
       "233            Yes             No               No  No internet service  ...   \n",
       "932            Yes             No               No  No internet service  ...   \n",
       "1514           Yes             No               No  No internet service  ...   \n",
       "1945           Yes             No               No  No internet service  ...   \n",
       "2338           Yes             No               No  No internet service  ...   \n",
       "3625           Yes             No               No  No internet service  ...   \n",
       "3935           Yes             No               No  No internet service  ...   \n",
       "4006           Yes             No               No  No internet service  ...   \n",
       "5555           Yes             No               No  No internet service  ...   \n",
       "6423           Yes            Yes               No  No internet service  ...   \n",
       "\n",
       "        Device Protection         Tech Support         Streaming TV  \\\n",
       "233   No internet service  No internet service  No internet service   \n",
       "932   No internet service  No internet service  No internet service   \n",
       "1514  No internet service  No internet service  No internet service   \n",
       "1945  No internet service  No internet service  No internet service   \n",
       "2338  No internet service  No internet service  No internet service   \n",
       "3625  No internet service  No internet service  No internet service   \n",
       "3935  No internet service  No internet service  No internet service   \n",
       "4006  No internet service  No internet service  No internet service   \n",
       "5555  No internet service  No internet service  No internet service   \n",
       "6423  No internet service  No internet service  No internet service   \n",
       "\n",
       "         Streaming Movies  Contract Paperless Billing  \\\n",
       "233   No internet service  Two year                No   \n",
       "932   No internet service  Two year                No   \n",
       "1514  No internet service  Two year                No   \n",
       "1945  No internet service  Two year                No   \n",
       "2338  No internet service  Two year                No   \n",
       "3625  No internet service  Two year                No   \n",
       "3935  No internet service  Two year                No   \n",
       "4006  No internet service  Two year               Yes   \n",
       "5555  No internet service  Two year                No   \n",
       "6423  No internet service  Two year                No   \n",
       "\n",
       "                 Payment Method Monthly Charges  Total Charges  Churn  \n",
       "233     Credit card (automatic)           20.25        1566.90     No  \n",
       "932     Credit card (automatic)           19.30        1304.80     No  \n",
       "1514    Credit card (automatic)           19.50        1215.10     No  \n",
       "1945  Bank transfer (automatic)           20.50        1500.95     No  \n",
       "2338  Bank transfer (automatic)           19.95        1322.85     No  \n",
       "3625    Credit card (automatic)           19.85        1379.60     No  \n",
       "3935    Credit card (automatic)           19.85        1328.35     No  \n",
       "4006    Credit card (automatic)           19.80        1414.65     No  \n",
       "5555  Bank transfer (automatic)           19.80        1378.75     No  \n",
       "6423    Credit card (automatic)           24.25        1784.50     No  \n",
       "\n",
       "[10 rows x 21 columns]"
      ],
      "text/html": "<div>\n<style scoped>\n    .dataframe tbody tr th:only-of-type {\n        vertical-align: middle;\n    }\n\n    .dataframe tbody tr th {\n        vertical-align: top;\n    }\n\n    .dataframe thead th {\n        text-align: right;\n    }\n</style>\n<table border=\"1\" class=\"dataframe\">\n  <thead>\n    <tr style=\"text-align: right;\">\n      <th></th>\n      <th>CustomerID</th>\n      <th>Gender</th>\n      <th>Senior Citizen</th>\n      <th>Partner</th>\n      <th>Dependents</th>\n      <th>Tenure</th>\n      <th>Phone Service</th>\n      <th>Multiple Lines</th>\n      <th>Internet Service</th>\n      <th>Online Security</th>\n      <th>...</th>\n      <th>Device Protection</th>\n      <th>Tech Support</th>\n      <th>Streaming TV</th>\n      <th>Streaming Movies</th>\n      <th>Contract</th>\n      <th>Paperless Billing</th>\n      <th>Payment Method</th>\n      <th>Monthly Charges</th>\n      <th>Total Charges</th>\n      <th>Churn</th>\n    </tr>\n  </thead>\n  <tbody>\n    <tr>\n      <th>233</th>\n      <td>7083-MIOPC</td>\n      <td>0</td>\n      <td>0</td>\n      <td>No</td>\n      <td>No</td>\n      <td>72</td>\n      <td>Yes</td>\n      <td>No</td>\n      <td>No</td>\n      <td>No internet service</td>\n      <td>...</td>\n      <td>No internet service</td>\n      <td>No internet service</td>\n      <td>No internet service</td>\n      <td>No internet service</td>\n      <td>Two year</td>\n      <td>No</td>\n      <td>Credit card (automatic)</td>\n      <td>20.25</td>\n      <td>1566.90</td>\n      <td>No</td>\n    </tr>\n    <tr>\n      <th>932</th>\n      <td>5787-KXGIY</td>\n      <td>1</td>\n      <td>0</td>\n      <td>Yes</td>\n      <td>No</td>\n      <td>72</td>\n      <td>Yes</td>\n      <td>No</td>\n      <td>No</td>\n      <td>No internet service</td>\n      <td>...</td>\n      <td>No internet service</td>\n      <td>No internet service</td>\n      <td>No internet service</td>\n      <td>No internet service</td>\n      <td>Two year</td>\n      <td>No</td>\n      <td>Credit card (automatic)</td>\n      <td>19.30</td>\n      <td>1304.80</td>\n      <td>No</td>\n    </tr>\n    <tr>\n      <th>1514</th>\n      <td>5799-JRCZO</td>\n      <td>0</td>\n      <td>0</td>\n      <td>No</td>\n      <td>Yes</td>\n      <td>63</td>\n      <td>Yes</td>\n      <td>No</td>\n      <td>No</td>\n      <td>No internet service</td>\n      <td>...</td>\n      <td>No internet service</td>\n      <td>No internet service</td>\n      <td>No internet service</td>\n      <td>No internet service</td>\n      <td>Two year</td>\n      <td>No</td>\n      <td>Credit card (automatic)</td>\n      <td>19.50</td>\n      <td>1215.10</td>\n      <td>No</td>\n    </tr>\n    <tr>\n      <th>1945</th>\n      <td>8229-BUJHX</td>\n      <td>0</td>\n      <td>0</td>\n      <td>Yes</td>\n      <td>Yes</td>\n      <td>71</td>\n      <td>Yes</td>\n      <td>No</td>\n      <td>No</td>\n      <td>No internet service</td>\n      <td>...</td>\n      <td>No internet service</td>\n      <td>No internet service</td>\n      <td>No internet service</td>\n      <td>No internet service</td>\n      <td>Two year</td>\n      <td>No</td>\n      <td>Bank transfer (automatic)</td>\n      <td>20.50</td>\n      <td>1500.95</td>\n      <td>No</td>\n    </tr>\n    <tr>\n      <th>2338</th>\n      <td>4277-BWBML</td>\n      <td>1</td>\n      <td>0</td>\n      <td>Yes</td>\n      <td>Yes</td>\n      <td>72</td>\n      <td>Yes</td>\n      <td>No</td>\n      <td>No</td>\n      <td>No internet service</td>\n      <td>...</td>\n      <td>No internet service</td>\n      <td>No internet service</td>\n      <td>No internet service</td>\n      <td>No internet service</td>\n      <td>Two year</td>\n      <td>No</td>\n      <td>Bank transfer (automatic)</td>\n      <td>19.95</td>\n      <td>1322.85</td>\n      <td>No</td>\n    </tr>\n    <tr>\n      <th>3625</th>\n      <td>1591-XWLGB</td>\n      <td>0</td>\n      <td>0</td>\n      <td>Yes</td>\n      <td>No</td>\n      <td>71</td>\n      <td>Yes</td>\n      <td>No</td>\n      <td>No</td>\n      <td>No internet service</td>\n      <td>...</td>\n      <td>No internet service</td>\n      <td>No internet service</td>\n      <td>No internet service</td>\n      <td>No internet service</td>\n      <td>Two year</td>\n      <td>No</td>\n      <td>Credit card (automatic)</td>\n      <td>19.85</td>\n      <td>1379.60</td>\n      <td>No</td>\n    </tr>\n    <tr>\n      <th>3935</th>\n      <td>8285-ABVLB</td>\n      <td>0</td>\n      <td>0</td>\n      <td>Yes</td>\n      <td>No</td>\n      <td>70</td>\n      <td>Yes</td>\n      <td>No</td>\n      <td>No</td>\n      <td>No internet service</td>\n      <td>...</td>\n      <td>No internet service</td>\n      <td>No internet service</td>\n      <td>No internet service</td>\n      <td>No internet service</td>\n      <td>Two year</td>\n      <td>No</td>\n      <td>Credit card (automatic)</td>\n      <td>19.85</td>\n      <td>1328.35</td>\n      <td>No</td>\n    </tr>\n    <tr>\n      <th>4006</th>\n      <td>2607-DHDAK</td>\n      <td>1</td>\n      <td>0</td>\n      <td>Yes</td>\n      <td>Yes</td>\n      <td>72</td>\n      <td>Yes</td>\n      <td>No</td>\n      <td>No</td>\n      <td>No internet service</td>\n      <td>...</td>\n      <td>No internet service</td>\n      <td>No internet service</td>\n      <td>No internet service</td>\n      <td>No internet service</td>\n      <td>Two year</td>\n      <td>Yes</td>\n      <td>Credit card (automatic)</td>\n      <td>19.80</td>\n      <td>1414.65</td>\n      <td>No</td>\n    </tr>\n    <tr>\n      <th>5555</th>\n      <td>8750-QWZAJ</td>\n      <td>0</td>\n      <td>0</td>\n      <td>Yes</td>\n      <td>Yes</td>\n      <td>70</td>\n      <td>Yes</td>\n      <td>No</td>\n      <td>No</td>\n      <td>No internet service</td>\n      <td>...</td>\n      <td>No internet service</td>\n      <td>No internet service</td>\n      <td>No internet service</td>\n      <td>No internet service</td>\n      <td>Two year</td>\n      <td>No</td>\n      <td>Bank transfer (automatic)</td>\n      <td>19.80</td>\n      <td>1378.75</td>\n      <td>No</td>\n    </tr>\n    <tr>\n      <th>6423</th>\n      <td>0480-KYJVA</td>\n      <td>0</td>\n      <td>0</td>\n      <td>Yes</td>\n      <td>Yes</td>\n      <td>72</td>\n      <td>Yes</td>\n      <td>Yes</td>\n      <td>No</td>\n      <td>No internet service</td>\n      <td>...</td>\n      <td>No internet service</td>\n      <td>No internet service</td>\n      <td>No internet service</td>\n      <td>No internet service</td>\n      <td>Two year</td>\n      <td>No</td>\n      <td>Credit card (automatic)</td>\n      <td>24.25</td>\n      <td>1784.50</td>\n      <td>No</td>\n    </tr>\n  </tbody>\n</table>\n<p>10 rows × 21 columns</p>\n</div>"
     },
     "metadata": {},
     "execution_count": 220
    }
   ],
   "source": [
    "df[df['CustomerID'].isin(y_testID[min_indices])]"
   ]
  },
  {
   "source": [
    "### Наиболее высокая вероятность оттока"
   ],
   "cell_type": "markdown",
   "metadata": {}
  },
  {
   "cell_type": "code",
   "execution_count": 221,
   "metadata": {},
   "outputs": [
    {
     "output_type": "execute_result",
     "data": {
      "text/plain": [
       "      CustomerID  Gender  Senior Citizen Partner Dependents  Tenure  \\\n",
       "585   5192-EBGOV       0               1      No         No       1   \n",
       "969   3158-MOERK       0               0      No         No       2   \n",
       "1410  7024-OHCCK       0               1      No         No       2   \n",
       "1600  3068-OMWZA       1               1      No         No       1   \n",
       "2577  4910-GMJOT       0               0      No         No       1   \n",
       "2821  4102-OQUPX       1               1     Yes         No       1   \n",
       "5783  1415-YFWLT       0               1      No         No       1   \n",
       "5937  5383-MMTWC       0               1     Yes         No       8   \n",
       "5989  5567-WSELE       1               1     Yes         No       3   \n",
       "6365  8884-ADFVN       1               1     Yes         No       7   \n",
       "\n",
       "     Phone Service Multiple Lines Internet Service Online Security  ...  \\\n",
       "585            Yes            Yes      Fiber optic              No  ...   \n",
       "969            Yes            Yes      Fiber optic              No  ...   \n",
       "1410           Yes            Yes      Fiber optic              No  ...   \n",
       "1600           Yes            Yes      Fiber optic              No  ...   \n",
       "2577           Yes            Yes      Fiber optic              No  ...   \n",
       "2821           Yes            Yes      Fiber optic              No  ...   \n",
       "5783           Yes             No      Fiber optic              No  ...   \n",
       "5937           Yes            Yes      Fiber optic              No  ...   \n",
       "5989           Yes            Yes      Fiber optic              No  ...   \n",
       "6365           Yes            Yes      Fiber optic              No  ...   \n",
       "\n",
       "     Device Protection Tech Support Streaming TV Streaming Movies  \\\n",
       "585                 No           No          Yes               No   \n",
       "969                 No           No          Yes              Yes   \n",
       "1410                No           No          Yes              Yes   \n",
       "1600               Yes           No          Yes               No   \n",
       "2577                No           No          Yes              Yes   \n",
       "2821                No           No           No               No   \n",
       "5783                No           No          Yes              Yes   \n",
       "5937                No           No           No              Yes   \n",
       "5989                No           No          Yes              Yes   \n",
       "6365               Yes           No          Yes              Yes   \n",
       "\n",
       "            Contract Paperless Billing    Payment Method Monthly Charges  \\\n",
       "585   Month-to-month               Yes  Electronic check           85.70   \n",
       "969   Month-to-month               Yes  Electronic check           96.00   \n",
       "1410  Month-to-month               Yes  Electronic check           93.85   \n",
       "1600  Month-to-month               Yes  Electronic check           88.80   \n",
       "2577  Month-to-month               Yes  Electronic check           94.60   \n",
       "2821  Month-to-month               Yes  Electronic check           74.40   \n",
       "5783  Month-to-month               Yes  Electronic check           89.30   \n",
       "5937  Month-to-month               Yes  Electronic check           84.00   \n",
       "5989  Month-to-month               Yes  Electronic check           94.60   \n",
       "6365  Month-to-month               Yes  Electronic check          101.95   \n",
       "\n",
       "      Total Charges  Churn  \n",
       "585           85.70    Yes  \n",
       "969          174.80    Yes  \n",
       "1410         170.85    Yes  \n",
       "1600          88.80    Yes  \n",
       "2577          94.60    Yes  \n",
       "2821          74.40    Yes  \n",
       "5783          89.30    Yes  \n",
       "5937         613.40    Yes  \n",
       "5989         279.55    Yes  \n",
       "6365         700.85    Yes  \n",
       "\n",
       "[10 rows x 21 columns]"
      ],
      "text/html": "<div>\n<style scoped>\n    .dataframe tbody tr th:only-of-type {\n        vertical-align: middle;\n    }\n\n    .dataframe tbody tr th {\n        vertical-align: top;\n    }\n\n    .dataframe thead th {\n        text-align: right;\n    }\n</style>\n<table border=\"1\" class=\"dataframe\">\n  <thead>\n    <tr style=\"text-align: right;\">\n      <th></th>\n      <th>CustomerID</th>\n      <th>Gender</th>\n      <th>Senior Citizen</th>\n      <th>Partner</th>\n      <th>Dependents</th>\n      <th>Tenure</th>\n      <th>Phone Service</th>\n      <th>Multiple Lines</th>\n      <th>Internet Service</th>\n      <th>Online Security</th>\n      <th>...</th>\n      <th>Device Protection</th>\n      <th>Tech Support</th>\n      <th>Streaming TV</th>\n      <th>Streaming Movies</th>\n      <th>Contract</th>\n      <th>Paperless Billing</th>\n      <th>Payment Method</th>\n      <th>Monthly Charges</th>\n      <th>Total Charges</th>\n      <th>Churn</th>\n    </tr>\n  </thead>\n  <tbody>\n    <tr>\n      <th>585</th>\n      <td>5192-EBGOV</td>\n      <td>0</td>\n      <td>1</td>\n      <td>No</td>\n      <td>No</td>\n      <td>1</td>\n      <td>Yes</td>\n      <td>Yes</td>\n      <td>Fiber optic</td>\n      <td>No</td>\n      <td>...</td>\n      <td>No</td>\n      <td>No</td>\n      <td>Yes</td>\n      <td>No</td>\n      <td>Month-to-month</td>\n      <td>Yes</td>\n      <td>Electronic check</td>\n      <td>85.70</td>\n      <td>85.70</td>\n      <td>Yes</td>\n    </tr>\n    <tr>\n      <th>969</th>\n      <td>3158-MOERK</td>\n      <td>0</td>\n      <td>0</td>\n      <td>No</td>\n      <td>No</td>\n      <td>2</td>\n      <td>Yes</td>\n      <td>Yes</td>\n      <td>Fiber optic</td>\n      <td>No</td>\n      <td>...</td>\n      <td>No</td>\n      <td>No</td>\n      <td>Yes</td>\n      <td>Yes</td>\n      <td>Month-to-month</td>\n      <td>Yes</td>\n      <td>Electronic check</td>\n      <td>96.00</td>\n      <td>174.80</td>\n      <td>Yes</td>\n    </tr>\n    <tr>\n      <th>1410</th>\n      <td>7024-OHCCK</td>\n      <td>0</td>\n      <td>1</td>\n      <td>No</td>\n      <td>No</td>\n      <td>2</td>\n      <td>Yes</td>\n      <td>Yes</td>\n      <td>Fiber optic</td>\n      <td>No</td>\n      <td>...</td>\n      <td>No</td>\n      <td>No</td>\n      <td>Yes</td>\n      <td>Yes</td>\n      <td>Month-to-month</td>\n      <td>Yes</td>\n      <td>Electronic check</td>\n      <td>93.85</td>\n      <td>170.85</td>\n      <td>Yes</td>\n    </tr>\n    <tr>\n      <th>1600</th>\n      <td>3068-OMWZA</td>\n      <td>1</td>\n      <td>1</td>\n      <td>No</td>\n      <td>No</td>\n      <td>1</td>\n      <td>Yes</td>\n      <td>Yes</td>\n      <td>Fiber optic</td>\n      <td>No</td>\n      <td>...</td>\n      <td>Yes</td>\n      <td>No</td>\n      <td>Yes</td>\n      <td>No</td>\n      <td>Month-to-month</td>\n      <td>Yes</td>\n      <td>Electronic check</td>\n      <td>88.80</td>\n      <td>88.80</td>\n      <td>Yes</td>\n    </tr>\n    <tr>\n      <th>2577</th>\n      <td>4910-GMJOT</td>\n      <td>0</td>\n      <td>0</td>\n      <td>No</td>\n      <td>No</td>\n      <td>1</td>\n      <td>Yes</td>\n      <td>Yes</td>\n      <td>Fiber optic</td>\n      <td>No</td>\n      <td>...</td>\n      <td>No</td>\n      <td>No</td>\n      <td>Yes</td>\n      <td>Yes</td>\n      <td>Month-to-month</td>\n      <td>Yes</td>\n      <td>Electronic check</td>\n      <td>94.60</td>\n      <td>94.60</td>\n      <td>Yes</td>\n    </tr>\n    <tr>\n      <th>2821</th>\n      <td>4102-OQUPX</td>\n      <td>1</td>\n      <td>1</td>\n      <td>Yes</td>\n      <td>No</td>\n      <td>1</td>\n      <td>Yes</td>\n      <td>Yes</td>\n      <td>Fiber optic</td>\n      <td>No</td>\n      <td>...</td>\n      <td>No</td>\n      <td>No</td>\n      <td>No</td>\n      <td>No</td>\n      <td>Month-to-month</td>\n      <td>Yes</td>\n      <td>Electronic check</td>\n      <td>74.40</td>\n      <td>74.40</td>\n      <td>Yes</td>\n    </tr>\n    <tr>\n      <th>5783</th>\n      <td>1415-YFWLT</td>\n      <td>0</td>\n      <td>1</td>\n      <td>No</td>\n      <td>No</td>\n      <td>1</td>\n      <td>Yes</td>\n      <td>No</td>\n      <td>Fiber optic</td>\n      <td>No</td>\n      <td>...</td>\n      <td>No</td>\n      <td>No</td>\n      <td>Yes</td>\n      <td>Yes</td>\n      <td>Month-to-month</td>\n      <td>Yes</td>\n      <td>Electronic check</td>\n      <td>89.30</td>\n      <td>89.30</td>\n      <td>Yes</td>\n    </tr>\n    <tr>\n      <th>5937</th>\n      <td>5383-MMTWC</td>\n      <td>0</td>\n      <td>1</td>\n      <td>Yes</td>\n      <td>No</td>\n      <td>8</td>\n      <td>Yes</td>\n      <td>Yes</td>\n      <td>Fiber optic</td>\n      <td>No</td>\n      <td>...</td>\n      <td>No</td>\n      <td>No</td>\n      <td>No</td>\n      <td>Yes</td>\n      <td>Month-to-month</td>\n      <td>Yes</td>\n      <td>Electronic check</td>\n      <td>84.00</td>\n      <td>613.40</td>\n      <td>Yes</td>\n    </tr>\n    <tr>\n      <th>5989</th>\n      <td>5567-WSELE</td>\n      <td>1</td>\n      <td>1</td>\n      <td>Yes</td>\n      <td>No</td>\n      <td>3</td>\n      <td>Yes</td>\n      <td>Yes</td>\n      <td>Fiber optic</td>\n      <td>No</td>\n      <td>...</td>\n      <td>No</td>\n      <td>No</td>\n      <td>Yes</td>\n      <td>Yes</td>\n      <td>Month-to-month</td>\n      <td>Yes</td>\n      <td>Electronic check</td>\n      <td>94.60</td>\n      <td>279.55</td>\n      <td>Yes</td>\n    </tr>\n    <tr>\n      <th>6365</th>\n      <td>8884-ADFVN</td>\n      <td>1</td>\n      <td>1</td>\n      <td>Yes</td>\n      <td>No</td>\n      <td>7</td>\n      <td>Yes</td>\n      <td>Yes</td>\n      <td>Fiber optic</td>\n      <td>No</td>\n      <td>...</td>\n      <td>Yes</td>\n      <td>No</td>\n      <td>Yes</td>\n      <td>Yes</td>\n      <td>Month-to-month</td>\n      <td>Yes</td>\n      <td>Electronic check</td>\n      <td>101.95</td>\n      <td>700.85</td>\n      <td>Yes</td>\n    </tr>\n  </tbody>\n</table>\n<p>10 rows × 21 columns</p>\n</div>"
     },
     "metadata": {},
     "execution_count": 221
    }
   ],
   "source": [
    "df[df['CustomerID'].isin(y_testID[max_indices])]"
   ]
  },
  {
   "source": [
    "Как можно заметить у каждой десятки есть свои особенности. \n",
    "\n",
    "* Те, кто **наименее вероятно покинут оператора**, пользуются лишь сотовой связью, в связи с чем достаточно выгодно заключать контракт на 2-годовой основе. Можно заметить, что эти клиенты пользуются услугами оператора достаточно долго (от 5 до 6 лет) и платят маленькую сумму за его услуги в месяц.\n",
    "\n",
    "* Если говорить о тех, кто **покинул оператора**, то они, вероятнее всего, хотели попробовать воспользоваться его услугами, посему выбрали контракт на месячной основе, и пользовались его услугами не очень долго (от 1 до 8 месяцев). Причем все использовали оптоволоконную сеть и пользовались дополнительными услугами, которые предоставлялись оператором при подключении к интернету. Плата за месяц в совокупности выходила на несколько порядков выше, чем у тех, кто пользуется лишь сотовой связью. Вероятнее всего, покинувшие решили, что услуги оператора не выгодные, поэтому ушли."
   ],
   "cell_type": "markdown",
   "metadata": {}
  },
  {
   "source": [
    "## Пункт 3"
   ],
   "cell_type": "markdown",
   "metadata": {}
  },
  {
   "source": [
    "Данная модель может использоваться по выявлению пользователей, которые потенциально могут покинуть сотового оператора. В таком случае, определяется выборка людей, которым можно сделать какое-нибудь выгодное предложение, чтобы он остался с оператором. "
   ],
   "cell_type": "markdown",
   "metadata": {}
  },
  {
   "cell_type": "markdown",
   "metadata": {},
   "source": [
    "# Задание 6* (Нужно выполнить, если нужна общая оценка 10)"
   ]
  },
  {
   "cell_type": "markdown",
   "metadata": {},
   "source": [
    "Повторите весь процесс моделирования для датасета adult.csv (классический и фундаментальный датасет для машинного обучения). Дополнительно необходимо ответить на следующий вопрос:\n",
    "1. Найдите людей с самыми уверенными предсказаниями зарплаты выше и ниже 50k. Какие признаки на это повлияли сильнее всего? Почему?"
   ]
  },
  {
   "cell_type": "code",
   "execution_count": 100,
   "metadata": {},
   "outputs": [],
   "source": [
    "df = pd.read_csv('adult.csv')"
   ]
  },
  {
   "cell_type": "code",
   "execution_count": 101,
   "metadata": {},
   "outputs": [
    {
     "output_type": "execute_result",
     "data": {
      "text/plain": [
       "   age  workclass  fnlwgt     education  educational-num      marital-status  \\\n",
       "0   25    Private  226802          11th                7       Never-married   \n",
       "1   38    Private   89814       HS-grad                9  Married-civ-spouse   \n",
       "2   28  Local-gov  336951    Assoc-acdm               12  Married-civ-spouse   \n",
       "3   44    Private  160323  Some-college               10  Married-civ-spouse   \n",
       "4   18          ?  103497  Some-college               10       Never-married   \n",
       "\n",
       "          occupation relationship   race  gender  capital-gain  capital-loss  \\\n",
       "0  Machine-op-inspct    Own-child  Black    Male             0             0   \n",
       "1    Farming-fishing      Husband  White    Male             0             0   \n",
       "2    Protective-serv      Husband  White    Male             0             0   \n",
       "3  Machine-op-inspct      Husband  Black    Male          7688             0   \n",
       "4                  ?    Own-child  White  Female             0             0   \n",
       "\n",
       "   hours-per-week native-country income  \n",
       "0              40  United-States  <=50K  \n",
       "1              50  United-States  <=50K  \n",
       "2              40  United-States   >50K  \n",
       "3              40  United-States   >50K  \n",
       "4              30  United-States  <=50K  "
      ],
      "text/html": "<div>\n<style scoped>\n    .dataframe tbody tr th:only-of-type {\n        vertical-align: middle;\n    }\n\n    .dataframe tbody tr th {\n        vertical-align: top;\n    }\n\n    .dataframe thead th {\n        text-align: right;\n    }\n</style>\n<table border=\"1\" class=\"dataframe\">\n  <thead>\n    <tr style=\"text-align: right;\">\n      <th></th>\n      <th>age</th>\n      <th>workclass</th>\n      <th>fnlwgt</th>\n      <th>education</th>\n      <th>educational-num</th>\n      <th>marital-status</th>\n      <th>occupation</th>\n      <th>relationship</th>\n      <th>race</th>\n      <th>gender</th>\n      <th>capital-gain</th>\n      <th>capital-loss</th>\n      <th>hours-per-week</th>\n      <th>native-country</th>\n      <th>income</th>\n    </tr>\n  </thead>\n  <tbody>\n    <tr>\n      <th>0</th>\n      <td>25</td>\n      <td>Private</td>\n      <td>226802</td>\n      <td>11th</td>\n      <td>7</td>\n      <td>Never-married</td>\n      <td>Machine-op-inspct</td>\n      <td>Own-child</td>\n      <td>Black</td>\n      <td>Male</td>\n      <td>0</td>\n      <td>0</td>\n      <td>40</td>\n      <td>United-States</td>\n      <td>&lt;=50K</td>\n    </tr>\n    <tr>\n      <th>1</th>\n      <td>38</td>\n      <td>Private</td>\n      <td>89814</td>\n      <td>HS-grad</td>\n      <td>9</td>\n      <td>Married-civ-spouse</td>\n      <td>Farming-fishing</td>\n      <td>Husband</td>\n      <td>White</td>\n      <td>Male</td>\n      <td>0</td>\n      <td>0</td>\n      <td>50</td>\n      <td>United-States</td>\n      <td>&lt;=50K</td>\n    </tr>\n    <tr>\n      <th>2</th>\n      <td>28</td>\n      <td>Local-gov</td>\n      <td>336951</td>\n      <td>Assoc-acdm</td>\n      <td>12</td>\n      <td>Married-civ-spouse</td>\n      <td>Protective-serv</td>\n      <td>Husband</td>\n      <td>White</td>\n      <td>Male</td>\n      <td>0</td>\n      <td>0</td>\n      <td>40</td>\n      <td>United-States</td>\n      <td>&gt;50K</td>\n    </tr>\n    <tr>\n      <th>3</th>\n      <td>44</td>\n      <td>Private</td>\n      <td>160323</td>\n      <td>Some-college</td>\n      <td>10</td>\n      <td>Married-civ-spouse</td>\n      <td>Machine-op-inspct</td>\n      <td>Husband</td>\n      <td>Black</td>\n      <td>Male</td>\n      <td>7688</td>\n      <td>0</td>\n      <td>40</td>\n      <td>United-States</td>\n      <td>&gt;50K</td>\n    </tr>\n    <tr>\n      <th>4</th>\n      <td>18</td>\n      <td>?</td>\n      <td>103497</td>\n      <td>Some-college</td>\n      <td>10</td>\n      <td>Never-married</td>\n      <td>?</td>\n      <td>Own-child</td>\n      <td>White</td>\n      <td>Female</td>\n      <td>0</td>\n      <td>0</td>\n      <td>30</td>\n      <td>United-States</td>\n      <td>&lt;=50K</td>\n    </tr>\n  </tbody>\n</table>\n</div>"
     },
     "metadata": {},
     "execution_count": 101
    }
   ],
   "source": [
    "df.head()"
   ]
  },
  {
   "cell_type": "code",
   "execution_count": 102,
   "metadata": {},
   "outputs": [
    {
     "output_type": "execute_result",
     "data": {
      "text/plain": [
       "(48842, 15)"
      ]
     },
     "metadata": {},
     "execution_count": 102
    }
   ],
   "source": [
    "df.shape"
   ]
  },
  {
   "cell_type": "code",
   "execution_count": 103,
   "metadata": {},
   "outputs": [
    {
     "output_type": "stream",
     "name": "stdout",
     "text": [
      "<class 'pandas.core.frame.DataFrame'>\nRangeIndex: 48842 entries, 0 to 48841\nData columns (total 15 columns):\n #   Column           Non-Null Count  Dtype \n---  ------           --------------  ----- \n 0   age              48842 non-null  int64 \n 1   workclass        48842 non-null  object\n 2   fnlwgt           48842 non-null  int64 \n 3   education        48842 non-null  object\n 4   educational-num  48842 non-null  int64 \n 5   marital-status   48842 non-null  object\n 6   occupation       48842 non-null  object\n 7   relationship     48842 non-null  object\n 8   race             48842 non-null  object\n 9   gender           48842 non-null  object\n 10  capital-gain     48842 non-null  int64 \n 11  capital-loss     48842 non-null  int64 \n 12  hours-per-week   48842 non-null  int64 \n 13  native-country   48842 non-null  object\n 14  income           48842 non-null  object\ndtypes: int64(6), object(9)\nmemory usage: 5.6+ MB\n"
     ]
    }
   ],
   "source": [
    "df.info()"
   ]
  },
  {
   "source": [
    "## Описание признаков датасета"
   ],
   "cell_type": "markdown",
   "metadata": {}
  },
  {
   "source": [
    "* **age** - возраст;\n",
    "* ** workclass** - вид самозанятости (категориальный);\n",
    "* ** fnlwgt** - количество людей, которые по данным переписи имеют схожую демографическую характеристику;\n",
    "* ** education** - образование (категориальный);\n",
    "* ** educational-num** - высшая степень образование в числовой форме;\n",
    "* ** marital-status** - семейное положение (категориальный);\n",
    "* ** occupation** - должность;\n",
    "* ** relationship** - женат/замужем;\n",
    "* ** race** - раса (категориальный);\n",
    "* ** gender** - гендер (бинарный);\n",
    "* ** capital-gain** - прирост капитала;\n",
    "* ** capital-loss** - потери капитала;\n",
    "* ** hours-per-week** - количество часов работы в неделю;\n",
    "* ** native-country** - страна рождения;\n",
    "* ** income** - доход (бинарный)."
   ],
   "cell_type": "markdown",
   "metadata": {}
  },
  {
   "source": [
    "Целевой столбец - **income**. В рамках задачи требуется определить порог заработка каждого человека (<=50k$, >50k$)."
   ],
   "cell_type": "markdown",
   "metadata": {}
  },
  {
   "cell_type": "code",
   "execution_count": 104,
   "metadata": {},
   "outputs": [
    {
     "output_type": "execute_result",
     "data": {
      "text/plain": [
       "age                0\n",
       "workclass          0\n",
       "fnlwgt             0\n",
       "education          0\n",
       "educational-num    0\n",
       "marital-status     0\n",
       "occupation         0\n",
       "relationship       0\n",
       "race               0\n",
       "gender             0\n",
       "capital-gain       0\n",
       "capital-loss       0\n",
       "hours-per-week     0\n",
       "native-country     0\n",
       "income             0\n",
       "dtype: int64"
      ]
     },
     "metadata": {},
     "execution_count": 104
    }
   ],
   "source": [
    "df.isnull().sum()"
   ]
  },
  {
   "source": [
    "Как видно, явных пропусков в данных нет, однако..."
   ],
   "cell_type": "markdown",
   "metadata": {}
  },
  {
   "cell_type": "code",
   "execution_count": 105,
   "metadata": {},
   "outputs": [
    {
     "output_type": "execute_result",
     "data": {
      "text/plain": [
       "       age  workclass  fnlwgt     education  educational-num  \\\n",
       "0       25    Private  226802          11th                7   \n",
       "1       38    Private   89814       HS-grad                9   \n",
       "2       28  Local-gov  336951    Assoc-acdm               12   \n",
       "4       18          ?  103497  Some-college               10   \n",
       "5       34    Private  198693          10th                6   \n",
       "...    ...        ...     ...           ...              ...   \n",
       "48836   22    Private  310152  Some-college               10   \n",
       "48837   27    Private  257302    Assoc-acdm               12   \n",
       "48838   40    Private  154374       HS-grad                9   \n",
       "48839   58    Private  151910       HS-grad                9   \n",
       "48840   22    Private  201490       HS-grad                9   \n",
       "\n",
       "           marital-status         occupation   relationship   race  gender  \\\n",
       "0           Never-married  Machine-op-inspct      Own-child  Black    Male   \n",
       "1      Married-civ-spouse    Farming-fishing        Husband  White    Male   \n",
       "2      Married-civ-spouse    Protective-serv        Husband  White    Male   \n",
       "4           Never-married                  ?      Own-child  White  Female   \n",
       "5           Never-married      Other-service  Not-in-family  White    Male   \n",
       "...                   ...                ...            ...    ...     ...   \n",
       "48836       Never-married    Protective-serv  Not-in-family  White    Male   \n",
       "48837  Married-civ-spouse       Tech-support           Wife  White  Female   \n",
       "48838  Married-civ-spouse  Machine-op-inspct        Husband  White    Male   \n",
       "48839             Widowed       Adm-clerical      Unmarried  White  Female   \n",
       "48840       Never-married       Adm-clerical      Own-child  White    Male   \n",
       "\n",
       "       capital-gain  capital-loss  hours-per-week native-country income  \n",
       "0                 0             0              40  United-States  <=50K  \n",
       "1                 0             0              50  United-States  <=50K  \n",
       "2                 0             0              40  United-States   >50K  \n",
       "4                 0             0              30  United-States  <=50K  \n",
       "5                 0             0              30  United-States  <=50K  \n",
       "...             ...           ...             ...            ...    ...  \n",
       "48836             0             0              40  United-States  <=50K  \n",
       "48837             0             0              38  United-States  <=50K  \n",
       "48838             0             0              40  United-States   >50K  \n",
       "48839             0             0              40  United-States  <=50K  \n",
       "48840             0             0              20  United-States  <=50K  \n",
       "\n",
       "[44807 rows x 15 columns]"
      ],
      "text/html": "<div>\n<style scoped>\n    .dataframe tbody tr th:only-of-type {\n        vertical-align: middle;\n    }\n\n    .dataframe tbody tr th {\n        vertical-align: top;\n    }\n\n    .dataframe thead th {\n        text-align: right;\n    }\n</style>\n<table border=\"1\" class=\"dataframe\">\n  <thead>\n    <tr style=\"text-align: right;\">\n      <th></th>\n      <th>age</th>\n      <th>workclass</th>\n      <th>fnlwgt</th>\n      <th>education</th>\n      <th>educational-num</th>\n      <th>marital-status</th>\n      <th>occupation</th>\n      <th>relationship</th>\n      <th>race</th>\n      <th>gender</th>\n      <th>capital-gain</th>\n      <th>capital-loss</th>\n      <th>hours-per-week</th>\n      <th>native-country</th>\n      <th>income</th>\n    </tr>\n  </thead>\n  <tbody>\n    <tr>\n      <th>0</th>\n      <td>25</td>\n      <td>Private</td>\n      <td>226802</td>\n      <td>11th</td>\n      <td>7</td>\n      <td>Never-married</td>\n      <td>Machine-op-inspct</td>\n      <td>Own-child</td>\n      <td>Black</td>\n      <td>Male</td>\n      <td>0</td>\n      <td>0</td>\n      <td>40</td>\n      <td>United-States</td>\n      <td>&lt;=50K</td>\n    </tr>\n    <tr>\n      <th>1</th>\n      <td>38</td>\n      <td>Private</td>\n      <td>89814</td>\n      <td>HS-grad</td>\n      <td>9</td>\n      <td>Married-civ-spouse</td>\n      <td>Farming-fishing</td>\n      <td>Husband</td>\n      <td>White</td>\n      <td>Male</td>\n      <td>0</td>\n      <td>0</td>\n      <td>50</td>\n      <td>United-States</td>\n      <td>&lt;=50K</td>\n    </tr>\n    <tr>\n      <th>2</th>\n      <td>28</td>\n      <td>Local-gov</td>\n      <td>336951</td>\n      <td>Assoc-acdm</td>\n      <td>12</td>\n      <td>Married-civ-spouse</td>\n      <td>Protective-serv</td>\n      <td>Husband</td>\n      <td>White</td>\n      <td>Male</td>\n      <td>0</td>\n      <td>0</td>\n      <td>40</td>\n      <td>United-States</td>\n      <td>&gt;50K</td>\n    </tr>\n    <tr>\n      <th>4</th>\n      <td>18</td>\n      <td>?</td>\n      <td>103497</td>\n      <td>Some-college</td>\n      <td>10</td>\n      <td>Never-married</td>\n      <td>?</td>\n      <td>Own-child</td>\n      <td>White</td>\n      <td>Female</td>\n      <td>0</td>\n      <td>0</td>\n      <td>30</td>\n      <td>United-States</td>\n      <td>&lt;=50K</td>\n    </tr>\n    <tr>\n      <th>5</th>\n      <td>34</td>\n      <td>Private</td>\n      <td>198693</td>\n      <td>10th</td>\n      <td>6</td>\n      <td>Never-married</td>\n      <td>Other-service</td>\n      <td>Not-in-family</td>\n      <td>White</td>\n      <td>Male</td>\n      <td>0</td>\n      <td>0</td>\n      <td>30</td>\n      <td>United-States</td>\n      <td>&lt;=50K</td>\n    </tr>\n    <tr>\n      <th>...</th>\n      <td>...</td>\n      <td>...</td>\n      <td>...</td>\n      <td>...</td>\n      <td>...</td>\n      <td>...</td>\n      <td>...</td>\n      <td>...</td>\n      <td>...</td>\n      <td>...</td>\n      <td>...</td>\n      <td>...</td>\n      <td>...</td>\n      <td>...</td>\n      <td>...</td>\n    </tr>\n    <tr>\n      <th>48836</th>\n      <td>22</td>\n      <td>Private</td>\n      <td>310152</td>\n      <td>Some-college</td>\n      <td>10</td>\n      <td>Never-married</td>\n      <td>Protective-serv</td>\n      <td>Not-in-family</td>\n      <td>White</td>\n      <td>Male</td>\n      <td>0</td>\n      <td>0</td>\n      <td>40</td>\n      <td>United-States</td>\n      <td>&lt;=50K</td>\n    </tr>\n    <tr>\n      <th>48837</th>\n      <td>27</td>\n      <td>Private</td>\n      <td>257302</td>\n      <td>Assoc-acdm</td>\n      <td>12</td>\n      <td>Married-civ-spouse</td>\n      <td>Tech-support</td>\n      <td>Wife</td>\n      <td>White</td>\n      <td>Female</td>\n      <td>0</td>\n      <td>0</td>\n      <td>38</td>\n      <td>United-States</td>\n      <td>&lt;=50K</td>\n    </tr>\n    <tr>\n      <th>48838</th>\n      <td>40</td>\n      <td>Private</td>\n      <td>154374</td>\n      <td>HS-grad</td>\n      <td>9</td>\n      <td>Married-civ-spouse</td>\n      <td>Machine-op-inspct</td>\n      <td>Husband</td>\n      <td>White</td>\n      <td>Male</td>\n      <td>0</td>\n      <td>0</td>\n      <td>40</td>\n      <td>United-States</td>\n      <td>&gt;50K</td>\n    </tr>\n    <tr>\n      <th>48839</th>\n      <td>58</td>\n      <td>Private</td>\n      <td>151910</td>\n      <td>HS-grad</td>\n      <td>9</td>\n      <td>Widowed</td>\n      <td>Adm-clerical</td>\n      <td>Unmarried</td>\n      <td>White</td>\n      <td>Female</td>\n      <td>0</td>\n      <td>0</td>\n      <td>40</td>\n      <td>United-States</td>\n      <td>&lt;=50K</td>\n    </tr>\n    <tr>\n      <th>48840</th>\n      <td>22</td>\n      <td>Private</td>\n      <td>201490</td>\n      <td>HS-grad</td>\n      <td>9</td>\n      <td>Never-married</td>\n      <td>Adm-clerical</td>\n      <td>Own-child</td>\n      <td>White</td>\n      <td>Male</td>\n      <td>0</td>\n      <td>0</td>\n      <td>20</td>\n      <td>United-States</td>\n      <td>&lt;=50K</td>\n    </tr>\n  </tbody>\n</table>\n<p>44807 rows × 15 columns</p>\n</div>"
     },
     "metadata": {},
     "execution_count": 105
    }
   ],
   "source": [
    "df.loc[df['capital-gain'] == 0]"
   ]
  },
  {
   "cell_type": "code",
   "execution_count": 106,
   "metadata": {},
   "outputs": [
    {
     "output_type": "execute_result",
     "data": {
      "text/plain": [
       "       age     workclass  fnlwgt     education  educational-num  \\\n",
       "0       25       Private  226802          11th                7   \n",
       "1       38       Private   89814       HS-grad                9   \n",
       "2       28     Local-gov  336951    Assoc-acdm               12   \n",
       "3       44       Private  160323  Some-college               10   \n",
       "4       18             ?  103497  Some-college               10   \n",
       "...    ...           ...     ...           ...              ...   \n",
       "48837   27       Private  257302    Assoc-acdm               12   \n",
       "48838   40       Private  154374       HS-grad                9   \n",
       "48839   58       Private  151910       HS-grad                9   \n",
       "48840   22       Private  201490       HS-grad                9   \n",
       "48841   52  Self-emp-inc  287927       HS-grad                9   \n",
       "\n",
       "           marital-status         occupation relationship   race  gender  \\\n",
       "0           Never-married  Machine-op-inspct    Own-child  Black    Male   \n",
       "1      Married-civ-spouse    Farming-fishing      Husband  White    Male   \n",
       "2      Married-civ-spouse    Protective-serv      Husband  White    Male   \n",
       "3      Married-civ-spouse  Machine-op-inspct      Husband  Black    Male   \n",
       "4           Never-married                  ?    Own-child  White  Female   \n",
       "...                   ...                ...          ...    ...     ...   \n",
       "48837  Married-civ-spouse       Tech-support         Wife  White  Female   \n",
       "48838  Married-civ-spouse  Machine-op-inspct      Husband  White    Male   \n",
       "48839             Widowed       Adm-clerical    Unmarried  White  Female   \n",
       "48840       Never-married       Adm-clerical    Own-child  White    Male   \n",
       "48841  Married-civ-spouse    Exec-managerial         Wife  White  Female   \n",
       "\n",
       "       capital-gain  capital-loss  hours-per-week native-country income  \n",
       "0                 0             0              40  United-States  <=50K  \n",
       "1                 0             0              50  United-States  <=50K  \n",
       "2                 0             0              40  United-States   >50K  \n",
       "3              7688             0              40  United-States   >50K  \n",
       "4                 0             0              30  United-States  <=50K  \n",
       "...             ...           ...             ...            ...    ...  \n",
       "48837             0             0              38  United-States  <=50K  \n",
       "48838             0             0              40  United-States   >50K  \n",
       "48839             0             0              40  United-States  <=50K  \n",
       "48840             0             0              20  United-States  <=50K  \n",
       "48841         15024             0              40  United-States   >50K  \n",
       "\n",
       "[46560 rows x 15 columns]"
      ],
      "text/html": "<div>\n<style scoped>\n    .dataframe tbody tr th:only-of-type {\n        vertical-align: middle;\n    }\n\n    .dataframe tbody tr th {\n        vertical-align: top;\n    }\n\n    .dataframe thead th {\n        text-align: right;\n    }\n</style>\n<table border=\"1\" class=\"dataframe\">\n  <thead>\n    <tr style=\"text-align: right;\">\n      <th></th>\n      <th>age</th>\n      <th>workclass</th>\n      <th>fnlwgt</th>\n      <th>education</th>\n      <th>educational-num</th>\n      <th>marital-status</th>\n      <th>occupation</th>\n      <th>relationship</th>\n      <th>race</th>\n      <th>gender</th>\n      <th>capital-gain</th>\n      <th>capital-loss</th>\n      <th>hours-per-week</th>\n      <th>native-country</th>\n      <th>income</th>\n    </tr>\n  </thead>\n  <tbody>\n    <tr>\n      <th>0</th>\n      <td>25</td>\n      <td>Private</td>\n      <td>226802</td>\n      <td>11th</td>\n      <td>7</td>\n      <td>Never-married</td>\n      <td>Machine-op-inspct</td>\n      <td>Own-child</td>\n      <td>Black</td>\n      <td>Male</td>\n      <td>0</td>\n      <td>0</td>\n      <td>40</td>\n      <td>United-States</td>\n      <td>&lt;=50K</td>\n    </tr>\n    <tr>\n      <th>1</th>\n      <td>38</td>\n      <td>Private</td>\n      <td>89814</td>\n      <td>HS-grad</td>\n      <td>9</td>\n      <td>Married-civ-spouse</td>\n      <td>Farming-fishing</td>\n      <td>Husband</td>\n      <td>White</td>\n      <td>Male</td>\n      <td>0</td>\n      <td>0</td>\n      <td>50</td>\n      <td>United-States</td>\n      <td>&lt;=50K</td>\n    </tr>\n    <tr>\n      <th>2</th>\n      <td>28</td>\n      <td>Local-gov</td>\n      <td>336951</td>\n      <td>Assoc-acdm</td>\n      <td>12</td>\n      <td>Married-civ-spouse</td>\n      <td>Protective-serv</td>\n      <td>Husband</td>\n      <td>White</td>\n      <td>Male</td>\n      <td>0</td>\n      <td>0</td>\n      <td>40</td>\n      <td>United-States</td>\n      <td>&gt;50K</td>\n    </tr>\n    <tr>\n      <th>3</th>\n      <td>44</td>\n      <td>Private</td>\n      <td>160323</td>\n      <td>Some-college</td>\n      <td>10</td>\n      <td>Married-civ-spouse</td>\n      <td>Machine-op-inspct</td>\n      <td>Husband</td>\n      <td>Black</td>\n      <td>Male</td>\n      <td>7688</td>\n      <td>0</td>\n      <td>40</td>\n      <td>United-States</td>\n      <td>&gt;50K</td>\n    </tr>\n    <tr>\n      <th>4</th>\n      <td>18</td>\n      <td>?</td>\n      <td>103497</td>\n      <td>Some-college</td>\n      <td>10</td>\n      <td>Never-married</td>\n      <td>?</td>\n      <td>Own-child</td>\n      <td>White</td>\n      <td>Female</td>\n      <td>0</td>\n      <td>0</td>\n      <td>30</td>\n      <td>United-States</td>\n      <td>&lt;=50K</td>\n    </tr>\n    <tr>\n      <th>...</th>\n      <td>...</td>\n      <td>...</td>\n      <td>...</td>\n      <td>...</td>\n      <td>...</td>\n      <td>...</td>\n      <td>...</td>\n      <td>...</td>\n      <td>...</td>\n      <td>...</td>\n      <td>...</td>\n      <td>...</td>\n      <td>...</td>\n      <td>...</td>\n      <td>...</td>\n    </tr>\n    <tr>\n      <th>48837</th>\n      <td>27</td>\n      <td>Private</td>\n      <td>257302</td>\n      <td>Assoc-acdm</td>\n      <td>12</td>\n      <td>Married-civ-spouse</td>\n      <td>Tech-support</td>\n      <td>Wife</td>\n      <td>White</td>\n      <td>Female</td>\n      <td>0</td>\n      <td>0</td>\n      <td>38</td>\n      <td>United-States</td>\n      <td>&lt;=50K</td>\n    </tr>\n    <tr>\n      <th>48838</th>\n      <td>40</td>\n      <td>Private</td>\n      <td>154374</td>\n      <td>HS-grad</td>\n      <td>9</td>\n      <td>Married-civ-spouse</td>\n      <td>Machine-op-inspct</td>\n      <td>Husband</td>\n      <td>White</td>\n      <td>Male</td>\n      <td>0</td>\n      <td>0</td>\n      <td>40</td>\n      <td>United-States</td>\n      <td>&gt;50K</td>\n    </tr>\n    <tr>\n      <th>48839</th>\n      <td>58</td>\n      <td>Private</td>\n      <td>151910</td>\n      <td>HS-grad</td>\n      <td>9</td>\n      <td>Widowed</td>\n      <td>Adm-clerical</td>\n      <td>Unmarried</td>\n      <td>White</td>\n      <td>Female</td>\n      <td>0</td>\n      <td>0</td>\n      <td>40</td>\n      <td>United-States</td>\n      <td>&lt;=50K</td>\n    </tr>\n    <tr>\n      <th>48840</th>\n      <td>22</td>\n      <td>Private</td>\n      <td>201490</td>\n      <td>HS-grad</td>\n      <td>9</td>\n      <td>Never-married</td>\n      <td>Adm-clerical</td>\n      <td>Own-child</td>\n      <td>White</td>\n      <td>Male</td>\n      <td>0</td>\n      <td>0</td>\n      <td>20</td>\n      <td>United-States</td>\n      <td>&lt;=50K</td>\n    </tr>\n    <tr>\n      <th>48841</th>\n      <td>52</td>\n      <td>Self-emp-inc</td>\n      <td>287927</td>\n      <td>HS-grad</td>\n      <td>9</td>\n      <td>Married-civ-spouse</td>\n      <td>Exec-managerial</td>\n      <td>Wife</td>\n      <td>White</td>\n      <td>Female</td>\n      <td>15024</td>\n      <td>0</td>\n      <td>40</td>\n      <td>United-States</td>\n      <td>&gt;50K</td>\n    </tr>\n  </tbody>\n</table>\n<p>46560 rows × 15 columns</p>\n</div>"
     },
     "metadata": {},
     "execution_count": 106
    }
   ],
   "source": [
    "df.loc[df['capital-loss'] == 0]"
   ]
  },
  {
   "source": [
    "Слишком много нулей в столбцах о приросте и потери капитала, что весьма сомнительно в контексте репрезентативности этих признаков в данных."
   ],
   "cell_type": "markdown",
   "metadata": {}
  },
  {
   "cell_type": "code",
   "execution_count": 155,
   "metadata": {},
   "outputs": [],
   "source": [
    "X_df, y = df.loc[:, df.columns != 'income'].copy(deep=True), df.loc[:, 'income'].copy(deep=True)"
   ]
  },
  {
   "source": [
    "## Преобрование бинарных и категориальных признаки"
   ],
   "cell_type": "markdown",
   "metadata": {}
  },
  {
   "cell_type": "code",
   "execution_count": 156,
   "metadata": {},
   "outputs": [],
   "source": [
    "y = y.apply(lambda x: 1 if x == '>50K' else 0)"
   ]
  },
  {
   "cell_type": "code",
   "execution_count": 157,
   "metadata": {},
   "outputs": [],
   "source": [
    "X_df['gender'] = X_df['gender'].apply(lambda x: 1 if x == 'Male' else 0)"
   ]
  },
  {
   "cell_type": "code",
   "execution_count": 158,
   "metadata": {},
   "outputs": [],
   "source": [
    "X_df = pd.get_dummies(X_df, drop_first=True)"
   ]
  },
  {
   "cell_type": "code",
   "execution_count": 159,
   "metadata": {},
   "outputs": [],
   "source": [
    "X, y = X_df.to_numpy(dtype=float), y.to_numpy(dtype=float)"
   ]
  },
  {
   "source": [
    "## Стандартизация данных"
   ],
   "cell_type": "markdown",
   "metadata": {}
  },
  {
   "cell_type": "code",
   "execution_count": 160,
   "metadata": {},
   "outputs": [],
   "source": [
    "scaler = StandardScaler()\n",
    "X = scaler.fit_transform(X)"
   ]
  },
  {
   "cell_type": "code",
   "execution_count": 161,
   "metadata": {},
   "outputs": [],
   "source": [
    "X_train, X_test, y_train, y_test = train_test_split(\n",
    "    X, y, test_size=0.2, shuffle=True, random_state=42)"
   ]
  },
  {
   "cell_type": "code",
   "execution_count": 162,
   "metadata": {},
   "outputs": [
    {
     "output_type": "execute_result",
     "data": {
      "text/plain": [
       "(0.24049855398868783, 0.2344149861807759)"
      ]
     },
     "metadata": {},
     "execution_count": 162
    }
   ],
   "source": [
    "np.mean(y_train), np.mean(y_test)"
   ]
  },
  {
   "source": [
    "Датасет несбалансированный."
   ],
   "cell_type": "markdown",
   "metadata": {}
  },
  {
   "source": [
    "## Обучение классификатора"
   ],
   "cell_type": "markdown",
   "metadata": {}
  },
  {
   "cell_type": "code",
   "execution_count": 163,
   "metadata": {},
   "outputs": [],
   "source": [
    "clf = LogisticRegression(class_weight={0: 0.3, 1: 0.7}, max_iter=500)"
   ]
  },
  {
   "cell_type": "code",
   "execution_count": 164,
   "metadata": {},
   "outputs": [
    {
     "output_type": "execute_result",
     "data": {
      "text/plain": [
       "LogisticRegression(C=1.0, class_weight={0: 0.3, 1: 0.7}, dual=False,\n",
       "                   fit_intercept=True, intercept_scaling=1, l1_ratio=None,\n",
       "                   max_iter=500, multi_class='auto', n_jobs=None, penalty='l2',\n",
       "                   random_state=None, solver='lbfgs', tol=0.0001, verbose=0,\n",
       "                   warm_start=False)"
      ]
     },
     "metadata": {},
     "execution_count": 164
    }
   ],
   "source": [
    "clf.fit(X_train, y_train)"
   ]
  },
  {
   "source": [
    "## Проверка качества работы модели"
   ],
   "cell_type": "markdown",
   "metadata": {}
  },
  {
   "cell_type": "code",
   "execution_count": 165,
   "metadata": {},
   "outputs": [],
   "source": [
    "y_pred = clf.predict_proba(X_test)"
   ]
  },
  {
   "cell_type": "code",
   "execution_count": 166,
   "metadata": {},
   "outputs": [
    {
     "output_type": "stream",
     "name": "stdout",
     "text": [
      "Accuracy: 83.509% \nPrecision: 61.298%\nRecall: 80.437%\nF1 score: 69.575% \nROC-AUC score: 91.072%\n"
     ]
    }
   ],
   "source": [
    "print_metrics(y_test, y_pred, model='log_reg')"
   ]
  },
  {
   "cell_type": "code",
   "execution_count": 167,
   "metadata": {},
   "outputs": [
    {
     "output_type": "display_data",
     "data": {
      "text/plain": "<Figure size 432x288 with 1 Axes>",
      "image/svg+xml": "<?xml version=\"1.0\" encoding=\"utf-8\" standalone=\"no\"?>\r\n<!DOCTYPE svg PUBLIC \"-//W3C//DTD SVG 1.1//EN\"\r\n  \"http://www.w3.org/Graphics/SVG/1.1/DTD/svg11.dtd\">\r\n<!-- Created with matplotlib (https://matplotlib.org/) -->\r\n<svg height=\"262.19625pt\" version=\"1.1\" viewBox=\"0 0 385.78125 262.19625\" width=\"385.78125pt\" xmlns=\"http://www.w3.org/2000/svg\" xmlns:xlink=\"http://www.w3.org/1999/xlink\">\r\n <defs>\r\n  <style type=\"text/css\">\r\n*{stroke-linecap:butt;stroke-linejoin:round;}\r\n  </style>\r\n </defs>\r\n <g id=\"figure_1\">\r\n  <g id=\"patch_1\">\r\n   <path d=\"M 0 262.19625 \r\nL 385.78125 262.19625 \r\nL 385.78125 0 \r\nL 0 0 \r\nz\r\n\" style=\"fill:none;\"/>\r\n  </g>\r\n  <g id=\"axes_1\">\r\n   <g id=\"patch_2\">\r\n    <path d=\"M 43.78125 224.64 \r\nL 378.58125 224.64 \r\nL 378.58125 7.2 \r\nL 43.78125 7.2 \r\nz\r\n\" style=\"fill:#ffffff;\"/>\r\n   </g>\r\n   <g id=\"matplotlib.axis_1\">\r\n    <g id=\"xtick_1\">\r\n     <g id=\"line2d_1\">\r\n      <defs>\r\n       <path d=\"M 0 0 \r\nL 0 3.5 \r\n\" id=\"m94917cff94\" style=\"stroke:#000000;stroke-width:0.8;\"/>\r\n      </defs>\r\n      <g>\r\n       <use style=\"stroke:#000000;stroke-width:0.8;\" x=\"58.999432\" xlink:href=\"#m94917cff94\" y=\"224.64\"/>\r\n      </g>\r\n     </g>\r\n     <g id=\"text_1\">\r\n      <!-- 0.0 -->\r\n      <defs>\r\n       <path d=\"M 31.78125 66.40625 \r\nQ 24.171875 66.40625 20.328125 58.90625 \r\nQ 16.5 51.421875 16.5 36.375 \r\nQ 16.5 21.390625 20.328125 13.890625 \r\nQ 24.171875 6.390625 31.78125 6.390625 \r\nQ 39.453125 6.390625 43.28125 13.890625 \r\nQ 47.125 21.390625 47.125 36.375 \r\nQ 47.125 51.421875 43.28125 58.90625 \r\nQ 39.453125 66.40625 31.78125 66.40625 \r\nz\r\nM 31.78125 74.21875 \r\nQ 44.046875 74.21875 50.515625 64.515625 \r\nQ 56.984375 54.828125 56.984375 36.375 \r\nQ 56.984375 17.96875 50.515625 8.265625 \r\nQ 44.046875 -1.421875 31.78125 -1.421875 \r\nQ 19.53125 -1.421875 13.0625 8.265625 \r\nQ 6.59375 17.96875 6.59375 36.375 \r\nQ 6.59375 54.828125 13.0625 64.515625 \r\nQ 19.53125 74.21875 31.78125 74.21875 \r\nz\r\n\" id=\"DejaVuSans-48\"/>\r\n       <path d=\"M 10.6875 12.40625 \r\nL 21 12.40625 \r\nL 21 0 \r\nL 10.6875 0 \r\nz\r\n\" id=\"DejaVuSans-46\"/>\r\n      </defs>\r\n      <g transform=\"translate(51.047869 239.238437)scale(0.1 -0.1)\">\r\n       <use xlink:href=\"#DejaVuSans-48\"/>\r\n       <use x=\"63.623047\" xlink:href=\"#DejaVuSans-46\"/>\r\n       <use x=\"95.410156\" xlink:href=\"#DejaVuSans-48\"/>\r\n      </g>\r\n     </g>\r\n    </g>\r\n    <g id=\"xtick_2\">\r\n     <g id=\"line2d_2\">\r\n      <g>\r\n       <use style=\"stroke:#000000;stroke-width:0.8;\" x=\"119.872159\" xlink:href=\"#m94917cff94\" y=\"224.64\"/>\r\n      </g>\r\n     </g>\r\n     <g id=\"text_2\">\r\n      <!-- 0.2 -->\r\n      <defs>\r\n       <path d=\"M 19.1875 8.296875 \r\nL 53.609375 8.296875 \r\nL 53.609375 0 \r\nL 7.328125 0 \r\nL 7.328125 8.296875 \r\nQ 12.9375 14.109375 22.625 23.890625 \r\nQ 32.328125 33.6875 34.8125 36.53125 \r\nQ 39.546875 41.84375 41.421875 45.53125 \r\nQ 43.3125 49.21875 43.3125 52.78125 \r\nQ 43.3125 58.59375 39.234375 62.25 \r\nQ 35.15625 65.921875 28.609375 65.921875 \r\nQ 23.96875 65.921875 18.8125 64.3125 \r\nQ 13.671875 62.703125 7.8125 59.421875 \r\nL 7.8125 69.390625 \r\nQ 13.765625 71.78125 18.9375 73 \r\nQ 24.125 74.21875 28.421875 74.21875 \r\nQ 39.75 74.21875 46.484375 68.546875 \r\nQ 53.21875 62.890625 53.21875 53.421875 \r\nQ 53.21875 48.921875 51.53125 44.890625 \r\nQ 49.859375 40.875 45.40625 35.40625 \r\nQ 44.1875 33.984375 37.640625 27.21875 \r\nQ 31.109375 20.453125 19.1875 8.296875 \r\nz\r\n\" id=\"DejaVuSans-50\"/>\r\n      </defs>\r\n      <g transform=\"translate(111.920597 239.238437)scale(0.1 -0.1)\">\r\n       <use xlink:href=\"#DejaVuSans-48\"/>\r\n       <use x=\"63.623047\" xlink:href=\"#DejaVuSans-46\"/>\r\n       <use x=\"95.410156\" xlink:href=\"#DejaVuSans-50\"/>\r\n      </g>\r\n     </g>\r\n    </g>\r\n    <g id=\"xtick_3\">\r\n     <g id=\"line2d_3\">\r\n      <g>\r\n       <use style=\"stroke:#000000;stroke-width:0.8;\" x=\"180.744886\" xlink:href=\"#m94917cff94\" y=\"224.64\"/>\r\n      </g>\r\n     </g>\r\n     <g id=\"text_3\">\r\n      <!-- 0.4 -->\r\n      <defs>\r\n       <path d=\"M 37.796875 64.3125 \r\nL 12.890625 25.390625 \r\nL 37.796875 25.390625 \r\nz\r\nM 35.203125 72.90625 \r\nL 47.609375 72.90625 \r\nL 47.609375 25.390625 \r\nL 58.015625 25.390625 \r\nL 58.015625 17.1875 \r\nL 47.609375 17.1875 \r\nL 47.609375 0 \r\nL 37.796875 0 \r\nL 37.796875 17.1875 \r\nL 4.890625 17.1875 \r\nL 4.890625 26.703125 \r\nz\r\n\" id=\"DejaVuSans-52\"/>\r\n      </defs>\r\n      <g transform=\"translate(172.793324 239.238437)scale(0.1 -0.1)\">\r\n       <use xlink:href=\"#DejaVuSans-48\"/>\r\n       <use x=\"63.623047\" xlink:href=\"#DejaVuSans-46\"/>\r\n       <use x=\"95.410156\" xlink:href=\"#DejaVuSans-52\"/>\r\n      </g>\r\n     </g>\r\n    </g>\r\n    <g id=\"xtick_4\">\r\n     <g id=\"line2d_4\">\r\n      <g>\r\n       <use style=\"stroke:#000000;stroke-width:0.8;\" x=\"241.617614\" xlink:href=\"#m94917cff94\" y=\"224.64\"/>\r\n      </g>\r\n     </g>\r\n     <g id=\"text_4\">\r\n      <!-- 0.6 -->\r\n      <defs>\r\n       <path d=\"M 33.015625 40.375 \r\nQ 26.375 40.375 22.484375 35.828125 \r\nQ 18.609375 31.296875 18.609375 23.390625 \r\nQ 18.609375 15.53125 22.484375 10.953125 \r\nQ 26.375 6.390625 33.015625 6.390625 \r\nQ 39.65625 6.390625 43.53125 10.953125 \r\nQ 47.40625 15.53125 47.40625 23.390625 \r\nQ 47.40625 31.296875 43.53125 35.828125 \r\nQ 39.65625 40.375 33.015625 40.375 \r\nz\r\nM 52.59375 71.296875 \r\nL 52.59375 62.3125 \r\nQ 48.875 64.0625 45.09375 64.984375 \r\nQ 41.3125 65.921875 37.59375 65.921875 \r\nQ 27.828125 65.921875 22.671875 59.328125 \r\nQ 17.53125 52.734375 16.796875 39.40625 \r\nQ 19.671875 43.65625 24.015625 45.921875 \r\nQ 28.375 48.1875 33.59375 48.1875 \r\nQ 44.578125 48.1875 50.953125 41.515625 \r\nQ 57.328125 34.859375 57.328125 23.390625 \r\nQ 57.328125 12.15625 50.6875 5.359375 \r\nQ 44.046875 -1.421875 33.015625 -1.421875 \r\nQ 20.359375 -1.421875 13.671875 8.265625 \r\nQ 6.984375 17.96875 6.984375 36.375 \r\nQ 6.984375 53.65625 15.1875 63.9375 \r\nQ 23.390625 74.21875 37.203125 74.21875 \r\nQ 40.921875 74.21875 44.703125 73.484375 \r\nQ 48.484375 72.75 52.59375 71.296875 \r\nz\r\n\" id=\"DejaVuSans-54\"/>\r\n      </defs>\r\n      <g transform=\"translate(233.666051 239.238437)scale(0.1 -0.1)\">\r\n       <use xlink:href=\"#DejaVuSans-48\"/>\r\n       <use x=\"63.623047\" xlink:href=\"#DejaVuSans-46\"/>\r\n       <use x=\"95.410156\" xlink:href=\"#DejaVuSans-54\"/>\r\n      </g>\r\n     </g>\r\n    </g>\r\n    <g id=\"xtick_5\">\r\n     <g id=\"line2d_5\">\r\n      <g>\r\n       <use style=\"stroke:#000000;stroke-width:0.8;\" x=\"302.490341\" xlink:href=\"#m94917cff94\" y=\"224.64\"/>\r\n      </g>\r\n     </g>\r\n     <g id=\"text_5\">\r\n      <!-- 0.8 -->\r\n      <defs>\r\n       <path d=\"M 31.78125 34.625 \r\nQ 24.75 34.625 20.71875 30.859375 \r\nQ 16.703125 27.09375 16.703125 20.515625 \r\nQ 16.703125 13.921875 20.71875 10.15625 \r\nQ 24.75 6.390625 31.78125 6.390625 \r\nQ 38.8125 6.390625 42.859375 10.171875 \r\nQ 46.921875 13.96875 46.921875 20.515625 \r\nQ 46.921875 27.09375 42.890625 30.859375 \r\nQ 38.875 34.625 31.78125 34.625 \r\nz\r\nM 21.921875 38.8125 \r\nQ 15.578125 40.375 12.03125 44.71875 \r\nQ 8.5 49.078125 8.5 55.328125 \r\nQ 8.5 64.0625 14.71875 69.140625 \r\nQ 20.953125 74.21875 31.78125 74.21875 \r\nQ 42.671875 74.21875 48.875 69.140625 \r\nQ 55.078125 64.0625 55.078125 55.328125 \r\nQ 55.078125 49.078125 51.53125 44.71875 \r\nQ 48 40.375 41.703125 38.8125 \r\nQ 48.828125 37.15625 52.796875 32.3125 \r\nQ 56.78125 27.484375 56.78125 20.515625 \r\nQ 56.78125 9.90625 50.3125 4.234375 \r\nQ 43.84375 -1.421875 31.78125 -1.421875 \r\nQ 19.734375 -1.421875 13.25 4.234375 \r\nQ 6.78125 9.90625 6.78125 20.515625 \r\nQ 6.78125 27.484375 10.78125 32.3125 \r\nQ 14.796875 37.15625 21.921875 38.8125 \r\nz\r\nM 18.3125 54.390625 \r\nQ 18.3125 48.734375 21.84375 45.5625 \r\nQ 25.390625 42.390625 31.78125 42.390625 \r\nQ 38.140625 42.390625 41.71875 45.5625 \r\nQ 45.3125 48.734375 45.3125 54.390625 \r\nQ 45.3125 60.0625 41.71875 63.234375 \r\nQ 38.140625 66.40625 31.78125 66.40625 \r\nQ 25.390625 66.40625 21.84375 63.234375 \r\nQ 18.3125 60.0625 18.3125 54.390625 \r\nz\r\n\" id=\"DejaVuSans-56\"/>\r\n      </defs>\r\n      <g transform=\"translate(294.538778 239.238437)scale(0.1 -0.1)\">\r\n       <use xlink:href=\"#DejaVuSans-48\"/>\r\n       <use x=\"63.623047\" xlink:href=\"#DejaVuSans-46\"/>\r\n       <use x=\"95.410156\" xlink:href=\"#DejaVuSans-56\"/>\r\n      </g>\r\n     </g>\r\n    </g>\r\n    <g id=\"xtick_6\">\r\n     <g id=\"line2d_6\">\r\n      <g>\r\n       <use style=\"stroke:#000000;stroke-width:0.8;\" x=\"363.363068\" xlink:href=\"#m94917cff94\" y=\"224.64\"/>\r\n      </g>\r\n     </g>\r\n     <g id=\"text_6\">\r\n      <!-- 1.0 -->\r\n      <defs>\r\n       <path d=\"M 12.40625 8.296875 \r\nL 28.515625 8.296875 \r\nL 28.515625 63.921875 \r\nL 10.984375 60.40625 \r\nL 10.984375 69.390625 \r\nL 28.421875 72.90625 \r\nL 38.28125 72.90625 \r\nL 38.28125 8.296875 \r\nL 54.390625 8.296875 \r\nL 54.390625 0 \r\nL 12.40625 0 \r\nz\r\n\" id=\"DejaVuSans-49\"/>\r\n      </defs>\r\n      <g transform=\"translate(355.411506 239.238437)scale(0.1 -0.1)\">\r\n       <use xlink:href=\"#DejaVuSans-49\"/>\r\n       <use x=\"63.623047\" xlink:href=\"#DejaVuSans-46\"/>\r\n       <use x=\"95.410156\" xlink:href=\"#DejaVuSans-48\"/>\r\n      </g>\r\n     </g>\r\n    </g>\r\n    <g id=\"text_7\">\r\n     <!-- False Positive Rate -->\r\n     <defs>\r\n      <path d=\"M 9.8125 72.90625 \r\nL 51.703125 72.90625 \r\nL 51.703125 64.59375 \r\nL 19.671875 64.59375 \r\nL 19.671875 43.109375 \r\nL 48.578125 43.109375 \r\nL 48.578125 34.8125 \r\nL 19.671875 34.8125 \r\nL 19.671875 0 \r\nL 9.8125 0 \r\nz\r\n\" id=\"DejaVuSans-70\"/>\r\n      <path d=\"M 34.28125 27.484375 \r\nQ 23.390625 27.484375 19.1875 25 \r\nQ 14.984375 22.515625 14.984375 16.5 \r\nQ 14.984375 11.71875 18.140625 8.90625 \r\nQ 21.296875 6.109375 26.703125 6.109375 \r\nQ 34.1875 6.109375 38.703125 11.40625 \r\nQ 43.21875 16.703125 43.21875 25.484375 \r\nL 43.21875 27.484375 \r\nz\r\nM 52.203125 31.203125 \r\nL 52.203125 0 \r\nL 43.21875 0 \r\nL 43.21875 8.296875 \r\nQ 40.140625 3.328125 35.546875 0.953125 \r\nQ 30.953125 -1.421875 24.3125 -1.421875 \r\nQ 15.921875 -1.421875 10.953125 3.296875 \r\nQ 6 8.015625 6 15.921875 \r\nQ 6 25.140625 12.171875 29.828125 \r\nQ 18.359375 34.515625 30.609375 34.515625 \r\nL 43.21875 34.515625 \r\nL 43.21875 35.40625 \r\nQ 43.21875 41.609375 39.140625 45 \r\nQ 35.0625 48.390625 27.6875 48.390625 \r\nQ 23 48.390625 18.546875 47.265625 \r\nQ 14.109375 46.140625 10.015625 43.890625 \r\nL 10.015625 52.203125 \r\nQ 14.9375 54.109375 19.578125 55.046875 \r\nQ 24.21875 56 28.609375 56 \r\nQ 40.484375 56 46.34375 49.84375 \r\nQ 52.203125 43.703125 52.203125 31.203125 \r\nz\r\n\" id=\"DejaVuSans-97\"/>\r\n      <path d=\"M 9.421875 75.984375 \r\nL 18.40625 75.984375 \r\nL 18.40625 0 \r\nL 9.421875 0 \r\nz\r\n\" id=\"DejaVuSans-108\"/>\r\n      <path d=\"M 44.28125 53.078125 \r\nL 44.28125 44.578125 \r\nQ 40.484375 46.53125 36.375 47.5 \r\nQ 32.28125 48.484375 27.875 48.484375 \r\nQ 21.1875 48.484375 17.84375 46.4375 \r\nQ 14.5 44.390625 14.5 40.28125 \r\nQ 14.5 37.15625 16.890625 35.375 \r\nQ 19.28125 33.59375 26.515625 31.984375 \r\nL 29.59375 31.296875 \r\nQ 39.15625 29.25 43.1875 25.515625 \r\nQ 47.21875 21.78125 47.21875 15.09375 \r\nQ 47.21875 7.46875 41.1875 3.015625 \r\nQ 35.15625 -1.421875 24.609375 -1.421875 \r\nQ 20.21875 -1.421875 15.453125 -0.5625 \r\nQ 10.6875 0.296875 5.421875 2 \r\nL 5.421875 11.28125 \r\nQ 10.40625 8.6875 15.234375 7.390625 \r\nQ 20.0625 6.109375 24.8125 6.109375 \r\nQ 31.15625 6.109375 34.5625 8.28125 \r\nQ 37.984375 10.453125 37.984375 14.40625 \r\nQ 37.984375 18.0625 35.515625 20.015625 \r\nQ 33.0625 21.96875 24.703125 23.78125 \r\nL 21.578125 24.515625 \r\nQ 13.234375 26.265625 9.515625 29.90625 \r\nQ 5.8125 33.546875 5.8125 39.890625 \r\nQ 5.8125 47.609375 11.28125 51.796875 \r\nQ 16.75 56 26.8125 56 \r\nQ 31.78125 56 36.171875 55.265625 \r\nQ 40.578125 54.546875 44.28125 53.078125 \r\nz\r\n\" id=\"DejaVuSans-115\"/>\r\n      <path d=\"M 56.203125 29.59375 \r\nL 56.203125 25.203125 \r\nL 14.890625 25.203125 \r\nQ 15.484375 15.921875 20.484375 11.0625 \r\nQ 25.484375 6.203125 34.421875 6.203125 \r\nQ 39.59375 6.203125 44.453125 7.46875 \r\nQ 49.3125 8.734375 54.109375 11.28125 \r\nL 54.109375 2.78125 \r\nQ 49.265625 0.734375 44.1875 -0.34375 \r\nQ 39.109375 -1.421875 33.890625 -1.421875 \r\nQ 20.796875 -1.421875 13.15625 6.1875 \r\nQ 5.515625 13.8125 5.515625 26.8125 \r\nQ 5.515625 40.234375 12.765625 48.109375 \r\nQ 20.015625 56 32.328125 56 \r\nQ 43.359375 56 49.78125 48.890625 \r\nQ 56.203125 41.796875 56.203125 29.59375 \r\nz\r\nM 47.21875 32.234375 \r\nQ 47.125 39.59375 43.09375 43.984375 \r\nQ 39.0625 48.390625 32.421875 48.390625 \r\nQ 24.90625 48.390625 20.390625 44.140625 \r\nQ 15.875 39.890625 15.1875 32.171875 \r\nz\r\n\" id=\"DejaVuSans-101\"/>\r\n      <path id=\"DejaVuSans-32\"/>\r\n      <path d=\"M 19.671875 64.796875 \r\nL 19.671875 37.40625 \r\nL 32.078125 37.40625 \r\nQ 38.96875 37.40625 42.71875 40.96875 \r\nQ 46.484375 44.53125 46.484375 51.125 \r\nQ 46.484375 57.671875 42.71875 61.234375 \r\nQ 38.96875 64.796875 32.078125 64.796875 \r\nz\r\nM 9.8125 72.90625 \r\nL 32.078125 72.90625 \r\nQ 44.34375 72.90625 50.609375 67.359375 \r\nQ 56.890625 61.8125 56.890625 51.125 \r\nQ 56.890625 40.328125 50.609375 34.8125 \r\nQ 44.34375 29.296875 32.078125 29.296875 \r\nL 19.671875 29.296875 \r\nL 19.671875 0 \r\nL 9.8125 0 \r\nz\r\n\" id=\"DejaVuSans-80\"/>\r\n      <path d=\"M 30.609375 48.390625 \r\nQ 23.390625 48.390625 19.1875 42.75 \r\nQ 14.984375 37.109375 14.984375 27.296875 \r\nQ 14.984375 17.484375 19.15625 11.84375 \r\nQ 23.34375 6.203125 30.609375 6.203125 \r\nQ 37.796875 6.203125 41.984375 11.859375 \r\nQ 46.1875 17.53125 46.1875 27.296875 \r\nQ 46.1875 37.015625 41.984375 42.703125 \r\nQ 37.796875 48.390625 30.609375 48.390625 \r\nz\r\nM 30.609375 56 \r\nQ 42.328125 56 49.015625 48.375 \r\nQ 55.71875 40.765625 55.71875 27.296875 \r\nQ 55.71875 13.875 49.015625 6.21875 \r\nQ 42.328125 -1.421875 30.609375 -1.421875 \r\nQ 18.84375 -1.421875 12.171875 6.21875 \r\nQ 5.515625 13.875 5.515625 27.296875 \r\nQ 5.515625 40.765625 12.171875 48.375 \r\nQ 18.84375 56 30.609375 56 \r\nz\r\n\" id=\"DejaVuSans-111\"/>\r\n      <path d=\"M 9.421875 54.6875 \r\nL 18.40625 54.6875 \r\nL 18.40625 0 \r\nL 9.421875 0 \r\nz\r\nM 9.421875 75.984375 \r\nL 18.40625 75.984375 \r\nL 18.40625 64.59375 \r\nL 9.421875 64.59375 \r\nz\r\n\" id=\"DejaVuSans-105\"/>\r\n      <path d=\"M 18.3125 70.21875 \r\nL 18.3125 54.6875 \r\nL 36.8125 54.6875 \r\nL 36.8125 47.703125 \r\nL 18.3125 47.703125 \r\nL 18.3125 18.015625 \r\nQ 18.3125 11.328125 20.140625 9.421875 \r\nQ 21.96875 7.515625 27.59375 7.515625 \r\nL 36.8125 7.515625 \r\nL 36.8125 0 \r\nL 27.59375 0 \r\nQ 17.1875 0 13.234375 3.875 \r\nQ 9.28125 7.765625 9.28125 18.015625 \r\nL 9.28125 47.703125 \r\nL 2.6875 47.703125 \r\nL 2.6875 54.6875 \r\nL 9.28125 54.6875 \r\nL 9.28125 70.21875 \r\nz\r\n\" id=\"DejaVuSans-116\"/>\r\n      <path d=\"M 2.984375 54.6875 \r\nL 12.5 54.6875 \r\nL 29.59375 8.796875 \r\nL 46.6875 54.6875 \r\nL 56.203125 54.6875 \r\nL 35.6875 0 \r\nL 23.484375 0 \r\nz\r\n\" id=\"DejaVuSans-118\"/>\r\n      <path d=\"M 44.390625 34.1875 \r\nQ 47.5625 33.109375 50.5625 29.59375 \r\nQ 53.5625 26.078125 56.59375 19.921875 \r\nL 66.609375 0 \r\nL 56 0 \r\nL 46.6875 18.703125 \r\nQ 43.0625 26.03125 39.671875 28.421875 \r\nQ 36.28125 30.8125 30.421875 30.8125 \r\nL 19.671875 30.8125 \r\nL 19.671875 0 \r\nL 9.8125 0 \r\nL 9.8125 72.90625 \r\nL 32.078125 72.90625 \r\nQ 44.578125 72.90625 50.734375 67.671875 \r\nQ 56.890625 62.453125 56.890625 51.90625 \r\nQ 56.890625 45.015625 53.6875 40.46875 \r\nQ 50.484375 35.9375 44.390625 34.1875 \r\nz\r\nM 19.671875 64.796875 \r\nL 19.671875 38.921875 \r\nL 32.078125 38.921875 \r\nQ 39.203125 38.921875 42.84375 42.21875 \r\nQ 46.484375 45.515625 46.484375 51.90625 \r\nQ 46.484375 58.296875 42.84375 61.546875 \r\nQ 39.203125 64.796875 32.078125 64.796875 \r\nz\r\n\" id=\"DejaVuSans-82\"/>\r\n     </defs>\r\n     <g transform=\"translate(164.714844 252.916562)scale(0.1 -0.1)\">\r\n      <use xlink:href=\"#DejaVuSans-70\"/>\r\n      <use x=\"48.394531\" xlink:href=\"#DejaVuSans-97\"/>\r\n      <use x=\"109.673828\" xlink:href=\"#DejaVuSans-108\"/>\r\n      <use x=\"137.457031\" xlink:href=\"#DejaVuSans-115\"/>\r\n      <use x=\"189.556641\" xlink:href=\"#DejaVuSans-101\"/>\r\n      <use x=\"251.080078\" xlink:href=\"#DejaVuSans-32\"/>\r\n      <use x=\"282.867188\" xlink:href=\"#DejaVuSans-80\"/>\r\n      <use x=\"339.544922\" xlink:href=\"#DejaVuSans-111\"/>\r\n      <use x=\"400.726562\" xlink:href=\"#DejaVuSans-115\"/>\r\n      <use x=\"452.826172\" xlink:href=\"#DejaVuSans-105\"/>\r\n      <use x=\"480.609375\" xlink:href=\"#DejaVuSans-116\"/>\r\n      <use x=\"519.818359\" xlink:href=\"#DejaVuSans-105\"/>\r\n      <use x=\"547.601562\" xlink:href=\"#DejaVuSans-118\"/>\r\n      <use x=\"606.78125\" xlink:href=\"#DejaVuSans-101\"/>\r\n      <use x=\"668.304688\" xlink:href=\"#DejaVuSans-32\"/>\r\n      <use x=\"700.091797\" xlink:href=\"#DejaVuSans-82\"/>\r\n      <use x=\"767.324219\" xlink:href=\"#DejaVuSans-97\"/>\r\n      <use x=\"828.603516\" xlink:href=\"#DejaVuSans-116\"/>\r\n      <use x=\"867.8125\" xlink:href=\"#DejaVuSans-101\"/>\r\n     </g>\r\n    </g>\r\n   </g>\r\n   <g id=\"matplotlib.axis_2\">\r\n    <g id=\"ytick_1\">\r\n     <g id=\"line2d_7\">\r\n      <defs>\r\n       <path d=\"M 0 0 \r\nL -3.5 0 \r\n\" id=\"mc9b748c652\" style=\"stroke:#000000;stroke-width:0.8;\"/>\r\n      </defs>\r\n      <g>\r\n       <use style=\"stroke:#000000;stroke-width:0.8;\" x=\"43.78125\" xlink:href=\"#mc9b748c652\" y=\"214.756364\"/>\r\n      </g>\r\n     </g>\r\n     <g id=\"text_8\">\r\n      <!-- 0.0 -->\r\n      <g transform=\"translate(20.878125 218.555582)scale(0.1 -0.1)\">\r\n       <use xlink:href=\"#DejaVuSans-48\"/>\r\n       <use x=\"63.623047\" xlink:href=\"#DejaVuSans-46\"/>\r\n       <use x=\"95.410156\" xlink:href=\"#DejaVuSans-48\"/>\r\n      </g>\r\n     </g>\r\n    </g>\r\n    <g id=\"ytick_2\">\r\n     <g id=\"line2d_8\">\r\n      <g>\r\n       <use style=\"stroke:#000000;stroke-width:0.8;\" x=\"43.78125\" xlink:href=\"#mc9b748c652\" y=\"175.221818\"/>\r\n      </g>\r\n     </g>\r\n     <g id=\"text_9\">\r\n      <!-- 0.2 -->\r\n      <g transform=\"translate(20.878125 179.021037)scale(0.1 -0.1)\">\r\n       <use xlink:href=\"#DejaVuSans-48\"/>\r\n       <use x=\"63.623047\" xlink:href=\"#DejaVuSans-46\"/>\r\n       <use x=\"95.410156\" xlink:href=\"#DejaVuSans-50\"/>\r\n      </g>\r\n     </g>\r\n    </g>\r\n    <g id=\"ytick_3\">\r\n     <g id=\"line2d_9\">\r\n      <g>\r\n       <use style=\"stroke:#000000;stroke-width:0.8;\" x=\"43.78125\" xlink:href=\"#mc9b748c652\" y=\"135.687273\"/>\r\n      </g>\r\n     </g>\r\n     <g id=\"text_10\">\r\n      <!-- 0.4 -->\r\n      <g transform=\"translate(20.878125 139.486491)scale(0.1 -0.1)\">\r\n       <use xlink:href=\"#DejaVuSans-48\"/>\r\n       <use x=\"63.623047\" xlink:href=\"#DejaVuSans-46\"/>\r\n       <use x=\"95.410156\" xlink:href=\"#DejaVuSans-52\"/>\r\n      </g>\r\n     </g>\r\n    </g>\r\n    <g id=\"ytick_4\">\r\n     <g id=\"line2d_10\">\r\n      <g>\r\n       <use style=\"stroke:#000000;stroke-width:0.8;\" x=\"43.78125\" xlink:href=\"#mc9b748c652\" y=\"96.152727\"/>\r\n      </g>\r\n     </g>\r\n     <g id=\"text_11\">\r\n      <!-- 0.6 -->\r\n      <g transform=\"translate(20.878125 99.951946)scale(0.1 -0.1)\">\r\n       <use xlink:href=\"#DejaVuSans-48\"/>\r\n       <use x=\"63.623047\" xlink:href=\"#DejaVuSans-46\"/>\r\n       <use x=\"95.410156\" xlink:href=\"#DejaVuSans-54\"/>\r\n      </g>\r\n     </g>\r\n    </g>\r\n    <g id=\"ytick_5\">\r\n     <g id=\"line2d_11\">\r\n      <g>\r\n       <use style=\"stroke:#000000;stroke-width:0.8;\" x=\"43.78125\" xlink:href=\"#mc9b748c652\" y=\"56.618182\"/>\r\n      </g>\r\n     </g>\r\n     <g id=\"text_12\">\r\n      <!-- 0.8 -->\r\n      <g transform=\"translate(20.878125 60.417401)scale(0.1 -0.1)\">\r\n       <use xlink:href=\"#DejaVuSans-48\"/>\r\n       <use x=\"63.623047\" xlink:href=\"#DejaVuSans-46\"/>\r\n       <use x=\"95.410156\" xlink:href=\"#DejaVuSans-56\"/>\r\n      </g>\r\n     </g>\r\n    </g>\r\n    <g id=\"ytick_6\">\r\n     <g id=\"line2d_12\">\r\n      <g>\r\n       <use style=\"stroke:#000000;stroke-width:0.8;\" x=\"43.78125\" xlink:href=\"#mc9b748c652\" y=\"17.083636\"/>\r\n      </g>\r\n     </g>\r\n     <g id=\"text_13\">\r\n      <!-- 1.0 -->\r\n      <g transform=\"translate(20.878125 20.882855)scale(0.1 -0.1)\">\r\n       <use xlink:href=\"#DejaVuSans-49\"/>\r\n       <use x=\"63.623047\" xlink:href=\"#DejaVuSans-46\"/>\r\n       <use x=\"95.410156\" xlink:href=\"#DejaVuSans-48\"/>\r\n      </g>\r\n     </g>\r\n    </g>\r\n    <g id=\"text_14\">\r\n     <!-- True Positive Rate -->\r\n     <defs>\r\n      <path d=\"M -0.296875 72.90625 \r\nL 61.375 72.90625 \r\nL 61.375 64.59375 \r\nL 35.5 64.59375 \r\nL 35.5 0 \r\nL 25.59375 0 \r\nL 25.59375 64.59375 \r\nL -0.296875 64.59375 \r\nz\r\n\" id=\"DejaVuSans-84\"/>\r\n      <path d=\"M 41.109375 46.296875 \r\nQ 39.59375 47.171875 37.8125 47.578125 \r\nQ 36.03125 48 33.890625 48 \r\nQ 26.265625 48 22.1875 43.046875 \r\nQ 18.109375 38.09375 18.109375 28.8125 \r\nL 18.109375 0 \r\nL 9.078125 0 \r\nL 9.078125 54.6875 \r\nL 18.109375 54.6875 \r\nL 18.109375 46.1875 \r\nQ 20.953125 51.171875 25.484375 53.578125 \r\nQ 30.03125 56 36.53125 56 \r\nQ 37.453125 56 38.578125 55.875 \r\nQ 39.703125 55.765625 41.0625 55.515625 \r\nz\r\n\" id=\"DejaVuSans-114\"/>\r\n      <path d=\"M 8.5 21.578125 \r\nL 8.5 54.6875 \r\nL 17.484375 54.6875 \r\nL 17.484375 21.921875 \r\nQ 17.484375 14.15625 20.5 10.265625 \r\nQ 23.53125 6.390625 29.59375 6.390625 \r\nQ 36.859375 6.390625 41.078125 11.03125 \r\nQ 45.3125 15.671875 45.3125 23.6875 \r\nL 45.3125 54.6875 \r\nL 54.296875 54.6875 \r\nL 54.296875 0 \r\nL 45.3125 0 \r\nL 45.3125 8.40625 \r\nQ 42.046875 3.421875 37.71875 1 \r\nQ 33.40625 -1.421875 27.6875 -1.421875 \r\nQ 18.265625 -1.421875 13.375 4.4375 \r\nQ 8.5 10.296875 8.5 21.578125 \r\nz\r\nM 31.109375 56 \r\nz\r\n\" id=\"DejaVuSans-117\"/>\r\n     </defs>\r\n     <g transform=\"translate(14.798438 160.449687)rotate(-90)scale(0.1 -0.1)\">\r\n      <use xlink:href=\"#DejaVuSans-84\"/>\r\n      <use x=\"46.333984\" xlink:href=\"#DejaVuSans-114\"/>\r\n      <use x=\"87.447266\" xlink:href=\"#DejaVuSans-117\"/>\r\n      <use x=\"150.826172\" xlink:href=\"#DejaVuSans-101\"/>\r\n      <use x=\"212.349609\" xlink:href=\"#DejaVuSans-32\"/>\r\n      <use x=\"244.136719\" xlink:href=\"#DejaVuSans-80\"/>\r\n      <use x=\"300.814453\" xlink:href=\"#DejaVuSans-111\"/>\r\n      <use x=\"361.996094\" xlink:href=\"#DejaVuSans-115\"/>\r\n      <use x=\"414.095703\" xlink:href=\"#DejaVuSans-105\"/>\r\n      <use x=\"441.878906\" xlink:href=\"#DejaVuSans-116\"/>\r\n      <use x=\"481.087891\" xlink:href=\"#DejaVuSans-105\"/>\r\n      <use x=\"508.871094\" xlink:href=\"#DejaVuSans-118\"/>\r\n      <use x=\"568.050781\" xlink:href=\"#DejaVuSans-101\"/>\r\n      <use x=\"629.574219\" xlink:href=\"#DejaVuSans-32\"/>\r\n      <use x=\"661.361328\" xlink:href=\"#DejaVuSans-82\"/>\r\n      <use x=\"728.59375\" xlink:href=\"#DejaVuSans-97\"/>\r\n      <use x=\"789.873047\" xlink:href=\"#DejaVuSans-116\"/>\r\n      <use x=\"829.082031\" xlink:href=\"#DejaVuSans-101\"/>\r\n     </g>\r\n    </g>\r\n   </g>\r\n   <g id=\"line2d_13\">\r\n    <path clip-path=\"url(#pe53a64c547)\" d=\"M 58.999432 214.756364 \r\nL 59.080823 202.326288 \r\nL 59.121519 202.326288 \r\nL 59.202911 192.658452 \r\nL 59.243606 192.658452 \r\nL 59.324998 188.687733 \r\nL 59.365694 188.687733 \r\nL 59.447085 186.702374 \r\nL 59.528477 186.702374 \r\nL 59.609868 185.234934 \r\nL 59.650564 185.234934 \r\nL 59.731956 183.335895 \r\nL 59.772651 183.335895 \r\nL 59.854043 180.228376 \r\nL 59.97613 180.228376 \r\nL 60.057522 177.120857 \r\nL 60.098218 177.120857 \r\nL 60.179609 174.790218 \r\nL 60.301696 174.790218 \r\nL 60.383088 172.373259 \r\nL 60.423784 172.373259 \r\nL 60.464479 171.59638 \r\nL 60.545871 171.59638 \r\nL 60.627262 170.90582 \r\nL 60.667958 170.90582 \r\nL 60.74935 168.316221 \r\nL 60.790046 168.316221 \r\nL 60.871437 167.798301 \r\nL 60.912133 167.798301 \r\nL 60.993524 166.589821 \r\nL 61.03422 166.589821 \r\nL 61.115612 165.812942 \r\nL 61.156307 165.812942 \r\nL 61.237699 164.690782 \r\nL 61.278395 164.690782 \r\nL 61.359786 161.410623 \r\nL 61.400482 161.410623 \r\nL 61.481874 159.856864 \r\nL 61.522569 159.856864 \r\nL 61.603961 158.562064 \r\nL 61.644657 158.562064 \r\nL 61.726048 157.439905 \r\nL 61.766744 157.439905 \r\nL 61.80744 156.749345 \r\nL 61.888831 156.749345 \r\nL 61.970223 156.058785 \r\nL 62.010919 156.058785 \r\nL 62.051614 155.627185 \r\nL 62.133006 155.627185 \r\nL 62.214397 154.505026 \r\nL 62.255093 154.505026 \r\nL 62.336485 153.382866 \r\nL 62.37718 153.382866 \r\nL 62.458572 152.605987 \r\nL 62.499268 152.605987 \r\nL 62.580659 151.915427 \r\nL 62.621355 151.915427 \r\nL 62.702747 150.965907 \r\nL 62.824834 150.879587 \r\nL 62.906225 149.239508 \r\nL 62.987617 149.239508 \r\nL 62.987617 148.548948 \r\nL 63.191096 148.548948 \r\nL 63.272487 148.289988 \r\nL 63.313183 148.289988 \r\nL 63.394575 147.772068 \r\nL 63.557358 147.685748 \r\nL 63.638749 146.736229 \r\nL 63.679445 146.736229 \r\nL 63.720141 145.441429 \r\nL 63.842228 145.441429 \r\nL 63.92362 144.23295 \r\nL 63.964315 144.23295 \r\nL 64.005011 143.36975 \r\nL 64.086403 143.36975 \r\nL 64.167794 142.67919 \r\nL 64.330577 142.59287 \r\nL 64.411969 140.693831 \r\nL 64.452665 140.693831 \r\nL 64.49336 140.262231 \r\nL 64.615448 140.262231 \r\nL 64.615448 139.657991 \r\nL 64.737535 139.657991 \r\nL 64.737535 139.485351 \r\nL 64.859622 139.485351 \r\nL 64.941014 138.881112 \r\nL 64.981709 138.881112 \r\nL 65.063101 138.276872 \r\nL 65.144493 138.276872 \r\nL 65.225884 137.758952 \r\nL 65.388667 137.672632 \r\nL 65.388667 137.586312 \r\nL 65.55145 137.586312 \r\nL 65.632842 136.895752 \r\nL 65.754929 136.809432 \r\nL 65.836321 136.291513 \r\nL 65.917712 136.291513 \r\nL 65.999104 135.255673 \r\nL 66.039799 135.255673 \r\nL 66.039799 134.306153 \r\nL 66.161887 134.306153 \r\nL 66.243278 133.874553 \r\nL 66.32467 133.788233 \r\nL 66.406061 133.183994 \r\nL 66.487453 133.183994 \r\nL 66.528149 132.752394 \r\nL 66.60954 132.752394 \r\nL 66.690932 132.320794 \r\nL 66.772323 132.234474 \r\nL 66.813019 131.371274 \r\nL 66.935106 131.371274 \r\nL 66.935106 131.198634 \r\nL 67.097889 131.198634 \r\nL 67.179281 130.594395 \r\nL 67.219977 130.594395 \r\nL 67.301368 130.162795 \r\nL 67.342064 130.162795 \r\nL 67.342064 129.903835 \r\nL 67.504847 129.817515 \r\nL 67.586239 129.213275 \r\nL 67.626934 129.213275 \r\nL 67.708326 128.781675 \r\nL 67.830413 128.695355 \r\nL 67.871109 128.436395 \r\nL 68.115283 128.350075 \r\nL 68.196675 126.882636 \r\nL 68.318762 126.882636 \r\nL 68.359458 125.587836 \r\nL 68.522241 125.501516 \r\nL 68.603633 124.983597 \r\nL 68.685024 124.983597 \r\nL 68.766416 124.379357 \r\nL 68.888503 124.293037 \r\nL 68.929199 124.120397 \r\nL 69.051286 124.120397 \r\nL 69.091982 123.170877 \r\nL 69.173373 123.170877 \r\nL 69.214069 122.393998 \r\nL 69.376852 122.307678 \r\nL 69.376852 121.703438 \r\nL 69.539635 121.617118 \r\nL 69.621027 121.271838 \r\nL 69.661723 121.271838 \r\nL 69.661723 121.099198 \r\nL 69.905897 121.012878 \r\nL 69.946593 120.840238 \r\nL 70.027984 120.840238 \r\nL 70.109376 120.149678 \r\nL 70.150072 120.149678 \r\nL 70.190768 119.804399 \r\nL 70.272159 119.804399 \r\nL 70.353551 119.200159 \r\nL 70.434942 119.200159 \r\nL 70.516334 118.941199 \r\nL 70.679117 118.854879 \r\nL 70.760508 118.509599 \r\nL 70.963987 118.423279 \r\nL 71.004683 117.991679 \r\nL 71.12677 117.991679 \r\nL 71.208162 117.12848 \r\nL 71.370945 117.04216 \r\nL 71.452336 116.61056 \r\nL 71.696511 116.52424 \r\nL 71.737207 116.26528 \r\nL 71.818598 116.26528 \r\nL 71.859294 115.40208 \r\nL 71.981381 115.40208 \r\nL 71.981381 115.14312 \r\nL 72.225556 115.14312 \r\nL 72.266252 114.366241 \r\nL 72.388339 114.279921 \r\nL 72.46973 113.762001 \r\nL 72.510426 113.762001 \r\nL 72.591818 113.244081 \r\nL 72.713905 113.244081 \r\nL 72.795297 112.467201 \r\nL 72.876688 112.467201 \r\nL 72.917384 112.121921 \r\nL 72.998775 112.121921 \r\nL 73.080167 111.690322 \r\nL 73.120863 111.690322 \r\nL 73.202254 110.050242 \r\nL 73.365037 109.963922 \r\nL 73.365037 109.791282 \r\nL 73.568516 109.704962 \r\nL 73.609212 109.273362 \r\nL 73.690603 109.273362 \r\nL 73.690603 109.100723 \r\nL 73.853387 109.014403 \r\nL 73.934778 108.323843 \r\nL 74.01617 108.323843 \r\nL 74.097561 107.892243 \r\nL 74.178953 107.805923 \r\nL 74.260344 107.546963 \r\nL 74.30104 107.546963 \r\nL 74.382431 106.942723 \r\nL 74.423127 106.942723 \r\nL 74.423127 106.683763 \r\nL 74.626606 106.597443 \r\nL 74.707998 106.424803 \r\nL 74.789389 106.424803 \r\nL 74.830085 105.647924 \r\nL 74.911476 105.647924 \r\nL 74.992868 104.612084 \r\nL 75.155651 104.525764 \r\nL 75.155651 104.439444 \r\nL 75.277738 104.439444 \r\nL 75.318434 104.007844 \r\nL 75.725392 103.921524 \r\nL 75.766088 103.662565 \r\nL 75.888175 103.576245 \r\nL 75.888175 103.230965 \r\nL 76.091654 103.230965 \r\nL 76.173045 102.799365 \r\nL 76.213741 102.799365 \r\nL 76.295133 102.367765 \r\nL 76.335828 102.367765 \r\nL 76.376524 101.504565 \r\nL 76.580003 101.504565 \r\nL 76.661394 101.245605 \r\nL 76.742786 101.245605 \r\nL 76.742786 101.072965 \r\nL 76.905569 101.072965 \r\nL 76.986961 100.641366 \r\nL 77.393918 100.555046 \r\nL 77.434614 100.037126 \r\nL 77.516005 100.037126 \r\nL 77.516005 99.778166 \r\nL 77.678789 99.778166 \r\nL 77.719484 99.519206 \r\nL 77.882267 99.519206 \r\nL 77.963659 99.173926 \r\nL 78.04505 99.087606 \r\nL 78.126442 98.483366 \r\nL 78.248529 98.483366 \r\nL 78.289225 97.792807 \r\nL 78.411312 97.792807 \r\nL 78.452008 97.533847 \r\nL 78.5334 97.533847 \r\nL 78.5334 97.361207 \r\nL 78.858966 97.274887 \r\nL 78.858966 97.015927 \r\nL 78.981053 97.015927 \r\nL 79.021749 96.152727 \r\nL 79.10314 96.152727 \r\nL 79.184532 95.634807 \r\nL 79.265923 95.548487 \r\nL 79.347315 94.685288 \r\nL 79.388011 94.685288 \r\nL 79.388011 94.253688 \r\nL 79.632185 94.167368 \r\nL 79.632185 93.735768 \r\nL 79.835664 93.735768 \r\nL 79.917056 93.390488 \r\nL 80.039143 93.304168 \r\nL 80.079839 92.958888 \r\nL 80.324013 92.872568 \r\nL 80.324013 92.786249 \r\nL 80.446101 92.786249 \r\nL 80.527492 92.095689 \r\nL 80.608884 92.095689 \r\nL 80.690275 91.664089 \r\nL 80.730971 91.664089 \r\nL 80.812363 91.146169 \r\nL 80.93445 91.059849 \r\nL 80.93445 90.973529 \r\nL 81.260016 90.973529 \r\nL 81.341408 90.541929 \r\nL 81.422799 90.541929 \r\nL 81.504191 90.110329 \r\nL 81.585582 90.110329 \r\nL 81.585582 89.50609 \r\nL 81.707669 89.50609 \r\nL 81.789061 89.07449 \r\nL 81.829757 89.07449 \r\nL 81.911148 88.72921 \r\nL 82.27741 88.64289 \r\nL 82.358802 88.21129 \r\nL 82.521585 88.12497 \r\nL 82.521585 87.95233 \r\nL 82.725064 87.86601 \r\nL 82.806455 87.52073 \r\nL 82.928542 87.52073 \r\nL 82.969238 87.175451 \r\nL 83.172717 87.089131 \r\nL 83.254109 86.657531 \r\nL 83.294804 86.657531 \r\nL 83.376196 86.225931 \r\nL 83.498283 86.225931 \r\nL 83.579675 85.621691 \r\nL 83.701762 85.535371 \r\nL 83.783154 85.276411 \r\nL 84.027328 85.190091 \r\nL 84.068024 84.931131 \r\nL 84.352894 84.844811 \r\nL 84.39359 84.326892 \r\nL 84.637765 84.240572 \r\nL 84.637765 83.463692 \r\nL 84.800548 83.463692 \r\nL 84.881939 82.859452 \r\nL 85.085418 82.773132 \r\nL 85.16681 82.082572 \r\nL 85.248201 82.082572 \r\nL 85.329593 81.737293 \r\nL 85.45168 81.650973 \r\nL 85.533071 81.392013 \r\nL 85.614463 81.392013 \r\nL 85.614463 81.133053 \r\nL 85.777246 81.046733 \r\nL 85.858638 80.787773 \r\nL 86.021421 80.701453 \r\nL 86.102812 80.356173 \r\nL 86.143508 80.356173 \r\nL 86.224899 79.924573 \r\nL 86.306291 79.924573 \r\nL 86.387683 79.406653 \r\nL 86.469074 79.320333 \r\nL 86.550466 79.147694 \r\nL 86.835336 79.147694 \r\nL 86.916728 78.802414 \r\nL 86.957423 78.802414 \r\nL 86.998119 78.543454 \r\nL 87.079511 78.543454 \r\nL 87.079511 78.284494 \r\nL 87.242294 78.284494 \r\nL 87.282989 77.680254 \r\nL 87.445772 77.680254 \r\nL 87.486468 77.334974 \r\nL 87.893426 77.248654 \r\nL 87.893426 77.162334 \r\nL 88.137601 77.076014 \r\nL 88.137601 76.730734 \r\nL 88.300384 76.644414 \r\nL 88.300384 76.558094 \r\nL 88.422471 76.558094 \r\nL 88.503862 76.299135 \r\nL 88.585254 76.212815 \r\nL 88.62595 75.953855 \r\nL 88.870124 75.867535 \r\nL 88.91082 75.608575 \r\nL 89.032907 75.608575 \r\nL 89.032907 75.435935 \r\nL 89.236386 75.435935 \r\nL 89.236386 75.263295 \r\nL 89.561952 75.263295 \r\nL 89.602648 74.918015 \r\nL 89.765431 74.918015 \r\nL 89.846823 74.400095 \r\nL 90.009606 74.313775 \r\nL 90.090997 74.141135 \r\nL 90.294476 74.054815 \r\nL 90.375868 73.882175 \r\nL 90.416563 73.882175 \r\nL 90.497955 73.364256 \r\nL 90.538651 73.364256 \r\nL 90.579346 73.018976 \r\nL 90.701434 72.932656 \r\nL 90.701434 72.587376 \r\nL 90.986304 72.501056 \r\nL 90.986304 72.414736 \r\nL 91.271175 72.328416 \r\nL 91.352566 72.155776 \r\nL 91.800219 72.069456 \r\nL 91.881611 71.896816 \r\nL 92.003698 71.896816 \r\nL 92.08509 71.637856 \r\nL 92.207177 71.637856 \r\nL 92.288569 71.378896 \r\nL 92.492048 71.292576 \r\nL 92.573439 71.033617 \r\nL 92.817614 71.033617 \r\nL 92.899005 70.602017 \r\nL 93.14318 70.515697 \r\nL 93.183876 70.256737 \r\nL 93.265267 70.256737 \r\nL 93.346659 69.738817 \r\nL 93.550137 69.652497 \r\nL 93.590833 69.220897 \r\nL 93.672225 69.220897 \r\nL 93.753616 68.961937 \r\nL 93.957095 68.875617 \r\nL 93.957095 68.789297 \r\nL 94.160574 68.702977 \r\nL 94.20127 68.530337 \r\nL 94.526836 68.444017 \r\nL 94.526836 68.357697 \r\nL 95.25936 68.271378 \r\nL 95.340751 67.926098 \r\nL 95.381447 67.926098 \r\nL 95.381447 67.667138 \r\nL 95.54423 67.667138 \r\nL 95.625622 67.408178 \r\nL 95.8291 67.321858 \r\nL 95.910492 66.976578 \r\nL 96.113971 66.890258 \r\nL 96.154666 66.631298 \r\nL 96.643016 66.544978 \r\nL 96.643016 66.286018 \r\nL 96.927886 66.199698 \r\nL 97.009278 65.940738 \r\nL 97.090669 65.854418 \r\nL 97.090669 65.768098 \r\nL 97.497627 65.681778 \r\nL 97.579018 65.509139 \r\nL 97.863889 65.422819 \r\nL 97.863889 65.336499 \r\nL 98.148759 65.336499 \r\nL 98.230151 64.904899 \r\nL 98.311542 64.904899 \r\nL 98.392934 64.559619 \r\nL 98.596412 64.559619 \r\nL 98.596412 64.386979 \r\nL 99.00337 64.300659 \r\nL 99.084762 63.782739 \r\nL 99.28824 63.696419 \r\nL 99.28824 63.610099 \r\nL 99.77659 63.523779 \r\nL 99.77659 63.437459 \r\nL 100.020764 63.351139 \r\nL 100.020764 63.264819 \r\nL 100.34633 63.178499 \r\nL 100.34633 62.83322 \r\nL 100.549809 62.83322 \r\nL 100.631201 62.40162 \r\nL 101.078854 62.3153 \r\nL 101.078854 62.14266 \r\nL 101.241637 62.05634 \r\nL 101.241637 61.8837 \r\nL 101.974161 61.79738 \r\nL 102.014857 61.62474 \r\nL 102.096248 61.62474 \r\nL 102.136944 61.10682 \r\nL 102.584598 61.0205 \r\nL 102.625293 60.76154 \r\nL 102.869468 60.76154 \r\nL 102.950859 60.50258 \r\nL 103.154338 60.41626 \r\nL 103.154338 60.32994 \r\nL 103.398513 60.24362 \r\nL 103.479904 59.380421 \r\nL 103.5206 59.380421 \r\nL 103.561296 59.121461 \r\nL 103.886862 59.035141 \r\nL 103.886862 58.948821 \r\nL 104.090341 58.948821 \r\nL 104.090341 58.776181 \r\nL 104.29382 58.689861 \r\nL 104.375211 58.517221 \r\nL 104.456603 58.517221 \r\nL 104.497299 58.258261 \r\nL 104.660082 58.171941 \r\nL 104.741473 57.912981 \r\nL 104.86356 57.826661 \r\nL 104.86356 57.740341 \r\nL 105.107735 57.740341 \r\nL 105.189127 57.308742 \r\nL 105.392605 57.222422 \r\nL 105.473997 56.877142 \r\nL 105.555388 56.877142 \r\nL 105.596084 56.618182 \r\nL 106.003042 56.531862 \r\nL 106.084433 56.272902 \r\nL 106.247217 56.186582 \r\nL 106.328608 55.754982 \r\nL 106.450695 55.754982 \r\nL 106.450695 55.496022 \r\nL 106.654174 55.496022 \r\nL 106.735566 55.064422 \r\nL 107.101828 54.978102 \r\nL 107.183219 54.805462 \r\nL 107.264611 54.805462 \r\nL 107.346002 54.028583 \r\nL 107.427394 54.028583 \r\nL 107.427394 53.855943 \r\nL 107.712264 53.769623 \r\nL 107.712264 53.683303 \r\nL 107.956439 53.596983 \r\nL 108.03783 53.251703 \r\nL 108.282005 53.165383 \r\nL 108.363396 52.733783 \r\nL 109.09592 52.647463 \r\nL 109.09592 52.561143 \r\nL 109.380791 52.474823 \r\nL 109.380791 52.215863 \r\nL 109.747052 52.129543 \r\nL 109.747052 51.956904 \r\nL 109.909835 51.870584 \r\nL 109.909835 51.784264 \r\nL 110.15401 51.697944 \r\nL 110.235402 51.352664 \r\nL 110.43888 51.352664 \r\nL 110.520272 50.748424 \r\nL 111.2121 50.662104 \r\nL 111.293492 50.489464 \r\nL 111.741145 50.403144 \r\nL 111.781841 49.971544 \r\nL 111.863232 49.971544 \r\nL 111.863232 49.798904 \r\nL 112.514365 49.712584 \r\nL 112.595756 49.453624 \r\nL 113.002714 49.367304 \r\nL 113.04341 49.194665 \r\nL 113.206193 49.108345 \r\nL 113.246888 48.935705 \r\nL 113.368976 48.935705 \r\nL 113.450367 48.676745 \r\nL 113.938716 48.590425 \r\nL 113.938716 48.504105 \r\nL 114.630544 48.504105 \r\nL 114.630544 48.158825 \r\nL 114.915415 48.158825 \r\nL 114.915415 47.986185 \r\nL 115.240981 47.899865 \r\nL 115.240981 47.813545 \r\nL 115.810722 47.727225 \r\nL 115.810722 47.554585 \r\nL 115.973505 47.468265 \r\nL 116.054896 47.209305 \r\nL 116.339767 47.122985 \r\nL 116.339767 47.036665 \r\nL 116.665333 46.950345 \r\nL 116.665333 46.864025 \r\nL 116.950203 46.864025 \r\nL 116.950203 46.691385 \r\nL 117.316465 46.691385 \r\nL 117.316465 46.518746 \r\nL 117.682727 46.518746 \r\nL 117.764118 46.259786 \r\nL 117.84551 46.259786 \r\nL 117.886206 45.914506 \r\nL 118.944296 45.828186 \r\nL 119.025687 45.655546 \r\nL 119.147774 45.569226 \r\nL 119.147774 45.482906 \r\nL 119.758211 45.396586 \r\nL 119.758211 45.223946 \r\nL 120.205864 45.137626 \r\nL 120.24656 44.964986 \r\nL 120.572126 44.964986 \r\nL 120.612822 44.619706 \r\nL 120.938388 44.533386 \r\nL 120.938388 44.447066 \r\nL 121.182563 44.360746 \r\nL 121.263954 44.188106 \r\nL 121.874391 44.101786 \r\nL 121.915087 43.842827 \r\nL 122.281348 43.756507 \r\nL 122.322044 43.583867 \r\nL 122.566219 43.497547 \r\nL 122.606915 43.324907 \r\nL 122.729002 43.238587 \r\nL 122.769698 43.065947 \r\nL 123.013872 42.979627 \r\nL 123.054568 42.806987 \r\nL 123.339438 42.720667 \r\nL 123.339438 42.634347 \r\nL 124.153354 42.548027 \r\nL 124.153354 42.461707 \r\nL 124.356833 42.375387 \r\nL 124.397528 42.116427 \r\nL 124.601007 42.030107 \r\nL 124.641703 41.771147 \r\nL 125.211444 41.684827 \r\nL 125.211444 41.253227 \r\nL 125.53701 41.166908 \r\nL 125.53701 41.080588 \r\nL 126.188142 40.994268 \r\nL 126.188142 40.907948 \r\nL 126.839274 40.821628 \r\nL 126.839274 40.735308 \r\nL 127.002057 40.648988 \r\nL 127.083449 40.476348 \r\nL 127.368319 40.390028 \r\nL 127.409015 40.217388 \r\nL 127.65319 40.217388 \r\nL 127.65319 40.044748 \r\nL 128.100843 39.958428 \r\nL 128.141539 39.613148 \r\nL 128.548496 39.526828 \r\nL 128.548496 39.354188 \r\nL 128.914758 39.267868 \r\nL 128.99615 39.008908 \r\nL 129.606586 38.922588 \r\nL 129.606586 38.749948 \r\nL 130.746068 38.663628 \r\nL 130.827459 38.318349 \r\nL 130.949547 38.232029 \r\nL 130.949547 38.145709 \r\nL 131.234417 38.059389 \r\nL 131.275113 37.886749 \r\nL 131.641375 37.800429 \r\nL 131.641375 37.627789 \r\nL 132.129724 37.541469 \r\nL 132.17042 37.196189 \r\nL 132.699465 37.109869 \r\nL 132.699465 37.023549 \r\nL 132.902943 37.023549 \r\nL 132.902943 36.850909 \r\nL 133.22851 36.764589 \r\nL 133.269205 36.591949 \r\nL 133.554076 36.505629 \r\nL 133.554076 36.419309 \r\nL 133.879642 36.332989 \r\nL 133.879642 36.246669 \r\nL 134.449383 36.246669 \r\nL 134.449383 36.074029 \r\nL 134.57147 36.074029 \r\nL 134.57147 35.901389 \r\nL 135.62956 35.815069 \r\nL 135.710951 35.64243 \r\nL 135.873734 35.64243 \r\nL 135.873734 35.46979 \r\nL 136.402779 35.38347 \r\nL 136.443475 35.21083 \r\nL 137.175999 35.12451 \r\nL 137.216695 34.95187 \r\nL 137.298086 34.95187 \r\nL 137.298086 34.77923 \r\nL 138.03061 34.69291 \r\nL 138.03061 34.60659 \r\nL 138.518959 34.52027 \r\nL 138.559655 34.34763 \r\nL 138.681742 34.34763 \r\nL 138.681742 34.08867 \r\nL 139.170091 34.00235 \r\nL 139.170091 33.91603 \r\nL 139.536353 33.91603 \r\nL 139.536353 33.65707 \r\nL 140.024703 33.65707 \r\nL 140.024703 33.48443 \r\nL 140.472356 33.48443 \r\nL 140.472356 33.31179 \r\nL 140.757226 33.22547 \r\nL 140.757226 33.13915 \r\nL 141.042097 33.05283 \r\nL 141.042097 32.966511 \r\nL 142.425753 32.880191 \r\nL 142.425753 32.793871 \r\nL 142.914102 32.793871 \r\nL 142.914102 32.621231 \r\nL 143.483843 32.534911 \r\nL 143.483843 32.448591 \r\nL 143.8908 32.362271 \r\nL 143.972192 32.189631 \r\nL 144.297758 32.103311 \r\nL 144.338454 31.930671 \r\nL 145.274456 31.844351 \r\nL 145.274456 31.671711 \r\nL 146.413938 31.585391 \r\nL 146.413938 31.499071 \r\nL 148.001073 31.412751 \r\nL 148.001073 31.240111 \r\nL 148.611509 31.153791 \r\nL 148.611509 31.067471 \r\nL 149.588208 30.981151 \r\nL 149.588208 30.894831 \r\nL 150.198644 30.808511 \r\nL 150.198644 30.722191 \r\nL 151.053255 30.635871 \r\nL 151.053255 30.549551 \r\nL 151.704388 30.463231 \r\nL 151.704388 30.290592 \r\nL 152.681086 30.204272 \r\nL 152.681086 30.031632 \r\nL 153.454305 29.945312 \r\nL 153.454305 29.858992 \r\nL 154.715874 29.858992 \r\nL 154.715874 29.686352 \r\nL 156.09953 29.600032 \r\nL 156.09953 29.513712 \r\nL 156.669271 29.427392 \r\nL 156.669271 29.341072 \r\nL 157.320403 29.254752 \r\nL 157.320403 29.168432 \r\nL 158.093623 29.082112 \r\nL 158.093623 28.995792 \r\nL 158.948234 28.909472 \r\nL 159.029625 28.650512 \r\nL 160.128411 28.564192 \r\nL 160.128411 28.477872 \r\nL 161.756242 28.391552 \r\nL 161.756242 28.305232 \r\nL 161.919025 28.218912 \r\nL 161.959721 28.046272 \r\nL 163.261985 27.959952 \r\nL 163.261985 27.873632 \r\nL 164.442162 27.787312 \r\nL 164.442162 27.700992 \r\nL 164.930512 27.614672 \r\nL 164.930512 27.528353 \r\nL 165.581644 27.442033 \r\nL 165.581644 27.355713 \r\nL 166.558342 27.269393 \r\nL 166.558342 27.183073 \r\nL 167.128083 27.096753 \r\nL 167.128083 26.924113 \r\nL 168.348956 26.837793 \r\nL 168.348956 26.751473 \r\nL 170.098874 26.665153 \r\nL 170.098874 26.578833 \r\nL 170.42444 26.492513 \r\nL 170.42444 26.406193 \r\nL 171.360443 26.319873 \r\nL 171.360443 26.233553 \r\nL 171.686009 26.147233 \r\nL 171.686009 25.974593 \r\nL 172.418533 25.888273 \r\nL 172.418533 25.801953 \r\nL 172.947578 25.715633 \r\nL 172.947578 25.629313 \r\nL 173.761493 25.542993 \r\nL 173.761493 25.456673 \r\nL 173.924276 25.370353 \r\nL 173.924276 25.284033 \r\nL 175.71489 25.197713 \r\nL 175.71489 25.111393 \r\nL 176.77298 25.025073 \r\nL 176.77298 24.938753 \r\nL 178.563593 24.852434 \r\nL 178.563593 24.766114 \r\nL 179.336813 24.679794 \r\nL 179.336813 24.593474 \r\nL 180.191424 24.593474 \r\nL 180.191424 24.420834 \r\nL 180.883252 24.334514 \r\nL 180.883252 24.248194 \r\nL 181.697167 24.161874 \r\nL 181.697167 24.075554 \r\nL 183.243606 23.989234 \r\nL 183.243606 23.902914 \r\nL 184.383088 23.816594 \r\nL 184.383088 23.730274 \r\nL 186.010919 23.643954 \r\nL 186.010919 23.557634 \r\nL 186.86553 23.471314 \r\nL 186.86553 23.384994 \r\nL 187.231792 23.298674 \r\nL 187.231792 23.212354 \r\nL 187.964315 23.126034 \r\nL 187.964315 23.039714 \r\nL 189.429363 22.953394 \r\nL 189.429363 22.867074 \r\nL 189.673537 22.780754 \r\nL 189.673537 22.694434 \r\nL 190.89441 22.608114 \r\nL 190.975802 22.435474 \r\nL 192.115283 22.349154 \r\nL 192.155979 22.176514 \r\nL 193.01059 22.090195 \r\nL 193.01059 22.003875 \r\nL 193.417548 21.917555 \r\nL 193.417548 21.831235 \r\nL 195.533728 21.744915 \r\nL 195.533728 21.658595 \r\nL 199.399826 21.572275 \r\nL 199.481217 21.399635 \r\nL 200.580003 21.313315 \r\nL 200.580003 21.226995 \r\nL 202.085746 21.140675 \r\nL 202.085746 21.054355 \r\nL 205.21932 20.968035 \r\nL 205.21932 20.881715 \r\nL 208.190111 20.795395 \r\nL 208.190111 20.709075 \r\nL 210.428378 20.622755 \r\nL 210.428378 20.536435 \r\nL 212.381775 20.450115 \r\nL 212.381775 20.363795 \r\nL 213.073603 20.277475 \r\nL 213.073603 20.104835 \r\nL 216.492048 20.018515 \r\nL 216.492048 19.932195 \r\nL 221.334844 19.845875 \r\nL 221.375539 19.673235 \r\nL 226.096248 19.586915 \r\nL 226.096248 19.500595 \r\nL 228.741473 19.414276 \r\nL 228.741473 19.327956 \r\nL 234.43888 19.241636 \r\nL 234.43888 19.155316 \r\nL 236.595756 19.068996 \r\nL 236.595756 18.982676 \r\nL 239.44446 18.896356 \r\nL 239.44446 18.810036 \r\nL 242.415251 18.723716 \r\nL 242.415251 18.637396 \r\nL 250.147446 18.551076 \r\nL 250.147446 18.464756 \r\nL 251.327623 18.378436 \r\nL 251.327623 18.292116 \r\nL 257.472684 18.205796 \r\nL 257.472684 18.119476 \r\nL 265.530446 18.033156 \r\nL 265.530446 17.946836 \r\nL 267.443147 17.946836 \r\nL 267.443147 17.774196 \r\nL 269.152369 17.687876 \r\nL 269.152369 17.601556 \r\nL 274.483515 17.515236 \r\nL 274.483515 17.428916 \r\nL 280.221618 17.342596 \r\nL 280.221618 17.256276 \r\nL 300.243935 17.169956 \r\nL 300.243935 17.083636 \r\nL 363.363068 17.083636 \r\nL 363.363068 17.083636 \r\n\" style=\"fill:none;stroke:#1f77b4;stroke-linecap:square;stroke-width:1.5;\"/>\r\n   </g>\r\n   <g id=\"patch_3\">\r\n    <path d=\"M 43.78125 224.64 \r\nL 43.78125 7.2 \r\n\" style=\"fill:none;stroke:#000000;stroke-linecap:square;stroke-linejoin:miter;stroke-width:0.8;\"/>\r\n   </g>\r\n   <g id=\"patch_4\">\r\n    <path d=\"M 378.58125 224.64 \r\nL 378.58125 7.2 \r\n\" style=\"fill:none;stroke:#000000;stroke-linecap:square;stroke-linejoin:miter;stroke-width:0.8;\"/>\r\n   </g>\r\n   <g id=\"patch_5\">\r\n    <path d=\"M 43.78125 224.64 \r\nL 378.58125 224.64 \r\n\" style=\"fill:none;stroke:#000000;stroke-linecap:square;stroke-linejoin:miter;stroke-width:0.8;\"/>\r\n   </g>\r\n   <g id=\"patch_6\">\r\n    <path d=\"M 43.78125 7.2 \r\nL 378.58125 7.2 \r\n\" style=\"fill:none;stroke:#000000;stroke-linecap:square;stroke-linejoin:miter;stroke-width:0.8;\"/>\r\n   </g>\r\n   <g id=\"legend_1\">\r\n    <g id=\"patch_7\">\r\n     <path d=\"M 177.715625 219.64 \r\nL 371.58125 219.64 \r\nQ 373.58125 219.64 373.58125 217.64 \r\nL 373.58125 203.961875 \r\nQ 373.58125 201.961875 371.58125 201.961875 \r\nL 177.715625 201.961875 \r\nQ 175.715625 201.961875 175.715625 203.961875 \r\nL 175.715625 217.64 \r\nQ 175.715625 219.64 177.715625 219.64 \r\nz\r\n\" style=\"fill:#ffffff;opacity:0.8;stroke:#cccccc;stroke-linejoin:miter;\"/>\r\n    </g>\r\n    <g id=\"line2d_14\">\r\n     <path d=\"M 179.715625 210.060312 \r\nL 199.715625 210.060312 \r\n\" style=\"fill:none;stroke:#1f77b4;stroke-linecap:square;stroke-width:1.5;\"/>\r\n    </g>\r\n    <g id=\"line2d_15\"/>\r\n    <g id=\"text_15\">\r\n     <!-- LogisticRegression (AUC = 0.91) -->\r\n     <defs>\r\n      <path d=\"M 9.8125 72.90625 \r\nL 19.671875 72.90625 \r\nL 19.671875 8.296875 \r\nL 55.171875 8.296875 \r\nL 55.171875 0 \r\nL 9.8125 0 \r\nz\r\n\" id=\"DejaVuSans-76\"/>\r\n      <path d=\"M 45.40625 27.984375 \r\nQ 45.40625 37.75 41.375 43.109375 \r\nQ 37.359375 48.484375 30.078125 48.484375 \r\nQ 22.859375 48.484375 18.828125 43.109375 \r\nQ 14.796875 37.75 14.796875 27.984375 \r\nQ 14.796875 18.265625 18.828125 12.890625 \r\nQ 22.859375 7.515625 30.078125 7.515625 \r\nQ 37.359375 7.515625 41.375 12.890625 \r\nQ 45.40625 18.265625 45.40625 27.984375 \r\nz\r\nM 54.390625 6.78125 \r\nQ 54.390625 -7.171875 48.1875 -13.984375 \r\nQ 42 -20.796875 29.203125 -20.796875 \r\nQ 24.46875 -20.796875 20.265625 -20.09375 \r\nQ 16.0625 -19.390625 12.109375 -17.921875 \r\nL 12.109375 -9.1875 \r\nQ 16.0625 -11.328125 19.921875 -12.34375 \r\nQ 23.78125 -13.375 27.78125 -13.375 \r\nQ 36.625 -13.375 41.015625 -8.765625 \r\nQ 45.40625 -4.15625 45.40625 5.171875 \r\nL 45.40625 9.625 \r\nQ 42.625 4.78125 38.28125 2.390625 \r\nQ 33.9375 0 27.875 0 \r\nQ 17.828125 0 11.671875 7.65625 \r\nQ 5.515625 15.328125 5.515625 27.984375 \r\nQ 5.515625 40.671875 11.671875 48.328125 \r\nQ 17.828125 56 27.875 56 \r\nQ 33.9375 56 38.28125 53.609375 \r\nQ 42.625 51.21875 45.40625 46.390625 \r\nL 45.40625 54.6875 \r\nL 54.390625 54.6875 \r\nz\r\n\" id=\"DejaVuSans-103\"/>\r\n      <path d=\"M 48.78125 52.59375 \r\nL 48.78125 44.1875 \r\nQ 44.96875 46.296875 41.140625 47.34375 \r\nQ 37.3125 48.390625 33.40625 48.390625 \r\nQ 24.65625 48.390625 19.8125 42.84375 \r\nQ 14.984375 37.3125 14.984375 27.296875 \r\nQ 14.984375 17.28125 19.8125 11.734375 \r\nQ 24.65625 6.203125 33.40625 6.203125 \r\nQ 37.3125 6.203125 41.140625 7.25 \r\nQ 44.96875 8.296875 48.78125 10.40625 \r\nL 48.78125 2.09375 \r\nQ 45.015625 0.34375 40.984375 -0.53125 \r\nQ 36.96875 -1.421875 32.421875 -1.421875 \r\nQ 20.0625 -1.421875 12.78125 6.34375 \r\nQ 5.515625 14.109375 5.515625 27.296875 \r\nQ 5.515625 40.671875 12.859375 48.328125 \r\nQ 20.21875 56 33.015625 56 \r\nQ 37.15625 56 41.109375 55.140625 \r\nQ 45.0625 54.296875 48.78125 52.59375 \r\nz\r\n\" id=\"DejaVuSans-99\"/>\r\n      <path d=\"M 54.890625 33.015625 \r\nL 54.890625 0 \r\nL 45.90625 0 \r\nL 45.90625 32.71875 \r\nQ 45.90625 40.484375 42.875 44.328125 \r\nQ 39.84375 48.1875 33.796875 48.1875 \r\nQ 26.515625 48.1875 22.3125 43.546875 \r\nQ 18.109375 38.921875 18.109375 30.90625 \r\nL 18.109375 0 \r\nL 9.078125 0 \r\nL 9.078125 54.6875 \r\nL 18.109375 54.6875 \r\nL 18.109375 46.1875 \r\nQ 21.34375 51.125 25.703125 53.5625 \r\nQ 30.078125 56 35.796875 56 \r\nQ 45.21875 56 50.046875 50.171875 \r\nQ 54.890625 44.34375 54.890625 33.015625 \r\nz\r\n\" id=\"DejaVuSans-110\"/>\r\n      <path d=\"M 31 75.875 \r\nQ 24.46875 64.65625 21.28125 53.65625 \r\nQ 18.109375 42.671875 18.109375 31.390625 \r\nQ 18.109375 20.125 21.3125 9.0625 \r\nQ 24.515625 -2 31 -13.1875 \r\nL 23.1875 -13.1875 \r\nQ 15.875 -1.703125 12.234375 9.375 \r\nQ 8.59375 20.453125 8.59375 31.390625 \r\nQ 8.59375 42.28125 12.203125 53.3125 \r\nQ 15.828125 64.359375 23.1875 75.875 \r\nz\r\n\" id=\"DejaVuSans-40\"/>\r\n      <path d=\"M 34.1875 63.1875 \r\nL 20.796875 26.90625 \r\nL 47.609375 26.90625 \r\nz\r\nM 28.609375 72.90625 \r\nL 39.796875 72.90625 \r\nL 67.578125 0 \r\nL 57.328125 0 \r\nL 50.6875 18.703125 \r\nL 17.828125 18.703125 \r\nL 11.1875 0 \r\nL 0.78125 0 \r\nz\r\n\" id=\"DejaVuSans-65\"/>\r\n      <path d=\"M 8.6875 72.90625 \r\nL 18.609375 72.90625 \r\nL 18.609375 28.609375 \r\nQ 18.609375 16.890625 22.84375 11.734375 \r\nQ 27.09375 6.59375 36.625 6.59375 \r\nQ 46.09375 6.59375 50.34375 11.734375 \r\nQ 54.59375 16.890625 54.59375 28.609375 \r\nL 54.59375 72.90625 \r\nL 64.5 72.90625 \r\nL 64.5 27.390625 \r\nQ 64.5 13.140625 57.4375 5.859375 \r\nQ 50.390625 -1.421875 36.625 -1.421875 \r\nQ 22.796875 -1.421875 15.734375 5.859375 \r\nQ 8.6875 13.140625 8.6875 27.390625 \r\nz\r\n\" id=\"DejaVuSans-85\"/>\r\n      <path d=\"M 64.40625 67.28125 \r\nL 64.40625 56.890625 \r\nQ 59.421875 61.53125 53.78125 63.8125 \r\nQ 48.140625 66.109375 41.796875 66.109375 \r\nQ 29.296875 66.109375 22.65625 58.46875 \r\nQ 16.015625 50.828125 16.015625 36.375 \r\nQ 16.015625 21.96875 22.65625 14.328125 \r\nQ 29.296875 6.6875 41.796875 6.6875 \r\nQ 48.140625 6.6875 53.78125 8.984375 \r\nQ 59.421875 11.28125 64.40625 15.921875 \r\nL 64.40625 5.609375 \r\nQ 59.234375 2.09375 53.4375 0.328125 \r\nQ 47.65625 -1.421875 41.21875 -1.421875 \r\nQ 24.65625 -1.421875 15.125 8.703125 \r\nQ 5.609375 18.84375 5.609375 36.375 \r\nQ 5.609375 53.953125 15.125 64.078125 \r\nQ 24.65625 74.21875 41.21875 74.21875 \r\nQ 47.75 74.21875 53.53125 72.484375 \r\nQ 59.328125 70.75 64.40625 67.28125 \r\nz\r\n\" id=\"DejaVuSans-67\"/>\r\n      <path d=\"M 10.59375 45.40625 \r\nL 73.1875 45.40625 \r\nL 73.1875 37.203125 \r\nL 10.59375 37.203125 \r\nz\r\nM 10.59375 25.484375 \r\nL 73.1875 25.484375 \r\nL 73.1875 17.1875 \r\nL 10.59375 17.1875 \r\nz\r\n\" id=\"DejaVuSans-61\"/>\r\n      <path d=\"M 10.984375 1.515625 \r\nL 10.984375 10.5 \r\nQ 14.703125 8.734375 18.5 7.8125 \r\nQ 22.3125 6.890625 25.984375 6.890625 \r\nQ 35.75 6.890625 40.890625 13.453125 \r\nQ 46.046875 20.015625 46.78125 33.40625 \r\nQ 43.953125 29.203125 39.59375 26.953125 \r\nQ 35.25 24.703125 29.984375 24.703125 \r\nQ 19.046875 24.703125 12.671875 31.3125 \r\nQ 6.296875 37.9375 6.296875 49.421875 \r\nQ 6.296875 60.640625 12.9375 67.421875 \r\nQ 19.578125 74.21875 30.609375 74.21875 \r\nQ 43.265625 74.21875 49.921875 64.515625 \r\nQ 56.59375 54.828125 56.59375 36.375 \r\nQ 56.59375 19.140625 48.40625 8.859375 \r\nQ 40.234375 -1.421875 26.421875 -1.421875 \r\nQ 22.703125 -1.421875 18.890625 -0.6875 \r\nQ 15.09375 0.046875 10.984375 1.515625 \r\nz\r\nM 30.609375 32.421875 \r\nQ 37.25 32.421875 41.125 36.953125 \r\nQ 45.015625 41.5 45.015625 49.421875 \r\nQ 45.015625 57.28125 41.125 61.84375 \r\nQ 37.25 66.40625 30.609375 66.40625 \r\nQ 23.96875 66.40625 20.09375 61.84375 \r\nQ 16.21875 57.28125 16.21875 49.421875 \r\nQ 16.21875 41.5 20.09375 36.953125 \r\nQ 23.96875 32.421875 30.609375 32.421875 \r\nz\r\n\" id=\"DejaVuSans-57\"/>\r\n      <path d=\"M 8.015625 75.875 \r\nL 15.828125 75.875 \r\nQ 23.140625 64.359375 26.78125 53.3125 \r\nQ 30.421875 42.28125 30.421875 31.390625 \r\nQ 30.421875 20.453125 26.78125 9.375 \r\nQ 23.140625 -1.703125 15.828125 -13.1875 \r\nL 8.015625 -13.1875 \r\nQ 14.5 -2 17.703125 9.0625 \r\nQ 20.90625 20.125 20.90625 31.390625 \r\nQ 20.90625 42.671875 17.703125 53.65625 \r\nQ 14.5 64.65625 8.015625 75.875 \r\nz\r\n\" id=\"DejaVuSans-41\"/>\r\n     </defs>\r\n     <g transform=\"translate(207.715625 213.560312)scale(0.1 -0.1)\">\r\n      <use xlink:href=\"#DejaVuSans-76\"/>\r\n      <use x=\"53.962891\" xlink:href=\"#DejaVuSans-111\"/>\r\n      <use x=\"115.144531\" xlink:href=\"#DejaVuSans-103\"/>\r\n      <use x=\"178.621094\" xlink:href=\"#DejaVuSans-105\"/>\r\n      <use x=\"206.404297\" xlink:href=\"#DejaVuSans-115\"/>\r\n      <use x=\"258.503906\" xlink:href=\"#DejaVuSans-116\"/>\r\n      <use x=\"297.712891\" xlink:href=\"#DejaVuSans-105\"/>\r\n      <use x=\"325.496094\" xlink:href=\"#DejaVuSans-99\"/>\r\n      <use x=\"380.476562\" xlink:href=\"#DejaVuSans-82\"/>\r\n      <use x=\"445.458984\" xlink:href=\"#DejaVuSans-101\"/>\r\n      <use x=\"506.982422\" xlink:href=\"#DejaVuSans-103\"/>\r\n      <use x=\"570.458984\" xlink:href=\"#DejaVuSans-114\"/>\r\n      <use x=\"609.322266\" xlink:href=\"#DejaVuSans-101\"/>\r\n      <use x=\"670.845703\" xlink:href=\"#DejaVuSans-115\"/>\r\n      <use x=\"722.945312\" xlink:href=\"#DejaVuSans-115\"/>\r\n      <use x=\"775.044922\" xlink:href=\"#DejaVuSans-105\"/>\r\n      <use x=\"802.828125\" xlink:href=\"#DejaVuSans-111\"/>\r\n      <use x=\"864.009766\" xlink:href=\"#DejaVuSans-110\"/>\r\n      <use x=\"927.388672\" xlink:href=\"#DejaVuSans-32\"/>\r\n      <use x=\"959.175781\" xlink:href=\"#DejaVuSans-40\"/>\r\n      <use x=\"998.189453\" xlink:href=\"#DejaVuSans-65\"/>\r\n      <use x=\"1066.597656\" xlink:href=\"#DejaVuSans-85\"/>\r\n      <use x=\"1139.791016\" xlink:href=\"#DejaVuSans-67\"/>\r\n      <use x=\"1209.615234\" xlink:href=\"#DejaVuSans-32\"/>\r\n      <use x=\"1241.402344\" xlink:href=\"#DejaVuSans-61\"/>\r\n      <use x=\"1325.191406\" xlink:href=\"#DejaVuSans-32\"/>\r\n      <use x=\"1356.978516\" xlink:href=\"#DejaVuSans-48\"/>\r\n      <use x=\"1420.601562\" xlink:href=\"#DejaVuSans-46\"/>\r\n      <use x=\"1452.388672\" xlink:href=\"#DejaVuSans-57\"/>\r\n      <use x=\"1516.011719\" xlink:href=\"#DejaVuSans-49\"/>\r\n      <use x=\"1579.634766\" xlink:href=\"#DejaVuSans-41\"/>\r\n     </g>\r\n    </g>\r\n   </g>\r\n  </g>\r\n </g>\r\n <defs>\r\n  <clipPath id=\"pe53a64c547\">\r\n   <rect height=\"217.44\" width=\"334.8\" x=\"43.78125\" y=\"7.2\"/>\r\n  </clipPath>\r\n </defs>\r\n</svg>\r\n",
      "image/png": "[encoded data removed]"
     },
     "metadata": {
      "needs_background": "light"
     }
    }
   ],
   "source": [
    "plot_roc_curve(clf, X_test, y_test)\n",
    "plt.show()"
   ]
  },
  {
   "source": [
    "## Наиболее важные признаки"
   ],
   "cell_type": "markdown",
   "metadata": {}
  },
  {
   "cell_type": "code",
   "execution_count": 168,
   "metadata": {},
   "outputs": [
    {
     "output_type": "execute_result",
     "data": {
      "text/plain": [
       "array([2.31966326, 1.20173047, 0.54882992])"
      ]
     },
     "metadata": {},
     "execution_count": 168
    }
   ],
   "source": [
    "model_coefs = clf.coef_[0]\n",
    "max_indices = (-np.abs(model_coefs)).argsort()[:3]\n",
    "model_coefs[max_indices]"
   ]
  },
  {
   "cell_type": "code",
   "execution_count": 169,
   "metadata": {},
   "outputs": [
    {
     "output_type": "execute_result",
     "data": {
      "text/plain": [
       "       capital-gain  marital-status_Married-civ-spouse  educational-num\n",
       "0                 0                                  0                7\n",
       "1                 0                                  1                9\n",
       "2                 0                                  1               12\n",
       "3              7688                                  1               10\n",
       "4                 0                                  0               10\n",
       "...             ...                                ...              ...\n",
       "48837             0                                  1               12\n",
       "48838             0                                  1                9\n",
       "48839             0                                  0                9\n",
       "48840             0                                  0                9\n",
       "48841         15024                                  1                9\n",
       "\n",
       "[48842 rows x 3 columns]"
      ],
      "text/html": "<div>\n<style scoped>\n    .dataframe tbody tr th:only-of-type {\n        vertical-align: middle;\n    }\n\n    .dataframe tbody tr th {\n        vertical-align: top;\n    }\n\n    .dataframe thead th {\n        text-align: right;\n    }\n</style>\n<table border=\"1\" class=\"dataframe\">\n  <thead>\n    <tr style=\"text-align: right;\">\n      <th></th>\n      <th>capital-gain</th>\n      <th>marital-status_Married-civ-spouse</th>\n      <th>educational-num</th>\n    </tr>\n  </thead>\n  <tbody>\n    <tr>\n      <th>0</th>\n      <td>0</td>\n      <td>0</td>\n      <td>7</td>\n    </tr>\n    <tr>\n      <th>1</th>\n      <td>0</td>\n      <td>1</td>\n      <td>9</td>\n    </tr>\n    <tr>\n      <th>2</th>\n      <td>0</td>\n      <td>1</td>\n      <td>12</td>\n    </tr>\n    <tr>\n      <th>3</th>\n      <td>7688</td>\n      <td>1</td>\n      <td>10</td>\n    </tr>\n    <tr>\n      <th>4</th>\n      <td>0</td>\n      <td>0</td>\n      <td>10</td>\n    </tr>\n    <tr>\n      <th>...</th>\n      <td>...</td>\n      <td>...</td>\n      <td>...</td>\n    </tr>\n    <tr>\n      <th>48837</th>\n      <td>0</td>\n      <td>1</td>\n      <td>12</td>\n    </tr>\n    <tr>\n      <th>48838</th>\n      <td>0</td>\n      <td>1</td>\n      <td>9</td>\n    </tr>\n    <tr>\n      <th>48839</th>\n      <td>0</td>\n      <td>0</td>\n      <td>9</td>\n    </tr>\n    <tr>\n      <th>48840</th>\n      <td>0</td>\n      <td>0</td>\n      <td>9</td>\n    </tr>\n    <tr>\n      <th>48841</th>\n      <td>15024</td>\n      <td>1</td>\n      <td>9</td>\n    </tr>\n  </tbody>\n</table>\n<p>48842 rows × 3 columns</p>\n</div>"
     },
     "metadata": {},
     "execution_count": 169
    }
   ],
   "source": [
    "X_df.iloc[:, max_indices]"
   ]
  },
  {
   "source": [
    "## Наименее важные признаки"
   ],
   "cell_type": "markdown",
   "metadata": {}
  },
  {
   "cell_type": "code",
   "execution_count": 196,
   "metadata": {},
   "outputs": [
    {
     "output_type": "execute_result",
     "data": {
      "text/plain": [
       "array([ 0.00056208, -0.00077862,  0.00139203])"
      ]
     },
     "metadata": {},
     "execution_count": 196
    }
   ],
   "source": [
    "min_indices = (np.abs(model_coefs)).argsort()[:3]\n",
    "model_coefs[min_indices]"
   ]
  },
  {
   "cell_type": "code",
   "execution_count": 197,
   "metadata": {},
   "outputs": [
    {
     "output_type": "execute_result",
     "data": {
      "text/plain": [
       "       education_Assoc-voc  native-country_Haiti  native-country_Ecuador\n",
       "0                        0                     0                       0\n",
       "1                        0                     0                       0\n",
       "2                        0                     0                       0\n",
       "3                        0                     0                       0\n",
       "4                        0                     0                       0\n",
       "...                    ...                   ...                     ...\n",
       "48837                    0                     0                       0\n",
       "48838                    0                     0                       0\n",
       "48839                    0                     0                       0\n",
       "48840                    0                     0                       0\n",
       "48841                    0                     0                       0\n",
       "\n",
       "[48842 rows x 3 columns]"
      ],
      "text/html": "<div>\n<style scoped>\n    .dataframe tbody tr th:only-of-type {\n        vertical-align: middle;\n    }\n\n    .dataframe tbody tr th {\n        vertical-align: top;\n    }\n\n    .dataframe thead th {\n        text-align: right;\n    }\n</style>\n<table border=\"1\" class=\"dataframe\">\n  <thead>\n    <tr style=\"text-align: right;\">\n      <th></th>\n      <th>education_Assoc-voc</th>\n      <th>native-country_Haiti</th>\n      <th>native-country_Ecuador</th>\n    </tr>\n  </thead>\n  <tbody>\n    <tr>\n      <th>0</th>\n      <td>0</td>\n      <td>0</td>\n      <td>0</td>\n    </tr>\n    <tr>\n      <th>1</th>\n      <td>0</td>\n      <td>0</td>\n      <td>0</td>\n    </tr>\n    <tr>\n      <th>2</th>\n      <td>0</td>\n      <td>0</td>\n      <td>0</td>\n    </tr>\n    <tr>\n      <th>3</th>\n      <td>0</td>\n      <td>0</td>\n      <td>0</td>\n    </tr>\n    <tr>\n      <th>4</th>\n      <td>0</td>\n      <td>0</td>\n      <td>0</td>\n    </tr>\n    <tr>\n      <th>...</th>\n      <td>...</td>\n      <td>...</td>\n      <td>...</td>\n    </tr>\n    <tr>\n      <th>48837</th>\n      <td>0</td>\n      <td>0</td>\n      <td>0</td>\n    </tr>\n    <tr>\n      <th>48838</th>\n      <td>0</td>\n      <td>0</td>\n      <td>0</td>\n    </tr>\n    <tr>\n      <th>48839</th>\n      <td>0</td>\n      <td>0</td>\n      <td>0</td>\n    </tr>\n    <tr>\n      <th>48840</th>\n      <td>0</td>\n      <td>0</td>\n      <td>0</td>\n    </tr>\n    <tr>\n      <th>48841</th>\n      <td>0</td>\n      <td>0</td>\n      <td>0</td>\n    </tr>\n  </tbody>\n</table>\n<p>48842 rows × 3 columns</p>\n</div>"
     },
     "metadata": {},
     "execution_count": 197
    }
   ],
   "source": [
    "X_df.iloc[:, min_indices]"
   ]
  },
  {
   "source": [
    "Очень удивительно, что столбец **capital-gain** оказался самым важным, несмотря на пропуски в данных. Видимо, надо поискать хороший датасет, для еще большего качества модели, раз она уже на текущий выдает вполне хороший результат."
   ],
   "cell_type": "markdown",
   "metadata": {}
  },
  {
   "cell_type": "code",
   "execution_count": null,
   "metadata": {},
   "outputs": [],
   "source": []
  }
 ],
 "metadata": {
  "kernelspec": {
   "name": "python3",
   "display_name": "Python 3.7.6 64-bit (conda)",
   "metadata": {
    "interpreter": {
     "hash": "3f800561dde6209f0c647b1ec24b295364b37801e2a63d392a491285ef4d5a88"
    }
   }
  },
  "language_info": {
   "codemirror_mode": {
    "name": "ipython",
    "version": 3
   },
   "file_extension": ".py",
   "mimetype": "text/x-python",
   "name": "python",
   "nbconvert_exporter": "python",
   "pygments_lexer": "ipython3",
   "version": "3.7.6-final"
  }
 },
 "nbformat": 4,
 "nbformat_minor": 2
}