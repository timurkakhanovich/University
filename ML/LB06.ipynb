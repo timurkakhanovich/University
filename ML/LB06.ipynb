{
  "nbformat": 4,
  "nbformat_minor": 0,
  "metadata": {
    "colab": {
      "name": "LB_06.ipynb",
      "provenance": [],
      "collapsed_sections": []
    },
    "kernelspec": {
      "display_name": "Python 3.7.6 64-bit ('base': conda)",
      "name": "python37464bitbaseconda4f12520a107c44ccaaacdf341cde0036"
    },
    "language_info": {
      "codemirror_mode": {
        "name": "ipython",
        "version": 3
      },
      "file_extension": ".py",
      "mimetype": "text/x-python",
      "name": "python",
      "nbconvert_exporter": "python",
      "pygments_lexer": "ipython3",
      "version": "3.7.6"
    },
    "metadata": {
      "interpreter": {
        "hash": "3f800561dde6209f0c647b1ec24b295364b37801e2a63d392a491285ef4d5a88"
      }
    },
    "accelerator": "GPU"
  },
  "cells": [
    {
      "cell_type": "markdown",
      "metadata": {
        "id": "F66c1p0L20OC"
      },
      "source": [
        "# LB06: Знакомство за обработкой естественного языка"
      ]
    },
    {
      "cell_type": "markdown",
      "metadata": {
        "id": "YrDclIm020OJ"
      },
      "source": [
        "<div style=\"text-align: right\"> ПСА 5 (Введение в машинное обучение). Мехмат, БГУ</div>\n",
        "    \n",
        "<div style=\"text-align: right\"> Тишуров Алексей, 2021 </div>"
      ]
    },
    {
      "cell_type": "markdown",
      "metadata": {
        "id": "RXbFBWZk20OL"
      },
      "source": [
        "Данный материал использует лицензию [Creative Commons CC BY-NC-SA 4.0.](https://creativecommons.org/licenses/by-nc-sa/4.0/) со всеми вытекающими. На прилагаемый к материалу датасет лицензия не распространяется. "
      ]
    },
    {
      "cell_type": "code",
      "metadata": {
        "colab": {
          "base_uri": "https://localhost:8080/"
        },
        "id": "XP2VUpNG20OM",
        "outputId": "fafe13fa-5fba-45c7-a25c-35e41676dc30"
      },
      "source": [
        "import pandas as pd\n",
        "import numpy as np\n",
        "import matplotlib.pyplot as plt\n",
        "%matplotlib inline\n",
        "import seaborn as sns\n",
        "\n",
        "from google.colab import drive\n",
        "drive.mount('/content/drive')\n",
        "%cd drive/MyDrive/lab_6"
      ],
      "execution_count": null,
      "outputs": [
        {
          "output_type": "stream",
          "text": [
            "Mounted at /content/drive\n",
            "/content/drive/MyDrive/lab_6\n"
          ],
          "name": "stdout"
        }
      ]
    },
    {
      "cell_type": "markdown",
      "metadata": {
        "id": "O84FrwD920ON"
      },
      "source": [
        "В этой лабораторной работе вы будете знакомиться с NLP на примере задаче по определению \"неискренних\" вопросов на quora. По этой ссылке можно ознакомиться с задачей и данными https://www.kaggle.com/c/quora-insincere-questions-classification. Самое важное копирую сюда:\n",
        "\n",
        "In this competition you will be predicting whether a question asked on Quora is sincere or not.\n",
        "\n",
        "An insincere question is defined as a question intended to make a statement rather than look for helpful answers. Some characteristics that can signify that a question is insincere:\n",
        "\n",
        "    Has a non-neutral tone\n",
        "        Has an exaggerated tone to underscore a point about a group of people\n",
        "        Is rhetorical and meant to imply a statement about a group of people\n",
        "    Is disparaging or inflammatory\n",
        "        Suggests a discriminatory idea against a protected class of people, or seeks confirmation of a stereotype\n",
        "        Makes disparaging attacks/insults against a specific person or group of people\n",
        "        Based on an outlandish premise about a group of people\n",
        "        Disparages against a characteristic that is not fixable and not measurable \n",
        "    Isn't grounded in reality\n",
        "        Based on false information, or contains absurd assumptions\n",
        "    Uses sexual content (incest, bestiality, pedophilia) for shock value, and not to seek genuine answers\n",
        "\n",
        "The training data includes the question that was asked, and whether it was identified as insincere (target = 1). The ground-truth labels contain some amount of noise: they are not guaranteed to be perfect.\n",
        "\n",
        "Note that the distribution of questions in the dataset should not be taken to be representative of the distribution of questions asked on Quora. This is, in part, because of the combination of sampling procedures and sanitization measures that have been applied to the final dataset."
      ]
    },
    {
      "cell_type": "markdown",
      "metadata": {
        "id": "atTBGkE120OP"
      },
      "source": [
        "Датасет нужно скачивать со страницы https://www.kaggle.com/c/quora-insincere-questions-classification/data (нужно будет принять правила, как обычно)"
      ]
    },
    {
      "cell_type": "code",
      "metadata": {
        "id": "bK81pq2z20OQ"
      },
      "source": [
        "df = pd.read_csv('train.csv')\n",
        "#df = pd.read_csv('train.csv', skiprows=lambda row: row % 5 > 0)"
      ],
      "execution_count": null,
      "outputs": []
    },
    {
      "cell_type": "markdown",
      "metadata": {
        "id": "meVOWNsO20OQ"
      },
      "source": [
        "ВНИМАНИЕ! Если ваш компьютер будет считать слишком долго на полном датасете, то загружайте вторым способом. skiprows=lambda row: row % 5 > 0 означает, что будет прочитана только каждая пятая строка.\n",
        "\n",
        "Либо используйте kaggle kernels или google colaboratory"
      ]
    },
    {
      "cell_type": "markdown",
      "metadata": {
        "id": "J5B6rZUb20OR"
      },
      "source": [
        "# Часть 0. Ваше впечатление от датасета"
      ]
    },
    {
      "cell_type": "markdown",
      "metadata": {
        "id": "NO55HZoW20OS"
      },
      "source": [
        "Сделайте аналитику на ваш выбор. Посмотрите на распределение целевой переменной, почитайте тексты, для которых она равна 1. Сделайте выводы"
      ]
    },
    {
      "cell_type": "code",
      "metadata": {
        "colab": {
          "base_uri": "https://localhost:8080/",
          "height": 195
        },
        "id": "0_IpDlHK65RQ",
        "outputId": "ab02b3f5-158f-4d65-ac6e-c8059dc066c1"
      },
      "source": [
        "df.head()"
      ],
      "execution_count": null,
      "outputs": [
        {
          "output_type": "execute_result",
          "data": {
            "text/html": [
              "<div>\n",
              "<style scoped>\n",
              "    .dataframe tbody tr th:only-of-type {\n",
              "        vertical-align: middle;\n",
              "    }\n",
              "\n",
              "    .dataframe tbody tr th {\n",
              "        vertical-align: top;\n",
              "    }\n",
              "\n",
              "    .dataframe thead th {\n",
              "        text-align: right;\n",
              "    }\n",
              "</style>\n",
              "<table border=\"1\" class=\"dataframe\">\n",
              "  <thead>\n",
              "    <tr style=\"text-align: right;\">\n",
              "      <th></th>\n",
              "      <th>qid</th>\n",
              "      <th>question_text</th>\n",
              "      <th>target</th>\n",
              "    </tr>\n",
              "  </thead>\n",
              "  <tbody>\n",
              "    <tr>\n",
              "      <th>0</th>\n",
              "      <td>00002165364db923c7e6</td>\n",
              "      <td>How did Quebec nationalists see their province...</td>\n",
              "      <td>0</td>\n",
              "    </tr>\n",
              "    <tr>\n",
              "      <th>1</th>\n",
              "      <td>000032939017120e6e44</td>\n",
              "      <td>Do you have an adopted dog, how would you enco...</td>\n",
              "      <td>0</td>\n",
              "    </tr>\n",
              "    <tr>\n",
              "      <th>2</th>\n",
              "      <td>0000412ca6e4628ce2cf</td>\n",
              "      <td>Why does velocity affect time? Does velocity a...</td>\n",
              "      <td>0</td>\n",
              "    </tr>\n",
              "    <tr>\n",
              "      <th>3</th>\n",
              "      <td>000042bf85aa498cd78e</td>\n",
              "      <td>How did Otto von Guericke used the Magdeburg h...</td>\n",
              "      <td>0</td>\n",
              "    </tr>\n",
              "    <tr>\n",
              "      <th>4</th>\n",
              "      <td>0000455dfa3e01eae3af</td>\n",
              "      <td>Can I convert montra helicon D to a mountain b...</td>\n",
              "      <td>0</td>\n",
              "    </tr>\n",
              "  </tbody>\n",
              "</table>\n",
              "</div>"
            ],
            "text/plain": [
              "                    qid  ... target\n",
              "0  00002165364db923c7e6  ...      0\n",
              "1  000032939017120e6e44  ...      0\n",
              "2  0000412ca6e4628ce2cf  ...      0\n",
              "3  000042bf85aa498cd78e  ...      0\n",
              "4  0000455dfa3e01eae3af  ...      0\n",
              "\n",
              "[5 rows x 3 columns]"
            ]
          },
          "metadata": {
            "tags": []
          },
          "execution_count": 3
        }
      ]
    },
    {
      "cell_type": "code",
      "metadata": {
        "colab": {
          "base_uri": "https://localhost:8080/"
        },
        "id": "cqzlmi3U67ui",
        "outputId": "4c08176a-9331-4ba2-fd7e-d6bf1e350644"
      },
      "source": [
        "df.shape"
      ],
      "execution_count": null,
      "outputs": [
        {
          "output_type": "execute_result",
          "data": {
            "text/plain": [
              "(1306122, 3)"
            ]
          },
          "metadata": {
            "tags": []
          },
          "execution_count": 4
        }
      ]
    },
    {
      "cell_type": "code",
      "metadata": {
        "colab": {
          "base_uri": "https://localhost:8080/"
        },
        "id": "k4fg5AJI7BvQ",
        "outputId": "21522509-752e-4bf9-81ca-2603f5f6232d"
      },
      "source": [
        "true_class_weight = df.target.mean()\n",
        "true_class_weight"
      ],
      "execution_count": null,
      "outputs": [
        {
          "output_type": "execute_result",
          "data": {
            "text/plain": [
              "0.06187017751787352"
            ]
          },
          "metadata": {
            "tags": []
          },
          "execution_count": 7
        }
      ]
    },
    {
      "cell_type": "markdown",
      "metadata": {
        "id": "qZV67OHD7Xle"
      },
      "source": [
        "Как можно видеть, соотношение классов очень несбалансированное"
      ]
    },
    {
      "cell_type": "code",
      "metadata": {
        "colab": {
          "base_uri": "https://localhost:8080/",
          "height": 513
        },
        "id": "IxRPiwm67hu_",
        "outputId": "cf33d83e-b3de-4ba8-d6b2-a1bbc49f9770"
      },
      "source": [
        "plt.figure(figsize=(10, 8))\n",
        "plt.title('Target distribution')\n",
        "sns.histplot(df, x='target')\n",
        "plt.show()"
      ],
      "execution_count": null,
      "outputs": [
        {
          "output_type": "display_data",
          "data": {
            "image/png": "[encoded data removed]",
            "text/plain": [
              "<Figure size 720x576 with 1 Axes>"
            ]
          },
          "metadata": {
            "tags": []
          }
        }
      ]
    },
    {
      "cell_type": "code",
      "metadata": {
        "id": "Xf29X_4Z8cel"
      },
      "source": [
        "questions_seq = df.loc[df.target == 1, 'question_text'].to_numpy()"
      ],
      "execution_count": null,
      "outputs": []
    },
    {
      "cell_type": "code",
      "metadata": {
        "colab": {
          "base_uri": "https://localhost:8080/"
        },
        "id": "QsU8fLb19Rnm",
        "outputId": "cd75cc6e-d93c-482c-c01f-0a65c38f2d3c"
      },
      "source": [
        "questions_seq[:30]"
      ],
      "execution_count": null,
      "outputs": [
        {
          "output_type": "execute_result",
          "data": {
            "text/plain": [
              "array(['Has the United States become the largest dictatorship in the world?',\n",
              "       'Which babies are more sweeter to their parents? Dark skin babies or light skin babies?',\n",
              "       \"If blacks support school choice and mandatory sentencing for criminals why don't they vote Republican?\",\n",
              "       'I am gay boy and I love my cousin (boy). He is sexy, but I dont know what to do. He is hot, and I want to see his di**. What should I do?',\n",
              "       'Which races have the smallest penis?',\n",
              "       'Why do females find penises ugly?',\n",
              "       'How do I marry an American woman for a Green Card? How much do they charge?',\n",
              "       \"Why do Europeans say they're the superior race, when in fact it took them over 2,000 years until mid 19th century to surpass China's largest economy?\",\n",
              "       'Did Julius Caesar bring a tyrannosaurus rex on his campaigns to frighten the Celts into submission?',\n",
              "       \"In what manner has Republican backing of 'states rights' been hypocritical and what ways have they actually restricted the ability of states to make their own laws?\",\n",
              "       'Would Europeans continue to participate in the Arab war for the destruction of Israel and killing all the Jews, if they knew that god himself defends Israel and he will do to Europeans what the Arabs want to do to the Jews?',\n",
              "       'Why are Americans, British, Canadians, Australians and New Zealanders considered to be separate nations even when they all speak the same language?',\n",
              "       'If both Honey Singh and Justin Bieber fall from the 5th floor, who will survive?',\n",
              "       'Why are liberal minorities so voilent towards poeple with diffrent poltical beleifs? Should supporting trump be a sentence to be imprisoned or savegely attacked?',\n",
              "       \"Can we all now admit that President Trump doesn't really want Congress to pass legislation replacing DACA to protect dreamers?\",\n",
              "       'The American economy is growing under Trump’s presidency, why do people still hate Trump as a president?',\n",
              "       \"Why don't poor countries print more money to use for paying for education, etc.?\",\n",
              "       \"Why do all the people who claim Florida has great weather go silent every time there's a new hurricane?\",\n",
              "       \"Could the leader of Iran be dead many years ago and the leader of today's Iran is actually a fake leader?\",\n",
              "       'Why do the Liberals who run schools choose not to have controlled access? The kids in Florida were killed due to an unlocked door.',\n",
              "       'Why did Pakistan pass the Sikh Marriage Act before India?',\n",
              "       'How do I train my dogs to kill raccoons?',\n",
              "       'Is there any woman (other than Muslim) who is happy after marrying a Muslim guy, as there are a lot of answers on Quora about love jihad, and all of them suffered a lot after marrying a Muslim guy?',\n",
              "       'Do moms have sex with their sons?',\n",
              "       'Why did the Pope say that \"Muslims are a curse to this world\"?',\n",
              "       'How peoples in India seems hypocritical about womans empowerment?',\n",
              "       'How much more political fumbling will it take for Republicans to turn on Trump?',\n",
              "       'Why do Americans prefer just to not show up somewhere rather than face even the mildest of conflicts? (My colleagues and I have noted a growing number of people who skip any face to face meetings without any explanation at all.)',\n",
              "       'Liberals are pro-choice, but the choices must be approved by them first. Is this an accurate description of liberals?',\n",
              "       'Why are South Indian dishes which are prepared by North Indians more tasty than dishes prepared by South Indian restaurants?'],\n",
              "      dtype=object)"
            ]
          },
          "metadata": {
            "tags": []
          },
          "execution_count": 8
        }
      ]
    },
    {
      "cell_type": "markdown",
      "metadata": {
        "id": "NEh3fz6M20OS"
      },
      "source": [
        "# Часть 1. Tf-Idf"
      ]
    },
    {
      "cell_type": "markdown",
      "metadata": {
        "id": "F-28nJK820OT"
      },
      "source": [
        "В этой части необходимо пройти классический путь решения задачи методом \"мешок слов\". Ваша задача:\n",
        "1. Нормализовать данные (если нужно)\n",
        "2. Выбрать вариант токенизации (начните с from nltk import word_tokenize и подумайте, достаточно ли его)\n",
        "3. Определитесь со списком стоп-слов.\n",
        "4. Постройте конвейер (Pipeline), включающий в себя превращение текстов в векторы и непосредственно моделирование\n",
        "5. Объясните предсказания вашей модели при помощи eli5\n",
        "5. Попробуйте подобрать лучшие параметры при помощи GridSearchCV или RandomizedSearchCV. Второй вариант НАМНОГО лучше, как выже успели убедиться в прошлый раз. Кроме того, тут вам нужно будет подбирать как параметры самой модели, так и параметры векторизатора.\n",
        "6. Попробуйте как можно сильнее сжать пространство признаков путем фильтрации редких слов, при этом старайтесь не потерять в качестве.\n",
        "\n",
        "Ниже по пунктам подробнее. Не надо волноваться, если сразу что-то будет не получаться. Все ващи вопросы я ожидаю в канале в slack или в личке. "
      ]
    },
    {
      "cell_type": "code",
      "metadata": {
        "colab": {
          "base_uri": "https://localhost:8080/"
        },
        "id": "RCaIbNjr20OU",
        "outputId": "13485138-f52c-4c1c-9685-f4136677da1c"
      },
      "source": [
        "#загрузка дополнительных данных для nltk\n",
        "import nltk\n",
        "nltk.download('punkt')\n",
        "nltk.download('stopwords')\n",
        "nltk.download('wordnet')"
      ],
      "execution_count": null,
      "outputs": [
        {
          "output_type": "stream",
          "text": [
            "[nltk_data] Downloading package punkt to /root/nltk_data...\n",
            "[nltk_data]   Unzipping tokenizers/punkt.zip.\n",
            "[nltk_data] Downloading package stopwords to /root/nltk_data...\n",
            "[nltk_data]   Unzipping corpora/stopwords.zip.\n",
            "[nltk_data] Downloading package wordnet to /root/nltk_data...\n",
            "[nltk_data]   Unzipping corpora/wordnet.zip.\n"
          ],
          "name": "stdout"
        },
        {
          "output_type": "execute_result",
          "data": {
            "text/plain": [
              "True"
            ]
          },
          "metadata": {
            "tags": []
          },
          "execution_count": 3
        }
      ]
    },
    {
      "cell_type": "markdown",
      "metadata": {
        "id": "QvuN_EV620OU"
      },
      "source": [
        "# Задание 1.1 Нормализация и токенизация"
      ]
    },
    {
      "cell_type": "markdown",
      "metadata": {
        "id": "vhuBMdTe20OV"
      },
      "source": [
        "Стоит быть честным и сказать, что тексты вопросов написаны очень хорошо, без шума, разделены в основном пробелами. Поэтому эта часть тривиальна. Поэтому, просто пощупайте и сравните 2 токенизатора."
      ]
    },
    {
      "cell_type": "code",
      "metadata": {
        "id": "ZlAx_cY120OV"
      },
      "source": [
        "from nltk.tokenize import word_tokenize"
      ],
      "execution_count": null,
      "outputs": []
    },
    {
      "cell_type": "code",
      "metadata": {
        "id": "Oo0DKB-B20OW"
      },
      "source": [
        "from sklearn.feature_extraction.text import TfidfVectorizer\n",
        "vect = TfidfVectorizer()\n",
        "sklearn_tokenizer = vect.build_tokenizer()"
      ],
      "execution_count": null,
      "outputs": []
    },
    {
      "cell_type": "code",
      "metadata": {
        "colab": {
          "base_uri": "https://localhost:8080/"
        },
        "id": "UU97b5oHACZ-",
        "outputId": "68de228d-8766-4e5a-8050-8211e6e84b8f"
      },
      "source": [
        "print('\\n'.join([str(word_tokenize(sent)) for sent in questions_seq[:20]]))"
      ],
      "execution_count": null,
      "outputs": [
        {
          "output_type": "stream",
          "text": [
            "['Has', 'the', 'United', 'States', 'become', 'the', 'largest', 'dictatorship', 'in', 'the', 'world', '?']\n",
            "['Which', 'babies', 'are', 'more', 'sweeter', 'to', 'their', 'parents', '?', 'Dark', 'skin', 'babies', 'or', 'light', 'skin', 'babies', '?']\n",
            "['If', 'blacks', 'support', 'school', 'choice', 'and', 'mandatory', 'sentencing', 'for', 'criminals', 'why', 'do', \"n't\", 'they', 'vote', 'Republican', '?']\n",
            "['I', 'am', 'gay', 'boy', 'and', 'I', 'love', 'my', 'cousin', '(', 'boy', ')', '.', 'He', 'is', 'sexy', ',', 'but', 'I', 'dont', 'know', 'what', 'to', 'do', '.', 'He', 'is', 'hot', ',', 'and', 'I', 'want', 'to', 'see', 'his', 'di**', '.', 'What', 'should', 'I', 'do', '?']\n",
            "['Which', 'races', 'have', 'the', 'smallest', 'penis', '?']\n",
            "['Why', 'do', 'females', 'find', 'penises', 'ugly', '?']\n",
            "['How', 'do', 'I', 'marry', 'an', 'American', 'woman', 'for', 'a', 'Green', 'Card', '?', 'How', 'much', 'do', 'they', 'charge', '?']\n",
            "['Why', 'do', 'Europeans', 'say', 'they', \"'re\", 'the', 'superior', 'race', ',', 'when', 'in', 'fact', 'it', 'took', 'them', 'over', '2,000', 'years', 'until', 'mid', '19th', 'century', 'to', 'surpass', 'China', \"'s\", 'largest', 'economy', '?']\n",
            "['Did', 'Julius', 'Caesar', 'bring', 'a', 'tyrannosaurus', 'rex', 'on', 'his', 'campaigns', 'to', 'frighten', 'the', 'Celts', 'into', 'submission', '?']\n",
            "['In', 'what', 'manner', 'has', 'Republican', 'backing', 'of', \"'states\", 'rights', \"'\", 'been', 'hypocritical', 'and', 'what', 'ways', 'have', 'they', 'actually', 'restricted', 'the', 'ability', 'of', 'states', 'to', 'make', 'their', 'own', 'laws', '?']\n",
            "['Would', 'Europeans', 'continue', 'to', 'participate', 'in', 'the', 'Arab', 'war', 'for', 'the', 'destruction', 'of', 'Israel', 'and', 'killing', 'all', 'the', 'Jews', ',', 'if', 'they', 'knew', 'that', 'god', 'himself', 'defends', 'Israel', 'and', 'he', 'will', 'do', 'to', 'Europeans', 'what', 'the', 'Arabs', 'want', 'to', 'do', 'to', 'the', 'Jews', '?']\n",
            "['Why', 'are', 'Americans', ',', 'British', ',', 'Canadians', ',', 'Australians', 'and', 'New', 'Zealanders', 'considered', 'to', 'be', 'separate', 'nations', 'even', 'when', 'they', 'all', 'speak', 'the', 'same', 'language', '?']\n",
            "['If', 'both', 'Honey', 'Singh', 'and', 'Justin', 'Bieber', 'fall', 'from', 'the', '5th', 'floor', ',', 'who', 'will', 'survive', '?']\n",
            "['Why', 'are', 'liberal', 'minorities', 'so', 'voilent', 'towards', 'poeple', 'with', 'diffrent', 'poltical', 'beleifs', '?', 'Should', 'supporting', 'trump', 'be', 'a', 'sentence', 'to', 'be', 'imprisoned', 'or', 'savegely', 'attacked', '?']\n",
            "['Can', 'we', 'all', 'now', 'admit', 'that', 'President', 'Trump', 'does', \"n't\", 'really', 'want', 'Congress', 'to', 'pass', 'legislation', 'replacing', 'DACA', 'to', 'protect', 'dreamers', '?']\n",
            "['The', 'American', 'economy', 'is', 'growing', 'under', 'Trump', '’', 's', 'presidency', ',', 'why', 'do', 'people', 'still', 'hate', 'Trump', 'as', 'a', 'president', '?']\n",
            "['Why', 'do', \"n't\", 'poor', 'countries', 'print', 'more', 'money', 'to', 'use', 'for', 'paying', 'for', 'education', ',', 'etc', '.', '?']\n",
            "['Why', 'do', 'all', 'the', 'people', 'who', 'claim', 'Florida', 'has', 'great', 'weather', 'go', 'silent', 'every', 'time', 'there', \"'s\", 'a', 'new', 'hurricane', '?']\n",
            "['Could', 'the', 'leader', 'of', 'Iran', 'be', 'dead', 'many', 'years', 'ago', 'and', 'the', 'leader', 'of', 'today', \"'s\", 'Iran', 'is', 'actually', 'a', 'fake', 'leader', '?']\n",
            "['Why', 'do', 'the', 'Liberals', 'who', 'run', 'schools', 'choose', 'not', 'to', 'have', 'controlled', 'access', '?', 'The', 'kids', 'in', 'Florida', 'were', 'killed', 'due', 'to', 'an', 'unlocked', 'door', '.']\n"
          ],
          "name": "stdout"
        }
      ]
    },
    {
      "cell_type": "code",
      "metadata": {
        "colab": {
          "base_uri": "https://localhost:8080/"
        },
        "id": "b2ZMxBDwAw0A",
        "outputId": "6886793c-db72-47bd-9f68-826c2e27069c"
      },
      "source": [
        "print('\\n'.join([str(sklearn_tokenizer(sent)) for sent in questions_seq[:20]]))"
      ],
      "execution_count": null,
      "outputs": [
        {
          "output_type": "stream",
          "text": [
            "['Has', 'the', 'United', 'States', 'become', 'the', 'largest', 'dictatorship', 'in', 'the', 'world']\n",
            "['Which', 'babies', 'are', 'more', 'sweeter', 'to', 'their', 'parents', 'Dark', 'skin', 'babies', 'or', 'light', 'skin', 'babies']\n",
            "['If', 'blacks', 'support', 'school', 'choice', 'and', 'mandatory', 'sentencing', 'for', 'criminals', 'why', 'don', 'they', 'vote', 'Republican']\n",
            "['am', 'gay', 'boy', 'and', 'love', 'my', 'cousin', 'boy', 'He', 'is', 'sexy', 'but', 'dont', 'know', 'what', 'to', 'do', 'He', 'is', 'hot', 'and', 'want', 'to', 'see', 'his', 'di', 'What', 'should', 'do']\n",
            "['Which', 'races', 'have', 'the', 'smallest', 'penis']\n",
            "['Why', 'do', 'females', 'find', 'penises', 'ugly']\n",
            "['How', 'do', 'marry', 'an', 'American', 'woman', 'for', 'Green', 'Card', 'How', 'much', 'do', 'they', 'charge']\n",
            "['Why', 'do', 'Europeans', 'say', 'they', 're', 'the', 'superior', 'race', 'when', 'in', 'fact', 'it', 'took', 'them', 'over', '000', 'years', 'until', 'mid', '19th', 'century', 'to', 'surpass', 'China', 'largest', 'economy']\n",
            "['Did', 'Julius', 'Caesar', 'bring', 'tyrannosaurus', 'rex', 'on', 'his', 'campaigns', 'to', 'frighten', 'the', 'Celts', 'into', 'submission']\n",
            "['In', 'what', 'manner', 'has', 'Republican', 'backing', 'of', 'states', 'rights', 'been', 'hypocritical', 'and', 'what', 'ways', 'have', 'they', 'actually', 'restricted', 'the', 'ability', 'of', 'states', 'to', 'make', 'their', 'own', 'laws']\n",
            "['Would', 'Europeans', 'continue', 'to', 'participate', 'in', 'the', 'Arab', 'war', 'for', 'the', 'destruction', 'of', 'Israel', 'and', 'killing', 'all', 'the', 'Jews', 'if', 'they', 'knew', 'that', 'god', 'himself', 'defends', 'Israel', 'and', 'he', 'will', 'do', 'to', 'Europeans', 'what', 'the', 'Arabs', 'want', 'to', 'do', 'to', 'the', 'Jews']\n",
            "['Why', 'are', 'Americans', 'British', 'Canadians', 'Australians', 'and', 'New', 'Zealanders', 'considered', 'to', 'be', 'separate', 'nations', 'even', 'when', 'they', 'all', 'speak', 'the', 'same', 'language']\n",
            "['If', 'both', 'Honey', 'Singh', 'and', 'Justin', 'Bieber', 'fall', 'from', 'the', '5th', 'floor', 'who', 'will', 'survive']\n",
            "['Why', 'are', 'liberal', 'minorities', 'so', 'voilent', 'towards', 'poeple', 'with', 'diffrent', 'poltical', 'beleifs', 'Should', 'supporting', 'trump', 'be', 'sentence', 'to', 'be', 'imprisoned', 'or', 'savegely', 'attacked']\n",
            "['Can', 'we', 'all', 'now', 'admit', 'that', 'President', 'Trump', 'doesn', 'really', 'want', 'Congress', 'to', 'pass', 'legislation', 'replacing', 'DACA', 'to', 'protect', 'dreamers']\n",
            "['The', 'American', 'economy', 'is', 'growing', 'under', 'Trump', 'presidency', 'why', 'do', 'people', 'still', 'hate', 'Trump', 'as', 'president']\n",
            "['Why', 'don', 'poor', 'countries', 'print', 'more', 'money', 'to', 'use', 'for', 'paying', 'for', 'education', 'etc']\n",
            "['Why', 'do', 'all', 'the', 'people', 'who', 'claim', 'Florida', 'has', 'great', 'weather', 'go', 'silent', 'every', 'time', 'there', 'new', 'hurricane']\n",
            "['Could', 'the', 'leader', 'of', 'Iran', 'be', 'dead', 'many', 'years', 'ago', 'and', 'the', 'leader', 'of', 'today', 'Iran', 'is', 'actually', 'fake', 'leader']\n",
            "['Why', 'do', 'the', 'Liberals', 'who', 'run', 'schools', 'choose', 'not', 'to', 'have', 'controlled', 'access', 'The', 'kids', 'in', 'Florida', 'were', 'killed', 'due', 'to', 'an', 'unlocked', 'door']\n"
          ],
          "name": "stdout"
        }
      ]
    },
    {
      "cell_type": "markdown",
      "metadata": {
        "id": "OoUtWCvjJF6v"
      },
      "source": [
        "Можно заметить, что nltk-токенизатор оставляет знаки препинания в предложениях, что в некоторых задачах весьма полезно, если нужно знать оттенок фразы."
      ]
    },
    {
      "cell_type": "markdown",
      "metadata": {
        "id": "Xj_5rQcS20OX"
      },
      "source": [
        "# Часть 1.2 Стоп-слова"
      ]
    },
    {
      "cell_type": "markdown",
      "metadata": {
        "id": "wJMhvBI020OY"
      },
      "source": [
        "Токенизация должна быть согласована со стоп-словами. Т.е. токенизатор должен воспринимать стоп-слова как токены, а не как несколько токенов. В этом задании вам нужно посмотреть на стоп-слова из nltk и проверить, являются ли два токенизатора выше согласованными со списком английских стоп-слов из nltk. Для этого попробуйте токенизировать по очереди все стоп-слова двумя текенизаторами и сделайте соответствующие выводы."
      ]
    },
    {
      "cell_type": "code",
      "metadata": {
        "id": "bSG32MAt20OY"
      },
      "source": [
        "from nltk.corpus import stopwords"
      ],
      "execution_count": null,
      "outputs": []
    },
    {
      "cell_type": "code",
      "metadata": {
        "colab": {
          "base_uri": "https://localhost:8080/"
        },
        "id": "EYPnzy-N20OZ",
        "outputId": "455398f4-524e-4324-c67d-3b194041ec9b"
      },
      "source": [
        "print(stopwords.words('english'))"
      ],
      "execution_count": null,
      "outputs": [
        {
          "output_type": "stream",
          "text": [
            "['i', 'me', 'my', 'myself', 'we', 'our', 'ours', 'ourselves', 'you', \"you're\", \"you've\", \"you'll\", \"you'd\", 'your', 'yours', 'yourself', 'yourselves', 'he', 'him', 'his', 'himself', 'she', \"she's\", 'her', 'hers', 'herself', 'it', \"it's\", 'its', 'itself', 'they', 'them', 'their', 'theirs', 'themselves', 'what', 'which', 'who', 'whom', 'this', 'that', \"that'll\", 'these', 'those', 'am', 'is', 'are', 'was', 'were', 'be', 'been', 'being', 'have', 'has', 'had', 'having', 'do', 'does', 'did', 'doing', 'a', 'an', 'the', 'and', 'but', 'if', 'or', 'because', 'as', 'until', 'while', 'of', 'at', 'by', 'for', 'with', 'about', 'against', 'between', 'into', 'through', 'during', 'before', 'after', 'above', 'below', 'to', 'from', 'up', 'down', 'in', 'out', 'on', 'off', 'over', 'under', 'again', 'further', 'then', 'once', 'here', 'there', 'when', 'where', 'why', 'how', 'all', 'any', 'both', 'each', 'few', 'more', 'most', 'other', 'some', 'such', 'no', 'nor', 'not', 'only', 'own', 'same', 'so', 'than', 'too', 'very', 's', 't', 'can', 'will', 'just', 'don', \"don't\", 'should', \"should've\", 'now', 'd', 'll', 'm', 'o', 're', 've', 'y', 'ain', 'aren', \"aren't\", 'couldn', \"couldn't\", 'didn', \"didn't\", 'doesn', \"doesn't\", 'hadn', \"hadn't\", 'hasn', \"hasn't\", 'haven', \"haven't\", 'isn', \"isn't\", 'ma', 'mightn', \"mightn't\", 'mustn', \"mustn't\", 'needn', \"needn't\", 'shan', \"shan't\", 'shouldn', \"shouldn't\", 'wasn', \"wasn't\", 'weren', \"weren't\", 'won', \"won't\", 'wouldn', \"wouldn't\"]\n"
          ],
          "name": "stdout"
        }
      ]
    },
    {
      "cell_type": "code",
      "metadata": {
        "colab": {
          "base_uri": "https://localhost:8080/"
        },
        "id": "cVWO0N4tcHjm",
        "outputId": "2f52984b-6e10-480c-f624-bf4c399434be"
      },
      "source": [
        "[(word_tokenize(x), x) for x in stopwords.words('english')]"
      ],
      "execution_count": null,
      "outputs": [
        {
          "output_type": "execute_result",
          "data": {
            "text/plain": [
              "[(['i'], 'i'),\n",
              " (['me'], 'me'),\n",
              " (['my'], 'my'),\n",
              " (['myself'], 'myself'),\n",
              " (['we'], 'we'),\n",
              " (['our'], 'our'),\n",
              " (['ours'], 'ours'),\n",
              " (['ourselves'], 'ourselves'),\n",
              " (['you'], 'you'),\n",
              " (['you', \"'re\"], \"you're\"),\n",
              " (['you', \"'ve\"], \"you've\"),\n",
              " (['you', \"'ll\"], \"you'll\"),\n",
              " (['you', \"'d\"], \"you'd\"),\n",
              " (['your'], 'your'),\n",
              " (['yours'], 'yours'),\n",
              " (['yourself'], 'yourself'),\n",
              " (['yourselves'], 'yourselves'),\n",
              " (['he'], 'he'),\n",
              " (['him'], 'him'),\n",
              " (['his'], 'his'),\n",
              " (['himself'], 'himself'),\n",
              " (['she'], 'she'),\n",
              " (['she', \"'s\"], \"she's\"),\n",
              " (['her'], 'her'),\n",
              " (['hers'], 'hers'),\n",
              " (['herself'], 'herself'),\n",
              " (['it'], 'it'),\n",
              " (['it', \"'s\"], \"it's\"),\n",
              " (['its'], 'its'),\n",
              " (['itself'], 'itself'),\n",
              " (['they'], 'they'),\n",
              " (['them'], 'them'),\n",
              " (['their'], 'their'),\n",
              " (['theirs'], 'theirs'),\n",
              " (['themselves'], 'themselves'),\n",
              " (['what'], 'what'),\n",
              " (['which'], 'which'),\n",
              " (['who'], 'who'),\n",
              " (['whom'], 'whom'),\n",
              " (['this'], 'this'),\n",
              " (['that'], 'that'),\n",
              " (['that', \"'ll\"], \"that'll\"),\n",
              " (['these'], 'these'),\n",
              " (['those'], 'those'),\n",
              " (['am'], 'am'),\n",
              " (['is'], 'is'),\n",
              " (['are'], 'are'),\n",
              " (['was'], 'was'),\n",
              " (['were'], 'were'),\n",
              " (['be'], 'be'),\n",
              " (['been'], 'been'),\n",
              " (['being'], 'being'),\n",
              " (['have'], 'have'),\n",
              " (['has'], 'has'),\n",
              " (['had'], 'had'),\n",
              " (['having'], 'having'),\n",
              " (['do'], 'do'),\n",
              " (['does'], 'does'),\n",
              " (['did'], 'did'),\n",
              " (['doing'], 'doing'),\n",
              " (['a'], 'a'),\n",
              " (['an'], 'an'),\n",
              " (['the'], 'the'),\n",
              " (['and'], 'and'),\n",
              " (['but'], 'but'),\n",
              " (['if'], 'if'),\n",
              " (['or'], 'or'),\n",
              " (['because'], 'because'),\n",
              " (['as'], 'as'),\n",
              " (['until'], 'until'),\n",
              " (['while'], 'while'),\n",
              " (['of'], 'of'),\n",
              " (['at'], 'at'),\n",
              " (['by'], 'by'),\n",
              " (['for'], 'for'),\n",
              " (['with'], 'with'),\n",
              " (['about'], 'about'),\n",
              " (['against'], 'against'),\n",
              " (['between'], 'between'),\n",
              " (['into'], 'into'),\n",
              " (['through'], 'through'),\n",
              " (['during'], 'during'),\n",
              " (['before'], 'before'),\n",
              " (['after'], 'after'),\n",
              " (['above'], 'above'),\n",
              " (['below'], 'below'),\n",
              " (['to'], 'to'),\n",
              " (['from'], 'from'),\n",
              " (['up'], 'up'),\n",
              " (['down'], 'down'),\n",
              " (['in'], 'in'),\n",
              " (['out'], 'out'),\n",
              " (['on'], 'on'),\n",
              " (['off'], 'off'),\n",
              " (['over'], 'over'),\n",
              " (['under'], 'under'),\n",
              " (['again'], 'again'),\n",
              " (['further'], 'further'),\n",
              " (['then'], 'then'),\n",
              " (['once'], 'once'),\n",
              " (['here'], 'here'),\n",
              " (['there'], 'there'),\n",
              " (['when'], 'when'),\n",
              " (['where'], 'where'),\n",
              " (['why'], 'why'),\n",
              " (['how'], 'how'),\n",
              " (['all'], 'all'),\n",
              " (['any'], 'any'),\n",
              " (['both'], 'both'),\n",
              " (['each'], 'each'),\n",
              " (['few'], 'few'),\n",
              " (['more'], 'more'),\n",
              " (['most'], 'most'),\n",
              " (['other'], 'other'),\n",
              " (['some'], 'some'),\n",
              " (['such'], 'such'),\n",
              " (['no'], 'no'),\n",
              " (['nor'], 'nor'),\n",
              " (['not'], 'not'),\n",
              " (['only'], 'only'),\n",
              " (['own'], 'own'),\n",
              " (['same'], 'same'),\n",
              " (['so'], 'so'),\n",
              " (['than'], 'than'),\n",
              " (['too'], 'too'),\n",
              " (['very'], 'very'),\n",
              " (['s'], 's'),\n",
              " (['t'], 't'),\n",
              " (['can'], 'can'),\n",
              " (['will'], 'will'),\n",
              " (['just'], 'just'),\n",
              " (['don'], 'don'),\n",
              " (['do', \"n't\"], \"don't\"),\n",
              " (['should'], 'should'),\n",
              " (['should', \"'ve\"], \"should've\"),\n",
              " (['now'], 'now'),\n",
              " (['d'], 'd'),\n",
              " (['ll'], 'll'),\n",
              " (['m'], 'm'),\n",
              " (['o'], 'o'),\n",
              " (['re'], 're'),\n",
              " (['ve'], 've'),\n",
              " (['y'], 'y'),\n",
              " (['ain'], 'ain'),\n",
              " (['aren'], 'aren'),\n",
              " (['are', \"n't\"], \"aren't\"),\n",
              " (['couldn'], 'couldn'),\n",
              " (['could', \"n't\"], \"couldn't\"),\n",
              " (['didn'], 'didn'),\n",
              " (['did', \"n't\"], \"didn't\"),\n",
              " (['doesn'], 'doesn'),\n",
              " (['does', \"n't\"], \"doesn't\"),\n",
              " (['hadn'], 'hadn'),\n",
              " (['had', \"n't\"], \"hadn't\"),\n",
              " (['hasn'], 'hasn'),\n",
              " (['has', \"n't\"], \"hasn't\"),\n",
              " (['haven'], 'haven'),\n",
              " (['have', \"n't\"], \"haven't\"),\n",
              " (['isn'], 'isn'),\n",
              " (['is', \"n't\"], \"isn't\"),\n",
              " (['ma'], 'ma'),\n",
              " (['mightn'], 'mightn'),\n",
              " (['might', \"n't\"], \"mightn't\"),\n",
              " (['mustn'], 'mustn'),\n",
              " (['must', \"n't\"], \"mustn't\"),\n",
              " (['needn'], 'needn'),\n",
              " (['need', \"n't\"], \"needn't\"),\n",
              " (['shan'], 'shan'),\n",
              " (['sha', \"n't\"], \"shan't\"),\n",
              " (['shouldn'], 'shouldn'),\n",
              " (['should', \"n't\"], \"shouldn't\"),\n",
              " (['wasn'], 'wasn'),\n",
              " (['was', \"n't\"], \"wasn't\"),\n",
              " (['weren'], 'weren'),\n",
              " (['were', \"n't\"], \"weren't\"),\n",
              " (['won'], 'won'),\n",
              " (['wo', \"n't\"], \"won't\"),\n",
              " (['wouldn'], 'wouldn'),\n",
              " (['would', \"n't\"], \"wouldn't\")]"
            ]
          },
          "metadata": {
            "tags": []
          },
          "execution_count": 16
        }
      ]
    },
    {
      "cell_type": "code",
      "metadata": {
        "colab": {
          "base_uri": "https://localhost:8080/"
        },
        "id": "EtqasXTXeddM",
        "outputId": "608922c8-07d9-4461-e160-8dbe853ec051"
      },
      "source": [
        "[(sklearn_tokenizer(x), x) for x in stopwords.words('english')]"
      ],
      "execution_count": null,
      "outputs": [
        {
          "output_type": "execute_result",
          "data": {
            "text/plain": [
              "[([], 'i'),\n",
              " (['me'], 'me'),\n",
              " (['my'], 'my'),\n",
              " (['myself'], 'myself'),\n",
              " (['we'], 'we'),\n",
              " (['our'], 'our'),\n",
              " (['ours'], 'ours'),\n",
              " (['ourselves'], 'ourselves'),\n",
              " (['you'], 'you'),\n",
              " (['you', 're'], \"you're\"),\n",
              " (['you', 've'], \"you've\"),\n",
              " (['you', 'll'], \"you'll\"),\n",
              " (['you'], \"you'd\"),\n",
              " (['your'], 'your'),\n",
              " (['yours'], 'yours'),\n",
              " (['yourself'], 'yourself'),\n",
              " (['yourselves'], 'yourselves'),\n",
              " (['he'], 'he'),\n",
              " (['him'], 'him'),\n",
              " (['his'], 'his'),\n",
              " (['himself'], 'himself'),\n",
              " (['she'], 'she'),\n",
              " (['she'], \"she's\"),\n",
              " (['her'], 'her'),\n",
              " (['hers'], 'hers'),\n",
              " (['herself'], 'herself'),\n",
              " (['it'], 'it'),\n",
              " (['it'], \"it's\"),\n",
              " (['its'], 'its'),\n",
              " (['itself'], 'itself'),\n",
              " (['they'], 'they'),\n",
              " (['them'], 'them'),\n",
              " (['their'], 'their'),\n",
              " (['theirs'], 'theirs'),\n",
              " (['themselves'], 'themselves'),\n",
              " (['what'], 'what'),\n",
              " (['which'], 'which'),\n",
              " (['who'], 'who'),\n",
              " (['whom'], 'whom'),\n",
              " (['this'], 'this'),\n",
              " (['that'], 'that'),\n",
              " (['that', 'll'], \"that'll\"),\n",
              " (['these'], 'these'),\n",
              " (['those'], 'those'),\n",
              " (['am'], 'am'),\n",
              " (['is'], 'is'),\n",
              " (['are'], 'are'),\n",
              " (['was'], 'was'),\n",
              " (['were'], 'were'),\n",
              " (['be'], 'be'),\n",
              " (['been'], 'been'),\n",
              " (['being'], 'being'),\n",
              " (['have'], 'have'),\n",
              " (['has'], 'has'),\n",
              " (['had'], 'had'),\n",
              " (['having'], 'having'),\n",
              " (['do'], 'do'),\n",
              " (['does'], 'does'),\n",
              " (['did'], 'did'),\n",
              " (['doing'], 'doing'),\n",
              " ([], 'a'),\n",
              " (['an'], 'an'),\n",
              " (['the'], 'the'),\n",
              " (['and'], 'and'),\n",
              " (['but'], 'but'),\n",
              " (['if'], 'if'),\n",
              " (['or'], 'or'),\n",
              " (['because'], 'because'),\n",
              " (['as'], 'as'),\n",
              " (['until'], 'until'),\n",
              " (['while'], 'while'),\n",
              " (['of'], 'of'),\n",
              " (['at'], 'at'),\n",
              " (['by'], 'by'),\n",
              " (['for'], 'for'),\n",
              " (['with'], 'with'),\n",
              " (['about'], 'about'),\n",
              " (['against'], 'against'),\n",
              " (['between'], 'between'),\n",
              " (['into'], 'into'),\n",
              " (['through'], 'through'),\n",
              " (['during'], 'during'),\n",
              " (['before'], 'before'),\n",
              " (['after'], 'after'),\n",
              " (['above'], 'above'),\n",
              " (['below'], 'below'),\n",
              " (['to'], 'to'),\n",
              " (['from'], 'from'),\n",
              " (['up'], 'up'),\n",
              " (['down'], 'down'),\n",
              " (['in'], 'in'),\n",
              " (['out'], 'out'),\n",
              " (['on'], 'on'),\n",
              " (['off'], 'off'),\n",
              " (['over'], 'over'),\n",
              " (['under'], 'under'),\n",
              " (['again'], 'again'),\n",
              " (['further'], 'further'),\n",
              " (['then'], 'then'),\n",
              " (['once'], 'once'),\n",
              " (['here'], 'here'),\n",
              " (['there'], 'there'),\n",
              " (['when'], 'when'),\n",
              " (['where'], 'where'),\n",
              " (['why'], 'why'),\n",
              " (['how'], 'how'),\n",
              " (['all'], 'all'),\n",
              " (['any'], 'any'),\n",
              " (['both'], 'both'),\n",
              " (['each'], 'each'),\n",
              " (['few'], 'few'),\n",
              " (['more'], 'more'),\n",
              " (['most'], 'most'),\n",
              " (['other'], 'other'),\n",
              " (['some'], 'some'),\n",
              " (['such'], 'such'),\n",
              " (['no'], 'no'),\n",
              " (['nor'], 'nor'),\n",
              " (['not'], 'not'),\n",
              " (['only'], 'only'),\n",
              " (['own'], 'own'),\n",
              " (['same'], 'same'),\n",
              " (['so'], 'so'),\n",
              " (['than'], 'than'),\n",
              " (['too'], 'too'),\n",
              " (['very'], 'very'),\n",
              " ([], 's'),\n",
              " ([], 't'),\n",
              " (['can'], 'can'),\n",
              " (['will'], 'will'),\n",
              " (['just'], 'just'),\n",
              " (['don'], 'don'),\n",
              " (['don'], \"don't\"),\n",
              " (['should'], 'should'),\n",
              " (['should', 've'], \"should've\"),\n",
              " (['now'], 'now'),\n",
              " ([], 'd'),\n",
              " (['ll'], 'll'),\n",
              " ([], 'm'),\n",
              " ([], 'o'),\n",
              " (['re'], 're'),\n",
              " (['ve'], 've'),\n",
              " ([], 'y'),\n",
              " (['ain'], 'ain'),\n",
              " (['aren'], 'aren'),\n",
              " (['aren'], \"aren't\"),\n",
              " (['couldn'], 'couldn'),\n",
              " (['couldn'], \"couldn't\"),\n",
              " (['didn'], 'didn'),\n",
              " (['didn'], \"didn't\"),\n",
              " (['doesn'], 'doesn'),\n",
              " (['doesn'], \"doesn't\"),\n",
              " (['hadn'], 'hadn'),\n",
              " (['hadn'], \"hadn't\"),\n",
              " (['hasn'], 'hasn'),\n",
              " (['hasn'], \"hasn't\"),\n",
              " (['haven'], 'haven'),\n",
              " (['haven'], \"haven't\"),\n",
              " (['isn'], 'isn'),\n",
              " (['isn'], \"isn't\"),\n",
              " (['ma'], 'ma'),\n",
              " (['mightn'], 'mightn'),\n",
              " (['mightn'], \"mightn't\"),\n",
              " (['mustn'], 'mustn'),\n",
              " (['mustn'], \"mustn't\"),\n",
              " (['needn'], 'needn'),\n",
              " (['needn'], \"needn't\"),\n",
              " (['shan'], 'shan'),\n",
              " (['shan'], \"shan't\"),\n",
              " (['shouldn'], 'shouldn'),\n",
              " (['shouldn'], \"shouldn't\"),\n",
              " (['wasn'], 'wasn'),\n",
              " (['wasn'], \"wasn't\"),\n",
              " (['weren'], 'weren'),\n",
              " (['weren'], \"weren't\"),\n",
              " (['won'], 'won'),\n",
              " (['won'], \"won't\"),\n",
              " (['wouldn'], 'wouldn'),\n",
              " (['wouldn'], \"wouldn't\")]"
            ]
          },
          "metadata": {
            "tags": []
          },
          "execution_count": 17
        }
      ]
    },
    {
      "cell_type": "markdown",
      "metadata": {
        "id": "ej_y7BJ8EBgj"
      },
      "source": [
        "Как можно заметить, оба токенизатора воспринимают стоп-слова как несколько отдельных токенов. Это, вероятно, не такая большая проблема, так как множество стоп-слов содержит и их разбитие на токены, что позволит выбросить неважные токены из данных."
      ]
    },
    {
      "cell_type": "markdown",
      "metadata": {
        "id": "XLpGuqiA20OZ"
      },
      "source": [
        "# Часть 1.3 Pipeline и процесс обучения"
      ]
    },
    {
      "cell_type": "markdown",
      "metadata": {
        "id": "JaRtD_nc20Oa"
      },
      "source": [
        "Когда в процессе моделирования есть несколько шагов, их бывает удобно объединить в конвейер. В sklearn это реализовано в классе Pipeline. Ниже вам представлен пример его использования.\n",
        "Также в этой лабе мы будем пользоваться cross_val_predict, чтобы считать честные предсказанные вероятности. Для этого указан параметр method='predict_proba' в примере внизу. Как вы можете видеть, векторизатор и классификатор остались с параметрами по умолчанию. Ваша цель - **сделать для них нормальные параметры и полностью разбираться в том, что они значат** на основе знаний, которые вы получили на всех прошлых занятиях. На практике у вас обязательно будут спрашивать про эти параметры, а также про то, как работает TfIdfVectorizer и SGDClassifier. Типичные вопросы, ответы на которые необходимо знать для хорошей оценки:\n",
        "1. Что такое стохастический градиентный спуск?\n",
        "2. Как обучается и делает предсказания логистическая регрессия?\n",
        "3. Что такое tf-idf и зачем это нужно?\n",
        "4. Что такое кросс-валидация? Как производится кросс-валидация классом StratifiedKFold?\n",
        "\n",
        "И, конечно же, многие другие вопросы. Аналогичные вопросы будут и к другим пунктам лабы.\n",
        "\n"
      ]
    },
    {
      "cell_type": "code",
      "metadata": {
        "id": "T_74fMJ320Oa"
      },
      "source": [
        "from sklearn.pipeline import Pipeline\n",
        "from sklearn.linear_model import SGDClassifier\n",
        "from sklearn.metrics import make_scorer\n",
        "from sklearn.model_selection import cross_val_predict, StratifiedKFold, RandomizedSearchCV"
      ],
      "execution_count": null,
      "outputs": []
    },
    {
      "cell_type": "code",
      "metadata": {
        "id": "YN-ZQko9Cc--"
      },
      "source": [
        "def custom_f1_score(y_true, y_pred):\n",
        "    thresholds = np.arange(0.4, 0.7, 0.05)\n",
        "\n",
        "    f1_result = np.array([f1_score(y_true, y_pred >= thres) for thres in thresholds])\n",
        "\n",
        "    return np.max(f1_result)"
      ],
      "execution_count": null,
      "outputs": []
    },
    {
      "cell_type": "code",
      "metadata": {
        "id": "RO8YzeLBGZuq"
      },
      "source": [
        "thres_f1_score = make_scorer(custom_f1_score, greater_is_better=True)"
      ],
      "execution_count": null,
      "outputs": []
    },
    {
      "cell_type": "code",
      "metadata": {
        "id": "uHU01GrbCnvt"
      },
      "source": [
        "param_grid = {\n",
        "    'clf__alpha': [1e-5, 1e-6, 1e-7],\n",
        "    'clf__l1_ratio': [0.1, 0.3, 0.5],\n",
        "    'clf__average': [50, 100, 1000]\n",
        "}"
      ],
      "execution_count": null,
      "outputs": []
    },
    {
      "cell_type": "code",
      "metadata": {
        "id": "Msy_qfzP20Ob"
      },
      "source": [
        "vect = TfidfVectorizer(stop_words='english')\n",
        "clf = SGDClassifier(loss='modified_huber', penalty='elasticnet', shuffle=True, n_jobs=-1, random_state=42, \n",
        "                    class_weight={0: true_class_weight, 1: 1-true_class_weight})\n",
        "model = Pipeline([('vect', vect), ('clf', clf)])\n",
        "\n",
        "estimator = RandomizedSearchCV(model, param_grid, scoring=thres_f1_score, n_jobs=-1, n_iter=20,\n",
        "                               cv=StratifiedKFold(5), random_state=42, verbose=1)"
      ],
      "execution_count": null,
      "outputs": []
    },
    {
      "cell_type": "code",
      "metadata": {
        "colab": {
          "base_uri": "https://localhost:8080/"
        },
        "id": "hfSdOFeVSKyY",
        "outputId": "b1cffef8-f107-448d-aa24-f5988be86502"
      },
      "source": [
        "estimator.fit(df.question_text.values, df.target.values)"
      ],
      "execution_count": null,
      "outputs": [
        {
          "output_type": "stream",
          "text": [
            "Fitting 5 folds for each of 20 candidates, totalling 100 fits\n"
          ],
          "name": "stdout"
        },
        {
          "output_type": "stream",
          "text": [
            "[Parallel(n_jobs=-1)]: Using backend LokyBackend with 2 concurrent workers.\n",
            "[Parallel(n_jobs=-1)]: Done  46 tasks      | elapsed: 15.8min\n",
            "[Parallel(n_jobs=-1)]: Done 100 out of 100 | elapsed: 36.5min finished\n"
          ],
          "name": "stderr"
        },
        {
          "output_type": "execute_result",
          "data": {
            "text/plain": [
              "RandomizedSearchCV(cv=StratifiedKFold(n_splits=5, random_state=None, shuffle=False),\n",
              "                   error_score=nan,\n",
              "                   estimator=Pipeline(memory=None,\n",
              "                                      steps=[('vect',\n",
              "                                              TfidfVectorizer(analyzer='word',\n",
              "                                                              binary=False,\n",
              "                                                              decode_error='strict',\n",
              "                                                              dtype=<class 'numpy.float64'>,\n",
              "                                                              encoding='utf-8',\n",
              "                                                              input='content',\n",
              "                                                              lowercase=True,\n",
              "                                                              max_df=1.0,\n",
              "                                                              max_features=None,\n",
              "                                                              min_df=1,\n",
              "                                                              ngram_range=(1,\n",
              "                                                                           1),\n",
              "                                                              norm='...\n",
              "                                                            tol=0.001,\n",
              "                                                            validation_fraction=0.1,\n",
              "                                                            verbose=0,\n",
              "                                                            warm_start=False))],\n",
              "                                      verbose=False),\n",
              "                   iid='deprecated', n_iter=20, n_jobs=-1,\n",
              "                   param_distributions={'clf__alpha': [1e-05, 1e-06, 1e-07],\n",
              "                                        'clf__average': [50, 100, 1000],\n",
              "                                        'clf__l1_ratio': [0.1, 0.3, 0.5]},\n",
              "                   pre_dispatch='2*n_jobs', random_state=42, refit=True,\n",
              "                   return_train_score=False,\n",
              "                   scoring=make_scorer(custom_f1_score), verbose=1)"
            ]
          },
          "metadata": {
            "tags": []
          },
          "execution_count": 279
        }
      ]
    },
    {
      "cell_type": "code",
      "metadata": {
        "colab": {
          "base_uri": "https://localhost:8080/"
        },
        "id": "-rF26cCgcMF7",
        "outputId": "54e6e8d0-6d84-4132-de51-6034e60528e3"
      },
      "source": [
        "estimator.best_params_"
      ],
      "execution_count": null,
      "outputs": [
        {
          "output_type": "execute_result",
          "data": {
            "text/plain": [
              "{'clf__alpha': 1e-07, 'clf__average': 100, 'clf__l1_ratio': 0.1}"
            ]
          },
          "metadata": {
            "tags": []
          },
          "execution_count": 281
        }
      ]
    },
    {
      "cell_type": "code",
      "metadata": {
        "colab": {
          "base_uri": "https://localhost:8080/"
        },
        "id": "Cw1ImAA4cTdE",
        "outputId": "681ee2dc-c2eb-4d23-97bc-6af723450fc3"
      },
      "source": [
        "estimator.best_score_"
      ],
      "execution_count": null,
      "outputs": [
        {
          "output_type": "execute_result",
          "data": {
            "text/plain": [
              "0.5586043054547251"
            ]
          },
          "metadata": {
            "tags": []
          },
          "execution_count": 282
        }
      ]
    },
    {
      "cell_type": "code",
      "metadata": {
        "id": "ZxPwq9iRceK7"
      },
      "source": [
        "clf = SGDClassifier(loss='modified_huber', penalty='elasticnet', alpha=1e-7, average=100, l1_ratio=0.1,\n",
        "                    shuffle=True, n_jobs=-1, random_state=42, \n",
        "                    class_weight={0: true_class_weight, 1: 1-true_class_weight})\n",
        "model = Pipeline([('vect', vect), ('clf', clf)])"
      ],
      "execution_count": null,
      "outputs": []
    },
    {
      "cell_type": "code",
      "metadata": {
        "colab": {
          "base_uri": "https://localhost:8080/"
        },
        "id": "Hr3rE7wJ20Ob",
        "outputId": "d499cb19-9440-43c6-a8d2-00ac42e343d3"
      },
      "source": [
        "%%time\n",
        "preds = cross_val_predict(model, df.question_text.values, df.target.values,\n",
        "                          cv=StratifiedKFold(5), n_jobs=-1, \n",
        "                          method='predict_proba')[:, 1]"
      ],
      "execution_count": null,
      "outputs": [
        {
          "output_type": "stream",
          "text": [
            "CPU times: user 4.04 s, sys: 634 ms, total: 4.67 s\n",
            "Wall time: 2min 29s\n"
          ],
          "name": "stdout"
        }
      ]
    },
    {
      "cell_type": "markdown",
      "metadata": {
        "id": "6bWAQSBG20Ob"
      },
      "source": [
        "В соревновании результаты ранжируются по метрике F1 (обязательно спрошу ее формулу!!). Но мы локально будет считать также roc_auc_score и делать classification_report (Не забудьте указать либо подобрать решающую границу перед подачей предсказаний в эту функцию)"
      ]
    },
    {
      "cell_type": "code",
      "metadata": {
        "id": "f7-fgx_c20Oc"
      },
      "source": [
        "from sklearn.metrics import roc_auc_score, classification_report, f1_score"
      ],
      "execution_count": null,
      "outputs": []
    },
    {
      "cell_type": "code",
      "metadata": {
        "id": "b9xx1HSjPSpx"
      },
      "source": [
        "def print_result(target, preds):\n",
        "    thresholds = np.arange(0.1, 0.95, 0.05)\n",
        "    f1_result = np.array([f1_score(target, preds >= thres) for thres in thresholds]) \n",
        "\n",
        "    plt.figure(figsize=(10, 8))\n",
        "    plt.title('Threshold/F1-score results')\n",
        "    plt.xlabel('Threshold')\n",
        "    plt.ylabel('F1-score')\n",
        "    plt.plot(thresholds, f1_result)\n",
        "    plt.show()\n",
        "\n",
        "    best_threshold = thresholds[np.argmax(f1_result)]\n",
        "    print(f'ROC-AUC score: {roc_auc_score(target, preds)}\\n'\n",
        "            f'Best threshold for F1-score: {best_threshold}\\n' \n",
        "            f'F1-score: {np.max(f1_result)}')\n",
        "    print('\\n')\n",
        "    print(classification_report(target, preds >= best_threshold))"
      ],
      "execution_count": null,
      "outputs": []
    },
    {
      "cell_type": "code",
      "metadata": {
        "colab": {
          "base_uri": "https://localhost:8080/",
          "height": 748
        },
        "id": "8nLAHSnZQFNM",
        "outputId": "c84e0764-9cf5-4a5e-aa03-9f8352ab8311"
      },
      "source": [
        "print_result(df.target.values, preds)"
      ],
      "execution_count": null,
      "outputs": [
        {
          "output_type": "display_data",
          "data": {
            "image/png": "[encoded data removed]",
            "text/plain": [
              "<Figure size 720x576 with 1 Axes>"
            ]
          },
          "metadata": {
            "tags": [],
            "needs_background": "light"
          }
        },
        {
          "output_type": "stream",
          "text": [
            "ROC-AUC score: 0.9050811364801654\n",
            "Best threshold for F1-score: 0.6500000000000001\n",
            "F1-score: 0.5885368023126529\n",
            "\n",
            "\n",
            "              precision    recall  f1-score   support\n",
            "\n",
            "           0       0.98      0.96      0.97   1225312\n",
            "           1       0.53      0.66      0.59     80810\n",
            "\n",
            "    accuracy                           0.94   1306122\n",
            "   macro avg       0.76      0.81      0.78   1306122\n",
            "weighted avg       0.95      0.94      0.95   1306122\n",
            "\n"
          ],
          "name": "stdout"
        }
      ]
    },
    {
      "cell_type": "markdown",
      "metadata": {
        "id": "3pFaSoVk20Oc"
      },
      "source": [
        "# Часть 1.4 Объяснение предсказаний при помощи eli5"
      ]
    },
    {
      "cell_type": "markdown",
      "metadata": {
        "id": "5r2RgPJh20Oc"
      },
      "source": [
        "Используйте функционал eli5, чтобы посмотреть, как работает ваша модель, сделайте выводы. Для этого прочтите соответствующий туториал на странице https://eli5.readthedocs.io/en/latest/tutorials/sklearn-text.html \n",
        "\n",
        "Тем, кто больше любит видосы, можно посмотреть выступление от одного из авторов библиотеки https://www.youtube.com/watch?v=9vYkwD0feb4\n",
        "\n",
        "Спрашивать буду обязательно, так что разобраться придется."
      ]
    },
    {
      "cell_type": "code",
      "metadata": {
        "colab": {
          "base_uri": "https://localhost:8080/"
        },
        "id": "YICU3oLzkQ06",
        "outputId": "9dd8b4b7-dc58-4ddf-e805-9695c4f3a394"
      },
      "source": [
        "%pip install eli5"
      ],
      "execution_count": null,
      "outputs": [
        {
          "output_type": "stream",
          "text": [
            "Collecting eli5\n",
            "\u001b[?25l  Downloading https://files.pythonhosted.org/packages/d1/54/04cab6e1c0ae535bec93f795d8403fdf6caf66fa5a6512263202dbb14ea6/eli5-0.11.0-py2.py3-none-any.whl (106kB)\n",
            "\r\u001b[K     |███                             | 10kB 6.0MB/s eta 0:00:01\r\u001b[K     |██████▏                         | 20kB 9.8MB/s eta 0:00:01\r\u001b[K     |█████████▎                      | 30kB 13.3MB/s eta 0:00:01\r\u001b[K     |████████████▍                   | 40kB 16.1MB/s eta 0:00:01\r\u001b[K     |███████████████▌                | 51kB 8.6MB/s eta 0:00:01\r\u001b[K     |██████████████████▌             | 61kB 8.1MB/s eta 0:00:01\r\u001b[K     |█████████████████████▋          | 71kB 9.1MB/s eta 0:00:01\r\u001b[K     |████████████████████████▊       | 81kB 8.6MB/s eta 0:00:01\r\u001b[K     |███████████████████████████▉    | 92kB 9.0MB/s eta 0:00:01\r\u001b[K     |███████████████████████████████ | 102kB 8.2MB/s eta 0:00:01\r\u001b[K     |████████████████████████████████| 112kB 8.2MB/s \n",
            "\u001b[?25hRequirement already satisfied: jinja2 in /usr/local/lib/python3.7/dist-packages (from eli5) (2.11.3)\n",
            "Requirement already satisfied: numpy>=1.9.0 in /usr/local/lib/python3.7/dist-packages (from eli5) (1.19.5)\n",
            "Requirement already satisfied: scikit-learn>=0.20 in /usr/local/lib/python3.7/dist-packages (from eli5) (0.22.2.post1)\n",
            "Requirement already satisfied: tabulate>=0.7.7 in /usr/local/lib/python3.7/dist-packages (from eli5) (0.8.9)\n",
            "Requirement already satisfied: six in /usr/local/lib/python3.7/dist-packages (from eli5) (1.15.0)\n",
            "Requirement already satisfied: graphviz in /usr/local/lib/python3.7/dist-packages (from eli5) (0.10.1)\n",
            "Requirement already satisfied: scipy in /usr/local/lib/python3.7/dist-packages (from eli5) (1.4.1)\n",
            "Requirement already satisfied: attrs>16.0.0 in /usr/local/lib/python3.7/dist-packages (from eli5) (21.2.0)\n",
            "Requirement already satisfied: MarkupSafe>=0.23 in /usr/local/lib/python3.7/dist-packages (from jinja2->eli5) (2.0.1)\n",
            "Requirement already satisfied: joblib>=0.11 in /usr/local/lib/python3.7/dist-packages (from scikit-learn>=0.20->eli5) (1.0.1)\n",
            "Installing collected packages: eli5\n",
            "Successfully installed eli5-0.11.0\n"
          ],
          "name": "stdout"
        }
      ]
    },
    {
      "cell_type": "code",
      "metadata": {
        "colab": {
          "base_uri": "https://localhost:8080/"
        },
        "id": "KbA7PsYxkM72",
        "outputId": "2533b4bc-b1f4-42a8-b89f-b2435542e969"
      },
      "source": [
        "import eli5.formatters.as_dataframe as eli_df\n",
        "import eli5"
      ],
      "execution_count": null,
      "outputs": [
        {
          "output_type": "stream",
          "text": [
            "/usr/local/lib/python3.7/dist-packages/sklearn/utils/deprecation.py:144: FutureWarning: The sklearn.feature_selection.base module is  deprecated in version 0.22 and will be removed in version 0.24. The corresponding classes / functions should instead be imported from sklearn.feature_selection. Anything that cannot be imported from sklearn.feature_selection is now part of the private API.\n",
            "  warnings.warn(message, FutureWarning)\n"
          ],
          "name": "stderr"
        }
      ]
    },
    {
      "cell_type": "code",
      "metadata": {
        "colab": {
          "base_uri": "https://localhost:8080/"
        },
        "id": "LelpCp_ikmUi",
        "outputId": "6bb53503-f749-4a58-e9a4-2dacaac9e142"
      },
      "source": [
        "model.fit(df.question_text, df.target)"
      ],
      "execution_count": null,
      "outputs": [
        {
          "output_type": "execute_result",
          "data": {
            "text/plain": [
              "Pipeline(memory=None,\n",
              "         steps=[('vect',\n",
              "                 TfidfVectorizer(analyzer='word', binary=False,\n",
              "                                 decode_error='strict',\n",
              "                                 dtype=<class 'numpy.float64'>,\n",
              "                                 encoding='utf-8', input='content',\n",
              "                                 lowercase=True, max_df=1.0, max_features=None,\n",
              "                                 min_df=1, ngram_range=(1, 1), norm='l2',\n",
              "                                 preprocessor=None, smooth_idf=True,\n",
              "                                 stop_words='english', strip_accents=None,\n",
              "                                 sublinear_tf=False,\n",
              "                                 token_patte...\n",
              "                               class_weight={0: 0.06187017751787352,\n",
              "                                             1: 0.9381298224821265},\n",
              "                               early_stopping=False, epsilon=0.1, eta0=0.0,\n",
              "                               fit_intercept=True, l1_ratio=0.1,\n",
              "                               learning_rate='optimal', loss='modified_huber',\n",
              "                               max_iter=1000, n_iter_no_change=5, n_jobs=-1,\n",
              "                               penalty='elasticnet', power_t=0.5,\n",
              "                               random_state=42, shuffle=True, tol=0.001,\n",
              "                               validation_fraction=0.1, verbose=0,\n",
              "                               warm_start=False))],\n",
              "         verbose=False)"
            ]
          },
          "metadata": {
            "tags": []
          },
          "execution_count": 294
        }
      ]
    },
    {
      "cell_type": "markdown",
      "metadata": {
        "id": "YHLLw9dgeSag"
      },
      "source": [
        "### Вклад отдельных токенов"
      ]
    },
    {
      "cell_type": "code",
      "metadata": {
        "colab": {
          "base_uri": "https://localhost:8080/",
          "height": 1000
        },
        "id": "478yaSQkkXhl",
        "outputId": "98b28aa3-d5f1-4642-9132-d9acd89f4a58"
      },
      "source": [
        "eli_df.explain_weights_df(model, vec=vect, top=50, \n",
        "                            target_names=df.target)"
      ],
      "execution_count": null,
      "outputs": [
        {
          "output_type": "execute_result",
          "data": {
            "text/html": [
              "<div>\n",
              "<style scoped>\n",
              "    .dataframe tbody tr th:only-of-type {\n",
              "        vertical-align: middle;\n",
              "    }\n",
              "\n",
              "    .dataframe tbody tr th {\n",
              "        vertical-align: top;\n",
              "    }\n",
              "\n",
              "    .dataframe thead th {\n",
              "        text-align: right;\n",
              "    }\n",
              "</style>\n",
              "<table border=\"1\" class=\"dataframe\">\n",
              "  <thead>\n",
              "    <tr style=\"text-align: right;\">\n",
              "      <th></th>\n",
              "      <th>target</th>\n",
              "      <th>feature</th>\n",
              "      <th>weight</th>\n",
              "    </tr>\n",
              "  </thead>\n",
              "  <tbody>\n",
              "    <tr>\n",
              "      <th>0</th>\n",
              "      <td>1</td>\n",
              "      <td>castrated</td>\n",
              "      <td>10.235521</td>\n",
              "    </tr>\n",
              "    <tr>\n",
              "      <th>1</th>\n",
              "      <td>1</td>\n",
              "      <td>castrate</td>\n",
              "      <td>9.270671</td>\n",
              "    </tr>\n",
              "    <tr>\n",
              "      <th>2</th>\n",
              "      <td>1</td>\n",
              "      <td>castration</td>\n",
              "      <td>9.088417</td>\n",
              "    </tr>\n",
              "    <tr>\n",
              "      <th>3</th>\n",
              "      <td>1</td>\n",
              "      <td>castrating</td>\n",
              "      <td>7.158599</td>\n",
              "    </tr>\n",
              "    <tr>\n",
              "      <th>4</th>\n",
              "      <td>1</td>\n",
              "      <td>rejuvalex</td>\n",
              "      <td>7.097304</td>\n",
              "    </tr>\n",
              "    <tr>\n",
              "      <th>5</th>\n",
              "      <td>1</td>\n",
              "      <td>horlaxen</td>\n",
              "      <td>6.858467</td>\n",
              "    </tr>\n",
              "    <tr>\n",
              "      <th>6</th>\n",
              "      <td>1</td>\n",
              "      <td>liberals</td>\n",
              "      <td>6.585434</td>\n",
              "    </tr>\n",
              "    <tr>\n",
              "      <th>7</th>\n",
              "      <td>1</td>\n",
              "      <td>idiots</td>\n",
              "      <td>6.367512</td>\n",
              "    </tr>\n",
              "    <tr>\n",
              "      <th>8</th>\n",
              "      <td>1</td>\n",
              "      <td>democrats</td>\n",
              "      <td>6.284043</td>\n",
              "    </tr>\n",
              "    <tr>\n",
              "      <th>9</th>\n",
              "      <td>1</td>\n",
              "      <td>drumpf</td>\n",
              "      <td>6.112847</td>\n",
              "    </tr>\n",
              "    <tr>\n",
              "      <th>10</th>\n",
              "      <td>1</td>\n",
              "      <td>alabamians</td>\n",
              "      <td>6.060160</td>\n",
              "    </tr>\n",
              "    <tr>\n",
              "      <th>11</th>\n",
              "      <td>1</td>\n",
              "      <td>mcmuffin</td>\n",
              "      <td>6.029421</td>\n",
              "    </tr>\n",
              "    <tr>\n",
              "      <th>12</th>\n",
              "      <td>1</td>\n",
              "      <td>futurewins</td>\n",
              "      <td>5.932923</td>\n",
              "    </tr>\n",
              "    <tr>\n",
              "      <th>13</th>\n",
              "      <td>1</td>\n",
              "      <td>scumbags</td>\n",
              "      <td>5.879415</td>\n",
              "    </tr>\n",
              "    <tr>\n",
              "      <th>14</th>\n",
              "      <td>1</td>\n",
              "      <td>morons</td>\n",
              "      <td>5.876016</td>\n",
              "    </tr>\n",
              "    <tr>\n",
              "      <th>15</th>\n",
              "      <td>1</td>\n",
              "      <td>muslims</td>\n",
              "      <td>5.853768</td>\n",
              "    </tr>\n",
              "    <tr>\n",
              "      <th>16</th>\n",
              "      <td>1</td>\n",
              "      <td>holoprosencephaly</td>\n",
              "      <td>5.845559</td>\n",
              "    </tr>\n",
              "    <tr>\n",
              "      <th>17</th>\n",
              "      <td>1</td>\n",
              "      <td>courtly</td>\n",
              "      <td>5.842566</td>\n",
              "    </tr>\n",
              "    <tr>\n",
              "      <th>18</th>\n",
              "      <td>1</td>\n",
              "      <td>indians</td>\n",
              "      <td>5.839511</td>\n",
              "    </tr>\n",
              "    <tr>\n",
              "      <th>19</th>\n",
              "      <td>1</td>\n",
              "      <td>cunt</td>\n",
              "      <td>5.729608</td>\n",
              "    </tr>\n",
              "    <tr>\n",
              "      <th>20</th>\n",
              "      <td>1</td>\n",
              "      <td>hypercet</td>\n",
              "      <td>5.703871</td>\n",
              "    </tr>\n",
              "    <tr>\n",
              "      <th>21</th>\n",
              "      <td>1</td>\n",
              "      <td>crackheads</td>\n",
              "      <td>5.687454</td>\n",
              "    </tr>\n",
              "    <tr>\n",
              "      <th>22</th>\n",
              "      <td>1</td>\n",
              "      <td>babarians</td>\n",
              "      <td>5.670021</td>\n",
              "    </tr>\n",
              "    <tr>\n",
              "      <th>23</th>\n",
              "      <td>1</td>\n",
              "      <td>homosexuals</td>\n",
              "      <td>5.660255</td>\n",
              "    </tr>\n",
              "    <tr>\n",
              "      <th>24</th>\n",
              "      <td>1</td>\n",
              "      <td>somalians</td>\n",
              "      <td>5.609825</td>\n",
              "    </tr>\n",
              "    <tr>\n",
              "      <th>25</th>\n",
              "      <td>1</td>\n",
              "      <td>felten</td>\n",
              "      <td>5.548734</td>\n",
              "    </tr>\n",
              "    <tr>\n",
              "      <th>26</th>\n",
              "      <td>1</td>\n",
              "      <td>blacks</td>\n",
              "      <td>5.496849</td>\n",
              "    </tr>\n",
              "    <tr>\n",
              "      <th>27</th>\n",
              "      <td>1</td>\n",
              "      <td>ophthalmologists</td>\n",
              "      <td>5.490975</td>\n",
              "    </tr>\n",
              "    <tr>\n",
              "      <th>28</th>\n",
              "      <td>1</td>\n",
              "      <td>randwa</td>\n",
              "      <td>5.474918</td>\n",
              "    </tr>\n",
              "    <tr>\n",
              "      <th>29</th>\n",
              "      <td>1</td>\n",
              "      <td>feminists</td>\n",
              "      <td>5.433265</td>\n",
              "    </tr>\n",
              "    <tr>\n",
              "      <th>30</th>\n",
              "      <td>1</td>\n",
              "      <td>muskrat</td>\n",
              "      <td>5.405703</td>\n",
              "    </tr>\n",
              "    <tr>\n",
              "      <th>31</th>\n",
              "      <td>1</td>\n",
              "      <td>jews</td>\n",
              "      <td>5.400461</td>\n",
              "    </tr>\n",
              "    <tr>\n",
              "      <th>32</th>\n",
              "      <td>1</td>\n",
              "      <td>tamod</td>\n",
              "      <td>5.362340</td>\n",
              "    </tr>\n",
              "    <tr>\n",
              "      <th>33</th>\n",
              "      <td>1</td>\n",
              "      <td>incest</td>\n",
              "      <td>5.361426</td>\n",
              "    </tr>\n",
              "    <tr>\n",
              "      <th>34</th>\n",
              "      <td>1</td>\n",
              "      <td>auvela</td>\n",
              "      <td>5.360497</td>\n",
              "    </tr>\n",
              "    <tr>\n",
              "      <th>35</th>\n",
              "      <td>1</td>\n",
              "      <td>damns</td>\n",
              "      <td>5.329371</td>\n",
              "    </tr>\n",
              "    <tr>\n",
              "      <th>36</th>\n",
              "      <td>1</td>\n",
              "      <td>nihilists</td>\n",
              "      <td>5.319004</td>\n",
              "    </tr>\n",
              "    <tr>\n",
              "      <th>37</th>\n",
              "      <td>1</td>\n",
              "      <td>holoucast</td>\n",
              "      <td>5.315188</td>\n",
              "    </tr>\n",
              "    <tr>\n",
              "      <th>38</th>\n",
              "      <td>1</td>\n",
              "      <td>careongo</td>\n",
              "      <td>5.309975</td>\n",
              "    </tr>\n",
              "    <tr>\n",
              "      <th>39</th>\n",
              "      <td>1</td>\n",
              "      <td>shithole</td>\n",
              "      <td>5.272639</td>\n",
              "    </tr>\n",
              "    <tr>\n",
              "      <th>40</th>\n",
              "      <td>1</td>\n",
              "      <td>moron</td>\n",
              "      <td>5.267341</td>\n",
              "    </tr>\n",
              "    <tr>\n",
              "      <th>41</th>\n",
              "      <td>1</td>\n",
              "      <td>eskimos</td>\n",
              "      <td>5.253753</td>\n",
              "    </tr>\n",
              "    <tr>\n",
              "      <th>42</th>\n",
              "      <td>1</td>\n",
              "      <td>americans</td>\n",
              "      <td>5.237253</td>\n",
              "    </tr>\n",
              "    <tr>\n",
              "      <th>43</th>\n",
              "      <td>1</td>\n",
              "      <td>gays</td>\n",
              "      <td>5.235245</td>\n",
              "    </tr>\n",
              "    <tr>\n",
              "      <th>44</th>\n",
              "      <td>1</td>\n",
              "      <td>asphyxiating</td>\n",
              "      <td>5.229849</td>\n",
              "    </tr>\n",
              "    <tr>\n",
              "      <th>45</th>\n",
              "      <td>1</td>\n",
              "      <td>tamilians</td>\n",
              "      <td>5.221567</td>\n",
              "    </tr>\n",
              "    <tr>\n",
              "      <th>46</th>\n",
              "      <td>1</td>\n",
              "      <td>rape</td>\n",
              "      <td>5.208238</td>\n",
              "    </tr>\n",
              "    <tr>\n",
              "      <th>47</th>\n",
              "      <td>1</td>\n",
              "      <td>bretheren</td>\n",
              "      <td>5.198866</td>\n",
              "    </tr>\n",
              "    <tr>\n",
              "      <th>48</th>\n",
              "      <td>1</td>\n",
              "      <td>tennessean</td>\n",
              "      <td>5.195224</td>\n",
              "    </tr>\n",
              "    <tr>\n",
              "      <th>49</th>\n",
              "      <td>1</td>\n",
              "      <td>brats</td>\n",
              "      <td>5.185218</td>\n",
              "    </tr>\n",
              "  </tbody>\n",
              "</table>\n",
              "</div>"
            ],
            "text/plain": [
              "    target            feature     weight\n",
              "0        1          castrated  10.235521\n",
              "1        1           castrate   9.270671\n",
              "2        1         castration   9.088417\n",
              "3        1         castrating   7.158599\n",
              "4        1          rejuvalex   7.097304\n",
              "5        1           horlaxen   6.858467\n",
              "6        1           liberals   6.585434\n",
              "7        1             idiots   6.367512\n",
              "8        1          democrats   6.284043\n",
              "9        1             drumpf   6.112847\n",
              "10       1         alabamians   6.060160\n",
              "11       1           mcmuffin   6.029421\n",
              "12       1         futurewins   5.932923\n",
              "13       1           scumbags   5.879415\n",
              "14       1             morons   5.876016\n",
              "15       1            muslims   5.853768\n",
              "16       1  holoprosencephaly   5.845559\n",
              "17       1            courtly   5.842566\n",
              "18       1            indians   5.839511\n",
              "19       1               cunt   5.729608\n",
              "20       1           hypercet   5.703871\n",
              "21       1         crackheads   5.687454\n",
              "22       1          babarians   5.670021\n",
              "23       1        homosexuals   5.660255\n",
              "24       1          somalians   5.609825\n",
              "25       1             felten   5.548734\n",
              "26       1             blacks   5.496849\n",
              "27       1   ophthalmologists   5.490975\n",
              "28       1             randwa   5.474918\n",
              "29       1          feminists   5.433265\n",
              "30       1            muskrat   5.405703\n",
              "31       1               jews   5.400461\n",
              "32       1              tamod   5.362340\n",
              "33       1             incest   5.361426\n",
              "34       1             auvela   5.360497\n",
              "35       1              damns   5.329371\n",
              "36       1          nihilists   5.319004\n",
              "37       1          holoucast   5.315188\n",
              "38       1           careongo   5.309975\n",
              "39       1           shithole   5.272639\n",
              "40       1              moron   5.267341\n",
              "41       1            eskimos   5.253753\n",
              "42       1          americans   5.237253\n",
              "43       1               gays   5.235245\n",
              "44       1       asphyxiating   5.229849\n",
              "45       1          tamilians   5.221567\n",
              "46       1               rape   5.208238\n",
              "47       1          bretheren   5.198866\n",
              "48       1         tennessean   5.195224\n",
              "49       1              brats   5.185218"
            ]
          },
          "metadata": {
            "tags": []
          },
          "execution_count": 295
        }
      ]
    },
    {
      "cell_type": "markdown",
      "metadata": {
        "id": "NLQU8KXUeigY"
      },
      "source": [
        "### Принятие решения"
      ]
    },
    {
      "cell_type": "code",
      "metadata": {
        "colab": {
          "base_uri": "https://localhost:8080/",
          "height": 168
        },
        "id": "acEtWK-G0qZg",
        "outputId": "05d05ddf-672b-4b65-b39f-f88ea27db31a"
      },
      "source": [
        "eli5.show_prediction(clf, df.question_text[400], vec=vect, target_names=df.target)"
      ],
      "execution_count": null,
      "outputs": [
        {
          "output_type": "execute_result",
          "data": {
            "text/html": [
              "\n",
              "    <style>\n",
              "    table.eli5-weights tr:hover {\n",
              "        filter: brightness(85%);\n",
              "    }\n",
              "</style>\n",
              "\n",
              "\n",
              "\n",
              "    \n",
              "\n",
              "    \n",
              "\n",
              "    \n",
              "\n",
              "    \n",
              "\n",
              "    \n",
              "\n",
              "    \n",
              "\n",
              "\n",
              "    \n",
              "\n",
              "    \n",
              "\n",
              "    \n",
              "\n",
              "    \n",
              "        \n",
              "\n",
              "    \n",
              "\n",
              "        \n",
              "\n",
              "        \n",
              "    \n",
              "        \n",
              "        \n",
              "    \n",
              "        <p style=\"margin-bottom: 0.5em; margin-top: 0em\">\n",
              "            <b>\n",
              "    \n",
              "        y=1\n",
              "    \n",
              "</b>\n",
              "\n",
              "    \n",
              "    (probability <b>1.000</b>, score <b>1.569</b>)\n",
              "\n",
              "top features\n",
              "        </p>\n",
              "    \n",
              "    <table class=\"eli5-weights\"\n",
              "           style=\"border-collapse: collapse; border: none; margin-top: 0em; table-layout: auto; margin-bottom: 2em;\">\n",
              "        <thead>\n",
              "        <tr style=\"border: none;\">\n",
              "            \n",
              "                <th style=\"padding: 0 1em 0 0.5em; text-align: right; border: none;\" title=\"Feature contribution already accounts for the feature value (for linear models, contribution = weight * feature value), and the sum of feature contributions is equal to the score or, for some classifiers, to the probability. Feature values are shown if &quot;show_feature_values&quot; is True.\">\n",
              "                    Contribution<sup>?</sup>\n",
              "                </th>\n",
              "            \n",
              "            <th style=\"padding: 0 0.5em 0 0.5em; text-align: left; border: none;\">Feature</th>\n",
              "            \n",
              "        </tr>\n",
              "        </thead>\n",
              "        <tbody>\n",
              "        \n",
              "            <tr style=\"background-color: hsl(120, 100.00%, 80.00%); border: none;\">\n",
              "    <td style=\"padding: 0 1em 0 0.5em; text-align: right; border: none;\">\n",
              "        +4.227\n",
              "    </td>\n",
              "    <td style=\"padding: 0 0.5em 0 0.5em; text-align: left; border: none;\">\n",
              "        Highlighted in text (sum)\n",
              "    </td>\n",
              "    \n",
              "</tr>\n",
              "        \n",
              "        \n",
              "\n",
              "        \n",
              "        \n",
              "            <tr style=\"background-color: hsl(0, 100.00%, 85.54%); border: none;\">\n",
              "    <td style=\"padding: 0 1em 0 0.5em; text-align: right; border: none;\">\n",
              "        -2.659\n",
              "    </td>\n",
              "    <td style=\"padding: 0 0.5em 0 0.5em; text-align: left; border: none;\">\n",
              "        &lt;BIAS&gt;\n",
              "    </td>\n",
              "    \n",
              "</tr>\n",
              "        \n",
              "\n",
              "        </tbody>\n",
              "    </table>\n",
              "\n",
              "    \n",
              "\n",
              "\n",
              "\n",
              "    <p style=\"margin-bottom: 2.5em; margin-top:-0.5em;\">\n",
              "        <span style=\"opacity: 0.80\">why </span><span style=\"background-color: hsl(120, 100.00%, 99.87%); opacity: 0.80\" title=\"0.001\">did</span><span style=\"opacity: 0.80\"> the </span><span style=\"background-color: hsl(120, 100.00%, 76.58%); opacity: 0.89\" title=\"1.020\">pope</span><span style=\"opacity: 0.80\"> </span><span style=\"background-color: hsl(0, 100.00%, 96.53%); opacity: 0.81\" title=\"-0.067\">say</span><span style=\"opacity: 0.80\"> that &quot;</span><span style=\"background-color: hsl(120, 100.00%, 60.00%); opacity: 1.00\" title=\"2.190\">muslims</span><span style=\"opacity: 0.80\"> are a </span><span style=\"background-color: hsl(120, 100.00%, 82.10%); opacity: 0.86\" title=\"0.694\">curse</span><span style=\"opacity: 0.80\"> to this </span><span style=\"background-color: hsl(120, 100.00%, 88.06%); opacity: 0.84\" title=\"0.389\">world</span><span style=\"opacity: 0.80\">&quot;?</span>\n",
              "    </p>\n",
              "\n",
              "\n",
              "    \n",
              "\n",
              "    \n",
              "\n",
              "    \n",
              "\n",
              "    \n",
              "\n",
              "\n",
              "    \n",
              "\n",
              "    \n",
              "\n",
              "    \n",
              "\n",
              "    \n",
              "\n",
              "    \n",
              "\n",
              "    \n",
              "\n",
              "\n",
              "    \n",
              "\n",
              "    \n",
              "\n",
              "    \n",
              "\n",
              "    \n",
              "\n",
              "    \n",
              "\n",
              "    \n",
              "\n",
              "\n",
              "\n"
            ],
            "text/plain": [
              "<IPython.core.display.HTML object>"
            ]
          },
          "metadata": {
            "tags": []
          },
          "execution_count": 307
        }
      ]
    },
    {
      "cell_type": "code",
      "metadata": {
        "colab": {
          "base_uri": "https://localhost:8080/",
          "height": 254
        },
        "id": "BcRvOt68z8Qk",
        "outputId": "2d272efc-d534-4a3a-e146-6393be1c3f34"
      },
      "source": [
        "eli_df.explain_prediction_df(clf, df.question_text[400], vec=vect, target_names=df.target)"
      ],
      "execution_count": null,
      "outputs": [
        {
          "output_type": "execute_result",
          "data": {
            "text/html": [
              "<div>\n",
              "<style scoped>\n",
              "    .dataframe tbody tr th:only-of-type {\n",
              "        vertical-align: middle;\n",
              "    }\n",
              "\n",
              "    .dataframe tbody tr th {\n",
              "        vertical-align: top;\n",
              "    }\n",
              "\n",
              "    .dataframe thead th {\n",
              "        text-align: right;\n",
              "    }\n",
              "</style>\n",
              "<table border=\"1\" class=\"dataframe\">\n",
              "  <thead>\n",
              "    <tr style=\"text-align: right;\">\n",
              "      <th></th>\n",
              "      <th>target</th>\n",
              "      <th>feature</th>\n",
              "      <th>weight</th>\n",
              "      <th>value</th>\n",
              "    </tr>\n",
              "  </thead>\n",
              "  <tbody>\n",
              "    <tr>\n",
              "      <th>0</th>\n",
              "      <td>1</td>\n",
              "      <td>muslims</td>\n",
              "      <td>2.190084</td>\n",
              "      <td>0.374132</td>\n",
              "    </tr>\n",
              "    <tr>\n",
              "      <th>1</th>\n",
              "      <td>1</td>\n",
              "      <td>pope</td>\n",
              "      <td>1.019693</td>\n",
              "      <td>0.549302</td>\n",
              "    </tr>\n",
              "    <tr>\n",
              "      <th>2</th>\n",
              "      <td>1</td>\n",
              "      <td>curse</td>\n",
              "      <td>0.694337</td>\n",
              "      <td>0.540374</td>\n",
              "    </tr>\n",
              "    <tr>\n",
              "      <th>3</th>\n",
              "      <td>1</td>\n",
              "      <td>world</td>\n",
              "      <td>0.389207</td>\n",
              "      <td>0.302416</td>\n",
              "    </tr>\n",
              "    <tr>\n",
              "      <th>4</th>\n",
              "      <td>1</td>\n",
              "      <td>did</td>\n",
              "      <td>0.000635</td>\n",
              "      <td>0.252917</td>\n",
              "    </tr>\n",
              "    <tr>\n",
              "      <th>5</th>\n",
              "      <td>1</td>\n",
              "      <td>say</td>\n",
              "      <td>-0.066504</td>\n",
              "      <td>0.332965</td>\n",
              "    </tr>\n",
              "    <tr>\n",
              "      <th>6</th>\n",
              "      <td>1</td>\n",
              "      <td>&lt;BIAS&gt;</td>\n",
              "      <td>-2.658537</td>\n",
              "      <td>1.000000</td>\n",
              "    </tr>\n",
              "  </tbody>\n",
              "</table>\n",
              "</div>"
            ],
            "text/plain": [
              "   target  feature    weight     value\n",
              "0       1  muslims  2.190084  0.374132\n",
              "1       1     pope  1.019693  0.549302\n",
              "2       1    curse  0.694337  0.540374\n",
              "3       1    world  0.389207  0.302416\n",
              "4       1      did  0.000635  0.252917\n",
              "5       1      say -0.066504  0.332965\n",
              "6       1   <BIAS> -2.658537  1.000000"
            ]
          },
          "metadata": {
            "tags": []
          },
          "execution_count": 308
        }
      ]
    },
    {
      "cell_type": "code",
      "metadata": {
        "colab": {
          "base_uri": "https://localhost:8080/",
          "height": 168
        },
        "id": "bcJ7GHEder-Y",
        "outputId": "3b3b0abc-16e8-4b9b-d8c7-188f3cbe03b8"
      },
      "source": [
        "eli5.show_prediction(clf, df.question_text[100], vec=vect, target_names=df.target)"
      ],
      "execution_count": null,
      "outputs": [
        {
          "output_type": "execute_result",
          "data": {
            "text/html": [
              "\n",
              "    <style>\n",
              "    table.eli5-weights tr:hover {\n",
              "        filter: brightness(85%);\n",
              "    }\n",
              "</style>\n",
              "\n",
              "\n",
              "\n",
              "    \n",
              "\n",
              "    \n",
              "\n",
              "    \n",
              "\n",
              "    \n",
              "\n",
              "    \n",
              "\n",
              "    \n",
              "\n",
              "\n",
              "    \n",
              "\n",
              "    \n",
              "\n",
              "    \n",
              "\n",
              "    \n",
              "        \n",
              "\n",
              "    \n",
              "\n",
              "        \n",
              "\n",
              "        \n",
              "    \n",
              "        \n",
              "        \n",
              "    \n",
              "        <p style=\"margin-bottom: 0.5em; margin-top: 0em\">\n",
              "            <b>\n",
              "    \n",
              "        y=0\n",
              "    \n",
              "</b>\n",
              "\n",
              "    \n",
              "    (probability <b>1.000</b>, score <b>-1.564</b>)\n",
              "\n",
              "top features\n",
              "        </p>\n",
              "    \n",
              "    <table class=\"eli5-weights\"\n",
              "           style=\"border-collapse: collapse; border: none; margin-top: 0em; table-layout: auto; margin-bottom: 2em;\">\n",
              "        <thead>\n",
              "        <tr style=\"border: none;\">\n",
              "            \n",
              "                <th style=\"padding: 0 1em 0 0.5em; text-align: right; border: none;\" title=\"Feature contribution already accounts for the feature value (for linear models, contribution = weight * feature value), and the sum of feature contributions is equal to the score or, for some classifiers, to the probability. Feature values are shown if &quot;show_feature_values&quot; is True.\">\n",
              "                    Contribution<sup>?</sup>\n",
              "                </th>\n",
              "            \n",
              "            <th style=\"padding: 0 0.5em 0 0.5em; text-align: left; border: none;\">Feature</th>\n",
              "            \n",
              "        </tr>\n",
              "        </thead>\n",
              "        <tbody>\n",
              "        \n",
              "            <tr style=\"background-color: hsl(120, 100.00%, 80.00%); border: none;\">\n",
              "    <td style=\"padding: 0 1em 0 0.5em; text-align: right; border: none;\">\n",
              "        +2.659\n",
              "    </td>\n",
              "    <td style=\"padding: 0 0.5em 0 0.5em; text-align: left; border: none;\">\n",
              "        &lt;BIAS&gt;\n",
              "    </td>\n",
              "    \n",
              "</tr>\n",
              "        \n",
              "        \n",
              "\n",
              "        \n",
              "        \n",
              "            <tr style=\"background-color: hsl(0, 100.00%, 89.25%); border: none;\">\n",
              "    <td style=\"padding: 0 1em 0 0.5em; text-align: right; border: none;\">\n",
              "        -1.094\n",
              "    </td>\n",
              "    <td style=\"padding: 0 0.5em 0 0.5em; text-align: left; border: none;\">\n",
              "        Highlighted in text (sum)\n",
              "    </td>\n",
              "    \n",
              "</tr>\n",
              "        \n",
              "\n",
              "        </tbody>\n",
              "    </table>\n",
              "\n",
              "    \n",
              "\n",
              "\n",
              "\n",
              "    <p style=\"margin-bottom: 2.5em; margin-top:-0.5em;\">\n",
              "        <span style=\"opacity: 0.80\">what do </span><span style=\"background-color: hsl(0, 100.00%, 67.79%); opacity: 0.95\" title=\"-0.513\">physicists</span><span style=\"opacity: 0.80\">, </span><span style=\"background-color: hsl(0, 100.00%, 63.00%); opacity: 0.98\" title=\"-0.626\">mathematicians</span><span style=\"opacity: 0.80\">, </span><span style=\"background-color: hsl(0, 100.00%, 86.83%); opacity: 0.84\" title=\"-0.143\">computer</span><span style=\"opacity: 0.80\"> </span><span style=\"background-color: hsl(0, 100.00%, 60.00%); opacity: 1.00\" title=\"-0.700\">scientists</span><span style=\"opacity: 0.80\"> and </span><span style=\"background-color: hsl(120, 100.00%, 81.93%); opacity: 0.86\" title=\"0.225\">philosophers</span><span style=\"opacity: 0.80\"> </span><span style=\"background-color: hsl(120, 100.00%, 71.32%); opacity: 0.92\" title=\"0.435\">think</span><span style=\"opacity: 0.80\"> of </span><span style=\"background-color: hsl(120, 100.00%, 88.96%); opacity: 0.83\" title=\"0.111\">david</span><span style=\"opacity: 0.80\"> </span><span style=\"background-color: hsl(120, 100.00%, 90.80%); opacity: 0.82\" title=\"0.086\">deutsch</span><span style=\"opacity: 0.80\">&#x27;s &#x27;</span><span style=\"background-color: hsl(0, 100.00%, 97.59%); opacity: 0.80\" title=\"-0.013\">constructor</span><span style=\"opacity: 0.80\"> </span><span style=\"background-color: hsl(120, 100.00%, 94.25%); opacity: 0.81\" title=\"0.044\">theory</span><span style=\"opacity: 0.80\">&#x27;?</span>\n",
              "    </p>\n",
              "\n",
              "\n",
              "    \n",
              "\n",
              "    \n",
              "\n",
              "    \n",
              "\n",
              "    \n",
              "\n",
              "\n",
              "    \n",
              "\n",
              "    \n",
              "\n",
              "    \n",
              "\n",
              "    \n",
              "\n",
              "    \n",
              "\n",
              "    \n",
              "\n",
              "\n",
              "    \n",
              "\n",
              "    \n",
              "\n",
              "    \n",
              "\n",
              "    \n",
              "\n",
              "    \n",
              "\n",
              "    \n",
              "\n",
              "\n",
              "\n"
            ],
            "text/plain": [
              "<IPython.core.display.HTML object>"
            ]
          },
          "metadata": {
            "tags": []
          },
          "execution_count": 311
        }
      ]
    },
    {
      "cell_type": "code",
      "metadata": {
        "colab": {
          "base_uri": "https://localhost:8080/",
          "height": 373
        },
        "id": "7kG-j7hAe1hI",
        "outputId": "f9060d16-24d7-47ea-ec4b-24163e0ce11e"
      },
      "source": [
        "eli_df.explain_prediction_df(clf, df.question_text[100], vec=vect, target_names=df.target)"
      ],
      "execution_count": null,
      "outputs": [
        {
          "output_type": "execute_result",
          "data": {
            "text/html": [
              "<div>\n",
              "<style scoped>\n",
              "    .dataframe tbody tr th:only-of-type {\n",
              "        vertical-align: middle;\n",
              "    }\n",
              "\n",
              "    .dataframe tbody tr th {\n",
              "        vertical-align: top;\n",
              "    }\n",
              "\n",
              "    .dataframe thead th {\n",
              "        text-align: right;\n",
              "    }\n",
              "</style>\n",
              "<table border=\"1\" class=\"dataframe\">\n",
              "  <thead>\n",
              "    <tr style=\"text-align: right;\">\n",
              "      <th></th>\n",
              "      <th>target</th>\n",
              "      <th>feature</th>\n",
              "      <th>weight</th>\n",
              "      <th>value</th>\n",
              "    </tr>\n",
              "  </thead>\n",
              "  <tbody>\n",
              "    <tr>\n",
              "      <th>0</th>\n",
              "      <td>0</td>\n",
              "      <td>&lt;BIAS&gt;</td>\n",
              "      <td>2.658537</td>\n",
              "      <td>1.000000</td>\n",
              "    </tr>\n",
              "    <tr>\n",
              "      <th>1</th>\n",
              "      <td>0</td>\n",
              "      <td>think</td>\n",
              "      <td>0.434914</td>\n",
              "      <td>0.169190</td>\n",
              "    </tr>\n",
              "    <tr>\n",
              "      <th>2</th>\n",
              "      <td>0</td>\n",
              "      <td>philosophers</td>\n",
              "      <td>0.224768</td>\n",
              "      <td>0.343559</td>\n",
              "    </tr>\n",
              "    <tr>\n",
              "      <th>3</th>\n",
              "      <td>0</td>\n",
              "      <td>david</td>\n",
              "      <td>0.111240</td>\n",
              "      <td>0.295035</td>\n",
              "    </tr>\n",
              "    <tr>\n",
              "      <th>4</th>\n",
              "      <td>0</td>\n",
              "      <td>deutsch</td>\n",
              "      <td>0.085660</td>\n",
              "      <td>0.424021</td>\n",
              "    </tr>\n",
              "    <tr>\n",
              "      <th>5</th>\n",
              "      <td>0</td>\n",
              "      <td>theory</td>\n",
              "      <td>0.043746</td>\n",
              "      <td>0.248188</td>\n",
              "    </tr>\n",
              "    <tr>\n",
              "      <th>6</th>\n",
              "      <td>0</td>\n",
              "      <td>constructor</td>\n",
              "      <td>-0.012650</td>\n",
              "      <td>0.400270</td>\n",
              "    </tr>\n",
              "    <tr>\n",
              "      <th>7</th>\n",
              "      <td>0</td>\n",
              "      <td>computer</td>\n",
              "      <td>-0.143092</td>\n",
              "      <td>0.214532</td>\n",
              "    </tr>\n",
              "    <tr>\n",
              "      <th>8</th>\n",
              "      <td>0</td>\n",
              "      <td>physicists</td>\n",
              "      <td>-0.513382</td>\n",
              "      <td>0.344443</td>\n",
              "    </tr>\n",
              "    <tr>\n",
              "      <th>9</th>\n",
              "      <td>0</td>\n",
              "      <td>mathematicians</td>\n",
              "      <td>-0.625975</td>\n",
              "      <td>0.345122</td>\n",
              "    </tr>\n",
              "    <tr>\n",
              "      <th>10</th>\n",
              "      <td>0</td>\n",
              "      <td>scientists</td>\n",
              "      <td>-0.699670</td>\n",
              "      <td>0.284457</td>\n",
              "    </tr>\n",
              "  </tbody>\n",
              "</table>\n",
              "</div>"
            ],
            "text/plain": [
              "    target         feature    weight     value\n",
              "0        0          <BIAS>  2.658537  1.000000\n",
              "1        0           think  0.434914  0.169190\n",
              "2        0    philosophers  0.224768  0.343559\n",
              "3        0           david  0.111240  0.295035\n",
              "4        0         deutsch  0.085660  0.424021\n",
              "5        0          theory  0.043746  0.248188\n",
              "6        0     constructor -0.012650  0.400270\n",
              "7        0        computer -0.143092  0.214532\n",
              "8        0      physicists -0.513382  0.344443\n",
              "9        0  mathematicians -0.625975  0.345122\n",
              "10       0      scientists -0.699670  0.284457"
            ]
          },
          "metadata": {
            "tags": []
          },
          "execution_count": 312
        }
      ]
    },
    {
      "cell_type": "markdown",
      "metadata": {
        "id": "UjOKgF1me8Np"
      },
      "source": [
        "Выше можно видеть, на основе чего модель приняла то или иное решение. Как правило, она очень уверена в тех ответах, где максимально много слов вносят позитивный или негативный оттенок в предложение."
      ]
    },
    {
      "cell_type": "markdown",
      "metadata": {
        "id": "CRLkei3u20Od"
      },
      "source": [
        "# Часть 1.5 Стемминг и лемматизация"
      ]
    },
    {
      "cell_type": "markdown",
      "metadata": {
        "id": "TeI8XTtt20Od"
      },
      "source": [
        "Проведите для текстов стемминг и лемматизацию. Поскольку это процесс не быстрый, лучше сохранить предобработанные тексты в отдельный столбец DataFrame. Обучите модель на стеммированных и лемматизированных данных, сравните размер словаря"
      ]
    },
    {
      "cell_type": "code",
      "metadata": {
        "id": "t2O9f22Z20Od"
      },
      "source": [
        "from nltk.stem import SnowballStemmer, WordNetLemmatizer, LancasterStemmer"
      ],
      "execution_count": null,
      "outputs": []
    },
    {
      "cell_type": "code",
      "metadata": {
        "id": "71uly6Bm20Oe"
      },
      "source": [
        "from functools import lru_cache"
      ],
      "execution_count": null,
      "outputs": []
    },
    {
      "cell_type": "code",
      "metadata": {
        "id": "K4_xdIdj20Oe"
      },
      "source": [
        "# эта вспомогательная функция поможет вам чуть быстрее пройтись по всему тексту\n",
        "# обратите внимание, что лемматизация будет в основном работать только для слов в нижнем регистре!\n",
        "\n",
        "LEMMATIZER = WordNetLemmatizer()\n",
        "\n",
        "@lru_cache(maxsize=2048)\n",
        "def lemmatize_word(word):\n",
        "    parts = ['a','v','n','r']\n",
        "    for part in parts:\n",
        "        temp = LEMMATIZER.lemmatize(word, part)\n",
        "        if temp != word:\n",
        "            return temp\n",
        "    return word    "
      ],
      "execution_count": null,
      "outputs": []
    },
    {
      "cell_type": "code",
      "metadata": {
        "id": "r0mS5yf120Oe"
      },
      "source": [
        "stemmer = SnowballStemmer('english')"
      ],
      "execution_count": null,
      "outputs": []
    },
    {
      "cell_type": "code",
      "metadata": {
        "colab": {
          "base_uri": "https://localhost:8080/"
        },
        "id": "7uHez2EL20Of",
        "outputId": "ea5eab56-2378-4c36-bfa7-9e4db35afe72"
      },
      "source": [
        "print(lemmatize_word('having'))\n",
        "print(stemmer.stem('having'))"
      ],
      "execution_count": null,
      "outputs": [
        {
          "output_type": "stream",
          "text": [
            "have\n",
            "have\n"
          ],
          "name": "stdout"
        }
      ]
    },
    {
      "cell_type": "code",
      "metadata": {
        "colab": {
          "base_uri": "https://localhost:8080/"
        },
        "id": "zpi-jOVG20Of",
        "outputId": "b20308b8-921d-4b1a-8e8d-8666331a5265"
      },
      "source": [
        "print(stemmer.stem('tolerant'))\n",
        "print(stemmer.stem('tolerable'))"
      ],
      "execution_count": null,
      "outputs": [
        {
          "output_type": "stream",
          "text": [
            "toler\n",
            "toler\n"
          ],
          "name": "stdout"
        }
      ]
    },
    {
      "cell_type": "code",
      "metadata": {
        "id": "ef14rTHw3q7d"
      },
      "source": [
        "tokenized = [sklearn_tokenizer(sent) for sent in df.question_text]"
      ],
      "execution_count": null,
      "outputs": []
    },
    {
      "cell_type": "code",
      "metadata": {
        "id": "mfzEHD4_3Ef5"
      },
      "source": [
        "def lemmatize_data(tokenized):\n",
        "    for sent in tokenized:\n",
        "        lemmatized_words_list = [lemmatize_word(word.lower()) for word in sent]\n",
        "\n",
        "        yield ' '.join(lemmatized_words_list)"
      ],
      "execution_count": null,
      "outputs": []
    },
    {
      "cell_type": "code",
      "metadata": {
        "id": "Agtmstll68Ny"
      },
      "source": [
        "def stemming_data(tokenized):\n",
        "    for sent in tokenized:\n",
        "        stem_words_list = [stemmer.stem(word.lower()) for word in sent]\n",
        "\n",
        "        yield ' '.join(stem_words_list)"
      ],
      "execution_count": null,
      "outputs": []
    },
    {
      "cell_type": "code",
      "metadata": {
        "id": "PQO1bMwZ5dxA"
      },
      "source": [
        "lemmatized = list(lemmatize_data(tokenized))\n",
        "stemmed = list(stemming_data(tokenized))"
      ],
      "execution_count": null,
      "outputs": []
    },
    {
      "cell_type": "code",
      "metadata": {
        "id": "8kTsdknv7MwV"
      },
      "source": [
        "df['lemmatized_text'] = lemmatized\n",
        "df['stemmed_text'] = stemmed"
      ],
      "execution_count": null,
      "outputs": []
    },
    {
      "cell_type": "code",
      "metadata": {
        "id": "vkLafBl46QBj"
      },
      "source": [
        "df.to_csv('train_mod.csv', index=False)"
      ],
      "execution_count": null,
      "outputs": []
    },
    {
      "cell_type": "code",
      "metadata": {
        "colab": {
          "base_uri": "https://localhost:8080/"
        },
        "id": "jmAkqZk6893I",
        "outputId": "518a1d50-5636-425a-d7cb-d5e025ce2d73"
      },
      "source": [
        "df.loc[0:5, ['question_text', 'lemmatized_text', 'stemmed_text']].values"
      ],
      "execution_count": null,
      "outputs": [
        {
          "output_type": "execute_result",
          "data": {
            "text/plain": [
              "array([['How did Quebec nationalists see their province as a nation in the 1960s?',\n",
              "        'how do quebec nationalist see their province a nation in the 1960s',\n",
              "        'how did quebec nationalist see their provinc as nation in the 1960s'],\n",
              "       ['Do you have an adopted dog, how would you encourage people to adopt and not shop?',\n",
              "        'do you have an adopt dog how would you encourage people to adopt and not shop',\n",
              "        'do you have an adopt dog how would you encourag peopl to adopt and not shop'],\n",
              "       ['Why does velocity affect time? Does velocity affect space geometry?',\n",
              "        'why do velocity affect time do velocity affect space geometry',\n",
              "        'whi doe veloc affect time doe veloc affect space geometri'],\n",
              "       ['How did Otto von Guericke used the Magdeburg hemispheres?',\n",
              "        'how do otto von guericke use the magdeburg hemisphere',\n",
              "        'how did otto von guerick use the magdeburg hemispher'],\n",
              "       ['Can I convert montra helicon D to a mountain bike by just changing the tyres?',\n",
              "        'can convert montra helicon to mountain bike by just change the tyre',\n",
              "        'can convert montra helicon to mountain bike by just chang the tyre'],\n",
              "       ['Is Gaza slowly becoming Auschwitz, Dachau or Treblinka for Palestinians?',\n",
              "        'be gaza slowly become auschwitz dachau or treblinka for palestinian',\n",
              "        'is gaza slowli becom auschwitz dachau or treblinka for palestinian']],\n",
              "      dtype=object)"
            ]
          },
          "metadata": {
            "tags": []
          },
          "execution_count": 22
        }
      ]
    },
    {
      "cell_type": "code",
      "metadata": {
        "id": "zGNgEXhZEloK"
      },
      "source": [
        "vect_l = TfidfVectorizer(stop_words='english').fit(df.lemmatized_text)\n",
        "vect_s = TfidfVectorizer(stop_words='english').fit(df.stemmed_text)"
      ],
      "execution_count": null,
      "outputs": []
    },
    {
      "cell_type": "markdown",
      "metadata": {
        "id": "E11Jj9ogFjO8"
      },
      "source": [
        "## Размеры словарей с леммингом и стеммингом"
      ]
    },
    {
      "cell_type": "code",
      "metadata": {
        "colab": {
          "base_uri": "https://localhost:8080/"
        },
        "id": "LyCAv4dlFM4N",
        "outputId": "7ca5a6f3-efa6-4483-d0e5-455d7dee495a"
      },
      "source": [
        "len(vect_l.get_feature_names())"
      ],
      "execution_count": null,
      "outputs": [
        {
          "output_type": "execute_result",
          "data": {
            "text/plain": [
              "172041"
            ]
          },
          "metadata": {
            "tags": []
          },
          "execution_count": 105
        }
      ]
    },
    {
      "cell_type": "code",
      "metadata": {
        "colab": {
          "base_uri": "https://localhost:8080/"
        },
        "id": "ZyuVAlPFFVqy",
        "outputId": "d8c2d897-7c79-4571-d8de-a0b46029bb71"
      },
      "source": [
        "len(vect_s.get_feature_names())"
      ],
      "execution_count": null,
      "outputs": [
        {
          "output_type": "execute_result",
          "data": {
            "text/plain": [
              "153163"
            ]
          },
          "metadata": {
            "tags": []
          },
          "execution_count": 106
        }
      ]
    },
    {
      "cell_type": "markdown",
      "metadata": {
        "id": "yqRhBOrbAOt-"
      },
      "source": [
        "## Обучение (лемматизированные данные)"
      ]
    },
    {
      "cell_type": "code",
      "metadata": {
        "id": "E1dihnORAHKF"
      },
      "source": [
        "clf = SGDClassifier(loss='modified_huber', penalty='elasticnet', alpha=1e-7, average=100, l1_ratio=0.1,\n",
        "                    shuffle=True, n_jobs=-1, random_state=42, \n",
        "                    class_weight={0: true_class_weight, 1: 1-true_class_weight})\n",
        "model = Pipeline([('vect', vect), ('clf', clf)])"
      ],
      "execution_count": null,
      "outputs": []
    },
    {
      "cell_type": "code",
      "metadata": {
        "colab": {
          "base_uri": "https://localhost:8080/"
        },
        "id": "thUtyvZPAWNf",
        "outputId": "88bd99e5-c6db-422e-d0d2-01b2d56e9bf5"
      },
      "source": [
        "%%time\n",
        "preds = cross_val_predict(model, df.lemmatized_text.values, df.target.values,\n",
        "                          cv=StratifiedKFold(5), n_jobs=-1, \n",
        "                          method='predict_proba')[:, 1]"
      ],
      "execution_count": null,
      "outputs": [
        {
          "output_type": "stream",
          "text": [
            "CPU times: user 3.96 s, sys: 325 ms, total: 4.29 s\n",
            "Wall time: 2min 37s\n"
          ],
          "name": "stdout"
        }
      ]
    },
    {
      "cell_type": "code",
      "metadata": {
        "colab": {
          "base_uri": "https://localhost:8080/",
          "height": 748
        },
        "id": "fc94k0-mT0gi",
        "outputId": "1dd216b2-ade7-4675-efa9-cf0cb45790e2"
      },
      "source": [
        "print_result(df.target.values, preds)"
      ],
      "execution_count": null,
      "outputs": [
        {
          "output_type": "display_data",
          "data": {
            "image/png": "[encoded data removed]",
            "text/plain": [
              "<Figure size 720x576 with 1 Axes>"
            ]
          },
          "metadata": {
            "tags": [],
            "needs_background": "light"
          }
        },
        {
          "output_type": "stream",
          "text": [
            "ROC-AUC score: 0.9049167245163279\n",
            "Best threshold for F1-score: 0.6000000000000002\n",
            "F1-score: 0.5805437103123685\n",
            "\n",
            "\n",
            "              precision    recall  f1-score   support\n",
            "\n",
            "           0       0.98      0.96      0.97   1225312\n",
            "           1       0.52      0.66      0.58     80810\n",
            "\n",
            "    accuracy                           0.94   1306122\n",
            "   macro avg       0.75      0.81      0.77   1306122\n",
            "weighted avg       0.95      0.94      0.94   1306122\n",
            "\n"
          ],
          "name": "stdout"
        }
      ]
    },
    {
      "cell_type": "markdown",
      "metadata": {
        "id": "xHjmesh2BhEQ"
      },
      "source": [
        "## Обучение (стемминг)"
      ]
    },
    {
      "cell_type": "code",
      "metadata": {
        "id": "FGohgZ8mBmhi"
      },
      "source": [
        "clf = SGDClassifier(loss='modified_huber', penalty='elasticnet', alpha=1e-7, average=100, l1_ratio=0.1,\n",
        "                    shuffle=True, n_jobs=-1, random_state=42, \n",
        "                    class_weight={0: true_class_weight, 1: 1-true_class_weight})\n",
        "model = Pipeline([('vect', vect), ('clf', clf)])"
      ],
      "execution_count": null,
      "outputs": []
    },
    {
      "cell_type": "code",
      "metadata": {
        "colab": {
          "base_uri": "https://localhost:8080/"
        },
        "id": "LbT0ioHvBnXF",
        "outputId": "35daae43-9531-430d-efcc-6253882fb676"
      },
      "source": [
        "%%time\n",
        "preds = cross_val_predict(model, df.stemmed_text.values, df.target.values,\n",
        "                          cv=StratifiedKFold(5), n_jobs=-1, \n",
        "                          method='predict_proba')[:, 1]"
      ],
      "execution_count": null,
      "outputs": [
        {
          "output_type": "stream",
          "text": [
            "CPU times: user 3.87 s, sys: 293 ms, total: 4.16 s\n",
            "Wall time: 2min 33s\n"
          ],
          "name": "stdout"
        }
      ]
    },
    {
      "cell_type": "code",
      "metadata": {
        "colab": {
          "base_uri": "https://localhost:8080/",
          "height": 748
        },
        "id": "6cUqxDSdUs3R",
        "outputId": "33ffaeed-b980-4447-a292-3798db1957d7"
      },
      "source": [
        "print_result(df.target.values, preds)"
      ],
      "execution_count": null,
      "outputs": [
        {
          "output_type": "display_data",
          "data": {
            "image/png": "[encoded data removed]",
            "text/plain": [
              "<Figure size 720x576 with 1 Axes>"
            ]
          },
          "metadata": {
            "tags": [],
            "needs_background": "light"
          }
        },
        {
          "output_type": "stream",
          "text": [
            "ROC-AUC score: 0.9045224715792435\n",
            "Best threshold for F1-score: 0.6500000000000001\n",
            "F1-score: 0.5803287306567343\n",
            "\n",
            "\n",
            "              precision    recall  f1-score   support\n",
            "\n",
            "           0       0.98      0.96      0.97   1225312\n",
            "           1       0.53      0.64      0.58     80810\n",
            "\n",
            "    accuracy                           0.94   1306122\n",
            "   macro avg       0.75      0.80      0.77   1306122\n",
            "weighted avg       0.95      0.94      0.95   1306122\n",
            "\n"
          ],
          "name": "stdout"
        }
      ]
    },
    {
      "cell_type": "markdown",
      "metadata": {
        "id": "cgaQ9yMR20Of"
      },
      "source": [
        "# Часть 1.6 Оптимизация модели"
      ]
    },
    {
      "cell_type": "markdown",
      "metadata": {
        "id": "eq0mmOPG20Of"
      },
      "source": [
        "Подберите с помощью GridSearch или RandomizedSearch хорошие параметры вашей модели. Когда вы делаете сетку для пайплайна параметры надо называть так как у внутреннего класса, добавляя названия соответствующего этапа перед ними. Например:"
      ]
    },
    {
      "cell_type": "markdown",
      "metadata": {
        "id": "wgFdf-Ut_rPc"
      },
      "source": [
        "Попробуйте разные функции ошибок для SGD. Например hinge (внутри получится svm, нельзя будет предсказывать вероятности), modified_huber - комбинация l1 и l2 ошибки для классификации (упоминалась на одной из прошлых лекций). \n",
        "Разную предобработку, параметры, подберите порог принятия решения.\n",
        "\n",
        "Попробуйте уменьшать размер словаря путем комбинации лемматизации (или стемминга) и увеличения min_df. Проанализируйте, как меняется размер словаря, а также качество модели."
      ]
    },
    {
      "cell_type": "code",
      "metadata": {
        "id": "ASywvoYV20Og"
      },
      "source": [
        "param_grid = {\n",
        "    'clf__loss': ['modified_huber', 'hinge'],\n",
        "    'vect__min_df': [25, 50],\n",
        "    'vect__vocabulary': [vect_l.get_feature_names(), vect_s.get_feature_names()]\n",
        "}"
      ],
      "execution_count": null,
      "outputs": []
    },
    {
      "cell_type": "code",
      "metadata": {
        "id": "PfIyDXZt-zZ8"
      },
      "source": [
        "vect = TfidfVectorizer(stop_words='english', lowercase=True)\n",
        "clf = SGDClassifier(penalty='elasticnet', shuffle=True, n_jobs=-1, random_state=42, l1_ratio=0.1, alpha=1e-7,\n",
        "                    class_weight={0: true_class_weight, 1: 1-true_class_weight}, average=10)\n",
        "model = Pipeline([('vect', vect), ('clf', clf)])\n",
        "\n",
        "estimator = RandomizedSearchCV(model, param_grid, scoring=thres_f1_score, n_jobs=-1, n_iter=5,\n",
        "                               cv=StratifiedKFold(5), random_state=42, verbose=1)"
      ],
      "execution_count": null,
      "outputs": []
    },
    {
      "cell_type": "code",
      "metadata": {
        "colab": {
          "base_uri": "https://localhost:8080/"
        },
        "id": "Urc1l0Gl_evD",
        "outputId": "108d4a85-ea45-4675-d951-eca58317f924"
      },
      "source": [
        "%%time\n",
        "estimator.fit(df.question_text.values, df.target.values)"
      ],
      "execution_count": null,
      "outputs": [
        {
          "output_type": "stream",
          "text": [
            "Fitting 5 folds for each of 5 candidates, totalling 25 fits\n"
          ],
          "name": "stdout"
        },
        {
          "output_type": "stream",
          "text": [
            "[Parallel(n_jobs=-1)]: Using backend LokyBackend with 2 concurrent workers.\n",
            "[Parallel(n_jobs=-1)]: Done  25 out of  25 | elapsed: 13.2min finished\n"
          ],
          "name": "stderr"
        },
        {
          "output_type": "stream",
          "text": [
            "CPU times: user 1min 48s, sys: 3.08 s, total: 1min 51s\n",
            "Wall time: 14min 7s\n"
          ],
          "name": "stdout"
        },
        {
          "output_type": "execute_result",
          "data": {
            "text/plain": [
              "RandomizedSearchCV(cv=StratifiedKFold(n_splits=5, random_state=None, shuffle=False),\n",
              "                   error_score=nan,\n",
              "                   estimator=Pipeline(memory=None,\n",
              "                                      steps=[('vect',\n",
              "                                              TfidfVectorizer(analyzer='word',\n",
              "                                                              binary=False,\n",
              "                                                              decode_error='strict',\n",
              "                                                              dtype=<class 'numpy.float64'>,\n",
              "                                                              encoding='utf-8',\n",
              "                                                              input='content',\n",
              "                                                              lowercase=True,\n",
              "                                                              max_df=1.0,\n",
              "                                                              max_features=None,\n",
              "                                                              min_df=1,\n",
              "                                                              ngram_range=(1,\n",
              "                                                                           1),\n",
              "                                                              norm='...\n",
              "                                                              '0000000000000025',\n",
              "                                                              '000000000001',\n",
              "                                                              '00000000001',\n",
              "                                                              '000000001',\n",
              "                                                              '00000001',\n",
              "                                                              '0000001',\n",
              "                                                              '000000199',\n",
              "                                                              '00000030',\n",
              "                                                              '00000100',\n",
              "                                                              '000009808',\n",
              "                                                              '000009820',\n",
              "                                                              '000009920',\n",
              "                                                              '00001',\n",
              "                                                              '00001cm',\n",
              "                                                              '0000218',\n",
              "                                                              '000036', '0001',\n",
              "                                                              '000125', '0002',\n",
              "                                                              '0002673', ...]]},\n",
              "                   pre_dispatch='2*n_jobs', random_state=42, refit=True,\n",
              "                   return_train_score=False,\n",
              "                   scoring=make_scorer(custom_f1_score), verbose=1)"
            ]
          },
          "metadata": {
            "tags": []
          },
          "execution_count": 129
        }
      ]
    },
    {
      "cell_type": "code",
      "metadata": {
        "colab": {
          "base_uri": "https://localhost:8080/"
        },
        "id": "Q21AfVmni_jP",
        "outputId": "6a7b1b18-d199-4e4f-cfe9-927dad416b05"
      },
      "source": [
        "estimator.best_params_['vect__vocabulary'] == vect_l.get_feature_names()"
      ],
      "execution_count": null,
      "outputs": [
        {
          "output_type": "execute_result",
          "data": {
            "text/plain": [
              "True"
            ]
          },
          "metadata": {
            "tags": []
          },
          "execution_count": 137
        }
      ]
    },
    {
      "cell_type": "code",
      "metadata": {
        "id": "ZHgQWeouje31"
      },
      "source": [
        "vect = TfidfVectorizer(stop_words='english', lowercase=True, min_df=25, vocabulary=vect_l.get_feature_names())\n",
        "clf = SGDClassifier(loss='modified_huber', penalty='elasticnet', shuffle=True, n_jobs=-1, random_state=42, l1_ratio=0.1, alpha=1e-7,\n",
        "                    class_weight={0: true_class_weight, 1: 1-true_class_weight}, average=10)\n",
        "model = Pipeline([('vect', vect), ('clf', clf)])"
      ],
      "execution_count": null,
      "outputs": []
    },
    {
      "cell_type": "code",
      "metadata": {
        "id": "fOlRTs2qjH37"
      },
      "source": [
        "preds = cross_val_predict(model, df.question_text.values, df.target.values,\n",
        "                          cv=StratifiedKFold(5), n_jobs=-1, \n",
        "                          method='predict_proba')[:, 1]"
      ],
      "execution_count": null,
      "outputs": []
    },
    {
      "cell_type": "code",
      "metadata": {
        "colab": {
          "base_uri": "https://localhost:8080/",
          "height": 748
        },
        "id": "7FNyzQshV2Tw",
        "outputId": "09b6d0e1-d323-4220-ba94-9df38ac521df"
      },
      "source": [
        "print_result(df.target.values, preds)"
      ],
      "execution_count": null,
      "outputs": [
        {
          "output_type": "display_data",
          "data": {
            "image/png": "[encoded data removed]",
            "text/plain": [
              "<Figure size 720x576 with 1 Axes>"
            ]
          },
          "metadata": {
            "tags": [],
            "needs_background": "light"
          }
        },
        {
          "output_type": "stream",
          "text": [
            "ROC-AUC score: 0.8674427126898208\n",
            "Best threshold for F1-score: 0.8000000000000002\n",
            "F1-score: 0.4646733716965775\n",
            "\n",
            "\n",
            "              precision    recall  f1-score   support\n",
            "\n",
            "           0       0.97      0.96      0.96   1225312\n",
            "           1       0.43      0.51      0.46     80810\n",
            "\n",
            "    accuracy                           0.93   1306122\n",
            "   macro avg       0.70      0.73      0.71   1306122\n",
            "weighted avg       0.93      0.93      0.93   1306122\n",
            "\n"
          ],
          "name": "stdout"
        }
      ]
    },
    {
      "cell_type": "markdown",
      "metadata": {
        "id": "aohpsNl420Og"
      },
      "source": [
        "# Часть 2 (На 10). Тематическое моделирование"
      ]
    },
    {
      "cell_type": "markdown",
      "metadata": {
        "id": "z0OxKtXZ20Oh"
      },
      "source": [
        "Используйте либо https://scikit-learn.org/stable/modules/generated/sklearn.decomposition.LatentDirichletAllocation.html, либо модели из gensim для тематического моделирования на этих текстах. Посмотрите на полученные темы, попытайтесь их интерпретировать. Используйте распределение тем для документа в качестве набора признаков, описывающих его. Обучите модель на этих признаках и сравните с tf-idf.\n",
        "\n",
        "Поскольку задание на 10 тут не будет никакой дополнительной информацию. Те, кто делают, пусть пишут мне сообщения и задают вопросы на паре. Отвечу и помогу точечно."
      ]
    },
    {
      "cell_type": "code",
      "metadata": {
        "id": "U8tXjnAVF_4M"
      },
      "source": [
        "import gensim.corpora\n",
        "from gensim.models import LdaMulticore"
      ],
      "execution_count": null,
      "outputs": []
    },
    {
      "cell_type": "code",
      "metadata": {
        "id": "Boh60gn2qsNP"
      },
      "source": [
        "def lemmatize_data(tokenized):\n",
        "    for sent in tokenized:\n",
        "        lemmatized_words_list = [lemmatize_word(word.lower()) for word in sent\n",
        "                                if word.lower() not in stopwords.words('english')]\n",
        "\n",
        "    yield lemmatized_words_list"
      ],
      "execution_count": null,
      "outputs": []
    },
    {
      "cell_type": "code",
      "metadata": {
        "id": "iR_8-on2GTCp"
      },
      "source": [
        "processed_docs = list(lemmatize_data(tokenized[:500]))"
      ],
      "execution_count": null,
      "outputs": []
    },
    {
      "cell_type": "code",
      "metadata": {
        "id": "E3FG_zJmGJdj"
      },
      "source": [
        "dictionary = gensim.corpora.Dictionary(processed_docs)"
      ],
      "execution_count": null,
      "outputs": []
    },
    {
      "cell_type": "code",
      "metadata": {
        "id": "f84mRkpeGp_w"
      },
      "source": [
        "bow_corpus = [dictionary.doc2bow(doc) for doc in processed_docs]"
      ],
      "execution_count": null,
      "outputs": []
    },
    {
      "cell_type": "code",
      "metadata": {
        "colab": {
          "base_uri": "https://localhost:8080/"
        },
        "id": "IidVd1v4G7Iz",
        "outputId": "9390667f-f6a0-43be-9802-df2d18be584f"
      },
      "source": [
        "processed_docs[1], bow_corpus[1]"
      ],
      "execution_count": null,
      "outputs": [
        {
          "output_type": "execute_result",
          "data": {
            "text/plain": [
              "(['adopt', 'dog', 'would', 'encourage', 'people', 'adopt', 'shop'],\n",
              " [(6, 2), (7, 1), (8, 1), (9, 1), (10, 1), (11, 1)])"
            ]
          },
          "metadata": {
            "tags": []
          },
          "execution_count": 88
        }
      ]
    },
    {
      "cell_type": "code",
      "metadata": {
        "id": "HcwliF38HWni"
      },
      "source": [
        "model = LdaMulticore(bow_corpus, num_topics=10, passes=10, id2word=dictionary, workers=4, random_state=42)"
      ],
      "execution_count": null,
      "outputs": []
    },
    {
      "cell_type": "code",
      "metadata": {
        "colab": {
          "base_uri": "https://localhost:8080/"
        },
        "id": "g6E9-iQRHp0_",
        "outputId": "3b728167-3a15-4404-c3ba-687e67ae733a"
      },
      "source": [
        "for idx, topic in model.print_topics(-1):\n",
        "    print(f'Topic: {idx} \\nWords: {topic}\\n')"
      ],
      "execution_count": null,
      "outputs": [
        {
          "output_type": "stream",
          "text": [
            "Topic: 0 \n",
            "Words: 0.010*\"like\" + 0.009*\"way\" + 0.009*\"best\" + 0.007*\"start\" + 0.007*\"change\" + 0.005*\"happen\" + 0.005*\"iphone\" + 0.005*\"go\" + 0.005*\"make\" + 0.005*\"good\"\n",
            "\n",
            "Topic: 1 \n",
            "Words: 0.017*\"know\" + 0.013*\"get\" + 0.008*\"feel\" + 0.008*\"time\" + 0.006*\"ask\" + 0.006*\"need\" + 0.006*\"become\" + 0.006*\"space\" + 0.006*\"native\" + 0.004*\"someone\"\n",
            "\n",
            "Topic: 2 \n",
            "Words: 0.010*\"use\" + 0.010*\"think\" + 0.010*\"best\" + 0.008*\"way\" + 0.008*\"good\" + 0.008*\"happen\" + 0.007*\"create\" + 0.007*\"like\" + 0.007*\"go\" + 0.006*\"get\"\n",
            "\n",
            "Topic: 3 \n",
            "Words: 0.015*\"good\" + 0.015*\"use\" + 0.010*\"one\" + 0.008*\"book\" + 0.008*\"give\" + 0.006*\"best\" + 0.006*\"mean\" + 0.006*\"ever\" + 0.006*\"time\" + 0.006*\"buy\"\n",
            "\n",
            "Topic: 4 \n",
            "Words: 0.009*\"time\" + 0.007*\"people\" + 0.007*\"power\" + 0.007*\"come\" + 0.007*\"question\" + 0.007*\"india\" + 0.005*\"place\" + 0.005*\"want\" + 0.005*\"business\" + 0.005*\"see\"\n",
            "\n",
            "Topic: 5 \n",
            "Words: 0.009*\"muslim\" + 0.008*\"get\" + 0.007*\"woman\" + 0.007*\"make\" + 0.007*\"basic\" + 0.007*\"start\" + 0.007*\"marry\" + 0.007*\"good\" + 0.007*\"face\" + 0.007*\"charge\"\n",
            "\n",
            "Topic: 6 \n",
            "Words: 0.013*\"best\" + 0.011*\"many\" + 0.008*\"get\" + 0.006*\"good\" + 0.006*\"make\" + 0.006*\"ask\" + 0.006*\"wear\" + 0.006*\"investment\" + 0.006*\"shirt\" + 0.006*\"dog\"\n",
            "\n",
            "Topic: 7 \n",
            "Words: 0.013*\"use\" + 0.009*\"become\" + 0.007*\"time\" + 0.007*\"compare\" + 0.007*\"baby\" + 0.007*\"one\" + 0.007*\"worth\" + 0.005*\"know\" + 0.005*\"happen\" + 0.005*\"skin\"\n",
            "\n",
            "Topic: 8 \n",
            "Words: 0.009*\"life\" + 0.009*\"choose\" + 0.006*\"would\" + 0.006*\"become\" + 0.006*\"live\" + 0.006*\"find\" + 0.004*\"number\" + 0.004*\"thing\" + 0.004*\"website\" + 0.004*\"help\"\n",
            "\n",
            "Topic: 9 \n",
            "Words: 0.014*\"india\" + 0.009*\"much\" + 0.008*\"new\" + 0.008*\"way\" + 0.008*\"trump\" + 0.008*\"best\" + 0.008*\"people\" + 0.006*\"like\" + 0.006*\"good\" + 0.006*\"u\"\n",
            "\n"
          ],
          "name": "stdout"
        }
      ]
    },
    {
      "cell_type": "markdown",
      "metadata": {
        "id": "sghktj5i20Oh"
      },
      "source": [
        "# Часть 3. word2vec"
      ]
    },
    {
      "cell_type": "markdown",
      "metadata": {
        "id": "p7-hfAzp20Oh"
      },
      "source": [
        "В этой части вам надо будет пощупать вектора слов, поискать ассоциации, а потом использовать эти вектора как признаки для вашей модели.\n"
      ]
    },
    {
      "cell_type": "markdown",
      "metadata": {
        "id": "rfOPwj7020Oi"
      },
      "source": [
        "Скачайте векторы отсюда и загрузите их при помощи кода ниже.\n",
        "\n",
        "https://drive.google.com/uc?id=0B7XkCwpI5KDYNlNUTTlSS21pQmM&export=download\n",
        "\n",
        "\n",
        "Если ваш компьютер не позволяет загрузить большие векторы, воспользуйтесь векторами вот отсюда. Они будут в 10 раз меньше по размеру.\n",
        "\n",
        "https://github.com/eyaler/word2vec-slim/blob/master/GoogleNews-vectors-negative300-SLIM.bin.gz\n",
        "\n",
        "Для работы с большими векторами нужно как минимум 8 гб оперативной памяти. Если у вас их нет, то пользуйтесь маленькими, либо google colaboratory, либо kaggle kernels."
      ]
    },
    {
      "cell_type": "code",
      "metadata": {
        "id": "Lcc6msIS20Oi"
      },
      "source": [
        "from gensim.models import KeyedVectors"
      ],
      "execution_count": null,
      "outputs": []
    },
    {
      "cell_type": "code",
      "metadata": {
        "id": "p8voyeY-20Oi"
      },
      "source": [
        "w2v = KeyedVectors.load_word2vec_format('GoogleNews-vectors-negative300-SLIM.bin', binary=True)"
      ],
      "execution_count": null,
      "outputs": []
    },
    {
      "cell_type": "markdown",
      "metadata": {
        "id": "hEwCOXgT20Oj"
      },
      "source": [
        "# Задание 3.1 Знакомство с векторами"
      ]
    },
    {
      "cell_type": "markdown",
      "metadata": {
        "id": "ZjhDu3bu20Oj"
      },
      "source": [
        "Пощупайте векторы и найдите по крайней мере 2 **семантических** и 2 **синтаксических** аналогии"
      ]
    },
    {
      "cell_type": "code",
      "metadata": {
        "colab": {
          "base_uri": "https://localhost:8080/"
        },
        "id": "ul5Q0rXc20Oj",
        "outputId": "39960150-4a76-49db-e88b-1e20c7d15f8c"
      },
      "source": [
        "# вот так можно получить вектор слова\n",
        "w2v['Minsk']"
      ],
      "execution_count": null,
      "outputs": [
        {
          "output_type": "execute_result",
          "data": {
            "text/plain": [
              "array([ 2.46019829e-02,  5.92508493e-03,  5.04920259e-02,  1.43232480e-01,\n",
              "        3.37472223e-02, -1.09485257e-02,  1.61007736e-02, -2.00454635e-03,\n",
              "       -1.22108266e-01, -3.88028636e-03, -5.35833761e-02,  8.03750604e-02,\n",
              "        8.56561121e-03,  3.99299189e-02,  2.08666027e-02,  1.30094253e-02,\n",
              "       -6.38878718e-02, -1.31382318e-02, -2.52460130e-02, -4.55973931e-02,\n",
              "        7.57380426e-02, -6.31150305e-02,  3.86418565e-03, -1.24297971e-02,\n",
              "        3.47776711e-02, -1.06667627e-04, -6.85248896e-02, -1.90633163e-02,\n",
              "       -8.81034359e-02,  2.02225726e-02, -9.01643336e-02, -3.73537950e-02,\n",
              "       -4.04451452e-02,  2.17682458e-02,  4.45669405e-02,  2.27986965e-02,\n",
              "       -9.06795561e-02,  5.79627864e-02, -2.03674799e-03, -9.22252312e-02,\n",
              "        3.25879678e-02,  9.91807692e-03,  8.14055130e-02, -3.23303528e-02,\n",
              "       -4.66922444e-04, -1.31382318e-02,  9.01643373e-03, -1.25586037e-02,\n",
              "       -4.40517180e-02,  5.87356240e-02, -6.44030934e-03, -1.32026349e-03,\n",
              "        8.45133400e-07,  7.98598379e-02, -8.24359581e-02, -3.78690213e-02,\n",
              "       -1.09742872e-01, -4.68854532e-02, -1.04075402e-01, -6.85248896e-02,\n",
              "        4.71430644e-02, -1.61651764e-02,  5.66747226e-03, -3.94146927e-02,\n",
              "        5.61595000e-02, -4.07027565e-02,  2.00937651e-02,  2.58900449e-02,\n",
              "        3.91570814e-02,  2.35715322e-02, -8.24359581e-02, -7.05857947e-02,\n",
              "       -9.66046378e-03,  2.27986965e-02, -1.40141129e-01, -1.95785407e-02,\n",
              "        1.02014504e-01,  6.28574193e-02, -1.66159980e-02,  9.45920474e-04,\n",
              "       -6.05389103e-02, -1.26230061e-01,  1.17471248e-01,  1.72600299e-02,\n",
              "        5.74475601e-02,  1.83548825e-03, -1.28806187e-02, -6.31150305e-02,\n",
              "       -2.31851148e-03,  1.07166752e-01,  2.96254233e-02, -8.60425383e-02,\n",
              "        2.51172073e-02, -2.64052693e-02, -9.84079316e-02, -8.65577608e-02,\n",
              "        1.70024168e-02,  4.14755940e-02, -9.01643336e-02, -5.82203977e-02,\n",
              "       -5.35833761e-02,  2.39579510e-02, -2.76933312e-02,  5.89932352e-02,\n",
              "        2.67916881e-02, -1.70024168e-02,  5.82203977e-02, -6.24710042e-03,\n",
              "       -1.00984052e-01, -8.55273083e-02, -4.01875302e-02, -7.52228126e-02,\n",
              "        7.36771375e-02, -4.58550043e-02, -5.97660728e-02, -2.80797500e-02,\n",
              "        3.96723077e-02, -2.17682458e-02,  3.55505086e-02,  5.38409874e-02,\n",
              "       -1.64871924e-02, -3.23303528e-02, -8.44968632e-02, -6.00236841e-02,\n",
              "        1.26230061e-01,  2.58900449e-02, -3.76114063e-02,  1.28806189e-01,\n",
              "       -9.68622565e-02, -2.61476561e-02,  9.45920474e-04,  7.57380426e-02,\n",
              "        1.36534562e-02, -1.57143548e-02, -1.67448055e-02, -1.86768975e-02,\n",
              "       -3.45200598e-02, -2.31851134e-02, -7.93446153e-02, -2.93678120e-02,\n",
              "        4.48245555e-02,  3.07846796e-02,  1.07553173e-02,  4.86887395e-02,\n",
              "        2.48595942e-02,  6.25998080e-02, -1.94497351e-02,  9.53165814e-03,\n",
              "       -1.64871916e-01,  4.81735133e-02,  1.53536975e-01,  5.53866625e-02,\n",
              "        6.31150305e-02,  1.61651764e-02,  1.59719676e-01,  4.89463508e-02,\n",
              "       -8.30799900e-03,  4.48245555e-02,  4.97191884e-02,  7.62532651e-02,\n",
              "       -7.16162398e-02,  4.86887395e-02, -1.21077821e-02, -8.14055130e-02,\n",
              "        1.17986470e-01,  7.82497600e-03, -3.99299189e-02,  1.17471248e-01,\n",
              "       -2.22834703e-02,  7.41923675e-02, -4.97191884e-02, -9.63470265e-02,\n",
              "        3.23303528e-02,  3.58081199e-02, -3.27167735e-02, -2.75645237e-02,\n",
              "       -1.95785407e-02, -1.66932821e-01, -6.10541329e-02, -1.29321411e-01,\n",
              "        8.86186585e-02,  1.36534562e-02, -9.42861289e-02,  4.97191884e-02,\n",
              "        8.91338810e-02, -3.63233462e-02,  1.48127116e-02, -1.79040600e-02,\n",
              "        3.47776711e-02, -7.93446153e-02, -5.74475601e-02,  6.74944445e-02,\n",
              "        1.63523487e-06,  4.58550043e-02, -2.16394402e-02, -8.65577608e-02,\n",
              "       -7.72837102e-02, -3.14287096e-02, -2.09954083e-02, -7.26466924e-02,\n",
              "        2.47951923e-03,  3.28455791e-02, -4.01875302e-02,  2.07377970e-02,\n",
              "        2.37003397e-02, -1.07166752e-01,  7.62532651e-02,  3.52928974e-02,\n",
              "       -3.94146927e-02, -6.00236841e-02, -3.91570814e-02, -7.76057271e-03,\n",
              "        3.13965091e-03,  2.70492993e-02, -8.81034359e-02, -7.67684877e-02,\n",
              "       -3.29743847e-02,  6.64639920e-02,  6.33726418e-02, -2.98830364e-02,\n",
              "       -3.81266326e-02, -2.73069125e-02,  5.10072522e-02,  1.19789755e-02,\n",
              "        3.20727415e-02,  1.51347276e-02,  8.88762716e-03,  1.35890534e-02,\n",
              "        3.02694552e-02, -7.98598379e-02,  4.12179790e-02,  4.04451452e-02,\n",
              "       -3.12999040e-02, -7.67684877e-02, -5.30681498e-02,  5.53866625e-02,\n",
              "       -3.29743847e-02, -2.08666027e-02,  8.75882059e-02, -4.50821668e-02,\n",
              "       -3.37472223e-02, -9.59606096e-03, -7.16162398e-02, -2.60188505e-02,\n",
              "       -3.63233462e-02,  7.21314698e-02, -3.55505086e-02, -1.22365877e-02,\n",
              "       -3.99299189e-02, -9.68622565e-02,  2.61476561e-02,  8.96491110e-02,\n",
              "        6.41454831e-02,  3.55505086e-02,  7.24534830e-03,  1.62295792e-02,\n",
              "        8.19207355e-02, -3.05914693e-03,  2.92390045e-02, -1.90633163e-02,\n",
              "       -9.20964219e-03, -6.88308093e-04,  3.34896110e-02,  8.44968632e-02,\n",
              "        1.21077821e-01,  2.67272838e-03, -5.64171113e-02, -6.49183169e-02,\n",
              "       -1.62295792e-02, -2.58900449e-02, -3.60657349e-02,  2.46019829e-02,\n",
              "        4.35364917e-02, -2.12530214e-02, -3.81266326e-02,  5.10072522e-02,\n",
              "        3.15575153e-02,  6.59487695e-02,  1.89345106e-02,  2.89813932e-02,\n",
              "        2.02225726e-02,  5.28105386e-02,  5.10072522e-02,  3.25879678e-02,\n",
              "        2.12530210e-03, -3.91570814e-02, -6.95553422e-02,  6.69792220e-02,\n",
              "       -2.44731754e-02,  6.98773563e-03, -8.60425383e-02,  4.32788804e-02,\n",
              "        2.60188505e-02,  1.46195022e-02,  7.41923675e-02,  1.04590625e-01,\n",
              "       -7.11010173e-02,  7.26466924e-02,  1.01756891e-02,  9.32556838e-02],\n",
              "      dtype=float32)"
            ]
          },
          "metadata": {
            "tags": []
          },
          "execution_count": 97
        }
      ]
    },
    {
      "cell_type": "markdown",
      "metadata": {
        "id": "LcXLhHA020Oj"
      },
      "source": [
        "Вот так работают аналогии"
      ]
    },
    {
      "cell_type": "code",
      "metadata": {
        "colab": {
          "base_uri": "https://localhost:8080/"
        },
        "id": "tDvB4hmT20Ok",
        "outputId": "39d145fe-db7d-4840-c989-6bb5859bdbf9"
      },
      "source": [
        "# vec(Minsk) - vec(Belarus) + vec(Russia) ~= vec(Moscow)\n",
        "w2v.most_similar(positive=['Minsk', 'Russia'], negative=['Belarus'])"
      ],
      "execution_count": null,
      "outputs": [
        {
          "output_type": "execute_result",
          "data": {
            "text/plain": [
              "[('Moscow', 0.790582537651062),\n",
              " ('Tbilisi', 0.6598106622695923),\n",
              " ('Kyiv', 0.65132737159729),\n",
              " ('Kremlin', 0.6477817296981812),\n",
              " ('Kiev', 0.6403968930244446),\n",
              " ('Baku', 0.6180801391601562),\n",
              " ('Vilnius', 0.6057641506195068),\n",
              " ('Putin', 0.5993436574935913),\n",
              " ('Russian', 0.5992746353149414),\n",
              " ('Irkutsk', 0.591408371925354)]"
            ]
          },
          "metadata": {
            "tags": []
          },
          "execution_count": 98
        }
      ]
    },
    {
      "cell_type": "markdown",
      "metadata": {
        "id": "_vwIAOSaQgzC"
      },
      "source": [
        "## Семантические"
      ]
    },
    {
      "cell_type": "code",
      "metadata": {
        "colab": {
          "base_uri": "https://localhost:8080/"
        },
        "id": "MzJwNiOkQf-2",
        "outputId": "683ef891-0e68-4e41-d451-472b7db72a59"
      },
      "source": [
        "w2v.most_similar(positive=['Queen', 'Man'], negative=['Woman'])"
      ],
      "execution_count": null,
      "outputs": [
        {
          "output_type": "execute_result",
          "data": {
            "text/plain": [
              "[('King', 0.5305259227752686),\n",
              " ('Royal', 0.42858511209487915),\n",
              " ('Princes', 0.4225396513938904),\n",
              " ('Princess', 0.40732985734939575),\n",
              " ('Scu', 0.39969244599342346),\n",
              " ('king', 0.396353542804718),\n",
              " ('Crown', 0.39470231533050537),\n",
              " ('Empress', 0.387243390083313),\n",
              " ('Conqueror', 0.38679999113082886),\n",
              " ('queen', 0.38513821363449097)]"
            ]
          },
          "metadata": {
            "tags": []
          },
          "execution_count": 99
        }
      ]
    },
    {
      "cell_type": "code",
      "metadata": {
        "colab": {
          "base_uri": "https://localhost:8080/"
        },
        "id": "dJKg4-wmQ8RE",
        "outputId": "8afca761-aeee-4e1c-f7ab-08cb03c5dab6"
      },
      "source": [
        "w2v.most_similar(positive=['Dress', 'Man'], negative=['Woman'])"
      ],
      "execution_count": null,
      "outputs": [
        {
          "output_type": "execute_result",
          "data": {
            "text/plain": [
              "[('Shirt', 0.47823381423950195),\n",
              " ('Shirts', 0.4741184711456299),\n",
              " ('Sweatpants', 0.47068238258361816),\n",
              " ('Pants', 0.45401132106781006),\n",
              " ('Shoes', 0.45261988043785095),\n",
              " ('Wear', 0.4474624991416931),\n",
              " ('dress', 0.4428718686103821),\n",
              " ('Jeans', 0.4369615912437439),\n",
              " ('Scarf', 0.43385377526283264),\n",
              " ('Wellies', 0.4296019375324249)]"
            ]
          },
          "metadata": {
            "tags": []
          },
          "execution_count": 147
        }
      ]
    },
    {
      "cell_type": "markdown",
      "metadata": {
        "id": "6m0KBHtzQck0"
      },
      "source": [
        "## Синтаксические"
      ]
    },
    {
      "cell_type": "code",
      "metadata": {
        "colab": {
          "base_uri": "https://localhost:8080/"
        },
        "id": "n29QVRL2QYxi",
        "outputId": "5a8fc651-2257-4f9b-d9b5-f6dc06e9e2ea"
      },
      "source": [
        "w2v.most_similar(positive=['going', 'ride'], negative=['go'])"
      ],
      "execution_count": null,
      "outputs": [
        {
          "output_type": "execute_result",
          "data": {
            "text/plain": [
              "[('riding', 0.6325759887695312),\n",
              " ('rides', 0.5956701040267944),\n",
              " ('rode', 0.490901917219162),\n",
              " ('Ride', 0.4376450181007385),\n",
              " ('riders', 0.4254390597343445),\n",
              " ('Rides', 0.42220520973205566),\n",
              " ('gonna', 0.4209027886390686),\n",
              " ('pedaling', 0.4135042130947113),\n",
              " ('rollercoaster', 0.412050724029541),\n",
              " ('unridable', 0.4117525815963745)]"
            ]
          },
          "metadata": {
            "tags": []
          },
          "execution_count": 137
        }
      ]
    },
    {
      "cell_type": "code",
      "metadata": {
        "colab": {
          "base_uri": "https://localhost:8080/"
        },
        "id": "Ywq3Tze0V0LK",
        "outputId": "85356e05-b10c-4979-879c-8431263db3e8"
      },
      "source": [
        "w2v.most_similar(positive=['his', 'she'], negative=['he'])"
      ],
      "execution_count": null,
      "outputs": [
        {
          "output_type": "execute_result",
          "data": {
            "text/plain": [
              "[('her', 0.9412580132484436),\n",
              " ('Her', 0.7321809530258179),\n",
              " ('herself', 0.6434346437454224),\n",
              " ('hers', 0.6302345395088196),\n",
              " ('my', 0.5611376166343689),\n",
              " ('She', 0.5026185512542725),\n",
              " ('His', 0.497707724571228),\n",
              " ('momager', 0.46197617053985596),\n",
              " ('My', 0.45305511355400085),\n",
              " ('motherhood', 0.45073992013931274)]"
            ]
          },
          "metadata": {
            "tags": []
          },
          "execution_count": 136
        }
      ]
    },
    {
      "cell_type": "markdown",
      "metadata": {
        "id": "xjgKnFWR20Ok"
      },
      "source": [
        "# Задание 3.2 Использование среднего вектора в качестве фичей для моделирования"
      ]
    },
    {
      "cell_type": "markdown",
      "metadata": {
        "id": "qGtA6uay20Ok"
      },
      "source": [
        "Как мы и говорили на лекции, вектора слов можно использовать для построения признакового описания текста путем усреднения векторов. Сделайте это. Для этого нужно:\n",
        "1. Токенизировать каждый текст\n",
        "2. Для каждого токена попробовать найти вектор в w2v. Если его там нет, то просто игнорировать.\n",
        "3. Усреднить все вектора слов текста для получения его признакового описания. Если ни одного из слов в тексте нет вектора, то вернуть вектор из нулей той же длины\n",
        "\n",
        "На полученных признаках обучите модель для предсказания и сравните качество.\n",
        "\n",
        "ВНИМАНИЕ! Не забывайте нормировать вектора с помощью numpy!\n",
        "\n"
      ]
    },
    {
      "cell_type": "code",
      "metadata": {
        "id": "Z3mQyI-h2A0v"
      },
      "source": [
        "def get_w2v_vect(token, w2v):\n",
        "    token = token.lower()\n",
        "\n",
        "    if token in w2v.index2word:\n",
        "        return w2v[token]\n",
        "    else:\n",
        "        return np.zeros(w2v.vector_size) "
      ],
      "execution_count": null,
      "outputs": []
    },
    {
      "cell_type": "code",
      "metadata": {
        "id": "VeT41lNoi9Oh"
      },
      "source": [
        "def get_features_from_text(tokenized_sent, w2v):\n",
        "    vect = np.array([get_w2v_vect(token, w2v) \n",
        "                    for token in tokenized_sent]).mean(axis=0)\n",
        "  \n",
        "    vect_norm = np.linalg.norm(vect)\n",
        "    if vect_norm != 0:\n",
        "        return vect/vect_norm\n",
        "    else:\n",
        "        return vect"
      ],
      "execution_count": null,
      "outputs": []
    },
    {
      "cell_type": "code",
      "metadata": {
        "id": "Vur8qyz1oYJy"
      },
      "source": [
        "w2v_data = np.array([get_features_from_text(tokenized_sent, w2v) \n",
        "                    for tokenized_sent in tokenized[::5]])\n",
        "#w2v_data = np.load('w2v_data.npy')"
      ],
      "execution_count": null,
      "outputs": []
    },
    {
      "cell_type": "code",
      "metadata": {
        "id": "qnXkL_XqDZEL"
      },
      "source": [
        "y = df.target[::5]"
      ],
      "execution_count": null,
      "outputs": []
    },
    {
      "cell_type": "code",
      "metadata": {
        "id": "vnPmjW6NIL5l"
      },
      "source": [
        "clf = SGDClassifier(loss='modified_huber', penalty='elasticnet', l1_ratio=0.1, alpha=1e-6, \n",
        "                    shuffle=True, class_weight={0: y.mean(), 1: 1-y.mean()}, random_state=42)"
      ],
      "execution_count": null,
      "outputs": []
    },
    {
      "cell_type": "code",
      "metadata": {
        "id": "r_upzqtJIq4N"
      },
      "source": [
        "preds = cross_val_predict(clf, w2v_data, y, cv=StratifiedKFold(5), \n",
        "                          n_jobs=-1, method='predict_proba')[:, 1]"
      ],
      "execution_count": null,
      "outputs": []
    },
    {
      "cell_type": "code",
      "metadata": {
        "colab": {
          "base_uri": "https://localhost:8080/",
          "height": 748
        },
        "id": "qyCRI_89W6Wy",
        "outputId": "015a9d97-2901-4f9b-9b39-4a5274e7fa56"
      },
      "source": [
        "print_result(y, preds)"
      ],
      "execution_count": null,
      "outputs": [
        {
          "output_type": "display_data",
          "data": {
            "image/png": "[encoded data removed]",
            "text/plain": [
              "<Figure size 720x576 with 1 Axes>"
            ]
          },
          "metadata": {
            "tags": [],
            "needs_background": "light"
          }
        },
        {
          "output_type": "stream",
          "text": [
            "ROC-AUC score: 0.931747925316993\n",
            "Best threshold for F1-score: 0.7500000000000002\n",
            "F1-score: 0.5506838608831575\n",
            "\n",
            "\n",
            "              precision    recall  f1-score   support\n",
            "\n",
            "           0       0.98      0.95      0.96    244966\n",
            "           1       0.48      0.65      0.55     16259\n",
            "\n",
            "    accuracy                           0.93    261225\n",
            "   macro avg       0.73      0.80      0.76    261225\n",
            "weighted avg       0.95      0.93      0.94    261225\n",
            "\n"
          ],
          "name": "stdout"
        }
      ]
    },
    {
      "cell_type": "markdown",
      "metadata": {
        "id": "vcQb6QYin66q"
      },
      "source": [
        "На признаках текстов, полученных из word2vec не получилось особо повысить качество классификации."
      ]
    },
    {
      "cell_type": "markdown",
      "metadata": {
        "id": "im3UFF-X20Ok"
      },
      "source": [
        "# Задание 3.3 (На 9) Рисуем вектора вопросов с помощью t-SNE"
      ]
    },
    {
      "cell_type": "markdown",
      "metadata": {
        "id": "kfSmHPgb20Ok"
      },
      "source": [
        "Вам необходимо использовать векторизацию текстов с помощью word2vec и алгоритм t-sne из прошлой лабы, чтобы нарисовать в двумерном пространстве вопросы и попытаться посмотреть, нет ли в них каких-то групп.\n"
      ]
    },
    {
      "cell_type": "code",
      "metadata": {
        "colab": {
          "base_uri": "https://localhost:8080/"
        },
        "id": "JV92rZhhLonk",
        "outputId": "28306d9b-149c-470c-e9a5-b1da63e4de08"
      },
      "source": [
        "%pip install MulticoreTSNE"
      ],
      "execution_count": null,
      "outputs": [
        {
          "output_type": "stream",
          "text": [
            "Collecting MulticoreTSNE\n",
            "  Downloading https://files.pythonhosted.org/packages/2d/e8/2afa896fa4eebfa1d0d0ba2673fddac45582ec0f06b2bdda88108ced5425/MulticoreTSNE-0.1.tar.gz\n",
            "Requirement already satisfied: numpy in /usr/local/lib/python3.7/dist-packages (from MulticoreTSNE) (1.19.5)\n",
            "Requirement already satisfied: cffi in /usr/local/lib/python3.7/dist-packages (from MulticoreTSNE) (1.14.5)\n",
            "Requirement already satisfied: pycparser in /usr/local/lib/python3.7/dist-packages (from cffi->MulticoreTSNE) (2.20)\n",
            "Building wheels for collected packages: MulticoreTSNE\n",
            "  Building wheel for MulticoreTSNE (setup.py) ... \u001b[?25l\u001b[?25hdone\n",
            "  Created wheel for MulticoreTSNE: filename=MulticoreTSNE-0.1-cp37-cp37m-linux_x86_64.whl size=68502 sha256=7b9eebfa231fe3968673a2e6be885e43f4e5cfb3a92275d7c97988ddd1e69dbd\n",
            "  Stored in directory: /root/.cache/pip/wheels/27/59/53/3b52ee63add3692254c30d687fa4dff4d128d0557861fb028e\n",
            "Successfully built MulticoreTSNE\n",
            "Installing collected packages: MulticoreTSNE\n",
            "Successfully installed MulticoreTSNE-0.1\n"
          ],
          "name": "stdout"
        }
      ]
    },
    {
      "cell_type": "code",
      "metadata": {
        "id": "aI1o7-93MP8Q"
      },
      "source": [
        "from MulticoreTSNE import MulticoreTSNE"
      ],
      "execution_count": null,
      "outputs": []
    },
    {
      "cell_type": "code",
      "metadata": {
        "id": "yRl329ISZlwf"
      },
      "source": [
        "tsne = MulticoreTSNE(perplexity=5, learning_rate=100, n_jobs=4, \n",
        "                     random_state=42)\n",
        "embeddings = tsne.fit_transform(w2v_data[:1000])\n",
        "vis_x, vis_y = embeddings[:, 0], embeddings[:, 1]"
      ],
      "execution_count": null,
      "outputs": []
    },
    {
      "cell_type": "code",
      "metadata": {
        "colab": {
          "base_uri": "https://localhost:8080/",
          "height": 514
        },
        "id": "_A2z0zTBaDJf",
        "outputId": "69828e67-d098-4751-ba3a-ca37dc3c6c6b"
      },
      "source": [
        "plt.figure(figsize=(10, 8))\n",
        "plt.title('t-SNE with perplexity=5\\nand lr=100')\n",
        "plt.scatter(vis_x, vis_y, c=y[:1000], \n",
        "            cmap='bwr', marker='.')\n",
        "plt.colorbar(ticks=[0, 1])\n",
        "plt.clim(0, 1)\n",
        "plt.show()"
      ],
      "execution_count": null,
      "outputs": [
        {
          "output_type": "display_data",
          "data": {
            "image/png": "[encoded data removed]",
            "text/plain": [
              "<Figure size 720x576 with 2 Axes>"
            ]
          },
          "metadata": {
            "tags": [],
            "needs_background": "light"
          }
        }
      ]
    },
    {
      "cell_type": "markdown",
      "metadata": {
        "id": "6EnE-lKg20Ol"
      },
      "source": [
        "# Задание 3.4 (На +1 к лабораторной по кластеризации). Кластеризация текстов на основе векторизации"
      ]
    },
    {
      "cell_type": "markdown",
      "metadata": {
        "id": "baXLCeEN20Ol"
      },
      "source": [
        "Возьмите какую-то из векторизаций текстов на выбор и проведите для них кластеризацию способами из прошлой лабы по всем правилам. Попробуйте объяснить найденные кластеры и представить результат преподавателю. \n",
        "\n",
        "P.S. Если у вас и так 10 за кластеризацию, то плюс можно будет добавить к любой лабе. Если у вас 10 за все лабы, то я вами горжусь!"
      ]
    },
    {
      "cell_type": "code",
      "metadata": {
        "id": "rCLusDPcdav6"
      },
      "source": [
        "from sklearn.neighbors import NearestNeighbors\n",
        "from sklearn.preprocessing import StandardScaler\n",
        "from sklearn.cluster import KMeans\n",
        "from sklearn.metrics import silhouette_score, silhouette_samples, homogeneity_score\n",
        "import matplotlib.cm as cm"
      ],
      "execution_count": null,
      "outputs": []
    },
    {
      "cell_type": "code",
      "metadata": {
        "id": "sf-drEZndq2Q"
      },
      "source": [
        "def hopkins_statistic(X, m_fraction=1):\n",
        "    d = X.shape[1]\n",
        "    n = X.shape[0]\n",
        "    m = int(m_fraction * n)\n",
        "    X_scaled = StandardScaler().fit_transform(X)\n",
        "    X_sample = X_scaled[np.random.choice(range(0, n), m, replace=False)]\n",
        "    neighbors = NearestNeighbors(n_neighbors=1, algorithm='kd_tree').fit(X_scaled)\n",
        "    Y_rand = np.random.uniform(-1, 1, size=(m, d))\n",
        "    y = []\n",
        "    x = []\n",
        "    for j in range(0, m):\n",
        "        y.append(neighbors.kneighbors(Y_rand[j].reshape(1, -1),\n",
        "                                      n_neighbors=1,\n",
        "                                      return_distance=True)[0][0][0])\n",
        "        x.append(neighbors.kneighbors(X_sample[j].reshape(1, -1),\n",
        "                                      n_neighbors=2,\n",
        "                                      return_distance=True)[0][0][1])\n",
        "\n",
        "    H = sum(y) / (sum(x) + sum(y))\n",
        "    return 1 - H"
      ],
      "execution_count": null,
      "outputs": []
    },
    {
      "cell_type": "code",
      "metadata": {
        "id": "0irKQgOfgrP0"
      },
      "source": [
        "def plot_silhouette(X, n_clusters, y_true=None):\n",
        "    fig, (ax1, ax2) = plt.subplots(1, 2)\n",
        "    fig.set_size_inches(18, 7)\n",
        "\n",
        "    ax1.set_xlim([-0.1, 1])\n",
        "    ax1.set_ylim([0, len(X) + (n_clusters + 1) * 10])\n",
        "\n",
        "    clusterer = KMeans(n_clusters=n_clusters, random_state=10)\n",
        "    y_pred = clusterer.fit_predict(X)\n",
        "\n",
        "    sample_silhouette_values = silhouette_samples(X, y_pred)\n",
        "    silhouette_avg = np.mean(sample_silhouette_values)\n",
        "\n",
        "    print('For n_clusters =', n_clusters,\n",
        "        '\\nThe average silhouette_score is', silhouette_avg)\n",
        "        \n",
        "    y_lower = 10\n",
        "    for i in range(n_clusters):\n",
        "        ith_cluster_silhouette_values = \\\n",
        "            sample_silhouette_values[y_pred == i]\n",
        "\n",
        "        ith_cluster_silhouette_values.sort()\n",
        "\n",
        "        size_cluster_i = ith_cluster_silhouette_values.shape[0]\n",
        "        y_upper = y_lower + size_cluster_i\n",
        "\n",
        "        color = cm.nipy_spectral(float(i) / n_clusters)\n",
        "        ax1.fill_betweenx(np.arange(y_lower, y_upper),\n",
        "                          0, ith_cluster_silhouette_values,\n",
        "                          facecolor=color, edgecolor=color, alpha=0.7)\n",
        "\n",
        "        ax1.text(-0.05, y_lower + 0.5 * size_cluster_i, str(i))\n",
        "\n",
        "        y_lower = y_upper + 10\n",
        "\n",
        "    if y_true is not None:\n",
        "        ax1.set_title(f'The silhouette plot for {n_clusters} clusters.' + \n",
        "            f'\\n Homogeneity index for MNIST ({n_clusters} clusters): ' +\n",
        "             f'{round(homogeneity_score(y_true, y_pred), 4)}')\n",
        "    else:\n",
        "        ax1.set_title(f'The silhouette plot for {n_clusters} clusters.')\n",
        "\n",
        "    ax1.set_xlabel('The silhouette coefficient values')\n",
        "    ax1.set_ylabel('Cluster label')\n",
        "\n",
        "    ax1.axvline(x=silhouette_avg, color='red', linestyle='--')\n",
        "\n",
        "    ax1.set_yticks([])\n",
        "    ax1.set_xticks([-0.1, 0, 0.2, 0.4, 0.6, 0.8, 1])\n",
        "\n",
        "    colors = cm.nipy_spectral(y_pred.astype(float) / n_clusters)\n",
        "    ax2.scatter(X[:, 0], X[:, 1], marker='.', s=30, lw=0, alpha=0.7,\n",
        "                c=colors, edgecolor='k')\n",
        "\n",
        "    centers = clusterer.cluster_centers_\n",
        "\n",
        "    ax2.scatter(centers[:, 0], centers[:, 1], marker='o',\n",
        "                c='white', alpha=1, s=200, edgecolor='k')\n",
        "\n",
        "    for i, c in enumerate(centers):\n",
        "        ax2.scatter(c[0], c[1], marker='$%d$' % i, alpha=1,\n",
        "                    s=50, edgecolor='k')\n",
        "\n",
        "    ax2.set_title('The visualization of the clustered data.')\n",
        "    ax2.set_xlabel('Feature space for the 1st feature')\n",
        "    ax2.set_ylabel('Feature space for the 2nd feature')\n",
        "\n",
        "    plt.suptitle(('Silhouette analysis for KMeans clustering on sample data '\n",
        "                  'with n_clusters = %d' % n_clusters),\n",
        "                 fontsize=14, fontweight='bold')\n",
        "\n",
        "    plt.show()"
      ],
      "execution_count": null,
      "outputs": []
    },
    {
      "cell_type": "code",
      "metadata": {
        "colab": {
          "base_uri": "https://localhost:8080/"
        },
        "id": "sVEWmcNPedi9",
        "outputId": "77864aa4-64fa-46e5-97c9-45f1d45f1665"
      },
      "source": [
        "print(f'Hopkins statistic for original w2v: {hopkins_statistic(w2v_data[:1000])}')\n",
        "print(f'Hopkins statistic for t-SNE: {hopkins_statistic(embeddings[:1000])}')"
      ],
      "execution_count": null,
      "outputs": [
        {
          "output_type": "stream",
          "text": [
            "Hopkins statistic for original w2v: 0.5437515674713282\n",
            "Hopkins statistic for t-SNE: 0.37787382881724185\n"
          ],
          "name": "stdout"
        }
      ]
    },
    {
      "cell_type": "markdown",
      "metadata": {
        "id": "gtnNU8eTj5va"
      },
      "source": [
        "## Кластеризация для векторизованных текстов"
      ]
    },
    {
      "cell_type": "code",
      "metadata": {
        "colab": {
          "base_uri": "https://localhost:8080/",
          "height": 526
        },
        "id": "T7aCJ2uSgZuS",
        "outputId": "1d6fee1f-2855-4fdf-c9c8-d6e8588a5266"
      },
      "source": [
        "plot_silhouette(w2v_data[:1000], 2, y[:1000])"
      ],
      "execution_count": null,
      "outputs": [
        {
          "output_type": "stream",
          "text": [
            "For n_clusters = 2 \n",
            "The average silhouette_score is 0.05470155573084483\n"
          ],
          "name": "stdout"
        },
        {
          "output_type": "display_data",
          "data": {
            "image/png": "[encoded data removed]",
            "text/plain": [
              "<Figure size 1296x504 with 2 Axes>"
            ]
          },
          "metadata": {
            "tags": [],
            "needs_background": "light"
          }
        }
      ]
    },
    {
      "cell_type": "code",
      "metadata": {
        "colab": {
          "base_uri": "https://localhost:8080/",
          "height": 526
        },
        "id": "6hifqOYQkECz",
        "outputId": "8d671596-2da4-49ad-bf5e-83ee5befda29"
      },
      "source": [
        "plot_silhouette(embeddings, 2, y[:1000])"
      ],
      "execution_count": null,
      "outputs": [
        {
          "output_type": "stream",
          "text": [
            "For n_clusters = 2 \n",
            "The average silhouette_score is 0.42349125652217134\n"
          ],
          "name": "stdout"
        },
        {
          "output_type": "display_data",
          "data": {
            "image/png": "[encoded data removed]",
            "text/plain": [
              "<Figure size 1296x504 with 2 Axes>"
            ]
          },
          "metadata": {
            "tags": [],
            "needs_background": "light"
          }
        }
      ]
    },
    {
      "cell_type": "markdown",
      "metadata": {
        "id": "W2gyxRwInZl3"
      },
      "source": [
        "Как можно заметить, в данных нет ярковыраженной кластерной структуры. После применения t-SNE понижения размерности кластерная структура слегка улучшилась, но по индексу гомогенности можно сделать вывод, что кластеризация тут весьма неэффективная для соответствующих меток класса."
      ]
    },
    {
      "cell_type": "markdown",
      "metadata": {
        "id": "KkerwhU_20Ol"
      },
      "source": [
        "# Часть 4. Давайте используем Transformers как полностью черный ящик и сравним качество "
      ]
    },
    {
      "cell_type": "markdown",
      "metadata": {
        "id": "H6bKkpTO20Ol"
      },
      "source": [
        "Давайте теперь попробуем взять вектора слов из другого источника. В этом нам поможет библиотека sentence_transformers, которую вам нужно установить следующим образом:\n",
        "1. conda install -c conda-forge sentence-transformers\n",
        "2. Если при загрузке модели у вас вываливаются ошибки, в которых что-то говорится о несовместимых версиях файлов, то убедитесь, что вас установился pytorch версии 1.6 или выше с помощью conda list. Обновите, если вдруг это не так."
      ]
    },
    {
      "cell_type": "code",
      "metadata": {
        "colab": {
          "base_uri": "https://localhost:8080/"
        },
        "id": "EoKl3YTfoYOh",
        "outputId": "74cb4be0-7711-4761-f3b1-84813dd70526"
      },
      "source": [
        "%pip install sentence-transformers"
      ],
      "execution_count": null,
      "outputs": [
        {
          "output_type": "stream",
          "text": [
            "Collecting sentence-transformers\n",
            "\u001b[?25l  Downloading https://files.pythonhosted.org/packages/cc/75/df441011cd1726822b70fbff50042adb4860e9327b99b346154ead704c44/sentence-transformers-1.2.0.tar.gz (81kB)\n",
            "\u001b[K     |████████████████████████████████| 81kB 9.8MB/s \n",
            "\u001b[?25hCollecting transformers<5.0.0,>=3.1.0\n",
            "\u001b[?25l  Downloading https://files.pythonhosted.org/packages/d5/43/cfe4ee779bbd6a678ac6a97c5a5cdeb03c35f9eaebbb9720b036680f9a2d/transformers-4.6.1-py3-none-any.whl (2.2MB)\n",
            "\u001b[K     |████████████████████████████████| 2.3MB 39.1MB/s \n",
            "\u001b[?25hRequirement already satisfied: tqdm in /usr/local/lib/python3.7/dist-packages (from sentence-transformers) (4.41.1)\n",
            "Requirement already satisfied: torch>=1.6.0 in /usr/local/lib/python3.7/dist-packages (from sentence-transformers) (1.8.1+cu101)\n",
            "Requirement already satisfied: torchvision in /usr/local/lib/python3.7/dist-packages (from sentence-transformers) (0.9.1+cu101)\n",
            "Requirement already satisfied: numpy in /usr/local/lib/python3.7/dist-packages (from sentence-transformers) (1.19.5)\n",
            "Requirement already satisfied: scikit-learn in /usr/local/lib/python3.7/dist-packages (from sentence-transformers) (0.22.2.post1)\n",
            "Requirement already satisfied: scipy in /usr/local/lib/python3.7/dist-packages (from sentence-transformers) (1.4.1)\n",
            "Requirement already satisfied: nltk in /usr/local/lib/python3.7/dist-packages (from sentence-transformers) (3.2.5)\n",
            "Collecting sentencepiece\n",
            "\u001b[?25l  Downloading https://files.pythonhosted.org/packages/f5/99/e0808cb947ba10f575839c43e8fafc9cc44e4a7a2c8f79c60db48220a577/sentencepiece-0.1.95-cp37-cp37m-manylinux2014_x86_64.whl (1.2MB)\n",
            "\u001b[K     |████████████████████████████████| 1.2MB 49.5MB/s \n",
            "\u001b[?25hRequirement already satisfied: filelock in /usr/local/lib/python3.7/dist-packages (from transformers<5.0.0,>=3.1.0->sentence-transformers) (3.0.12)\n",
            "Requirement already satisfied: packaging in /usr/local/lib/python3.7/dist-packages (from transformers<5.0.0,>=3.1.0->sentence-transformers) (20.9)\n",
            "Requirement already satisfied: requests in /usr/local/lib/python3.7/dist-packages (from transformers<5.0.0,>=3.1.0->sentence-transformers) (2.23.0)\n",
            "Requirement already satisfied: regex!=2019.12.17 in /usr/local/lib/python3.7/dist-packages (from transformers<5.0.0,>=3.1.0->sentence-transformers) (2019.12.20)\n",
            "Collecting tokenizers<0.11,>=0.10.1\n",
            "\u001b[?25l  Downloading https://files.pythonhosted.org/packages/d4/e2/df3543e8ffdab68f5acc73f613de9c2b155ac47f162e725dcac87c521c11/tokenizers-0.10.3-cp37-cp37m-manylinux_2_5_x86_64.manylinux1_x86_64.manylinux_2_12_x86_64.manylinux2010_x86_64.whl (3.3MB)\n",
            "\u001b[K     |████████████████████████████████| 3.3MB 51.4MB/s \n",
            "\u001b[?25hCollecting huggingface-hub==0.0.8\n",
            "  Downloading https://files.pythonhosted.org/packages/a1/88/7b1e45720ecf59c6c6737ff332f41c955963090a18e72acbcbeac6b25e86/huggingface_hub-0.0.8-py3-none-any.whl\n",
            "Collecting sacremoses\n",
            "\u001b[?25l  Downloading https://files.pythonhosted.org/packages/75/ee/67241dc87f266093c533a2d4d3d69438e57d7a90abb216fa076e7d475d4a/sacremoses-0.0.45-py3-none-any.whl (895kB)\n",
            "\u001b[K     |████████████████████████████████| 901kB 55.3MB/s \n",
            "\u001b[?25hRequirement already satisfied: importlib-metadata; python_version < \"3.8\" in /usr/local/lib/python3.7/dist-packages (from transformers<5.0.0,>=3.1.0->sentence-transformers) (4.0.1)\n",
            "Requirement already satisfied: typing-extensions in /usr/local/lib/python3.7/dist-packages (from torch>=1.6.0->sentence-transformers) (3.7.4.3)\n",
            "Requirement already satisfied: pillow>=4.1.1 in /usr/local/lib/python3.7/dist-packages (from torchvision->sentence-transformers) (7.1.2)\n",
            "Requirement already satisfied: joblib>=0.11 in /usr/local/lib/python3.7/dist-packages (from scikit-learn->sentence-transformers) (1.0.1)\n",
            "Requirement already satisfied: six in /usr/local/lib/python3.7/dist-packages (from nltk->sentence-transformers) (1.15.0)\n",
            "Requirement already satisfied: pyparsing>=2.0.2 in /usr/local/lib/python3.7/dist-packages (from packaging->transformers<5.0.0,>=3.1.0->sentence-transformers) (2.4.7)\n",
            "Requirement already satisfied: urllib3!=1.25.0,!=1.25.1,<1.26,>=1.21.1 in /usr/local/lib/python3.7/dist-packages (from requests->transformers<5.0.0,>=3.1.0->sentence-transformers) (1.24.3)\n",
            "Requirement already satisfied: certifi>=2017.4.17 in /usr/local/lib/python3.7/dist-packages (from requests->transformers<5.0.0,>=3.1.0->sentence-transformers) (2020.12.5)\n",
            "Requirement already satisfied: idna<3,>=2.5 in /usr/local/lib/python3.7/dist-packages (from requests->transformers<5.0.0,>=3.1.0->sentence-transformers) (2.10)\n",
            "Requirement already satisfied: chardet<4,>=3.0.2 in /usr/local/lib/python3.7/dist-packages (from requests->transformers<5.0.0,>=3.1.0->sentence-transformers) (3.0.4)\n",
            "Requirement already satisfied: click in /usr/local/lib/python3.7/dist-packages (from sacremoses->transformers<5.0.0,>=3.1.0->sentence-transformers) (7.1.2)\n",
            "Requirement already satisfied: zipp>=0.5 in /usr/local/lib/python3.7/dist-packages (from importlib-metadata; python_version < \"3.8\"->transformers<5.0.0,>=3.1.0->sentence-transformers) (3.4.1)\n",
            "Building wheels for collected packages: sentence-transformers\n",
            "  Building wheel for sentence-transformers (setup.py) ... \u001b[?25l\u001b[?25hdone\n",
            "  Created wheel for sentence-transformers: filename=sentence_transformers-1.2.0-cp37-none-any.whl size=123339 sha256=672b4fd0b2a50119b698982fad9fda930570a53d130c20293e4bccd74164f21f\n",
            "  Stored in directory: /root/.cache/pip/wheels/0f/06/f7/faaa96fdda87462b4fd5c47b343340e9d5531ef70d0eef8242\n",
            "Successfully built sentence-transformers\n",
            "Installing collected packages: tokenizers, huggingface-hub, sacremoses, transformers, sentencepiece, sentence-transformers\n",
            "Successfully installed huggingface-hub-0.0.8 sacremoses-0.0.45 sentence-transformers-1.2.0 sentencepiece-0.1.95 tokenizers-0.10.3 transformers-4.6.1\n"
          ],
          "name": "stdout"
        }
      ]
    },
    {
      "cell_type": "code",
      "metadata": {
        "id": "gz_GAuKT20Ol"
      },
      "source": [
        "from sentence_transformers import SentenceTransformer"
      ],
      "execution_count": null,
      "outputs": []
    },
    {
      "cell_type": "markdown",
      "metadata": {
        "id": "Xzur-2wj20Om"
      },
      "source": [
        "В качестве векторизатора возьмем модель, которую авторы библиотеки рекомендуют по умолчанию. Во время первого выполнения ячейки файл с весами модели будет скачан вам на компьютер.\n",
        "\n",
        "В дальнейшем используйте model.encode, чтобы преобразовать ваши тексты в вектора. Обратите внимание, что токенизация происходит внутри. Если будет ошибка, связанная с logger, то установите параметр show_progress_bar=False."
      ]
    },
    {
      "cell_type": "code",
      "metadata": {
        "id": "fkey2gt220Om"
      },
      "source": [
        "model = SentenceTransformer('paraphrase-distilroberta-base-v1', device='cuda')"
      ],
      "execution_count": null,
      "outputs": []
    },
    {
      "cell_type": "markdown",
      "metadata": {
        "id": "UdEB2IEA20Om"
      },
      "source": [
        "Преобразуйте все тексты в признаки (их должно быть 768 для каждого текста). Обучите SGDClassifer на этих признаках и сравните качество с предыдущими вариантами."
      ]
    },
    {
      "cell_type": "code",
      "metadata": {
        "colab": {
          "base_uri": "https://localhost:8080/"
        },
        "id": "ZDEPoXFZswxZ",
        "outputId": "b1491be1-5302-47de-8222-e1ee54e0a5f0"
      },
      "source": [
        "%%time\n",
        "pool = model.start_multi_process_pool(target_devices=['cuda', 'cuda'])\n",
        "embedding = model.encode_multi_process(df.question_text.values[::5], pool)\n",
        "\n",
        "print(\"Embeddings computed. Shape:\", embedding.shape)\n",
        "model.stop_multi_process_pool(pool)"
      ],
      "execution_count": null,
      "outputs": [
        {
          "output_type": "stream",
          "text": [
            "Embeddings computed. Shape: (261225, 768)\n",
            "CPU times: user 1.57 s, sys: 1.17 s, total: 2.74 s\n",
            "Wall time: 3min 37s\n"
          ],
          "name": "stdout"
        }
      ]
    },
    {
      "cell_type": "code",
      "metadata": {
        "id": "DnnuwX8Mxgfk"
      },
      "source": [
        "clf = SGDClassifier(loss='modified_huber', penalty='elasticnet', l1_ratio=0.1, alpha=1e-6, \n",
        "                    shuffle=True, class_weight={0: y.mean(), 1: 1-y.mean()}, random_state=42)"
      ],
      "execution_count": null,
      "outputs": []
    },
    {
      "cell_type": "code",
      "metadata": {
        "colab": {
          "base_uri": "https://localhost:8080/"
        },
        "id": "JNOh9hHVz5x-",
        "outputId": "037c1cd9-de71-48bd-dbfb-03f0f46c9ccb"
      },
      "source": [
        "%%time\n",
        "preds = cross_val_predict(clf, embedding, y, cv=StratifiedKFold(5), \n",
        "                          n_jobs=-1, method='predict_proba')[:, 1]"
      ],
      "execution_count": null,
      "outputs": [
        {
          "output_type": "stream",
          "text": [
            "/usr/local/lib/python3.7/dist-packages/joblib/externals/loky/process_executor.py:691: UserWarning: A worker stopped while some jobs were given to the executor. This can be caused by a too short worker timeout or by a memory leak.\n",
            "  \"timeout or by a memory leak.\", UserWarning\n"
          ],
          "name": "stderr"
        },
        {
          "output_type": "stream",
          "text": [
            "CPU times: user 2.8 s, sys: 723 ms, total: 3.52 s\n",
            "Wall time: 12min 34s\n"
          ],
          "name": "stdout"
        }
      ]
    },
    {
      "cell_type": "code",
      "metadata": {
        "colab": {
          "base_uri": "https://localhost:8080/",
          "height": 748
        },
        "id": "2R-oDx6a0FIB",
        "outputId": "9c22deef-2cf1-471a-c880-25fa2042ac44"
      },
      "source": [
        "print_result(y, preds)"
      ],
      "execution_count": null,
      "outputs": [
        {
          "output_type": "display_data",
          "data": {
            "image/png": "[encoded data removed]",
            "text/plain": [
              "<Figure size 720x576 with 1 Axes>"
            ]
          },
          "metadata": {
            "tags": [],
            "needs_background": "light"
          }
        },
        {
          "output_type": "stream",
          "text": [
            "ROC-AUC score: 0.926739073849324\n",
            "Best threshold for F1-score: 0.9000000000000002\n",
            "F1-score: 0.5529476584022038\n",
            "\n",
            "\n",
            "              precision    recall  f1-score   support\n",
            "\n",
            "           0       0.97      0.96      0.97    244966\n",
            "           1       0.50      0.62      0.55     16259\n",
            "\n",
            "    accuracy                           0.94    261225\n",
            "   macro avg       0.74      0.79      0.76    261225\n",
            "weighted avg       0.94      0.94      0.94    261225\n",
            "\n"
          ],
          "name": "stdout"
        }
      ]
    },
    {
      "cell_type": "code",
      "metadata": {
        "id": "Sk-a1CN50ts0"
      },
      "source": [
        ""
      ],
      "execution_count": null,
      "outputs": []
    }
  ]
}